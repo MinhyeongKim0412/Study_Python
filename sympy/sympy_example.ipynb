{
 "cells": [
  {
   "cell_type": "code",
   "execution_count": 205,
   "id": "709b368f-27d7-4ed7-9bd7-2a46145314a4",
   "metadata": {},
   "outputs": [],
   "source": [
    "import sympy as smp"
   ]
  },
  {
   "cell_type": "code",
   "execution_count": 307,
   "id": "3af09945-f60e-4b4e-9700-83b2a35e52d3",
   "metadata": {},
   "outputs": [
    {
     "name": "stdout",
     "output_type": "stream",
     "text": [
      "1 == > 2\n",
      "2 == > 3\n",
      "3 == > 5\n",
      "4 == > 7\n",
      "5 == > 11\n",
      "6 == > 13\n",
      "7 == > 17\n",
      "8 == > 19\n",
      "9 == > 23\n"
     ]
    }
   ],
   "source": [
    "### Prime number\n",
    "for i in range(1,10):\n",
    "    print(f'{i} == > {smp.prime(i)}')"
   ]
  },
  {
   "cell_type": "code",
   "execution_count": 405,
   "id": "2b914355-10e8-4e63-addc-2c55c5169165",
   "metadata": {
    "scrolled": true
   },
   "outputs": [
    {
     "name": "stdout",
     "output_type": "stream",
     "text": [
      "3.141592653589793\n"
     ]
    },
    {
     "data": {
      "text/latex": [
       "$\\displaystyle \\pi$"
      ],
      "text/plain": [
       "pi"
      ]
     },
     "execution_count": 405,
     "metadata": {},
     "output_type": "execute_result"
    }
   ],
   "source": [
    "print(float(smp.pi)) ## python 부동소수점 형 변환\n",
    "smp.pi"
   ]
  },
  {
   "cell_type": "code",
   "execution_count": 312,
   "id": "ad2973c3-460b-4d7a-862c-5b50488669ea",
   "metadata": {},
   "outputs": [
    {
     "data": {
      "text/latex": [
       "$\\displaystyle 2 \\sqrt{14}$"
      ],
      "text/plain": [
       "2*sqrt(14)"
      ]
     },
     "execution_count": 312,
     "metadata": {},
     "output_type": "execute_result"
    }
   ],
   "source": [
    "smp.sqrt(7)*smp.sqrt(8)"
   ]
  },
  {
   "cell_type": "code",
   "execution_count": 313,
   "id": "fe613e5d-2585-4f93-b447-8b805baaa202",
   "metadata": {},
   "outputs": [
    {
     "data": {
      "text/latex": [
       "$\\displaystyle \\frac{3}{4}$"
      ],
      "text/plain": [
       "3/4"
      ]
     },
     "execution_count": 313,
     "metadata": {},
     "output_type": "execute_result"
    }
   ],
   "source": [
    "### 분수로 표현\n",
    "smp.Rational(3,4)"
   ]
  },
  {
   "cell_type": "code",
   "execution_count": 319,
   "id": "baa2003d-dbfd-4149-ad96-42543314cd10",
   "metadata": {},
   "outputs": [
    {
     "data": {
      "text/latex": [
       "$\\displaystyle 0.75$"
      ],
      "text/plain": [
       "0.750000000000000"
      ]
     },
     "execution_count": 319,
     "metadata": {},
     "output_type": "execute_result"
    }
   ],
   "source": [
    "### 수로 표현\n",
    "smp.N(smp.Rational(3,4))"
   ]
  },
  {
   "cell_type": "code",
   "execution_count": 321,
   "id": "3ad7e772-b3d4-4640-8ef2-890865b8e7ea",
   "metadata": {},
   "outputs": [
    {
     "data": {
      "text/latex": [
       "$\\displaystyle \\frac{3 \\sqrt{2}}{4} + \\pi$"
      ],
      "text/plain": [
       "3*sqrt(2)/4 + pi"
      ]
     },
     "execution_count": 321,
     "metadata": {},
     "output_type": "execute_result"
    }
   ],
   "source": [
    "expr = smp.pi + smp.sqrt(2) * smp.Rational(3,4)\n",
    "expr"
   ]
  },
  {
   "cell_type": "code",
   "execution_count": 322,
   "id": "5b4bba23-430a-44a6-93c9-a464d0966860",
   "metadata": {},
   "outputs": [
    {
     "data": {
      "text/latex": [
       "$\\displaystyle 4.202252825369614525063909926436776443124423305907816875857454395800865765132789277765825476087848248$"
      ],
      "text/plain": [
       "4.202252825369614525063909926436776443124423305907816875857454395800865765132789277765825476087848248"
      ]
     },
     "execution_count": 322,
     "metadata": {},
     "output_type": "execute_result"
    }
   ],
   "source": [
    "smp.N(expr,100) ## 식을 풀어 100자리 까지표시"
   ]
  },
  {
   "cell_type": "code",
   "execution_count": 327,
   "id": "404afa78-7818-4cc6-af10-5625523234b7",
   "metadata": {},
   "outputs": [],
   "source": [
    "## Symbole 을 할당\n",
    "x, y = smp.symbols('x y')"
   ]
  },
  {
   "cell_type": "code",
   "execution_count": 328,
   "id": "a38626bf-59fd-4d4f-8f29-a73f70a37bc9",
   "metadata": {},
   "outputs": [],
   "source": [
    "f = x**2 + y"
   ]
  },
  {
   "cell_type": "code",
   "execution_count": 329,
   "id": "f6a2216d-fe20-4911-90d0-f883dd18cfb4",
   "metadata": {},
   "outputs": [
    {
     "data": {
      "text/latex": [
       "$\\displaystyle x^{2} + y$"
      ],
      "text/plain": [
       "x**2 + y"
      ]
     },
     "execution_count": 329,
     "metadata": {},
     "output_type": "execute_result"
    }
   ],
   "source": [
    "f"
   ]
  },
  {
   "cell_type": "code",
   "execution_count": 330,
   "id": "9a39688e-33fc-4a26-9014-3f3d94e0bb8c",
   "metadata": {},
   "outputs": [
    {
     "data": {
      "text/latex": [
       "$\\displaystyle y + 16$"
      ],
      "text/plain": [
       "y + 16"
      ]
     },
     "execution_count": 330,
     "metadata": {},
     "output_type": "execute_result"
    }
   ],
   "source": [
    "## expression 의 변수 x에 값 4를할당"
   ]
  },
  {
   "cell_type": "code",
   "execution_count": 332,
   "id": "3b338a0c-c783-40dc-a0fc-6ad8eea15fc3",
   "metadata": {},
   "outputs": [
    {
     "data": {
      "text/latex": [
       "$\\displaystyle y + z^{2}$"
      ],
      "text/plain": [
       "y + z**2"
      ]
     },
     "execution_count": 332,
     "metadata": {},
     "output_type": "execute_result"
    }
   ],
   "source": [
    "## z 변수를 만들고 expression 의 변수 x에 값 z를할당\n",
    "z = smp.symbols('z')\n",
    "f.subs(x,z)"
   ]
  },
  {
   "cell_type": "code",
   "execution_count": 333,
   "id": "c723f273-0f5b-46b3-a170-3171d1a22161",
   "metadata": {},
   "outputs": [
    {
     "data": {
      "text/latex": [
       "$\\displaystyle 11$"
      ],
      "text/plain": [
       "11"
      ]
     },
     "execution_count": 333,
     "metadata": {},
     "output_type": "execute_result"
    }
   ],
   "source": [
    "## 대입 expression 의 변수 x에 값 3, y에 값 2를할당\n",
    "f.subs([(x,3),(y,2)])"
   ]
  },
  {
   "cell_type": "code",
   "execution_count": 211,
   "id": "775ab590-7ed4-4402-be1e-bf7f722779cf",
   "metadata": {},
   "outputs": [
    {
     "data": {
      "text/latex": [
       "$\\displaystyle x^{\\frac{3}{2}}$"
      ],
      "text/plain": [
       "x**(3/2)"
      ]
     },
     "execution_count": 211,
     "metadata": {},
     "output_type": "execute_result"
    }
   ],
   "source": [
    "x**(smp.Rational(3,2))"
   ]
  },
  {
   "cell_type": "code",
   "execution_count": 334,
   "id": "129ed955-e60f-419c-b09b-927505a3c18d",
   "metadata": {},
   "outputs": [
    {
     "data": {
      "text/latex": [
       "$\\displaystyle 9$"
      ],
      "text/plain": [
       "9"
      ]
     },
     "execution_count": 334,
     "metadata": {},
     "output_type": "execute_result"
    }
   ],
   "source": [
    "## 최대공약수\n",
    "smp.gcd(18,81)"
   ]
  },
  {
   "cell_type": "code",
   "execution_count": 335,
   "id": "d8dcd9cc-ab95-408a-91ff-6e233b6ddabc",
   "metadata": {},
   "outputs": [
    {
     "data": {
      "text/latex": [
       "$\\displaystyle 9 x^{2}$"
      ],
      "text/plain": [
       "9*x**2"
      ]
     },
     "execution_count": 335,
     "metadata": {},
     "output_type": "execute_result"
    }
   ],
   "source": [
    "smp.gcd(18*x**2,81*x**2)"
   ]
  },
  {
   "cell_type": "code",
   "execution_count": 337,
   "id": "bf9fea1c-323e-4958-b31a-214fa5c82471",
   "metadata": {},
   "outputs": [
    {
     "data": {
      "text/latex": [
       "$\\displaystyle 9 \\cdot \\left(2 x + 9\\right)$"
      ],
      "text/plain": [
       "9*(2*x + 9)"
      ]
     },
     "execution_count": 337,
     "metadata": {},
     "output_type": "execute_result"
    }
   ],
   "source": [
    "## factor (인수분해)\n",
    "expr = 18*x+81\n",
    "expr\n",
    "smp.factor(expr)"
   ]
  },
  {
   "cell_type": "code",
   "execution_count": 342,
   "id": "06b33f91-f86f-4a2e-90ba-046abc8c5c5c",
   "metadata": {},
   "outputs": [
    {
     "data": {
      "text/latex": [
       "$\\displaystyle 15 x^{2} + 19 x y + 6 y^{2}$"
      ],
      "text/plain": [
       "15*x**2 + 19*x*y + 6*y**2"
      ]
     },
     "execution_count": 342,
     "metadata": {},
     "output_type": "execute_result"
    }
   ],
   "source": [
    "## expand (식의 전개)\n",
    "expr1 = 5*x+3*y\n",
    "expr2 = 3*x+2*y\n",
    "expr3 = expr1*expr2\n",
    "expr4 = smp.expand(expr3)\n",
    "expr4"
   ]
  },
  {
   "cell_type": "code",
   "execution_count": 400,
   "id": "f0e6936e-53eb-4dd3-b406-9a23c086ee13",
   "metadata": {},
   "outputs": [
    {
     "data": {
      "text/latex": [
       "$\\displaystyle x^{3} + x^{2} \\cdot \\left(2 - z\\right) + x \\left(y + 1\\right) - 3$"
      ],
      "text/plain": [
       "x**3 + x**2*(2 - z) + x*(y + 1) - 3"
      ]
     },
     "execution_count": 400,
     "metadata": {},
     "output_type": "execute_result"
    }
   ],
   "source": [
    "## collect 식을 정리 - 식에서 항의 공통된 지수로 정\n",
    "expr = x*y + x - 3 + 2*x**2 - z*x**2 + x**3\n",
    "smp.collect(expr,x) "
   ]
  },
  {
   "cell_type": "code",
   "execution_count": 402,
   "id": "ac702312-42a5-4195-977b-db0c1ccb07ee",
   "metadata": {},
   "outputs": [
    {
     "data": {
      "text/latex": [
       "$\\displaystyle \\frac{x + 1}{x}$"
      ],
      "text/plain": [
       "(x + 1)/x"
      ]
     },
     "execution_count": 402,
     "metadata": {},
     "output_type": "execute_result"
    }
   ],
   "source": [
    "# cancel 함수는 어떤 유리함수(rational function)라도 표준 정규형으로 바꿔준다\n",
    "# 여기서 표준 정규형이란 확장된 다항식 f 혹은 g 가 공통 인자를 가지지 않으며, \n",
    "# f,g 의 계수(leading coefficients)가 분모에 있지 않는 정수로 되어 있는 형태를 의미\n",
    "expr = (x**2 + 2*x + 1)/(x**2 + x)\n",
    "expr\n",
    "smp.cancel(expr)"
   ]
  },
  {
   "cell_type": "code",
   "execution_count": 404,
   "id": "1ef3d2ce-e45d-4daa-a9d2-b7283ad4b333",
   "metadata": {},
   "outputs": [
    {
     "data": {
      "text/latex": [
       "$\\displaystyle \\frac{2 x - 1}{x^{2} + x + 1} - \\frac{1}{x + 4} + \\frac{3}{x}$"
      ],
      "text/plain": [
       "(2*x - 1)/(x**2 + x + 1) - 1/(x + 4) + 3/x"
      ]
     },
     "execution_count": 404,
     "metadata": {},
     "output_type": "execute_result"
    }
   ],
   "source": [
    "# apart 함수는 유리함수에 대해 \n",
    "# 부분 분수 분해(partial fraction decomposition)를 수행\n",
    "expr = (4*x**3 + 21*x**2 + 10*x + 12)/(x**4 + 5*x**3 + 5*x**2 + 4*x)\n",
    "expr\n",
    "smp.apart(expr)"
   ]
  },
  {
   "cell_type": "code",
   "execution_count": 364,
   "id": "210d45f3-66e4-4c7b-af68-a9dc80616d99",
   "metadata": {},
   "outputs": [
    {
     "data": {
      "text/latex": [
       "$\\displaystyle \\sin{\\left(x \\right)} + 1$"
      ],
      "text/plain": [
       "sin(x) + 1"
      ]
     },
     "execution_count": 364,
     "metadata": {},
     "output_type": "execute_result"
    }
   ],
   "source": [
    "## simplify (수학적표현의 단순화)\n",
    "expr = smp.cos(x)**2 + smp.sin(x)**2 + smp.sin(x)\n",
    "expr \n",
    "smp.simplify(expr)"
   ]
  },
  {
   "cell_type": "code",
   "execution_count": 367,
   "id": "7d94548f-c39d-4018-a7f7-7e51ab885d85",
   "metadata": {},
   "outputs": [
    {
     "data": {
      "text/latex": [
       "$\\displaystyle x^{2} + 2 x = -1$"
      ],
      "text/plain": [
       "Eq(x**2 + 2*x, -1)"
      ]
     },
     "execution_count": 367,
     "metadata": {},
     "output_type": "execute_result"
    }
   ],
   "source": [
    "## Eq - 좌변, 우변으로 방정식 만들기\n",
    "left_expr = x**2\n",
    "right_expr = -2*x-1\n",
    "expr = smp.Eq(left_expr,right_expr)\n",
    "smp.simplify(expr)"
   ]
  },
  {
   "cell_type": "code",
   "execution_count": 368,
   "id": "c2c18c27-0071-48f5-a2ae-174b3bfa77d1",
   "metadata": {},
   "outputs": [
    {
     "data": {
      "text/plain": [
       "[-1]"
      ]
     },
     "execution_count": 368,
     "metadata": {},
     "output_type": "execute_result"
    }
   ],
   "source": [
    "## solve - 방정식 풀이 (리스트형태로 출력)\n",
    "smp.solve(expr)"
   ]
  },
  {
   "cell_type": "code",
   "execution_count": 379,
   "id": "c2280a0c-abfc-433f-95b2-307f63c90f11",
   "metadata": {},
   "outputs": [],
   "source": [
    "## solve,solveset 활용 근의 공식 유도\n",
    "a,b,c,x = smp.symbols('a b c x') \n",
    "f = a*x**2+b*x+c # 일반 2차식 작성\n",
    "g = smp.Eq(f,0) # 방정식 생성\n",
    "sol1 = smp.solve(g,x)[0] # x에 대하여 항을 풀이한 첫번재 근\n",
    "sol2 = smp.solve(g,x)[1] # x에 대하여 항을 풀이한 두번재 근\n",
    "solset = smp.solveset(g,x) # x에 대하여 항을 풀이한 두번재 근"
   ]
  },
  {
   "cell_type": "code",
   "execution_count": 380,
   "id": "4bdf942f-6533-4509-9d68-c5647cb7f668",
   "metadata": {},
   "outputs": [
    {
     "data": {
      "text/latex": [
       "$\\displaystyle \\left\\{- \\frac{b}{2 a} - \\frac{\\sqrt{- 4 a c + b^{2}}}{2 a}, - \\frac{b}{2 a} + \\frac{\\sqrt{- 4 a c + b^{2}}}{2 a}\\right\\}$"
      ],
      "text/plain": [
       "{-b/(2*a) - sqrt(-4*a*c + b**2)/(2*a), -b/(2*a) + sqrt(-4*a*c + b**2)/(2*a)}"
      ]
     },
     "execution_count": 380,
     "metadata": {},
     "output_type": "execute_result"
    }
   ],
   "source": [
    "solset"
   ]
  },
  {
   "cell_type": "code",
   "execution_count": 389,
   "id": "439234df-f590-4135-a4f2-f640db7bba14",
   "metadata": {},
   "outputs": [
    {
     "data": {
      "text/latex": [
       "$\\displaystyle x + 3 y + 3$"
      ],
      "text/plain": [
       "x + 3*y + 3"
      ]
     },
     "execution_count": 389,
     "metadata": {},
     "output_type": "execute_result"
    }
   ],
   "source": [
    "## sympify - string을  sympy expression으로 변환\n",
    "string = \"x+3+3*y\"\n",
    "smp.sympify(string)"
   ]
  },
  {
   "cell_type": "code",
   "execution_count": 393,
   "id": "53f73b63-14c4-4e21-9d03-52d8c097b6e8",
   "metadata": {},
   "outputs": [
    {
     "data": {
      "text/latex": [
       "$\\displaystyle \\left\\{- \\frac{4}{3}\\right\\}$"
      ],
      "text/plain": [
       "{-4/3}"
      ]
     },
     "execution_count": 393,
     "metadata": {},
     "output_type": "execute_result"
    }
   ],
   "source": [
    "smp.solveset(smp.Eq(smp.sympify(string).subs(x,3),2))"
   ]
  },
  {
   "cell_type": "markdown",
   "id": "456b7cda-f6d5-43de-8749-c9293f82dcf0",
   "metadata": {},
   "source": [
    "### Limits\n",
    "$$\\lim_{x \\rightarrow \\pi} sin(x/2+sin(x))$$"
   ]
  },
  {
   "cell_type": "code",
   "execution_count": 213,
   "id": "f0d24da3-a456-4f2b-b6c2-797b1abb23bc",
   "metadata": {},
   "outputs": [
    {
     "data": {
      "text/latex": [
       "$\\displaystyle 1$"
      ],
      "text/plain": [
       "1"
      ]
     },
     "execution_count": 213,
     "metadata": {},
     "output_type": "execute_result"
    }
   ],
   "source": [
    "smp.limit(smp.sin(x/2 + smp.sin(x)),x,smp.pi)"
   ]
  },
  {
   "cell_type": "markdown",
   "id": "3c75e3d9-732e-4726-8f35-48ff7df40dc6",
   "metadata": {},
   "source": [
    "$$\\lim_{x\\rightarrow 0^{+}} \\frac{2e^{\\frac{1}{x}}}{e^{\\frac{1}{x}}+1}$$"
   ]
  },
  {
   "cell_type": "code",
   "execution_count": 216,
   "id": "9da4d8cd-2cbd-4543-9b49-61e6269476dd",
   "metadata": {},
   "outputs": [
    {
     "data": {
      "text/latex": [
       "$\\displaystyle 2$"
      ],
      "text/plain": [
       "2"
      ]
     },
     "execution_count": 216,
     "metadata": {},
     "output_type": "execute_result"
    }
   ],
   "source": [
    "smp.limit(2*smp.exp(1/x) / (smp.exp(1/x)+1),x,0,dir='+')"
   ]
  },
  {
   "cell_type": "markdown",
   "id": "bea4de6e-4751-4140-956e-82506cb107dc",
   "metadata": {},
   "source": [
    "$$\\lim_{x\\rightarrow 0^{-}} \\frac{2e^{\\frac{1}{x}}}{e^{\\frac{1}{x}}+1}$$"
   ]
  },
  {
   "cell_type": "code",
   "execution_count": 217,
   "id": "7df7a0f1-8cdf-4630-a0aa-e6516750722d",
   "metadata": {},
   "outputs": [
    {
     "data": {
      "text/latex": [
       "$\\displaystyle 0$"
      ],
      "text/plain": [
       "0"
      ]
     },
     "execution_count": 217,
     "metadata": {},
     "output_type": "execute_result"
    }
   ],
   "source": [
    "smp.limit(2*smp.exp(1/x) / (smp.exp(1/x)+1),x,0,dir='-')"
   ]
  },
  {
   "cell_type": "markdown",
   "id": "cc426ce3-3b35-49d4-9f76-673e1436140a",
   "metadata": {},
   "source": [
    "$$\\lim_{x\\rightarrow\\infty} \\frac{cos(x)-1}{x}$$"
   ]
  },
  {
   "cell_type": "code",
   "execution_count": 219,
   "id": "497954f2-151b-4a52-aaf4-56ac3edf012b",
   "metadata": {},
   "outputs": [
    {
     "data": {
      "text/latex": [
       "$\\displaystyle 0$"
      ],
      "text/plain": [
       "0"
      ]
     },
     "execution_count": 219,
     "metadata": {},
     "output_type": "execute_result"
    }
   ],
   "source": [
    "smp.limit((smp.cos(x) - 1)/x,x,smp.oo)"
   ]
  },
  {
   "cell_type": "markdown",
   "id": "c1f184f0-9ed9-456b-b5a1-10269c9e1d04",
   "metadata": {},
   "source": [
    "### Derivatives\n",
    "$$\\frac{d}{dx}\\left(\\frac{1+sin(x)}{1-cos(x)}\\right)^{2}$$"
   ]
  },
  {
   "cell_type": "code",
   "execution_count": 221,
   "id": "afa81e2c-fce7-4798-a702-ebb4b0700380",
   "metadata": {},
   "outputs": [
    {
     "data": {
      "text/latex": [
       "$\\displaystyle \\frac{2 \\left(\\sin{\\left(x \\right)} + 1\\right) \\cos{\\left(x \\right)}}{\\left(1 - \\cos{\\left(x \\right)}\\right)^{2}} - \\frac{2 \\left(\\sin{\\left(x \\right)} + 1\\right)^{2} \\sin{\\left(x \\right)}}{\\left(1 - \\cos{\\left(x \\right)}\\right)^{3}}$"
      ],
      "text/plain": [
       "2*(sin(x) + 1)*cos(x)/(1 - cos(x))**2 - 2*(sin(x) + 1)**2*sin(x)/(1 - cos(x))**3"
      ]
     },
     "execution_count": 221,
     "metadata": {},
     "output_type": "execute_result"
    }
   ],
   "source": [
    "smp.diff(((1+smp.sin(x))/(1-smp.cos(x)))**2,x)"
   ]
  },
  {
   "cell_type": "markdown",
   "id": "45bd4c37-4130-4198-ba42-b3202683a21c",
   "metadata": {},
   "source": [
    "$$\\frac{d}{dx}(log_{5}(x))^{x/2}$$"
   ]
  },
  {
   "cell_type": "code",
   "execution_count": 224,
   "id": "d25c90d0-33eb-44ae-aaed-a81b8d249a99",
   "metadata": {},
   "outputs": [
    {
     "data": {
      "text/latex": [
       "$\\displaystyle \\left(\\frac{\\log{\\left(x \\right)}}{\\log{\\left(5 \\right)}}\\right)^{\\frac{x}{2}} \\left(\\frac{\\log{\\left(\\frac{\\log{\\left(x \\right)}}{\\log{\\left(5 \\right)}} \\right)}}{2} + \\frac{1}{2 \\log{\\left(x \\right)}}\\right)$"
      ],
      "text/plain": [
       "(log(x)/log(5))**(x/2)*(log(log(x)/log(5))/2 + 1/(2*log(x)))"
      ]
     },
     "execution_count": 224,
     "metadata": {},
     "output_type": "execute_result"
    }
   ],
   "source": [
    "smp.diff(smp.log(x,5)**(x/2))"
   ]
  },
  {
   "cell_type": "markdown",
   "id": "23e5dc94-c73d-48c3-a624-f7e4635310a2",
   "metadata": {},
   "source": [
    "$$\\frac{d}{dx} f(x+g(x))$$"
   ]
  },
  {
   "cell_type": "code",
   "execution_count": 227,
   "id": "7773143c-a14d-469a-954e-a6f653067788",
   "metadata": {},
   "outputs": [],
   "source": [
    "f, g = smp.symbols('f g',cls=smp.Function)\n",
    "g = g(x)\n",
    "f = f(x+g)"
   ]
  },
  {
   "cell_type": "markdown",
   "id": "a88717b6-48d3-407d-abf2-e32e8bcbb191",
   "metadata": {},
   "source": [
    "smp.diff(f,x)"
   ]
  },
  {
   "cell_type": "markdown",
   "id": "ef0c129e-6c6d-47fc-9eb8-617854deeaa7",
   "metadata": {},
   "source": [
    "### Basic Antiderivatives\n",
    "$$\\int csc(x)cot(x) dx$$"
   ]
  },
  {
   "cell_type": "code",
   "execution_count": 232,
   "id": "f4ac3ad9-1686-45e4-94a3-ca32564d3e14",
   "metadata": {},
   "outputs": [
    {
     "data": {
      "text/latex": [
       "$\\displaystyle - \\frac{1}{\\sin{\\left(x \\right)}}$"
      ],
      "text/plain": [
       "-1/sin(x)"
      ]
     },
     "execution_count": 232,
     "metadata": {},
     "output_type": "execute_result"
    }
   ],
   "source": [
    "smp.integrate(smp.csc(x)*smp.cot(x),x)"
   ]
  },
  {
   "cell_type": "markdown",
   "id": "c4312ca6-426c-489d-ab97-c75f0b52d1ac",
   "metadata": {},
   "source": [
    "$$\\int 4 sec(3x)tan(3x)dx$$"
   ]
  },
  {
   "cell_type": "code",
   "execution_count": 233,
   "id": "d0fdc16e-9ee3-4ae6-9ea8-1400e626244c",
   "metadata": {},
   "outputs": [
    {
     "data": {
      "text/latex": [
       "$\\displaystyle \\frac{4}{3 \\cos{\\left(3 x \\right)}}$"
      ],
      "text/plain": [
       "4/(3*cos(3*x))"
      ]
     },
     "execution_count": 233,
     "metadata": {},
     "output_type": "execute_result"
    }
   ],
   "source": [
    "smp.integrate(4*smp.sec(3*x)*smp.tan(3*x),x)"
   ]
  },
  {
   "cell_type": "markdown",
   "id": "2496e17b-dc71-4c57-9bca-444cf765f58f",
   "metadata": {},
   "source": [
    "$$\\int \\left(\\frac{2}{\\sqrt{1-x^{2}}} - \\frac{1}{x^{1/4}}\\right)$$"
   ]
  },
  {
   "cell_type": "code",
   "execution_count": 238,
   "id": "7f10e166-fb3a-498a-a849-c916ede51596",
   "metadata": {},
   "outputs": [
    {
     "data": {
      "text/latex": [
       "$\\displaystyle - \\frac{4 x^{\\frac{3}{4}}}{3} + 2 \\operatorname{asin}{\\left(x \\right)}$"
      ],
      "text/plain": [
       "-4*x**(3/4)/3 + 2*asin(x)"
      ]
     },
     "execution_count": 238,
     "metadata": {},
     "output_type": "execute_result"
    }
   ],
   "source": [
    "smp.integrate(2/(smp.sqrt(1-x**2)) - 1/x**(smp.Rational(1,4)),x)"
   ]
  },
  {
   "cell_type": "markdown",
   "id": "fc43f2c8-7e0a-4680-b20d-c6455d32662e",
   "metadata": {},
   "source": [
    "### Initial Value Problems\n",
    "1. Given $\\frac{dy}{dx} = 8x +csc^{2}(x)$ with $y(\\pi/2) = -7$  solve for $y(x)$"
   ]
  },
  {
   "cell_type": "code",
   "execution_count": 247,
   "id": "cee9da56-d78e-45a7-b250-db20faae9e28",
   "metadata": {},
   "outputs": [],
   "source": [
    "integral = smp.integrate((8*x+smp.csc(x)**2),x)"
   ]
  },
  {
   "cell_type": "code",
   "execution_count": 248,
   "id": "d9478cb1-7af6-499d-b516-647fc0fe813f",
   "metadata": {},
   "outputs": [
    {
     "data": {
      "text/latex": [
       "$\\displaystyle 4 x^{2} - \\frac{\\cos{\\left(x \\right)}}{\\sin{\\left(x \\right)}}$"
      ],
      "text/plain": [
       "4*x**2 - cos(x)/sin(x)"
      ]
     },
     "execution_count": 248,
     "metadata": {},
     "output_type": "execute_result"
    }
   ],
   "source": [
    "integral"
   ]
  },
  {
   "cell_type": "code",
   "execution_count": 249,
   "id": "fd16c61b-f4e1-4286-af1f-e98b89a2ceee",
   "metadata": {},
   "outputs": [
    {
     "data": {
      "text/latex": [
       "$\\displaystyle \\pi^{2}$"
      ],
      "text/plain": [
       "pi**2"
      ]
     },
     "execution_count": 249,
     "metadata": {},
     "output_type": "execute_result"
    }
   ],
   "source": [
    "integral.subs(x,smp.pi/2)"
   ]
  },
  {
   "cell_type": "code",
   "execution_count": 252,
   "id": "f61292cb-8686-4710-aae1-3311c3b78a01",
   "metadata": {},
   "outputs": [],
   "source": [
    "C = -integral.subs(x,smp.pi/2) -7\n",
    "y = integral + C"
   ]
  },
  {
   "cell_type": "markdown",
   "id": "dbc4ca47-00ac-4749-92ad-7813fb6cb48a",
   "metadata": {},
   "source": [
    "y"
   ]
  },
  {
   "cell_type": "code",
   "execution_count": 254,
   "id": "7f69a520-c281-4562-a240-f07892768e09",
   "metadata": {},
   "outputs": [
    {
     "data": {
      "text/latex": [
       "$\\displaystyle -7$"
      ],
      "text/plain": [
       "-7"
      ]
     },
     "execution_count": 254,
     "metadata": {},
     "output_type": "execute_result"
    }
   ],
   "source": [
    "y.subs(x, smp.pi/2)"
   ]
  },
  {
   "cell_type": "code",
   "execution_count": 255,
   "id": "d71a56dc-b70d-4559-84c4-c8e5ec5e4024",
   "metadata": {},
   "outputs": [
    {
     "data": {
      "text/latex": [
       "$\\displaystyle 4 x^{2} - \\pi^{2} - 7 - \\frac{\\cos{\\left(x \\right)}}{\\sin{\\left(x \\right)}}$"
      ],
      "text/plain": [
       "4*x**2 - pi**2 - 7 - cos(x)/sin(x)"
      ]
     },
     "execution_count": 255,
     "metadata": {},
     "output_type": "execute_result"
    }
   ],
   "source": [
    "y"
   ]
  },
  {
   "cell_type": "markdown",
   "id": "8cc0548d-6827-446e-a30c-f05a35cdbf64",
   "metadata": {},
   "source": [
    "### More Compliated Expression\n",
    "$$\\int \\frac{(1+\\sqrt{x})^{1/3}}{\\sqrt{x}}dx$$"
   ]
  },
  {
   "cell_type": "code",
   "execution_count": 260,
   "id": "9d5c7d7a-091a-4027-86fc-c17b580fff3e",
   "metadata": {},
   "outputs": [
    {
     "data": {
      "text/latex": [
       "$\\displaystyle \\frac{3 \\sqrt{x} \\sqrt[3]{\\sqrt{x} + 1}}{2} + \\frac{3 \\sqrt[3]{\\sqrt{x} + 1}}{2}$"
      ],
      "text/plain": [
       "3*sqrt(x)*(sqrt(x) + 1)**(1/3)/2 + 3*(sqrt(x) + 1)**(1/3)/2"
      ]
     },
     "execution_count": 260,
     "metadata": {},
     "output_type": "execute_result"
    }
   ],
   "source": [
    "smp.integrate((1+smp.sqrt(x))**smp.Rational(1,3) / smp.sqrt(x),x)"
   ]
  },
  {
   "cell_type": "markdown",
   "id": "98d3b50e-59e9-41e5-91de-3b8ff313a29d",
   "metadata": {},
   "source": [
    "$$\\int x(1-x^{2})^{1/4}dx$$"
   ]
  },
  {
   "cell_type": "code",
   "execution_count": 262,
   "id": "1c2767fc-52e1-4775-942d-82ff44ac89db",
   "metadata": {},
   "outputs": [
    {
     "data": {
      "text/latex": [
       "$\\displaystyle \\frac{2 x^{2} \\sqrt[4]{1 - x^{2}}}{5} - \\frac{2 \\sqrt[4]{1 - x^{2}}}{5}$"
      ],
      "text/plain": [
       "2*x**2*(1 - x**2)**(1/4)/5 - 2*(1 - x**2)**(1/4)/5"
      ]
     },
     "execution_count": 262,
     "metadata": {},
     "output_type": "execute_result"
    }
   ],
   "source": [
    "smp.integrate(x*(1-x**2)**smp.Rational(1,4),x)"
   ]
  },
  {
   "cell_type": "markdown",
   "id": "41ae2b41-fe1f-46bf-b385-83461f07ee8f",
   "metadata": {},
   "source": [
    "$$\\int \\frac{(2x-1)cos(\\sqrt{3(2x-1)^{2}+6}))}{\\sqrt{3(2x-1)^{2}+6}}dx$$"
   ]
  },
  {
   "cell_type": "code",
   "execution_count": 265,
   "id": "ca7f2e08-d9d4-4b67-b34c-c88a5817d246",
   "metadata": {},
   "outputs": [
    {
     "data": {
      "text/latex": [
       "$\\displaystyle \\frac{\\sin{\\left(\\sqrt{3 \\left(2 x - 1\\right)^{2} + 6} \\right)}}{6}$"
      ],
      "text/plain": [
       "sin(sqrt(3*(2*x - 1)**2 + 6))/6"
      ]
     },
     "execution_count": 265,
     "metadata": {},
     "output_type": "execute_result"
    }
   ],
   "source": [
    "smp.integrate((2*x-1)*smp.cos(smp.sqrt(3*(2*x-1)**2+6))/smp.sqrt(3*(2*x-1)**2+6),x)"
   ]
  },
  {
   "cell_type": "markdown",
   "id": "6053dbbd-c2aa-4bbb-ac4c-4f5deb33d719",
   "metadata": {},
   "source": [
    "### Definite Integrals\n",
    "$$\\int_{0}^{ln(4)} \\frac{e^{x}dt}{\\sqrt{e^{2x}+9}}$$"
   ]
  },
  {
   "cell_type": "code",
   "execution_count": 269,
   "id": "2fe1b5a8-f7d4-4c61-b07d-f0f7a75f077d",
   "metadata": {},
   "outputs": [
    {
     "data": {
      "text/latex": [
       "$\\displaystyle - \\operatorname{asinh}{\\left(\\frac{1}{3} \\right)} + \\operatorname{asinh}{\\left(\\frac{4}{3} \\right)}$"
      ],
      "text/plain": [
       "-asinh(1/3) + asinh(4/3)"
      ]
     },
     "execution_count": 269,
     "metadata": {},
     "output_type": "execute_result"
    }
   ],
   "source": [
    "smp.integrate(smp.exp(x) / smp.sqrt(smp.exp(2*x)+9),(x,0,smp.log(4)))"
   ]
  },
  {
   "cell_type": "markdown",
   "id": "26284055-4a43-4b8e-9730-494420e7d76f",
   "metadata": {},
   "source": [
    "$$\\int_{1}^{t} x^{10}e^{x}$$"
   ]
  },
  {
   "cell_type": "code",
   "execution_count": 273,
   "id": "524e1998-4894-430e-83de-fc2faee2917f",
   "metadata": {},
   "outputs": [
    {
     "data": {
      "text/latex": [
       "$\\displaystyle \\left(t^{10} - 10 t^{9} + 90 t^{8} - 720 t^{7} + 5040 t^{6} - 30240 t^{5} + 151200 t^{4} - 604800 t^{3} + 1814400 t^{2} - 3628800 t + 3628800\\right) e^{t} - 1334961 e$"
      ],
      "text/plain": [
       "(t**10 - 10*t**9 + 90*t**8 - 720*t**7 + 5040*t**6 - 30240*t**5 + 151200*t**4 - 604800*t**3 + 1814400*t**2 - 3628800*t + 3628800)*exp(t) - 1334961*E"
      ]
     },
     "execution_count": 273,
     "metadata": {},
     "output_type": "execute_result"
    }
   ],
   "source": [
    "t = smp.symbols('t')\n",
    "smp.integrate(x**10*smp.exp(x),(x,1,t))"
   ]
  },
  {
   "cell_type": "markdown",
   "id": "8faec43e-096a-4fec-925d-154760085591",
   "metadata": {},
   "source": [
    "### Improper Integral\n",
    "$$\\int_{0}^{\\infty} \\frac{16tan^{-1}(x)}{1+x^{2}}dx$$"
   ]
  },
  {
   "cell_type": "code",
   "execution_count": 276,
   "id": "ec1ec29f-76cc-4b02-b061-98045fcb7ef3",
   "metadata": {},
   "outputs": [
    {
     "data": {
      "text/latex": [
       "$\\displaystyle 2 \\pi^{2}$"
      ],
      "text/plain": [
       "2*pi**2"
      ]
     },
     "execution_count": 276,
     "metadata": {},
     "output_type": "execute_result"
    }
   ],
   "source": [
    "smp.integrate(16*smp.atan(x)/(1+x**2),(x,0,smp.oo))"
   ]
  },
  {
   "cell_type": "markdown",
   "id": "3a2b63cd-bf87-4929-8aa3-96955e8bea87",
   "metadata": {},
   "source": [
    "### Sequences and Series\n",
    "$$\\sum\\limits_{n=0}^{\\infty} \\frac{6}{4^{n}}$$"
   ]
  },
  {
   "cell_type": "code",
   "execution_count": 288,
   "id": "64eb0807-6c30-478d-85ff-4ae5aa0c7add",
   "metadata": {},
   "outputs": [
    {
     "name": "stdout",
     "output_type": "stream",
     "text": [
      "result ==> 8\n"
     ]
    },
    {
     "data": {
      "text/latex": [
       "$\\displaystyle \\sum_{n=0}^{\\infty} 6 \\cdot 4^{- n}$"
      ],
      "text/plain": [
       "Sum(6/4**n, (n, 0, oo))"
      ]
     },
     "execution_count": 288,
     "metadata": {},
     "output_type": "execute_result"
    }
   ],
   "source": [
    "n = smp.symbols('n')\n",
    "expr = smp.Sum(6/4**n,(n,0,smp.oo))\n",
    "print(f'result ==> {expr.doit()}')\n",
    "expr"
   ]
  },
  {
   "cell_type": "markdown",
   "id": "63c84e38-f802-4515-9ba6-11d6dd7165cc",
   "metadata": {},
   "source": [
    "$$\\sum\\limits_{n=0}^{\\infty} \\frac{2^{n+1}}{5^{n}}$$"
   ]
  },
  {
   "cell_type": "code",
   "execution_count": 290,
   "id": "9f1996c6-6167-4a3b-a87e-463dd98da241",
   "metadata": {},
   "outputs": [
    {
     "data": {
      "text/latex": [
       "$\\displaystyle \\frac{10}{3}$"
      ],
      "text/plain": [
       "10/3"
      ]
     },
     "execution_count": 290,
     "metadata": {},
     "output_type": "execute_result"
    }
   ],
   "source": [
    "smp.Sum(2**(n+1)/5**n,(n,0,smp.oo)).doit()"
   ]
  },
  {
   "cell_type": "markdown",
   "id": "179de31c-b414-44c5-9805-a67738d9aac7",
   "metadata": {},
   "source": [
    "$$\\sum\\limits_{n=1}^{\\infty} \\frac{tan^{-1}(n)}{n^{1.1}}$$"
   ]
  },
  {
   "cell_type": "code",
   "execution_count": 293,
   "id": "6f4dd9d5-d018-4c2b-9736-0e6217a9c98c",
   "metadata": {},
   "outputs": [
    {
     "data": {
      "text/latex": [
       "$\\displaystyle 15.3028821020457$"
      ],
      "text/plain": [
       "15.3028821020457"
      ]
     },
     "execution_count": 293,
     "metadata": {},
     "output_type": "execute_result"
    }
   ],
   "source": [
    "smp.Sum(smp.atan(n)/n**smp.Rational(11,10),(n,1,smp.oo)).n()"
   ]
  },
  {
   "cell_type": "code",
   "execution_count": 294,
   "id": "544229ac-d495-4067-bf2a-db777ebcb5d5",
   "metadata": {},
   "outputs": [
    {
     "data": {
      "text/latex": [
       "$\\displaystyle \\sum_{n=1}^{\\infty} \\frac{\\operatorname{atan}{\\left(n \\right)}}{n^{\\frac{11}{10}}}$"
      ],
      "text/plain": [
       "Sum(atan(n)/n**(11/10), (n, 1, oo))"
      ]
     },
     "execution_count": 294,
     "metadata": {},
     "output_type": "execute_result"
    }
   ],
   "source": [
    "smp.Sum(smp.atan(n)/n**smp.Rational(11,10),(n,1,smp.oo)).doit()"
   ]
  },
  {
   "cell_type": "markdown",
   "id": "02c669ec-0593-428f-be76-44d21ec75dd5",
   "metadata": {},
   "source": [
    "$$\\sum\\limits_{n=1}^{\\infty} \\frac{1+cos(n)}{n}$$"
   ]
  },
  {
   "cell_type": "code",
   "execution_count": 296,
   "id": "0d1c2e41-ee0c-41d6-a3f6-8a7c610b7b7c",
   "metadata": {},
   "outputs": [
    {
     "data": {
      "text/latex": [
       "$\\displaystyle \\sum_{n=1}^{\\infty} \\frac{\\cos{\\left(n \\right)} + 1}{n}$"
      ],
      "text/plain": [
       "Sum((cos(n) + 1)/n, (n, 1, oo))"
      ]
     },
     "execution_count": 296,
     "metadata": {},
     "output_type": "execute_result"
    }
   ],
   "source": [
    "smp.Sum((1+smp.cos(n))/n,(n,1,smp.oo)).doit()"
   ]
  },
  {
   "cell_type": "code",
   "execution_count": 297,
   "id": "423a3b5c-9b68-4013-8b49-9163ca9212ed",
   "metadata": {},
   "outputs": [
    {
     "data": {
      "text/latex": [
       "$\\displaystyle 3.0 \\cdot 10^{2}$"
      ],
      "text/plain": [
       "0.e+2"
      ]
     },
     "execution_count": 297,
     "metadata": {},
     "output_type": "execute_result"
    }
   ],
   "source": [
    "smp.Sum((1+smp.cos(n))/n,(n,1,smp.oo)).n()"
   ]
  }
 ],
 "metadata": {
  "kernelspec": {
   "display_name": "kwlee",
   "language": "python",
   "name": "kwlee"
  },
  "language_info": {
   "codemirror_mode": {
    "name": "ipython",
    "version": 3
   },
   "file_extension": ".py",
   "mimetype": "text/x-python",
   "name": "python",
   "nbconvert_exporter": "python",
   "pygments_lexer": "ipython3",
   "version": "3.12.3"
  }
 },
 "nbformat": 4,
 "nbformat_minor": 5
}
