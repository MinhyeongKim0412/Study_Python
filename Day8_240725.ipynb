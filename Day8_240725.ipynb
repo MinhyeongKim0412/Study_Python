{
 "cells": [
  {
   "cell_type": "code",
   "execution_count": 1,
   "id": "902664d1-913f-4830-86c7-76df1b8e57db",
   "metadata": {},
   "outputs": [],
   "source": [
    "import numpy as np"
   ]
  },
  {
   "cell_type": "code",
   "execution_count": 6,
   "id": "52c449cb-af65-454a-8bba-9abfcb918406",
   "metadata": {},
   "outputs": [],
   "source": [
    "arr = np.array([1,2,'3'])\n",
    "lis = [1,2,'3']"
   ]
  },
  {
   "cell_type": "code",
   "execution_count": 7,
   "id": "23306fc8-1429-4f63-98f5-6649f9857be4",
   "metadata": {},
   "outputs": [
    {
     "data": {
      "text/plain": [
       "1"
      ]
     },
     "execution_count": 7,
     "metadata": {},
     "output_type": "execute_result"
    }
   ],
   "source": [
    "lis[0]"
   ]
  },
  {
   "cell_type": "code",
   "execution_count": 22,
   "id": "a4bfa8d0-54fc-448e-993f-c674130303eb",
   "metadata": {},
   "outputs": [],
   "source": [
    "a = np.array([100],dtype=np.uint8)\n",
    "b = np.array([200],dtype=np.uint8)"
   ]
  },
  {
   "cell_type": "code",
   "execution_count": 25,
   "id": "be36f445-ec51-456a-8ec0-be7eb8c11f0d",
   "metadata": {},
   "outputs": [],
   "source": [
    "a = np.array([1,2,'3'],dtype=object)"
   ]
  },
  {
   "cell_type": "code",
   "execution_count": 28,
   "id": "427cc51f-277c-48fd-bbcc-9e5005dfbaac",
   "metadata": {},
   "outputs": [],
   "source": [
    "a = np.array([-1,1,0],dtype=bool)"
   ]
  },
  {
   "cell_type": "code",
   "execution_count": 12,
   "id": "18497e59-b568-40c7-beb2-65ce13c742f7",
   "metadata": {},
   "outputs": [],
   "source": [
    "al = [100]\n",
    "bl = [200.]"
   ]
  },
  {
   "cell_type": "code",
   "execution_count": 13,
   "id": "a88a0139-dd0c-4ac6-aee3-25c1ee78290e",
   "metadata": {},
   "outputs": [
    {
     "data": {
      "text/plain": [
       "[100, 200.0]"
      ]
     },
     "execution_count": 13,
     "metadata": {},
     "output_type": "execute_result"
    }
   ],
   "source": [
    "al + bl"
   ]
  },
  {
   "cell_type": "code",
   "execution_count": 37,
   "id": "ae99f376-6834-4a48-95fc-c426be29e4b7",
   "metadata": {},
   "outputs": [],
   "source": [
    "import random"
   ]
  },
  {
   "cell_type": "code",
   "execution_count": 39,
   "id": "264aaae0-7ac5-41ca-9b38-d9172869f91c",
   "metadata": {
    "collapsed": true,
    "jupyter": {
     "outputs_hidden": true
    },
    "scrolled": true
   },
   "outputs": [
    {
     "data": {
      "text/plain": [
       "[18,\n",
       " 31,\n",
       " 39,\n",
       " 100,\n",
       " 70,\n",
       " 7,\n",
       " 9,\n",
       " 34,\n",
       " 62,\n",
       " 11,\n",
       " 88,\n",
       " 69,\n",
       " 19,\n",
       " 12,\n",
       " 27,\n",
       " 19,\n",
       " 52,\n",
       " 51,\n",
       " 17,\n",
       " 33,\n",
       " 99,\n",
       " 69,\n",
       " 58,\n",
       " 88,\n",
       " 64,\n",
       " 58,\n",
       " 45,\n",
       " 53,\n",
       " 76,\n",
       " 3,\n",
       " 67,\n",
       " 58,\n",
       " 20,\n",
       " 83,\n",
       " 94,\n",
       " 19,\n",
       " 97,\n",
       " 27,\n",
       " 96,\n",
       " 4,\n",
       " 5,\n",
       " 71,\n",
       " 41,\n",
       " 16,\n",
       " 40,\n",
       " 43,\n",
       " 47,\n",
       " 33,\n",
       " 100,\n",
       " 56,\n",
       " 73,\n",
       " 54,\n",
       " 77,\n",
       " 5,\n",
       " 84,\n",
       " 51,\n",
       " 10,\n",
       " 49,\n",
       " 68,\n",
       " 77,\n",
       " 52,\n",
       " 43,\n",
       " 71,\n",
       " 77,\n",
       " 15,\n",
       " 60,\n",
       " 71,\n",
       " 74,\n",
       " 61,\n",
       " 100,\n",
       " 95,\n",
       " 8,\n",
       " 59,\n",
       " 52,\n",
       " 76,\n",
       " 88,\n",
       " 36,\n",
       " 9,\n",
       " 100,\n",
       " 6,\n",
       " 54,\n",
       " 6,\n",
       " 4,\n",
       " 81,\n",
       " 34,\n",
       " 98,\n",
       " 5,\n",
       " 39,\n",
       " 83,\n",
       " 48,\n",
       " 93,\n",
       " 82,\n",
       " 26,\n",
       " 62,\n",
       " 41,\n",
       " 63,\n",
       " 81,\n",
       " 90,\n",
       " 72,\n",
       " 45]"
      ]
     },
     "execution_count": 39,
     "metadata": {},
     "output_type": "execute_result"
    }
   ],
   "source": [
    "[ random.randint(1,100) for _ in range(100)]"
   ]
  },
  {
   "cell_type": "code",
   "execution_count": 41,
   "id": "b1085729-fc78-48bf-88c0-5d41da45febf",
   "metadata": {},
   "outputs": [],
   "source": [
    "height = np.random.randint(170,180,4)\n",
    "weight = np.random.randint(70,80,4)"
   ]
  },
  {
   "cell_type": "code",
   "execution_count": 42,
   "id": "bbb54148-4fac-4f26-9256-c260765f95ac",
   "metadata": {},
   "outputs": [],
   "source": [
    "# 자신의 몸무게(kg)를 키(m)의 제곱으로 나눈 값"
   ]
  },
  {
   "cell_type": "code",
   "execution_count": 43,
   "id": "a6fa4565-f5fb-42ca-9596-beae6f9bc356",
   "metadata": {},
   "outputs": [],
   "source": [
    "bmi = []\n",
    "for i in range(4):\n",
    "    bmi.append(weight[i] / (height[i]*height[i]) )"
   ]
  },
  {
   "cell_type": "code",
   "execution_count": 44,
   "id": "eca81f24-9f01-4f3c-903b-1da535a5421b",
   "metadata": {},
   "outputs": [
    {
     "data": {
      "text/plain": [
       "[0.0023781212841854932,\n",
       " 0.0027335640138408304,\n",
       " 0.002667487432030368,\n",
       " 0.0023040020199469762]"
      ]
     },
     "execution_count": 44,
     "metadata": {},
     "output_type": "execute_result"
    }
   ],
   "source": [
    "bmi"
   ]
  },
  {
   "cell_type": "code",
   "execution_count": 45,
   "id": "4e06ccc2-8171-4d67-ae9f-c06615ceba77",
   "metadata": {},
   "outputs": [
    {
     "data": {
      "text/plain": [
       "array([0.00237812, 0.00273356, 0.00266749, 0.002304  ])"
      ]
     },
     "execution_count": 45,
     "metadata": {},
     "output_type": "execute_result"
    }
   ],
   "source": [
    "weight/(height*height)"
   ]
  },
  {
   "cell_type": "code",
   "execution_count": 46,
   "id": "de472d98-fc3a-43ee-af2f-b5c25b625b86",
   "metadata": {},
   "outputs": [],
   "source": [
    "a = np.random.randint(60,100,10)"
   ]
  },
  {
   "cell_type": "code",
   "execution_count": 48,
   "id": "d15a7550-bf03-4d6d-b2df-25e66dcff1ae",
   "metadata": {},
   "outputs": [
    {
     "data": {
      "text/plain": [
       "82.4"
      ]
     },
     "execution_count": 48,
     "metadata": {},
     "output_type": "execute_result"
    }
   ],
   "source": [
    "np.mean(a)"
   ]
  },
  {
   "cell_type": "code",
   "execution_count": 50,
   "id": "79986afa-59e6-453a-8b5b-2c6fb7710c14",
   "metadata": {},
   "outputs": [
    {
     "data": {
      "text/plain": [
       "82.4"
      ]
     },
     "execution_count": 50,
     "metadata": {},
     "output_type": "execute_result"
    }
   ],
   "source": [
    "s = 0\n",
    "for i in a:\n",
    "    s += i\n",
    "s/len(a)"
   ]
  },
  {
   "cell_type": "code",
   "execution_count": 52,
   "id": "8fa22d13-6a45-4232-aa67-c4415e24f19d",
   "metadata": {},
   "outputs": [
    {
     "data": {
      "text/plain": [
       "82.4"
      ]
     },
     "execution_count": 52,
     "metadata": {},
     "output_type": "execute_result"
    }
   ],
   "source": [
    "1/a.size*np.sum(a)"
   ]
  },
  {
   "cell_type": "code",
   "execution_count": 53,
   "id": "0639462f-aa00-41c3-86da-275f3d08657a",
   "metadata": {},
   "outputs": [
    {
     "data": {
      "text/plain": [
       "82.40000000000002"
      ]
     },
     "execution_count": 53,
     "metadata": {},
     "output_type": "execute_result"
    }
   ],
   "source": [
    "np.sum(a*(1/a.size))"
   ]
  },
  {
   "cell_type": "code",
   "execution_count": 56,
   "id": "1ff45f29-aba7-42f7-8bd6-bd7336cb98a9",
   "metadata": {},
   "outputs": [],
   "source": [
    "a = np.random.randn(2,3)"
   ]
  },
  {
   "cell_type": "code",
   "execution_count": 62,
   "id": "4016b45a-5628-4224-9634-1becff84de2a",
   "metadata": {},
   "outputs": [
    {
     "data": {
      "text/plain": [
       "array([[ 1.35035095,  0.75853396,  1.88487035],\n",
       "       [-0.63205899, -1.8508054 , -0.77375541]])"
      ]
     },
     "execution_count": 62,
     "metadata": {},
     "output_type": "execute_result"
    }
   ],
   "source": [
    "a + np.random.randn(2,1)"
   ]
  },
  {
   "cell_type": "code",
   "execution_count": 65,
   "id": "0ff8683d-411e-4ce3-b8cd-4e3647539dff",
   "metadata": {},
   "outputs": [],
   "source": [
    "a = np.random.randn(2,3)"
   ]
  },
  {
   "cell_type": "code",
   "execution_count": 74,
   "id": "8668dd72-565f-437d-b0e4-f76716afb3f7",
   "metadata": {},
   "outputs": [
    {
     "data": {
      "text/plain": [
       "numpy.ndarray"
      ]
     },
     "execution_count": 74,
     "metadata": {},
     "output_type": "execute_result"
    }
   ],
   "source": [
    "a.size\n",
    "a.ndim\n",
    "a.dtype\n",
    "a.data\n",
    "a.data.obj\n",
    "a.shape\n",
    "type(a)"
   ]
  },
  {
   "cell_type": "code",
   "execution_count": 79,
   "id": "7fb2afb1-fcfb-4e6b-a5cd-5d4f982ffaed",
   "metadata": {},
   "outputs": [
    {
     "data": {
      "text/plain": [
       "-0.9915564529026673"
      ]
     },
     "execution_count": 79,
     "metadata": {},
     "output_type": "execute_result"
    }
   ],
   "source": [
    "np.sum(a)"
   ]
  },
  {
   "cell_type": "code",
   "execution_count": 82,
   "id": "b3aa3fb1-54f2-4725-87b1-0aa494401970",
   "metadata": {},
   "outputs": [
    {
     "data": {
      "text/plain": [
       "(2, 3)"
      ]
     },
     "execution_count": 82,
     "metadata": {},
     "output_type": "execute_result"
    }
   ],
   "source": [
    "a.shape"
   ]
  },
  {
   "cell_type": "code",
   "execution_count": 83,
   "id": "de6c0558-710f-4639-af98-1a9ac4705a08",
   "metadata": {},
   "outputs": [
    {
     "data": {
      "text/plain": [
       "array([[ 0.83068647, -0.02553973,  1.00396368],\n",
       "       [-1.52530904,  1.27395447, -1.33805569]])"
      ]
     },
     "execution_count": 83,
     "metadata": {},
     "output_type": "execute_result"
    }
   ],
   "source": [
    "a + np.random.randn(2,1)"
   ]
  },
  {
   "cell_type": "code",
   "execution_count": 84,
   "id": "3b3fc914-7288-44c6-a3cc-87f567bf1e08",
   "metadata": {},
   "outputs": [
    {
     "data": {
      "text/plain": [
       "(2, 1)"
      ]
     },
     "execution_count": 84,
     "metadata": {},
     "output_type": "execute_result"
    }
   ],
   "source": [
    "np.random.randn(2,1).shape"
   ]
  },
  {
   "cell_type": "code",
   "execution_count": 85,
   "id": "0d3f4ac6-39cc-4be2-a171-daa3e871af08",
   "metadata": {},
   "outputs": [
    {
     "data": {
      "text/plain": [
       "(2,)"
      ]
     },
     "execution_count": 85,
     "metadata": {},
     "output_type": "execute_result"
    }
   ],
   "source": [
    "np.random.randn(2).shape"
   ]
  },
  {
   "cell_type": "code",
   "execution_count": 87,
   "id": "00c06495-f450-4c08-9c85-04e8a880a2b3",
   "metadata": {},
   "outputs": [
    {
     "data": {
      "text/plain": [
       "array([[-1.04760416,  0.18024406,  0.62396085],\n",
       "       [-1.73947452,  3.14386341, -0.05393337]])"
      ]
     },
     "execution_count": 87,
     "metadata": {},
     "output_type": "execute_result"
    }
   ],
   "source": [
    "a + np.random.randn(3)"
   ]
  },
  {
   "cell_type": "code",
   "execution_count": 89,
   "id": "06043767-d725-41ef-9979-22aaf279fa4d",
   "metadata": {},
   "outputs": [
    {
     "data": {
      "text/plain": [
       "array([[-0.1326258 , -2.02350952,  0.08626561],\n",
       "       [-0.82449615,  0.94010984, -0.59162862]])"
      ]
     },
     "execution_count": 89,
     "metadata": {},
     "output_type": "execute_result"
    }
   ],
   "source": [
    "a + np.random.randn(1,3)"
   ]
  },
  {
   "cell_type": "code",
   "execution_count": 90,
   "id": "2bc2f8df-d8f8-4f99-8f35-90d5bc377790",
   "metadata": {},
   "outputs": [],
   "source": [
    "a = np.random.randn(3,1)\n",
    "b = np.random.randn(1,3)"
   ]
  },
  {
   "cell_type": "code",
   "execution_count": 91,
   "id": "0d88ff50-3958-41cf-b6e8-53029a4de595",
   "metadata": {},
   "outputs": [
    {
     "data": {
      "text/plain": [
       "(3, 3)"
      ]
     },
     "execution_count": 91,
     "metadata": {},
     "output_type": "execute_result"
    }
   ],
   "source": [
    "(a + b).shape"
   ]
  },
  {
   "cell_type": "code",
   "execution_count": 95,
   "id": "d0ab3e5a-7fdf-4f07-9c72-d5bfd9bee4cf",
   "metadata": {},
   "outputs": [],
   "source": [
    "a = np.random.randn(3,1)\n",
    "b = np.random.randn(3,3)"
   ]
  },
  {
   "cell_type": "code",
   "execution_count": 96,
   "id": "c748f61e-9120-4e47-aef2-602f40005e5d",
   "metadata": {},
   "outputs": [],
   "source": [
    "a = np.random.randn(5,3)"
   ]
  },
  {
   "cell_type": "code",
   "execution_count": 99,
   "id": "ed0cc561-53dc-428f-bb44-1fa4d1b9aaa6",
   "metadata": {},
   "outputs": [
    {
     "data": {
      "text/plain": [
       "array([[-0.24383753, -2.09958071, -0.85289078],\n",
       "       [-2.19469303, -2.43398571, -0.10787641],\n",
       "       [-0.45885838, -0.61114106,  0.09686718],\n",
       "       [-0.30747327,  0.76665966, -0.16406946],\n",
       "       [ 1.41084042, -0.01522812,  1.24189998]])"
      ]
     },
     "execution_count": 99,
     "metadata": {},
     "output_type": "execute_result"
    }
   ],
   "source": [
    "a + np.random.randn(5,1)"
   ]
  },
  {
   "cell_type": "code",
   "execution_count": 102,
   "id": "70b2d5fc-88a3-4114-9946-08abeb73874d",
   "metadata": {},
   "outputs": [
    {
     "data": {
      "text/plain": [
       "False"
      ]
     },
     "execution_count": 102,
     "metadata": {},
     "output_type": "execute_result"
    }
   ],
   "source": [
    "y = np.array(5)\n",
    "bool(y.shape)"
   ]
  },
  {
   "cell_type": "code",
   "execution_count": 244,
   "id": "92708396-e0b3-4303-ba80-67eeeb87cc23",
   "metadata": {},
   "outputs": [
    {
     "name": "stdout",
     "output_type": "stream",
     "text": [
      "[[1 2]\n",
      " [3 4]\n",
      " [5 6]]\n",
      "[[1 2]]\n"
     ]
    }
   ],
   "source": [
    "x = np.arange(1,7).reshape(3,2)\n",
    "y = np.arange(1,3).reshape(1,2)\n",
    "print(x)\n",
    "print(y)"
   ]
  },
  {
   "cell_type": "code",
   "execution_count": 255,
   "id": "04743771-823a-4703-8842-e8e37e76a997",
   "metadata": {},
   "outputs": [
    {
     "name": "stdout",
     "output_type": "stream",
     "text": [
      "(1, 3) (2, 1)\n",
      "(3, 1) (1, 2)\n",
      "(2, 3)\n",
      "(3, 2)\n"
     ]
    }
   ],
   "source": [
    "print((1,3),(2,1))\n",
    "print((3,1),(1,2))\n",
    "print((np.random.randn(1,3) + np.random.randn(2,1)).shape)\n",
    "print((np.random.randn(3,1) + np.random.randn(1,2)).shape)"
   ]
  },
  {
   "cell_type": "code",
   "execution_count": 327,
   "id": "2f28077b-f496-407f-9d64-91fdd41616e5",
   "metadata": {},
   "outputs": [],
   "source": [
    "import warnings\n",
    "warnings.filterwarnings('ignore')"
   ]
  },
  {
   "cell_type": "code",
   "execution_count": 343,
   "id": "56b25b1c-1685-4621-bdf1-5c420f54b7c7",
   "metadata": {},
   "outputs": [],
   "source": [
    "x = np.random.randn(3,2)\n",
    "y = np.random.randn(2,3)"
   ]
  },
  {
   "cell_type": "code",
   "execution_count": 356,
   "id": "7fb50ed5-0843-402f-acdc-48adb6328c44",
   "metadata": {},
   "outputs": [],
   "source": [
    "x = np.arange(6).reshape(3,2)\n",
    "y = np.arange(6).reshape(2,3)"
   ]
  },
  {
   "cell_type": "code",
   "execution_count": 357,
   "id": "45358e2d-6be0-4cf2-9d25-70ada99a7669",
   "metadata": {},
   "outputs": [
    {
     "data": {
      "text/plain": [
       "array([[ 3,  4,  5],\n",
       "       [ 9, 14, 19],\n",
       "       [15, 24, 33]])"
      ]
     },
     "execution_count": 357,
     "metadata": {},
     "output_type": "execute_result"
    }
   ],
   "source": [
    "x@y"
   ]
  },
  {
   "cell_type": "code",
   "execution_count": 358,
   "id": "4112d8b8-0815-4cff-bf8e-8a940b5264b7",
   "metadata": {},
   "outputs": [
    {
     "data": {
      "text/plain": [
       "array([[ 3.,  4.,  5.],\n",
       "       [ 9., 14., 19.],\n",
       "       [15., 24., 33.]])"
      ]
     },
     "execution_count": 358,
     "metadata": {},
     "output_type": "execute_result"
    }
   ],
   "source": [
    "ret = np.zeros((x.shape[0],y.shape[1]))\n",
    "cnt = 0\n",
    "for i in range(x.shape[0]):\n",
    "    for j in range(y.shape[1]):\n",
    "        s = 0\n",
    "        for k in range(y.shape[0]):\n",
    "            s += x[i,k]*y[k,j]\n",
    "            cnt += 1\n",
    "        ret[i,j] = s\n",
    "ret"
   ]
  },
  {
   "cell_type": "code",
   "execution_count": 339,
   "id": "5b732b4c-1a3a-4d20-9cbd-b9476acaee41",
   "metadata": {},
   "outputs": [],
   "source": [
    "class Array:\n",
    "    def __init__(self,x,y):\n",
    "        self.x = x\n",
    "        self.y = y\n",
    "        self.check_validation()\n",
    "        \n",
    "    def element_wise(self):\n",
    "        if self.x.ndim == 1:\n",
    "            ret = np.zeros_like(self.x)\n",
    "            for i in range(self.x.size):\n",
    "                ret[i] = self.x[i] + self.y[i]\n",
    "            print(ret)\n",
    "        else:\n",
    "            ret = np.zeros_like(self.x)\n",
    "            for i in range(self.x.shape[0]):\n",
    "                for j in range(self.x.shape[1]):\n",
    "                    ret[i,j] = self.x[i,j] + self.y[i,j]\n",
    "            print(ret)\n",
    "            \n",
    "    def scalar_broadcast(self):\n",
    "        ret = np.zeros_like(self.x)\n",
    "        for i in range(self.x.shape[0]):\n",
    "            for j in range(self.x.shape[1]):\n",
    "                ret[i,j] = self.x[i,j] + self.y\n",
    "        print(ret)\n",
    "    def vector_broadcast(self):\n",
    "        ret = np.zeros_like(self.x)\n",
    "        for i in range(self.x.shape[0]):\n",
    "            for j in range(self.x.shape[1]):\n",
    "                ret[i,j] = self.x[i,j] + self.y[j]\n",
    "        print(ret)\n",
    "    def column_broadcast(self):\n",
    "        ret = np.zeros_like(self.x)\n",
    "        for i in range(self.x.shape[0]):\n",
    "            for j in range(self.x.shape[1]):\n",
    "                ret[i,j] = self.x[i,j] + self.y[:,j]\n",
    "        print(ret)\n",
    "    def row_broadcast(self):\n",
    "        ret = np.zeros_like(self.x)\n",
    "        for i in range(self.x.shape[0]):\n",
    "            for j in range(self.x.shape[1]):\n",
    "                ret[i,j] = self.x[i,j] + self.y[i,:]\n",
    "        print(ret)\n",
    "    def element_wise_broadcast(self,x):\n",
    "        if x == 1:\n",
    "            ret = np.zeros((self.x.shape[0],self.y.shape[1]))\n",
    "            for i in range(self.x.shape[0]):\n",
    "                for j in range(self.y.shape[1]):\n",
    "                    ret[i,j] = self.x[i,:] + self.y[:,j]\n",
    "        else:\n",
    "            ret = np.zeros((self.y.shape[0],self.x.shape[1]))\n",
    "            for i in range(self.y.shape[0]):\n",
    "                for j in range(self.x.shape[1]):\n",
    "                    ret[i,j] = self.x[:,j] + self.y[i,:]\n",
    "        print(ret)\n",
    "        \n",
    "    def dot(self):\n",
    "        ret = np.zeros((self.x.shape[0],self.y.shape[1]))\n",
    "        \n",
    "        \n",
    "    def check_validation(self):\n",
    "        if not isinstance(self.y,np.ndarray):\n",
    "            self.scalar_broadcast()\n",
    "        elif self.x.shape == self.y.shape:\n",
    "            self.element_wise()\n",
    "        elif self.y.ndim == 1 and self.y.size == self.x.shape[1]:\n",
    "            self.vector_broadcast()\n",
    "        elif 1 in self.y.shape and self.x.shape[1] == self.y.shape[1]:\n",
    "            self.column_broadcast()\n",
    "        elif 1 in self.y.shape and self.x.shape[0] == self.y.shape[0]:\n",
    "            self.row_broadcast()\n",
    "        elif 1 in self.y.shape and 1 in self.x.shape:\n",
    "            if self.y.shape[0] == 1 and self.x.shape[1] == 1:\n",
    "                self.element_wise_broadcast(1)\n",
    "            elif self.y.shape[1] == 1 and self.x.shape[0] == 1:\n",
    "                self.element_wise_broadcast(2)\n",
    "        elif self.x.shape[1] == self.y.shape[0]:\n",
    "            self.dot()"
   ]
  },
  {
   "cell_type": "code",
   "execution_count": 340,
   "id": "097326a9-8bf0-4f67-b97b-17d79229046e",
   "metadata": {},
   "outputs": [],
   "source": [
    "x = np.random.randn(1,3)\n",
    "y = np.random.randn(2,1)"
   ]
  },
  {
   "cell_type": "code",
   "execution_count": 341,
   "id": "515840cf-7b5a-4b1c-a539-4a24f9291962",
   "metadata": {},
   "outputs": [
    {
     "data": {
      "text/plain": [
       "array([[-0.05385559, -0.84487944,  0.22469487],\n",
       "       [-1.71318595, -2.5042098 , -1.43463548]])"
      ]
     },
     "execution_count": 341,
     "metadata": {},
     "output_type": "execute_result"
    }
   ],
   "source": [
    "x+y"
   ]
  },
  {
   "cell_type": "code",
   "execution_count": 342,
   "id": "25f12749-bb6c-4060-814a-7dd037a54340",
   "metadata": {},
   "outputs": [
    {
     "name": "stdout",
     "output_type": "stream",
     "text": [
      "[[-0.05385559 -0.84487944  0.22469487]\n",
      " [-1.71318595 -2.5042098  -1.43463548]]\n"
     ]
    }
   ],
   "source": [
    "arr = Array(x,y)"
   ]
  },
  {
   "cell_type": "code",
   "execution_count": 218,
   "id": "c16ca67f-4359-4566-b402-a28738b9a05a",
   "metadata": {},
   "outputs": [
    {
     "name": "stdout",
     "output_type": "stream",
     "text": [
      "scalar broadcast\n"
     ]
    }
   ],
   "source": [
    "if not isinstance(y,np.ndarray) or y.shape[0]*y.shape[1] == 1:\n",
    "    print(\"scalar broadcast\")\n",
    "else:\n",
    "    if y.ndim == 1:\n",
    "        if y.size == x.shape[1]:\n",
    "            print(\"vector broadcast\")\n",
    "        else:\n",
    "            print(\"impossible\")\n",
    "    else:\n",
    "        if 1 in y.shape:\n",
    "            if y.shape[0] == 1:\n",
    "                if x.shape[1] == y.shape[1]:\n",
    "                    print(\"column broadcast\")\n",
    "                else:\n",
    "                    print(\"계산불가능\")\n",
    "            else:\n",
    "                if x.shape[0] == y.shape[0]:\n",
    "                    print(\"row broadcast\")\n",
    "                else:\n",
    "                    print(\"계산불가능\")\n",
    "                "
   ]
  },
  {
   "cell_type": "code",
   "execution_count": 199,
   "id": "e18ecc69-ca34-42e5-9d02-888ec1df5122",
   "metadata": {},
   "outputs": [
    {
     "name": "stdout",
     "output_type": "stream",
     "text": [
      "계산불가능\n"
     ]
    }
   ],
   "source": [
    "if y.ndim == 1:\n",
    "    if y.size == x.shape[1]:\n",
    "        print('계산가능')\n",
    "    else:\n",
    "        print(\"계산불가능\")"
   ]
  },
  {
   "cell_type": "code",
   "execution_count": 187,
   "id": "33b8dfdd-86f0-46e7-9849-badfa3c2b66f",
   "metadata": {},
   "outputs": [],
   "source": [
    "if y.ndim == 2 and 1 in y.shape:\n",
    "    if y.shape[0] == 1:\n",
    "        if x.shape[1] == y.shape[1]:\n",
    "            print(f\"브로드캐스트 계산가능1\")\n",
    "        else:\n",
    "            print(f\"계산불가능2\")\n",
    "    else:\n",
    "        if x.shape[0] == y.shape[0]:\n",
    "            print(f\"브로드캐스트 계산가능3\")\n",
    "        else:\n",
    "            print(f\"계산불가능4\")"
   ]
  },
  {
   "cell_type": "code",
   "execution_count": 157,
   "id": "dc923091-68e8-43c5-a0fc-1c886306f48e",
   "metadata": {},
   "outputs": [
    {
     "data": {
      "text/plain": [
       "array([[0., 0.],\n",
       "       [0., 0.],\n",
       "       [0., 0.]])"
      ]
     },
     "execution_count": 157,
     "metadata": {},
     "output_type": "execute_result"
    }
   ],
   "source": [
    "np.zeros_like(np.random.randn(3,2))\n",
    "np.zeros((3,2))"
   ]
  },
  {
   "cell_type": "code",
   "execution_count": 158,
   "id": "1ec45fce-55e3-438a-ad20-a1c483864717",
   "metadata": {},
   "outputs": [],
   "source": [
    "x = np.random.randn(3,2)\n",
    "y = np.random.randn(3,2)"
   ]
  },
  {
   "cell_type": "code",
   "execution_count": 159,
   "id": "80e67d2b-75fa-4368-95db-5896a9cf6281",
   "metadata": {},
   "outputs": [
    {
     "data": {
      "text/plain": [
       "array([0.64172226, 0.169872  , 1.47408116])"
      ]
     },
     "execution_count": 159,
     "metadata": {},
     "output_type": "execute_result"
    }
   ],
   "source": [
    "x = np.random.randn(3)\n",
    "y = np.random.randn(3)\n",
    "x+y"
   ]
  },
  {
   "cell_type": "code",
   "execution_count": 160,
   "id": "c51d6ca3-0829-4157-a844-8a6907afb552",
   "metadata": {},
   "outputs": [
    {
     "name": "stdout",
     "output_type": "stream",
     "text": [
      "[0.64172226 0.169872   1.47408116]\n"
     ]
    }
   ],
   "source": [
    "arr = Array(x,y)"
   ]
  },
  {
   "cell_type": "code",
   "execution_count": 142,
   "id": "07c2b433-791b-48e8-b1f5-6836f8daedc3",
   "metadata": {},
   "outputs": [
    {
     "data": {
      "text/plain": [
       "array([[-1.10282582,  0.43361269],\n",
       "       [ 0.73710989,  0.1098496 ],\n",
       "       [ 0.02369533,  2.85138164]])"
      ]
     },
     "execution_count": 142,
     "metadata": {},
     "output_type": "execute_result"
    }
   ],
   "source": [
    "x+y"
   ]
  },
  {
   "cell_type": "code",
   "execution_count": 141,
   "id": "04f6358b-440c-48c5-8cef-c4b0c6639c33",
   "metadata": {},
   "outputs": [
    {
     "data": {
      "text/plain": [
       "array([[-1.12736454,  0.78062406],\n",
       "       [ 1.44530816,  0.78797231],\n",
       "       [ 0.06804496,  1.61183225]])"
      ]
     },
     "execution_count": 141,
     "metadata": {},
     "output_type": "execute_result"
    }
   ],
   "source": [
    "y"
   ]
  },
  {
   "cell_type": "code",
   "execution_count": 168,
   "id": "734ca90a-256f-4ff1-aa4d-e8eac4972a5d",
   "metadata": {},
   "outputs": [
    {
     "data": {
      "text/plain": [
       "array([[-2.78433632, -0.94088718],\n",
       "       [ 0.16432111, -1.28525134],\n",
       "       [-2.44287812, -2.54425529]])"
      ]
     },
     "execution_count": 168,
     "metadata": {},
     "output_type": "execute_result"
    }
   ],
   "source": [
    "np.random.randn(3,2) + np.random.randn(3,3)"
   ]
  },
  {
   "cell_type": "code",
   "execution_count": null,
   "id": "4751869c-9c03-44b6-a5b4-a4ce588622f6",
   "metadata": {},
   "outputs": [],
   "source": []
  }
 ],
 "metadata": {
  "kernelspec": {
   "display_name": "allomyrina",
   "language": "python",
   "name": "allomyrina"
  },
  "language_info": {
   "codemirror_mode": {
    "name": "ipython",
    "version": 3
   },
   "file_extension": ".py",
   "mimetype": "text/x-python",
   "name": "python",
   "nbconvert_exporter": "python",
   "pygments_lexer": "ipython3",
   "version": "3.12.4"
  }
 },
 "nbformat": 4,
 "nbformat_minor": 5
}
