{
 "cells": [
  {
   "cell_type": "code",
   "execution_count": 31,
   "metadata": {},
   "outputs": [],
   "source": [
    "#Numpy 사용\n",
    "import numpy as np"
   ]
  },
  {
   "cell_type": "code",
   "execution_count": 32,
   "metadata": {},
   "outputs": [],
   "source": [
    "#Numpy를 활용한 Array 생성 - 혼합 데이터 타입 (정수, 문자열)\n",
    "arr = np.array([1,2,'3'])\n",
    "\n",
    "#List 생성\n",
    "li = [1,2,'3']"
   ]
  },
  {
   "cell_type": "code",
   "execution_count": 33,
   "metadata": {},
   "outputs": [
    {
     "data": {
      "text/plain": [
       "1"
      ]
     },
     "execution_count": 33,
     "metadata": {},
     "output_type": "execute_result"
    }
   ],
   "source": [
    "#List의 0번째(첫번째) 요소 반환 - 인덱싱 보여주기\n",
    "li[0]"
   ]
  },
  {
   "cell_type": "code",
   "execution_count": 34,
   "metadata": {},
   "outputs": [
    {
     "data": {
      "text/plain": [
       "np.str_('1')"
      ]
     },
     "execution_count": 34,
     "metadata": {},
     "output_type": "execute_result"
    }
   ],
   "source": [
    "#Numpy Array의 0번째(첫번째) 요소 반환 - 인덱싱 보여주기\n",
    "arr[0]"
   ]
  },
  {
   "cell_type": "code",
   "execution_count": 35,
   "metadata": {},
   "outputs": [],
   "source": [
    "a= np.array([100],dtype=np.uint8)\n",
    "b= np.array([200.],dtype=np.uint8)"
   ]
  },
  {
   "cell_type": "code",
   "execution_count": 36,
   "metadata": {},
   "outputs": [],
   "source": [
    "a=np.array([1,2,'3'],dtype=object)"
   ]
  },
  {
   "cell_type": "code",
   "execution_count": 37,
   "metadata": {},
   "outputs": [],
   "source": [
    "a=np.array([-1,1,0],dtype=bool)"
   ]
  },
  {
   "cell_type": "code",
   "execution_count": 38,
   "metadata": {},
   "outputs": [
    {
     "data": {
      "text/plain": [
       "array([ True,  True, False])"
      ]
     },
     "execution_count": 38,
     "metadata": {},
     "output_type": "execute_result"
    }
   ],
   "source": [
    "a.astype(np.int32).astype(np.bool)"
   ]
  },
  {
   "cell_type": "code",
   "execution_count": 39,
   "metadata": {},
   "outputs": [
    {
     "data": {
      "text/plain": [
       "array([201, 201, 200], dtype=uint8)"
      ]
     },
     "execution_count": 39,
     "metadata": {},
     "output_type": "execute_result"
    }
   ],
   "source": [
    "a+b"
   ]
  },
  {
   "cell_type": "code",
   "execution_count": 40,
   "metadata": {},
   "outputs": [],
   "source": [
    "al= [100]\n",
    "bl= [200.]"
   ]
  },
  {
   "cell_type": "code",
   "execution_count": 41,
   "metadata": {},
   "outputs": [
    {
     "data": {
      "text/plain": [
       "[100, 200.0]"
      ]
     },
     "execution_count": 41,
     "metadata": {},
     "output_type": "execute_result"
    }
   ],
   "source": [
    "al+bl"
   ]
  },
  {
   "cell_type": "code",
   "execution_count": 42,
   "metadata": {},
   "outputs": [],
   "source": [
    "import random"
   ]
  },
  {
   "cell_type": "code",
   "execution_count": 43,
   "metadata": {},
   "outputs": [
    {
     "data": {
      "text/plain": [
       "[25,\n",
       " 84,\n",
       " 53,\n",
       " 32,\n",
       " 87,\n",
       " 91,\n",
       " 89,\n",
       " 81,\n",
       " 44,\n",
       " 75,\n",
       " 23,\n",
       " 57,\n",
       " 44,\n",
       " 17,\n",
       " 83,\n",
       " 12,\n",
       " 80,\n",
       " 22,\n",
       " 84,\n",
       " 92,\n",
       " 35,\n",
       " 19,\n",
       " 9,\n",
       " 38,\n",
       " 16,\n",
       " 33,\n",
       " 85,\n",
       " 70,\n",
       " 55,\n",
       " 57,\n",
       " 93,\n",
       " 10,\n",
       " 87,\n",
       " 1,\n",
       " 36,\n",
       " 10,\n",
       " 27,\n",
       " 36,\n",
       " 89,\n",
       " 15,\n",
       " 51,\n",
       " 33,\n",
       " 5,\n",
       " 73,\n",
       " 89,\n",
       " 9,\n",
       " 74,\n",
       " 50,\n",
       " 89,\n",
       " 30,\n",
       " 4,\n",
       " 22,\n",
       " 57,\n",
       " 66,\n",
       " 81,\n",
       " 39,\n",
       " 99,\n",
       " 75,\n",
       " 37,\n",
       " 97,\n",
       " 72,\n",
       " 14,\n",
       " 70,\n",
       " 38,\n",
       " 3,\n",
       " 37,\n",
       " 87,\n",
       " 97,\n",
       " 15,\n",
       " 62,\n",
       " 59,\n",
       " 11,\n",
       " 13,\n",
       " 9,\n",
       " 42,\n",
       " 41,\n",
       " 45,\n",
       " 2,\n",
       " 38,\n",
       " 1,\n",
       " 99,\n",
       " 64,\n",
       " 4,\n",
       " 88,\n",
       " 15,\n",
       " 89,\n",
       " 7,\n",
       " 73,\n",
       " 67,\n",
       " 32,\n",
       " 41,\n",
       " 9,\n",
       " 79,\n",
       " 2,\n",
       " 36,\n",
       " 45,\n",
       " 79,\n",
       " 42,\n",
       " 94,\n",
       " 99]"
      ]
     },
     "execution_count": 43,
     "metadata": {},
     "output_type": "execute_result"
    }
   ],
   "source": [
    "[random.randint(1,100) for _ in range(100)]"
   ]
  },
  {
   "cell_type": "code",
   "execution_count": 44,
   "metadata": {},
   "outputs": [
    {
     "data": {
      "text/plain": [
       "array([ 9, 23, 34, 16, 94, 18,  5, 81, 21, 21, 73, 87, 60, 13, 75, 15, 28,\n",
       "       79, 89, 21, 16, 63, 67,  9, 89, 51, 28, 14, 64, 10, 15,  1, 92, 96,\n",
       "       55,  9, 64, 36, 32, 34, 72, 40, 57, 22,  1, 82, 23, 47, 53, 10, 53,\n",
       "       58, 47, 62, 46, 21, 20, 55, 61, 99, 60,  4, 23, 11, 92,  5, 70, 47,\n",
       "       30,  4, 20, 18, 20, 80,  4, 97, 30, 24, 34, 96, 65, 30, 96, 47, 49,\n",
       "       70, 32,  4, 96, 37, 43, 54, 46, 10, 33, 47, 55, 86, 48, 37],\n",
       "      dtype=int32)"
      ]
     },
     "execution_count": 44,
     "metadata": {},
     "output_type": "execute_result"
    }
   ],
   "source": [
    "np.random.randint(1,100,100)"
   ]
  },
  {
   "cell_type": "code",
   "execution_count": 45,
   "metadata": {},
   "outputs": [],
   "source": [
    "# kg / cm**2 = BMI\n",
    "\n",
    "height = np.random.randint(170,180,4)\n",
    "weight = np.random.randint(70,80,4)"
   ]
  },
  {
   "cell_type": "code",
   "execution_count": 46,
   "metadata": {},
   "outputs": [],
   "source": [
    "#4명의 BMI 계산\n",
    "bmi=[]\n",
    "for i in range(4):\n",
    "    bmi.append(weight[i] / (height[i]*height[i]))"
   ]
  },
  {
   "cell_type": "code",
   "execution_count": 47,
   "metadata": {},
   "outputs": [
    {
     "data": {
      "text/plain": [
       "[np.float64(0.002543268595587264),\n",
       " np.float64(0.002698961937716263),\n",
       " np.float64(0.0025727555214006483),\n",
       " np.float64(0.0023671253629592224)]"
      ]
     },
     "execution_count": 47,
     "metadata": {},
     "output_type": "execute_result"
    }
   ],
   "source": [
    "bmi"
   ]
  },
  {
   "cell_type": "code",
   "execution_count": 48,
   "metadata": {},
   "outputs": [
    {
     "data": {
      "text/plain": [
       "array([0.00254327, 0.00269896, 0.00257276, 0.00236713])"
      ]
     },
     "execution_count": 48,
     "metadata": {},
     "output_type": "execute_result"
    }
   ],
   "source": [
    "weight/(height*height)"
   ]
  },
  {
   "cell_type": "code",
   "execution_count": 49,
   "metadata": {},
   "outputs": [],
   "source": [
    "a=np.random.randint(60,100,10)"
   ]
  },
  {
   "cell_type": "code",
   "execution_count": 50,
   "metadata": {},
   "outputs": [
    {
     "data": {
      "text/plain": [
       "np.float64(76.1)"
      ]
     },
     "execution_count": 50,
     "metadata": {},
     "output_type": "execute_result"
    }
   ],
   "source": [
    "np.mean(a)"
   ]
  },
  {
   "cell_type": "code",
   "execution_count": 51,
   "metadata": {},
   "outputs": [],
   "source": [
    "s=0"
   ]
  },
  {
   "cell_type": "code",
   "execution_count": 52,
   "metadata": {},
   "outputs": [
    {
     "data": {
      "text/plain": [
       "np.float64(76.1)"
      ]
     },
     "execution_count": 52,
     "metadata": {},
     "output_type": "execute_result"
    }
   ],
   "source": [
    "for i in a:\n",
    "    s += i\n",
    "s/len(a)"
   ]
  },
  {
   "cell_type": "code",
   "execution_count": 53,
   "metadata": {},
   "outputs": [
    {
     "data": {
      "text/plain": [
       "np.float64(76.10000000000001)"
      ]
     },
     "execution_count": 53,
     "metadata": {},
     "output_type": "execute_result"
    }
   ],
   "source": [
    "1/a.size*np.sum(a)"
   ]
  },
  {
   "cell_type": "code",
   "execution_count": 56,
   "metadata": {},
   "outputs": [
    {
     "data": {
      "text/plain": [
       "np.float64(76.10000000000001)"
      ]
     },
     "execution_count": 56,
     "metadata": {},
     "output_type": "execute_result"
    }
   ],
   "source": [
    "np.sum(a*1/a.size)"
   ]
  },
  {
   "cell_type": "code",
   "execution_count": null,
   "metadata": {},
   "outputs": [],
   "source": []
  }
 ],
 "metadata": {
  "kernelspec": {
   "display_name": "Python 3",
   "language": "python",
   "name": "python3"
  },
  "language_info": {
   "codemirror_mode": {
    "name": "ipython",
    "version": 3
   },
   "file_extension": ".py",
   "mimetype": "text/x-python",
   "name": "python",
   "nbconvert_exporter": "python",
   "pygments_lexer": "ipython3",
   "version": "3.12.4"
  }
 },
 "nbformat": 4,
 "nbformat_minor": 2
}
