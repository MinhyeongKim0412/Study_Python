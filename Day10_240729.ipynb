{
 "cells": [
  {
   "cell_type": "code",
   "execution_count": 1,
   "metadata": {},
   "outputs": [],
   "source": [
    "import numpy as np"
   ]
  },
  {
   "cell_type": "code",
   "execution_count": 2,
   "metadata": {},
   "outputs": [],
   "source": [
    "a = np.array([1,2,3])\n",
    "b = np.array([4,5,6])"
   ]
  },
  {
   "cell_type": "code",
   "execution_count": 3,
   "metadata": {},
   "outputs": [
    {
     "data": {
      "text/plain": [
       "(3,)"
      ]
     },
     "execution_count": 3,
     "metadata": {},
     "output_type": "execute_result"
    }
   ],
   "source": [
    "a.shape\n",
    "b.shape"
   ]
  },
  {
   "cell_type": "code",
   "execution_count": 4,
   "metadata": {},
   "outputs": [
    {
     "data": {
      "text/plain": [
       "array([1, 2, 3, 4, 5, 6])"
      ]
     },
     "execution_count": 4,
     "metadata": {},
     "output_type": "execute_result"
    }
   ],
   "source": [
    "#두 개를 좌우로 합치는 concatenate\n",
    "np.concatenate([a,b])"
   ]
  },
  {
   "cell_type": "code",
   "execution_count": 5,
   "metadata": {},
   "outputs": [
    {
     "data": {
      "text/plain": [
       "(1, 6)"
      ]
     },
     "execution_count": 5,
     "metadata": {},
     "output_type": "execute_result"
    }
   ],
   "source": [
    "#상하로 합치는 \n",
    "np.concatenate([a.reshape(1,3),b.reshape(1,3)],1).shape"
   ]
  },
  {
   "cell_type": "code",
   "execution_count": 6,
   "metadata": {},
   "outputs": [
    {
     "data": {
      "text/plain": [
       "(2, 3)"
      ]
     },
     "execution_count": 6,
     "metadata": {},
     "output_type": "execute_result"
    }
   ],
   "source": [
    "#상하로 합치는 \n",
    "np.concatenate([a.reshape(1,3),b.reshape(1,3)],0).shape"
   ]
  },
  {
   "cell_type": "code",
   "execution_count": 8,
   "metadata": {},
   "outputs": [
    {
     "data": {
      "text/plain": [
       "array([[1, 2, 3],\n",
       "       [4, 5, 6]])"
      ]
     },
     "execution_count": 8,
     "metadata": {},
     "output_type": "execute_result"
    }
   ],
   "source": [
    "#좌우로 쌓는 stack\n",
    "np.stack([a,b])"
   ]
  },
  {
   "cell_type": "code",
   "execution_count": 9,
   "metadata": {},
   "outputs": [
    {
     "data": {
      "text/plain": [
       "(2, 3)"
      ]
     },
     "execution_count": 9,
     "metadata": {},
     "output_type": "execute_result"
    }
   ],
   "source": [
    "#stack\n",
    "np.stack([a,b],axis=0).shape"
   ]
  },
  {
   "cell_type": "code",
   "execution_count": 10,
   "metadata": {},
   "outputs": [
    {
     "data": {
      "text/plain": [
       "(3, 2)"
      ]
     },
     "execution_count": 10,
     "metadata": {},
     "output_type": "execute_result"
    }
   ],
   "source": [
    "#stack\n",
    "np.stack([a,b],1).shape"
   ]
  },
  {
   "cell_type": "code",
   "execution_count": 11,
   "metadata": {},
   "outputs": [
    {
     "data": {
      "text/plain": [
       "(2, 1, 3)"
      ]
     },
     "execution_count": 11,
     "metadata": {},
     "output_type": "execute_result"
    }
   ],
   "source": [
    "#\n",
    "np.stack([a.reshape(1,3),b.reshape(1,3)]).shape"
   ]
  },
  {
   "cell_type": "code",
   "execution_count": 12,
   "metadata": {},
   "outputs": [
    {
     "data": {
      "text/plain": [
       "array([[1, 2, 3],\n",
       "       [4, 5, 6]])"
      ]
     },
     "execution_count": 12,
     "metadata": {},
     "output_type": "execute_result"
    }
   ],
   "source": [
    "# 세로 쌓는 V stack\n",
    "np.vstack([a,b])"
   ]
  },
  {
   "cell_type": "code",
   "execution_count": 13,
   "metadata": {},
   "outputs": [
    {
     "data": {
      "text/plain": [
       "array([1, 2, 3, 4, 5, 6])"
      ]
     },
     "execution_count": 13,
     "metadata": {},
     "output_type": "execute_result"
    }
   ],
   "source": [
    "# H stack\n",
    "np.hstack([a,b])"
   ]
  },
  {
   "cell_type": "code",
   "execution_count": 16,
   "metadata": {},
   "outputs": [
    {
     "data": {
      "text/plain": [
       "array([[1, 2, 3, 4, 5, 6]])"
      ]
     },
     "execution_count": 16,
     "metadata": {},
     "output_type": "execute_result"
    }
   ],
   "source": [
    "#\n",
    "np.hstack([a.reshape(1,3),b.reshape(1,3)])"
   ]
  },
  {
   "cell_type": "code",
   "execution_count": 18,
   "metadata": {},
   "outputs": [
    {
     "data": {
      "text/plain": [
       "array([[1, 4],\n",
       "       [2, 5],\n",
       "       [3, 6]])"
      ]
     },
     "execution_count": 18,
     "metadata": {},
     "output_type": "execute_result"
    }
   ],
   "source": [
    "#\n",
    "np.hstack([a.reshape(3,1),b.reshape(3,1)])"
   ]
  },
  {
   "cell_type": "code",
   "execution_count": 21,
   "metadata": {},
   "outputs": [
    {
     "data": {
      "text/plain": [
       "array([[1, 2, 3],\n",
       "       [4, 5, 6]])"
      ]
     },
     "execution_count": 21,
     "metadata": {},
     "output_type": "execute_result"
    }
   ],
   "source": [
    "#\n",
    "np.r_[a.reshape(1,3),b.reshape(1,3)]"
   ]
  },
  {
   "cell_type": "code",
   "execution_count": 22,
   "metadata": {},
   "outputs": [
    {
     "data": {
      "text/plain": [
       "array([[1, 4],\n",
       "       [2, 5],\n",
       "       [3, 6]])"
      ]
     },
     "execution_count": 22,
     "metadata": {},
     "output_type": "execute_result"
    }
   ],
   "source": [
    "#\n",
    "np.hstack([a.reshape(3,1),b.reshape(3,1)])\n",
    "np.c_[a,b]"
   ]
  },
  {
   "cell_type": "code",
   "execution_count": 23,
   "metadata": {},
   "outputs": [],
   "source": [
    "arr1=np.zeros((3,2))"
   ]
  },
  {
   "cell_type": "code",
   "execution_count": 24,
   "metadata": {},
   "outputs": [],
   "source": [
    "arr2=np.ones(3)"
   ]
  },
  {
   "cell_type": "code",
   "execution_count": 25,
   "metadata": {},
   "outputs": [
    {
     "data": {
      "text/plain": [
       "array([1., 1., 1.])"
      ]
     },
     "execution_count": 25,
     "metadata": {},
     "output_type": "execute_result"
    }
   ],
   "source": [
    "arr2"
   ]
  },
  {
   "cell_type": "code",
   "execution_count": 29,
   "metadata": {},
   "outputs": [],
   "source": [
    "arr3 = np.ones((3,2))"
   ]
  },
  {
   "cell_type": "code",
   "execution_count": 30,
   "metadata": {},
   "outputs": [
    {
     "data": {
      "text/plain": [
       "(3, 2, 2)"
      ]
     },
     "execution_count": 30,
     "metadata": {},
     "output_type": "execute_result"
    }
   ],
   "source": [
    "np.stack([arr1,arr3],1).shape"
   ]
  },
  {
   "cell_type": "code",
   "execution_count": 32,
   "metadata": {},
   "outputs": [
    {
     "data": {
      "text/plain": [
       "array([[0., 0., 1.],\n",
       "       [0., 0., 1.],\n",
       "       [0., 0., 1.]])"
      ]
     },
     "execution_count": 32,
     "metadata": {},
     "output_type": "execute_result"
    }
   ],
   "source": [
    "np.concatenate([arr1,arr2.reshape(3,1)],1)\n",
    "np.hstack([arr1,arr2.reshape(3,1)])\n",
    "np.c_[arr1,arr2]"
   ]
  },
  {
   "cell_type": "code",
   "execution_count": 33,
   "metadata": {},
   "outputs": [
    {
     "data": {
      "text/plain": [
       "array([[0., 0., 1.],\n",
       "       [0., 0., 1.],\n",
       "       [0., 0., 1.]])"
      ]
     },
     "execution_count": 33,
     "metadata": {},
     "output_type": "execute_result"
    }
   ],
   "source": [
    "arr1_1=np.zeros(3)\n",
    "arr1_2=np.zeros(3)\n",
    "arr2_1=np.ones(3)\n",
    "np.stack([arr1_1,arr1_2,arr2_1],axis=1)"
   ]
  },
  {
   "cell_type": "code",
   "execution_count": 34,
   "metadata": {},
   "outputs": [],
   "source": [
    "arr2=np.ones(2)"
   ]
  },
  {
   "cell_type": "code",
   "execution_count": 35,
   "metadata": {},
   "outputs": [
    {
     "data": {
      "text/plain": [
       "array([[0., 0.],\n",
       "       [0., 0.],\n",
       "       [0., 0.],\n",
       "       [1., 1.]])"
      ]
     },
     "execution_count": 35,
     "metadata": {},
     "output_type": "execute_result"
    }
   ],
   "source": [
    "# 방법 1 - vstack 사용\n",
    "np.vstack([arr1,arr2])"
   ]
  },
  {
   "cell_type": "code",
   "execution_count": 37,
   "metadata": {},
   "outputs": [
    {
     "data": {
      "text/plain": [
       "array([[0., 0.],\n",
       "       [0., 0.],\n",
       "       [0., 0.],\n",
       "       [1., 1.]])"
      ]
     },
     "execution_count": 37,
     "metadata": {},
     "output_type": "execute_result"
    }
   ],
   "source": [
    "# 방법 2 - concatenate 사용\n",
    "np.concatenate([arr1,arr2.reshape(1,2)])"
   ]
  },
  {
   "cell_type": "code",
   "execution_count": 39,
   "metadata": {},
   "outputs": [
    {
     "data": {
      "text/plain": [
       "array([[0., 0.],\n",
       "       [0., 0.],\n",
       "       [0., 0.],\n",
       "       [1., 1.]])"
      ]
     },
     "execution_count": 39,
     "metadata": {},
     "output_type": "execute_result"
    }
   ],
   "source": [
    "# 방법 3 - r_ 사용\n",
    "np.r_[arr1,arr2.reshape(1,2)]"
   ]
  },
  {
   "cell_type": "code",
   "execution_count": 40,
   "metadata": {},
   "outputs": [],
   "source": [
    "##\n",
    "x=np.arange(6).reshape(3,2)"
   ]
  },
  {
   "cell_type": "code",
   "execution_count": 41,
   "metadata": {},
   "outputs": [
    {
     "data": {
      "text/plain": [
       "array([[0, 1],\n",
       "       [2, 3],\n",
       "       [4, 5]])"
      ]
     },
     "execution_count": 41,
     "metadata": {},
     "output_type": "execute_result"
    }
   ],
   "source": [
    "x"
   ]
  },
  {
   "cell_type": "code",
   "execution_count": 42,
   "metadata": {},
   "outputs": [
    {
     "data": {
      "text/plain": [
       "array([[0, 1, 2],\n",
       "       [3, 4, 5]])"
      ]
     },
     "execution_count": 42,
     "metadata": {},
     "output_type": "execute_result"
    }
   ],
   "source": [
    "x.reshape(2,3)"
   ]
  },
  {
   "cell_type": "code",
   "execution_count": 43,
   "metadata": {},
   "outputs": [
    {
     "data": {
      "text/plain": [
       "array([[0, 2, 4],\n",
       "       [1, 3, 5]])"
      ]
     },
     "execution_count": 43,
     "metadata": {},
     "output_type": "execute_result"
    }
   ],
   "source": [
    "# .T\n",
    "x.T"
   ]
  },
  {
   "cell_type": "code",
   "execution_count": 44,
   "metadata": {},
   "outputs": [
    {
     "data": {
      "text/plain": [
       "array([[0, 1, 2],\n",
       "       [3, 4, 5]])"
      ]
     },
     "execution_count": 44,
     "metadata": {},
     "output_type": "execute_result"
    }
   ],
   "source": [
    "# 위의 .T와 reshape의 차이\n",
    "x.reshape(2,3)"
   ]
  },
  {
   "cell_type": "code",
   "execution_count": 45,
   "metadata": {},
   "outputs": [
    {
     "data": {
      "text/plain": [
       "array([[0, 2, 4],\n",
       "       [1, 3, 5]])"
      ]
     },
     "execution_count": 45,
     "metadata": {},
     "output_type": "execute_result"
    }
   ],
   "source": [
    "# transpose\n",
    "x.transpose()"
   ]
  },
  {
   "cell_type": "code",
   "execution_count": 48,
   "metadata": {},
   "outputs": [],
   "source": [
    "#\n",
    "x=np.random.randn(4,3,2)"
   ]
  },
  {
   "cell_type": "code",
   "execution_count": 57,
   "metadata": {},
   "outputs": [
    {
     "data": {
      "text/plain": [
       "(2, 3, 4)"
      ]
     },
     "execution_count": 57,
     "metadata": {},
     "output_type": "execute_result"
    }
   ],
   "source": [
    "x.T.shape"
   ]
  },
  {
   "cell_type": "code",
   "execution_count": 58,
   "metadata": {},
   "outputs": [
    {
     "data": {
      "text/plain": [
       "array([[[-0.09103055, -1.45527236,  1.78964992, -0.45971731],\n",
       "        [ 0.33952222,  0.00557905, -0.45974987,  0.41059234],\n",
       "        [ 1.51473818,  0.05396886,  0.76691019,  1.40790227]],\n",
       "\n",
       "       [[ 0.85468209, -1.83964274,  1.44744425, -1.38262787],\n",
       "        [-1.59217801,  0.01960341,  0.43152986, -1.36881215],\n",
       "        [ 0.08097495, -0.19778105,  0.08866925, -0.30790093]]])"
      ]
     },
     "execution_count": 58,
     "metadata": {},
     "output_type": "execute_result"
    }
   ],
   "source": [
    "## \n",
    "x.T"
   ]
  },
  {
   "cell_type": "code",
   "execution_count": 59,
   "metadata": {},
   "outputs": [
    {
     "ename": "ValueError",
     "evalue": "shapes (4,3,2) and (2,3,4) not aligned: 2 (dim 2) != 3 (dim 1)",
     "output_type": "error",
     "traceback": [
      "\u001b[1;31m---------------------------------------------------------------------------\u001b[0m",
      "\u001b[1;31mValueError\u001b[0m                                Traceback (most recent call last)",
      "Cell \u001b[1;32mIn[59], line 1\u001b[0m\n\u001b[1;32m----> 1\u001b[0m \u001b[43mnp\u001b[49m\u001b[38;5;241;43m.\u001b[39;49m\u001b[43mdot\u001b[49m\u001b[43m(\u001b[49m\u001b[43mx\u001b[49m\u001b[43m,\u001b[49m\u001b[43mx\u001b[49m\u001b[38;5;241;43m.\u001b[39;49m\u001b[43mT\u001b[49m\u001b[43m)\u001b[49m\n",
      "\u001b[1;31mValueError\u001b[0m: shapes (4,3,2) and (2,3,4) not aligned: 2 (dim 2) != 3 (dim 1)"
     ]
    }
   ],
   "source": [
    "np.dot(x,x.T)"
   ]
  },
  {
   "cell_type": "code",
   "execution_count": 60,
   "metadata": {},
   "outputs": [
    {
     "ename": "ValueError",
     "evalue": "shapes (4,3,2) and (2,3,4) not aligned: 2 (dim 2) != 3 (dim 1)",
     "output_type": "error",
     "traceback": [
      "\u001b[1;31m---------------------------------------------------------------------------\u001b[0m",
      "\u001b[1;31mValueError\u001b[0m                                Traceback (most recent call last)",
      "Cell \u001b[1;32mIn[60], line 1\u001b[0m\n\u001b[1;32m----> 1\u001b[0m \u001b[43mx\u001b[49m\u001b[38;5;241;43m.\u001b[39;49m\u001b[43mdot\u001b[49m\u001b[43m(\u001b[49m\u001b[43mx\u001b[49m\u001b[38;5;241;43m.\u001b[39;49m\u001b[43mT\u001b[49m\u001b[43m)\u001b[49m\n",
      "\u001b[1;31mValueError\u001b[0m: shapes (4,3,2) and (2,3,4) not aligned: 2 (dim 2) != 3 (dim 1)"
     ]
    }
   ],
   "source": [
    "x.dot(x.T)"
   ]
  },
  {
   "cell_type": "code",
   "execution_count": 61,
   "metadata": {},
   "outputs": [
    {
     "ename": "ValueError",
     "evalue": "matmul: Input operand 1 has a mismatch in its core dimension 0, with gufunc signature (n?,k),(k,m?)->(n?,m?) (size 3 is different from 2)",
     "output_type": "error",
     "traceback": [
      "\u001b[1;31m---------------------------------------------------------------------------\u001b[0m",
      "\u001b[1;31mValueError\u001b[0m                                Traceback (most recent call last)",
      "Cell \u001b[1;32mIn[61], line 1\u001b[0m\n\u001b[1;32m----> 1\u001b[0m \u001b[43mx\u001b[49m\u001b[38;5;129;43m@x\u001b[39;49m\u001b[38;5;241;43m.\u001b[39;49m\u001b[43mT\u001b[49m\n",
      "\u001b[1;31mValueError\u001b[0m: matmul: Input operand 1 has a mismatch in its core dimension 0, with gufunc signature (n?,k),(k,m?)->(n?,m?) (size 3 is different from 2)"
     ]
    }
   ],
   "source": [
    "x@x.T"
   ]
  },
  {
   "cell_type": "code",
   "execution_count": 62,
   "metadata": {},
   "outputs": [],
   "source": [
    "##\n",
    "x=10\n",
    "y=11"
   ]
  },
  {
   "cell_type": "code",
   "execution_count": 63,
   "metadata": {},
   "outputs": [
    {
     "data": {
      "text/plain": [
       "False"
      ]
     },
     "execution_count": 63,
     "metadata": {},
     "output_type": "execute_result"
    }
   ],
   "source": [
    "x>y"
   ]
  },
  {
   "cell_type": "code",
   "execution_count": 64,
   "metadata": {},
   "outputs": [],
   "source": [
    "if x>y:\n",
    "    print(\"OK\")"
   ]
  },
  {
   "cell_type": "code",
   "execution_count": 65,
   "metadata": {},
   "outputs": [],
   "source": [
    "if [1,2,3] == [3]:\n",
    "    print(\"OK\")"
   ]
  },
  {
   "cell_type": "code",
   "execution_count": 70,
   "metadata": {},
   "outputs": [
    {
     "name": "stdout",
     "output_type": "stream",
     "text": [
      "1\n",
      "2\n"
     ]
    }
   ],
   "source": [
    "x = [1,2,3]\n",
    "for i in x:\n",
    "    if i <= 2:\n",
    "        print(i)"
   ]
  },
  {
   "cell_type": "code",
   "execution_count": 71,
   "metadata": {},
   "outputs": [
    {
     "data": {
      "text/plain": [
       "array([ True,  True, False])"
      ]
     },
     "execution_count": 71,
     "metadata": {},
     "output_type": "execute_result"
    }
   ],
   "source": [
    "np.array(x) <= 2"
   ]
  },
  {
   "cell_type": "code",
   "execution_count": 72,
   "metadata": {},
   "outputs": [
    {
     "data": {
      "text/plain": [
       "np.False_"
      ]
     },
     "execution_count": 72,
     "metadata": {},
     "output_type": "execute_result"
    }
   ],
   "source": [
    "# All\n",
    "np.all(np.array(x) <= 2)"
   ]
  },
  {
   "cell_type": "code",
   "execution_count": 73,
   "metadata": {},
   "outputs": [
    {
     "data": {
      "text/plain": [
       "np.True_"
      ]
     },
     "execution_count": 73,
     "metadata": {},
     "output_type": "execute_result"
    }
   ],
   "source": [
    "# Any\n",
    "np.any(np.array(x) <= 2)"
   ]
  },
  {
   "cell_type": "code",
   "execution_count": 77,
   "metadata": {},
   "outputs": [
    {
     "data": {
      "text/plain": [
       "array([2, 3])"
      ]
     },
     "execution_count": 77,
     "metadata": {},
     "output_type": "execute_result"
    }
   ],
   "source": [
    "n=3\n",
    "np.arange(2,n+1)"
   ]
  },
  {
   "cell_type": "code",
   "execution_count": 88,
   "metadata": {},
   "outputs": [
    {
     "name": "stdout",
     "output_type": "stream",
     "text": [
      "소수입니다.\n"
     ]
    }
   ],
   "source": [
    "# 연습 #\n",
    "# : 어떤 수를 넣을 경우 소수인지 아닌지 판단하는 법\n",
    "\n",
    "cnt=0\n",
    "\n",
    "n=13\n",
    "\n",
    "for i in range(2,n+1):\n",
    "    if n % i == 0:\n",
    "        cnt += 1\n",
    "if cnt == 1:\n",
    "    print(\"소수입니다.\")\n",
    "else:\n",
    "    print(\"소수가 아닙니다.\")"
   ]
  },
  {
   "cell_type": "code",
   "execution_count": 92,
   "metadata": {},
   "outputs": [
    {
     "name": "stdout",
     "output_type": "stream",
     "text": [
      "소수\n"
     ]
    }
   ],
   "source": [
    "# 변형\n",
    "\n",
    "x=7\n",
    "\n",
    "x = len([ i for i in range(2, n+1) if n % i == 0])\n",
    "\n",
    "if x ==1:\n",
    "    print(\"소수\")\n",
    "else:\n",
    "    print(\"소수 아님\")"
   ]
  },
  {
   "cell_type": "code",
   "execution_count": 93,
   "metadata": {},
   "outputs": [
    {
     "data": {
      "text/plain": [
       "array([False, False, False, False, False, False, False, False, False,\n",
       "       False, False,  True])"
      ]
     },
     "execution_count": 93,
     "metadata": {},
     "output_type": "execute_result"
    }
   ],
   "source": [
    "(n % np.arange(2, n+1)) == 0"
   ]
  },
  {
   "cell_type": "code",
   "execution_count": 94,
   "metadata": {},
   "outputs": [],
   "source": [
    "a=np.array([1,2,3])"
   ]
  },
  {
   "cell_type": "code",
   "execution_count": 95,
   "metadata": {},
   "outputs": [
    {
     "data": {
      "text/plain": [
       "array([2])"
      ]
     },
     "execution_count": 95,
     "metadata": {},
     "output_type": "execute_result"
    }
   ],
   "source": [
    "a[(a>1)&(a<3)]"
   ]
  },
  {
   "cell_type": "code",
   "execution_count": 96,
   "metadata": {},
   "outputs": [
    {
     "data": {
      "text/plain": [
       "array([2])"
      ]
     },
     "execution_count": 96,
     "metadata": {},
     "output_type": "execute_result"
    }
   ],
   "source": [
    "#logical_and\n",
    "a[np.logical_and(a>1,a<3)]"
   ]
  },
  {
   "cell_type": "code",
   "execution_count": 97,
   "metadata": {},
   "outputs": [
    {
     "data": {
      "text/plain": [
       "array([ True,  True,  True])"
      ]
     },
     "execution_count": 97,
     "metadata": {},
     "output_type": "execute_result"
    }
   ],
   "source": [
    "#logical_or\n",
    "np.logical_or(a>1,a<3)"
   ]
  },
  {
   "cell_type": "code",
   "execution_count": 98,
   "metadata": {},
   "outputs": [
    {
     "data": {
      "text/plain": [
       "array([1, 3])"
      ]
     },
     "execution_count": 98,
     "metadata": {},
     "output_type": "execute_result"
    }
   ],
   "source": [
    "a[a != 2]"
   ]
  },
  {
   "cell_type": "code",
   "execution_count": 99,
   "metadata": {},
   "outputs": [
    {
     "data": {
      "text/plain": [
       "array([ True, False,  True])"
      ]
     },
     "execution_count": 99,
     "metadata": {},
     "output_type": "execute_result"
    }
   ],
   "source": [
    "#logical_not\n",
    "np.logical_not(a==2)"
   ]
  },
  {
   "cell_type": "code",
   "execution_count": 101,
   "metadata": {},
   "outputs": [],
   "source": [
    "a = np.arange(1,11)"
   ]
  },
  {
   "cell_type": "code",
   "execution_count": 102,
   "metadata": {},
   "outputs": [
    {
     "data": {
      "text/plain": [
       "array([ 1,  2,  3,  4,  5,  6,  7,  8,  9, 10])"
      ]
     },
     "execution_count": 102,
     "metadata": {},
     "output_type": "execute_result"
    }
   ],
   "source": [
    "a"
   ]
  },
  {
   "cell_type": "code",
   "execution_count": 103,
   "metadata": {},
   "outputs": [
    {
     "data": {
      "text/plain": [
       "array([ 6,  7,  8,  9, 10])"
      ]
     },
     "execution_count": 103,
     "metadata": {},
     "output_type": "execute_result"
    }
   ],
   "source": [
    "#where\n",
    "a[np.where(a>5)]"
   ]
  },
  {
   "cell_type": "code",
   "execution_count": 104,
   "metadata": {},
   "outputs": [
    {
     "data": {
      "text/plain": [
       "array([False, False, False, False, False,  True,  True,  True,  True,\n",
       "        True])"
      ]
     },
     "execution_count": 104,
     "metadata": {},
     "output_type": "execute_result"
    }
   ],
   "source": [
    "np.where(a>5,True,False)"
   ]
  },
  {
   "cell_type": "code",
   "execution_count": 105,
   "metadata": {},
   "outputs": [
    {
     "data": {
      "text/plain": [
       "array([ 6,  7,  8,  9, 10])"
      ]
     },
     "execution_count": 105,
     "metadata": {},
     "output_type": "execute_result"
    }
   ],
   "source": [
    "a[np.where(a>5,True,False)]"
   ]
  },
  {
   "cell_type": "code",
   "execution_count": 133,
   "metadata": {},
   "outputs": [],
   "source": [
    "# 연습 #\n",
    "#: 배열 만들기 \n",
    "# - 60부터 100점 사이에서 \n",
    "# 100명의 학생 시험 점수(4과목) 평균에 따라 성적 배정\n",
    "# 70점 이하면 fail\n",
    "\n",
    "np.random.seed(100) #100명의 성적을 난수생성\n",
    "score = np.random.randint(60,101,size=(100,4)) #점수 난수생성"
   ]
  },
  {
   "cell_type": "code",
   "execution_count": 108,
   "metadata": {},
   "outputs": [
    {
     "data": {
      "text/plain": [
       "array([[ 68,  84,  63,  99],\n",
       "       [ 83,  75,  70,  90],\n",
       "       [ 94,  62,  94,  74],\n",
       "       [ 94,  84,  75,  96],\n",
       "       [ 76,  69,  89,  82],\n",
       "       [ 62,  87,  64,  91],\n",
       "       [ 61,  73,  79,  96],\n",
       "       [ 64,  87,  63,  67],\n",
       "       [ 61,  74,  67,  76],\n",
       "       [ 62,  90,  79,  94],\n",
       "       [ 87,  90,  99,  98],\n",
       "       [ 78,  60,  94,  70],\n",
       "       [ 77,  68,  73,  90],\n",
       "       [ 77,  64, 100,  87],\n",
       "       [ 87,  79,  74,  60],\n",
       "       [ 73,  72,  63,  66],\n",
       "       [ 63,  80,  75,  70],\n",
       "       [ 83,  63,  96,  65],\n",
       "       [ 67,  98,  82,  90],\n",
       "       [ 94,  80,  91,  72],\n",
       "       [ 93,  98,  82,  60],\n",
       "       [ 94,  79,  64,  64],\n",
       "       [ 95,  83,  69,  81],\n",
       "       [ 85,  66,  97,  98],\n",
       "       [ 99,  90,  90,  62],\n",
       "       [ 84,  77,  97,  85],\n",
       "       [ 95,  76,  72,  82],\n",
       "       [ 78,  63,  88,  91],\n",
       "       [ 80,  70,  68,  85],\n",
       "       [ 68,  90,  72,  78],\n",
       "       [ 89,  88,  60,  69],\n",
       "       [100,  88,  62,  76],\n",
       "       [ 65,  86,  94,  63],\n",
       "       [ 90,  74,  73,  80],\n",
       "       [ 61,  74,  93,  80],\n",
       "       [100,  84,  89,  88],\n",
       "       [ 78,  78,  67,  90],\n",
       "       [ 62,  62,  83,  77],\n",
       "       [ 86,  89,  92,  70],\n",
       "       [ 90,  63,  88,  97],\n",
       "       [ 78,  98,  77,  70],\n",
       "       [ 73,  77,  85,  62],\n",
       "       [ 75,  71,  97,  98],\n",
       "       [ 82,  83,  77,  61],\n",
       "       [ 89,  76,  79,  96],\n",
       "       [ 97,  76,  95,  62],\n",
       "       [ 95,  77,  76,  66],\n",
       "       [ 94,  92,  69,  94],\n",
       "       [ 63,  98,  71,  89],\n",
       "       [ 96,  89,  63,  86],\n",
       "       [ 96,  69,  91,  81],\n",
       "       [ 88,  64,  79,  67],\n",
       "       [ 89,  96,  73,  78],\n",
       "       [ 92,  98, 100,  89],\n",
       "       [ 74,  98,  82,  97],\n",
       "       [ 60, 100, 100,  97],\n",
       "       [ 79,  72,  62,  73],\n",
       "       [ 83,  61,  64,  60],\n",
       "       [ 83,  79,  70,  61],\n",
       "       [ 62,  83,  72,  99],\n",
       "       [ 96,  95,  95,  86],\n",
       "       [ 79,  64,  99,  83],\n",
       "       [ 70,  75,  88,  73],\n",
       "       [ 93,  75,  77,  84],\n",
       "       [ 83,  68, 100,  73],\n",
       "       [ 85,  91,  70,  98],\n",
       "       [ 76,  83,  80,  97],\n",
       "       [ 77,  75,  81,  79],\n",
       "       [ 80,  63,  97,  70],\n",
       "       [ 71,  66,  86,  77],\n",
       "       [ 72,  68,  60,  90],\n",
       "       [ 78,  87,  66,  97],\n",
       "       [ 99,  92,  99,  84],\n",
       "       [ 76,  65,  76,  94],\n",
       "       [ 77,  82,  76,  63],\n",
       "       [ 72,  85,  65,  62],\n",
       "       [ 60,  69,  73,  63],\n",
       "       [ 75,  78,  80,  75],\n",
       "       [ 73,  71,  84,  97],\n",
       "       [ 77,  80,  99,  98],\n",
       "       [ 97,  84,  79,  87],\n",
       "       [ 81,  60,  69,  61],\n",
       "       [ 96,  93,  92,  82],\n",
       "       [ 86,  82,  88,  66],\n",
       "       [ 90,  63,  88,  95],\n",
       "       [ 91,  79,  74,  67],\n",
       "       [100,  73,  72,  95],\n",
       "       [ 62,  78,  95,  62],\n",
       "       [ 92,  66,  85,  91],\n",
       "       [ 78,  72,  77,  93],\n",
       "       [ 62,  90,  78,  98],\n",
       "       [ 62,  96,  97,  67],\n",
       "       [ 97,  96,  61,  81],\n",
       "       [ 73,  90,  88,  76],\n",
       "       [ 77,  92,  80,  95],\n",
       "       [ 78,  83,  98,  95],\n",
       "       [ 67,  73,  78,  83],\n",
       "       [ 88,  84,  81,  61],\n",
       "       [ 90,  88,  87,  82],\n",
       "       [ 73,  85,  69,  65]], dtype=int32)"
      ]
     },
     "execution_count": 108,
     "metadata": {},
     "output_type": "execute_result"
    }
   ],
   "source": [
    "score"
   ]
  },
  {
   "cell_type": "code",
   "execution_count": 118,
   "metadata": {},
   "outputs": [],
   "source": [
    "mean_score = np.mean(score,axis=1)"
   ]
  },
  {
   "cell_type": "code",
   "execution_count": 119,
   "metadata": {},
   "outputs": [],
   "source": [
    "grade = np.where(mean_score <= 70, \"fail\", \"success\")"
   ]
  },
  {
   "cell_type": "code",
   "execution_count": 120,
   "metadata": {},
   "outputs": [
    {
     "name": "stdout",
     "output_type": "stream",
     "text": [
      "['success' 'success' 'success' 'success' 'success' 'success' 'success'\n",
      " 'success' 'fail' 'success' 'success' 'success' 'success' 'success'\n",
      " 'success' 'fail' 'success' 'success' 'success' 'success' 'success'\n",
      " 'success' 'success' 'success' 'success' 'success' 'success' 'success'\n",
      " 'success' 'success' 'success' 'success' 'success' 'success' 'success'\n",
      " 'success' 'success' 'success' 'success' 'success' 'success' 'success'\n",
      " 'success' 'success' 'success' 'success' 'success' 'success' 'success'\n",
      " 'success' 'success' 'success' 'success' 'success' 'success' 'success'\n",
      " 'success' 'fail' 'success' 'success' 'success' 'success' 'success'\n",
      " 'success' 'success' 'success' 'success' 'success' 'success' 'success'\n",
      " 'success' 'success' 'success' 'success' 'success' 'success' 'fail'\n",
      " 'success' 'success' 'success' 'success' 'fail' 'success' 'success'\n",
      " 'success' 'success' 'success' 'success' 'success' 'success' 'success'\n",
      " 'success' 'success' 'success' 'success' 'success' 'success' 'success'\n",
      " 'success' 'success']\n"
     ]
    }
   ],
   "source": [
    "print(grade)"
   ]
  },
  {
   "cell_type": "code",
   "execution_count": 123,
   "metadata": {},
   "outputs": [
    {
     "data": {
      "text/plain": [
       "array(['success', 'success', 'success', 'success', 'success', 'success',\n",
       "       'success', 'success', 'fail', 'success', 'success', 'success',\n",
       "       'success', 'success', 'success', 'fail', 'success', 'success',\n",
       "       'success', 'success', 'success', 'success', 'success', 'success',\n",
       "       'success', 'success', 'success', 'success', 'success', 'success',\n",
       "       'success', 'success', 'success', 'success', 'success', 'success',\n",
       "       'success', 'success', 'success', 'success', 'success', 'success',\n",
       "       'success', 'success', 'success', 'success', 'success', 'success',\n",
       "       'success', 'success', 'success', 'success', 'success', 'success',\n",
       "       'success', 'success', 'success', 'fail', 'success', 'success',\n",
       "       'success', 'success', 'success', 'success', 'success', 'success',\n",
       "       'success', 'success', 'success', 'success', 'success', 'success',\n",
       "       'success', 'success', 'success', 'success', 'fail', 'success',\n",
       "       'success', 'success', 'success', 'fail', 'success', 'success',\n",
       "       'success', 'success', 'success', 'success', 'success', 'success',\n",
       "       'success', 'success', 'success', 'success', 'success', 'success',\n",
       "       'success', 'success', 'success', 'success'], dtype='<U7')"
      ]
     },
     "execution_count": 123,
     "metadata": {},
     "output_type": "execute_result"
    }
   ],
   "source": [
    "# 다른 풀이\n",
    "\n",
    "np.where((np.mean(score,1) > 70), 'success','fail')"
   ]
  },
  {
   "cell_type": "code",
   "execution_count": 125,
   "metadata": {},
   "outputs": [
    {
     "data": {
      "text/plain": [
       "np.int64(5)"
      ]
     },
     "execution_count": 125,
     "metadata": {},
     "output_type": "execute_result"
    }
   ],
   "source": [
    "np.sum(np.where((np.mean(score,1) > 70), 'success','fail') == 'fail')"
   ]
  },
  {
   "cell_type": "code",
   "execution_count": 142,
   "metadata": {},
   "outputs": [],
   "source": [
    "# 4과목 점수 평균에 따른 성적 구하기\n",
    "# 90이상 a, 80이상 b, 나머지 c\n",
    "np.random.seed(100)\n",
    "score = np.random.randint(60,101,size=(100,4)) #점수 난수생성\n",
    "mean_score = np.mean(score,axis=1)"
   ]
  },
  {
   "cell_type": "code",
   "execution_count": 143,
   "metadata": {},
   "outputs": [],
   "source": [
    "grade = np.where(mean_score >= 90, 'A',\n",
    "        np.where(mean_score >= 80, 'B', 'C'))"
   ]
  },
  {
   "cell_type": "code",
   "execution_count": 147,
   "metadata": {},
   "outputs": [],
   "source": [
    "unique, count = np.unique(grade,return_counts=True)\n",
    "result = {str(grade): int(count) for grade, count in zip(unique,count)}"
   ]
  },
  {
   "cell_type": "code",
   "execution_count": 151,
   "metadata": {},
   "outputs": [
    {
     "name": "stdout",
     "output_type": "stream",
     "text": [
      "성적: ['C' 'C' 'B' 'B' 'C' 'C' 'C' 'C' 'C' 'B' 'A' 'C' 'C' 'B' 'C' 'C' 'C' 'C'\n",
      " 'B' 'B' 'B' 'C' 'B' 'B' 'B' 'B' 'B' 'B' 'C' 'C' 'C' 'B' 'C' 'C' 'C' 'A'\n",
      " 'C' 'C' 'B' 'B' 'B' 'C' 'B' 'C' 'B' 'B' 'C' 'B' 'B' 'B' 'B' 'C' 'B' 'A'\n",
      " 'B' 'B' 'C' 'C' 'C' 'C' 'A' 'B' 'C' 'B' 'B' 'B' 'B' 'C' 'C' 'C' 'C' 'B'\n",
      " 'A' 'C' 'C' 'C' 'C' 'C' 'B' 'B' 'B' 'C' 'A' 'B' 'B' 'C' 'B' 'C' 'B' 'B'\n",
      " 'B' 'B' 'B' 'B' 'B' 'B' 'C' 'C' 'B' 'C']\n",
      "결과 {'A': 6, 'B': 48, 'C': 46}\n"
     ]
    }
   ],
   "source": [
    "print(\"성적:\", grade)\n",
    "print(\"결과\", result)"
   ]
  },
  {
   "cell_type": "code",
   "execution_count": null,
   "metadata": {},
   "outputs": [],
   "source": [
    "# 연습 #\n",
    "# 심판 6명은 100명에게 점수를 1~10점으로 부여\n",
    "# 최저점과 최고점을 '제외한' 점수의 평균으로 순위를 매김\n",
    "# 5명만 수상"
   ]
  },
  {
   "cell_type": "code",
   "execution_count": 152,
   "metadata": {},
   "outputs": [],
   "source": [
    "np.random.seed(100)\n",
    "score = np.random.randint(1,11,size=(100,6))"
   ]
  },
  {
   "cell_type": "code",
   "execution_count": 153,
   "metadata": {},
   "outputs": [
    {
     "data": {
      "text/plain": [
       "np.float64(7.25)"
      ]
     },
     "execution_count": 153,
     "metadata": {},
     "output_type": "execute_result"
    }
   ],
   "source": [
    "np.sort(np.apply_along_axis(lambda x: np.mean(x[np.argsort(x)][1:-1]),1,score))[::-1][5]"
   ]
  },
  {
   "cell_type": "code",
   "execution_count": null,
   "metadata": {},
   "outputs": [],
   "source": []
  }
 ],
 "metadata": {
  "kernelspec": {
   "display_name": "Python 3",
   "language": "python",
   "name": "python3"
  },
  "language_info": {
   "codemirror_mode": {
    "name": "ipython",
    "version": 3
   },
   "file_extension": ".py",
   "mimetype": "text/x-python",
   "name": "python",
   "nbconvert_exporter": "python",
   "pygments_lexer": "ipython3",
   "version": "3.12.4"
  }
 },
 "nbformat": 4,
 "nbformat_minor": 2
}
