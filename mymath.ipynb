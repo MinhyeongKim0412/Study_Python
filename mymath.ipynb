{
 "cells": [
  {
   "cell_type": "code",
   "execution_count": 1,
   "metadata": {},
   "outputs": [],
   "source": [
    "def my_round(number,cut_point): \n",
    "    number_str = str(number)\n",
    "    point = number_str.find('.')+1\n",
    "    number_int = number_str[:point]-1\n",
    "    number_float=number_str[point:point+cut_point+1]\n",
    "    number_str=number_int+'.'+number_float\n",
    "    number_trans = float(number_str)\n",
    "    return number_trans"
   ]
  },
  {
   "cell_type": "code",
   "execution_count": 1,
   "metadata": {},
   "outputs": [
    {
     "data": {
      "text/plain": [
       "'c:\\\\Users\\\\kimmi\\\\OneDrive\\\\바탕 화면\\\\KEPCO\\\\KEPCO_class content\\\\T.Lee_SpringBoot,Python\\\\Python\\\\Code_jupyterLab'"
      ]
     },
     "execution_count": 1,
     "metadata": {},
     "output_type": "execute_result"
    }
   ],
   "source": [
    "import os\n",
    "os.getcwd()"
   ]
  },
  {
   "cell_type": "code",
   "execution_count": 3,
   "metadata": {},
   "outputs": [],
   "source": [
    "import sys"
   ]
  },
  {
   "cell_type": "code",
   "execution_count": 26,
   "metadata": {},
   "outputs": [
    {
     "data": {
      "text/plain": [
       "['c:\\\\Python312\\\\python312.zip',\n",
       " 'c:\\\\Python312\\\\DLLs',\n",
       " 'c:\\\\Python312\\\\Lib',\n",
       " 'c:\\\\Python312',\n",
       " '',\n",
       " 'c:\\\\Python312\\\\Lib\\\\site-packages',\n",
       " 'c:\\\\Python312\\\\Lib\\\\site-packages\\\\win32',\n",
       " 'c:\\\\Python312\\\\Lib\\\\site-packages\\\\win32\\\\lib',\n",
       " 'c:\\\\Python312\\\\Lib\\\\site-packages\\\\Pythonwin',\n",
       " 'C:\\\\mymodule\\\\math',\n",
       " 'C:/mymodule/math',\n",
       " 'C://mymodule//math',\n",
       " 'C:\\\\mymodule\\\\math',\n",
       " 'C:\\\\mymodule\\\\math']"
      ]
     },
     "execution_count": 26,
     "metadata": {},
     "output_type": "execute_result"
    }
   ],
   "source": [
    "sys.path"
   ]
  }
 ],
 "metadata": {
  "kernelspec": {
   "display_name": "Python 3",
   "language": "python",
   "name": "python3"
  },
  "language_info": {
   "codemirror_mode": {
    "name": "ipython",
    "version": 3
   },
   "file_extension": ".py",
   "mimetype": "text/x-python",
   "name": "python",
   "nbconvert_exporter": "python",
   "pygments_lexer": "ipython3",
   "version": "3.12.4"
  }
 },
 "nbformat": 4,
 "nbformat_minor": 2
}
