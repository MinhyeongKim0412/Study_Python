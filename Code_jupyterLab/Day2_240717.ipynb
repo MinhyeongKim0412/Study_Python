{
 "cells": [
  {
   "cell_type": "code",
   "execution_count": 3,
   "id": "1831102e-0f18-4616-a8e6-9944279e351a",
   "metadata": {},
   "outputs": [
    {
     "name": "stdout",
     "output_type": "stream",
     "text": [
      "참인결과\n"
     ]
    }
   ],
   "source": [
    "if \"참일때 실행\":\n",
    "    print(\"참인결과\")"
   ]
  },
  {
   "cell_type": "code",
   "execution_count": 15,
   "id": "ffd131a9-27af-43aa-b2fa-4b88e602bd88",
   "metadata": {},
   "outputs": [
    {
     "name": "stdout",
     "output_type": "stream",
     "text": [
      "1100\n"
     ]
    }
   ],
   "source": [
    "a=1111\n",
    "b=11\n",
    "\n",
    "if a>=b:\n",
    "    print(a-b)\n",
    "if a<b:\n",
    "    print(b-a)"
   ]
  },
  {
   "cell_type": "code",
   "execution_count": 16,
   "id": "307ffb89-aa56-40c9-b91d-59a7d27b0f4c",
   "metadata": {},
   "outputs": [
    {
     "name": "stdout",
     "output_type": "stream",
     "text": [
      "1100\n"
     ]
    }
   ],
   "source": [
    "if a>=b:\n",
    "    print(a-b)\n",
    "else:\n",
    "    print(b-a)"
   ]
  },
  {
   "cell_type": "code",
   "execution_count": 14,
   "id": "3b66344e-4afc-42d9-876d-12b1d400b40b",
   "metadata": {},
   "outputs": [
    {
     "name": "stdin",
     "output_type": "stream",
     "text": [
      "1번째 숫자:  6\n",
      "2번째 숫자:  24\n"
     ]
    },
    {
     "name": "stdout",
     "output_type": "stream",
     "text": [
      "\n",
      "처음 입력했던 {a}가 {b}보다 더 큽니다.\n"
     ]
    }
   ],
   "source": [
    "a=(input(\"1번째 숫자: \")),\n",
    "b=(input(\"2번째 숫자: \")),\n",
    "print()\n",
    "\n",
    "if (a>b):\n",
    "    print(\"처음 입력했던 {a}가 {b}보다 더 큽니다.\")\n",
    "if (a<b):\n",
    "    print(\"두번째로 입력했던 {b}가 {a}보다 더 큽니다.\")"
   ]
  },
  {
   "cell_type": "code",
   "execution_count": 23,
   "id": "64001e5a-5d54-4175-8ab0-a539249ce5ea",
   "metadata": {},
   "outputs": [
    {
     "name": "stdin",
     "output_type": "stream",
     "text": [
      "점수를 입력해주세요. 61\n"
     ]
    },
    {
     "name": "stdout",
     "output_type": "stream",
     "text": [
      "D학점입니다.\n"
     ]
    }
   ],
   "source": [
    "## if만 사용한 경우\n",
    "\n",
    "score=int(input(\"점수를 입력해주세요.\"))\n",
    "\n",
    "# 100 이하 90 이상이면 A, 90 미만 80이상이면 B, \n",
    "# 80 미만 70이상이면 C, 70 미만 60이상이면 D, 60 미만은 F\n",
    "\n",
    "if(100>=score>=90):\n",
    "    print(\"A학점입니다.\")\n",
    "if(90>score>=80):\n",
    "    print(\"B학점입니다.\")\n",
    "if(80>score>=70):\n",
    "    print(\"C학점입니다.\")\n",
    "if(70>score>=60):\n",
    "    print(\"D학점입니다.\")\n",
    "if(60>score):\n",
    "    print(\"F학점입니다.\")"
   ]
  },
  {
   "cell_type": "code",
   "execution_count": 30,
   "id": "a570d555-a427-467e-b5d0-f5fc9af9ee1c",
   "metadata": {},
   "outputs": [
    {
     "name": "stdin",
     "output_type": "stream",
     "text": [
      "점수를 입력해주세요. 85\n"
     ]
    },
    {
     "name": "stdout",
     "output_type": "stream",
     "text": [
      "B학점입니다.\n"
     ]
    }
   ],
   "source": [
    "## if와 else if, else를 사용한 경우\n",
    "\n",
    "score=int(input(\"점수를 입력해주세요.\"))\n",
    "\n",
    "if(score>=90):\n",
    "    print(\"A학점입니다.\")\n",
    "elif(score>=80):\n",
    "    print(\"B학점입니다.\")\n",
    "elif(score>=70):\n",
    "    print(\"C학점입니다.\")\n",
    "elif(score>=60):\n",
    "    print(\"D학점입니다.\")\n",
    "else:\n",
    "    print(\"F학점입니다.\")"
   ]
  },
  {
   "cell_type": "code",
   "execution_count": 32,
   "id": "1e5f0ce8-b774-4e0c-bca3-d6471547e8f3",
   "metadata": {},
   "outputs": [
    {
     "name": "stdin",
     "output_type": "stream",
     "text": [
      "점수를 입력해주세요. 39\n"
     ]
    },
    {
     "name": "stdout",
     "output_type": "stream",
     "text": [
      "F\n"
     ]
    }
   ],
   "source": [
    "## if와 else만 사용한 경우\n",
    "\n",
    "score=int(input(\"점수를 입력해주세요.\"))\n",
    "\n",
    "if score >= 90:\n",
    "    print('A')\n",
    "else:\n",
    "    if score >= 80:\n",
    "        print('B')\n",
    "    else:\n",
    "        if score >= 70:\n",
    "            print('C')\n",
    "        else:\n",
    "            if score >= 60:\n",
    "                print('D')\n",
    "            else:\n",
    "                print('F')\n",
    "    "
   ]
  },
  {
   "cell_type": "code",
   "execution_count": 48,
   "id": "69668a85-33b0-4a94-ac97-99e603ff3a45",
   "metadata": {},
   "outputs": [
    {
     "data": {
      "text/plain": [
       "'2024년 7월 17일 9시 51분 12초'"
      ]
     },
     "execution_count": 48,
     "metadata": {},
     "output_type": "execute_result"
    }
   ],
   "source": [
    "## 일시 출력하기\n",
    "\n",
    "import datetime\n",
    "now_time = datetime.datetime.now()\n",
    "\n",
    "year = now_time.year\n",
    "month = now_time.month\n",
    "day = now_time.day\n",
    "hour = now_time.hour\n",
    "minute = now_time.minute\n",
    "second = now_time.second\n",
    "\n",
    "f\"{year}년 {month}월 {day}일 {hour}시 {minute}분 {second}초\""
   ]
  },
  {
   "cell_type": "code",
   "execution_count": 70,
   "id": "02a59b58-981a-417e-86ab-401a7a8bae0a",
   "metadata": {},
   "outputs": [
    {
     "name": "stdout",
     "output_type": "stream",
     "text": [
      "현재 시간은 9시, 오전입니다.\n"
     ]
    }
   ],
   "source": [
    "##오전, 오후 구분 프로그램\n",
    "#기본형\n",
    "\n",
    "if now_time.hour >= 12:\n",
    "    print(f'현재 시간은 {now_time.hour}시, 오후입니다.')\n",
    "else:\n",
    "    print(f'현재 시간은 {now_time.hour}시, 오전입니다.')"
   ]
  },
  {
   "cell_type": "code",
   "execution_count": 63,
   "id": "93315dca-4079-4b84-a65c-aec9a3fcb7a8",
   "metadata": {},
   "outputs": [
    {
     "name": "stdin",
     "output_type": "stream",
     "text": [
      "월을 입력해주세요. 3873\n"
     ]
    },
    {
     "name": "stdout",
     "output_type": "stream",
     "text": [
      "존재하지 않는 월입니다.\n"
     ]
    }
   ],
   "source": [
    "##계절출력 - 일반형\n",
    "\n",
    "month=int(input(\"월을 입력해주세요.\"))\n",
    "\n",
    "if 5>= month >=3:\n",
    "                print('봄')\n",
    "elif 8>= month >=6:\n",
    "                print('여름')\n",
    "elif 11>= month >=9:\n",
    "                print('가을')\n",
    "elif month==12 or month==1 or month==2 :\n",
    "                print('겨울')\n",
    "else:\n",
    "        print('존재하지 않는 월입니다.')"
   ]
  },
  {
   "cell_type": "code",
   "execution_count": 69,
   "id": "100addd4-0fbd-4385-8a1c-535125c2afe6",
   "metadata": {},
   "outputs": [
    {
     "name": "stdout",
     "output_type": "stream",
     "text": [
      "1월은 winter\n",
      "2월은 winter\n",
      "3월은 spring\n",
      "4월은 spring\n",
      "5월은 spring\n",
      "6월은 summer\n",
      "7월은 summer\n",
      "8월은 summer\n",
      "9월은 fall\n",
      "10월은 fall\n",
      "11월은 fall\n",
      "12월은 winter\n"
     ]
    }
   ],
   "source": [
    "##계절출력 - 변형\n",
    "\n",
    "for month in range(1,13):\n",
    "    if month==12 or month<=2:\n",
    "        print(f\"{month}월은 winter\")\n",
    "    elif month<=5:\n",
    "        print(f\"{month}월은 spring\")\n",
    "    elif month<=8:\n",
    "        print(f\"{month}월은 summer\")\n",
    "    elif  month<=11:\n",
    "        print(f\"{month}월은 fall\")"
   ]
  },
  {
   "cell_type": "code",
   "execution_count": 75,
   "id": "a2668021-37e5-4dba-98ab-9d6d4549e52c",
   "metadata": {},
   "outputs": [
    {
     "name": "stdin",
     "output_type": "stream",
     "text": [
      "정수를 입력해주세요. 23479283642\n"
     ]
    },
    {
     "name": "stdout",
     "output_type": "stream",
     "text": [
      "짝수\n"
     ]
    }
   ],
   "source": [
    "##홀짝구분\n",
    "\n",
    "num=int(input(\"정수를 입력해주세요.\"))\n",
    "if num % 2 == 0:\n",
    "    print(\"짝수\")\n",
    "else:\n",
    "    print(\"홀수\")"
   ]
  },
  {
   "cell_type": "code",
   "execution_count": null,
   "id": "b628eee0-f3fb-4039-af80-12eade3b81ff",
   "metadata": {},
   "outputs": [],
   "source": []
  }
 ],
 "metadata": {
  "kernelspec": {
   "display_name": "Python 3 (ipykernel)",
   "language": "python",
   "name": "python3"
  },
  "language_info": {
   "codemirror_mode": {
    "name": "ipython",
    "version": 3
   },
   "file_extension": ".py",
   "mimetype": "text/x-python",
   "name": "python",
   "nbconvert_exporter": "python",
   "pygments_lexer": "ipython3",
   "version": "3.12.4"
  }
 },
 "nbformat": 4,
 "nbformat_minor": 5
}
