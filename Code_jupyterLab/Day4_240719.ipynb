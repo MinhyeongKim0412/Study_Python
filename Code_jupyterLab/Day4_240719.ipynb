{
 "cells": [
  {
   "cell_type": "code",
   "execution_count": 35,
   "id": "c0ea64ae-1fba-4eee-9412-63d1a727f1a1",
   "metadata": {},
   "outputs": [],
   "source": [
    "## Variable Arguments\n",
    "def my_func(name):\n",
    "    return f\"Hello, {name}!\""
   ]
  },
  {
   "cell_type": "code",
   "execution_count": 37,
   "id": "c5cb0275-c685-46b6-985b-4b40bf2911b0",
   "metadata": {},
   "outputs": [
    {
     "name": "stdin",
     "output_type": "stream",
     "text": [
      "Please Enter your name. m1nbr0\n"
     ]
    },
    {
     "data": {
      "text/plain": [
       "'Hello, m1nbr0!'"
      ]
     },
     "execution_count": 37,
     "metadata": {},
     "output_type": "execute_result"
    }
   ],
   "source": [
    "x=input(\"Please Enter your name.\")\n",
    "my_func(x)"
   ]
  },
  {
   "cell_type": "code",
   "execution_count": 57,
   "id": "cedddff7-35f1-45f4-95c9-eb9ce07b3e94",
   "metadata": {},
   "outputs": [],
   "source": [
    "# Sum all the input values\n",
    "# Accept inputs as a list\n",
    "def add(x):\n",
    "    return sum(x)\n",
    "\n",
    "# Accept multiple values and sum them all\n",
    "def add2(*x):\n",
    "    s = 0\n",
    "    for i in x:\n",
    "        s += i\n",
    "    return s\n",
    "\n",
    "# Accept inputs using *args\n",
    "def add3(*args):\n",
    "    s = 0\n",
    "    for arg in args:\n",
    "        s += arg\n",
    "    return s\n",
    "\n",
    "# Example of an empty function\n",
    "def add4(*args):\n",
    "    pass  # Not implemented yet\n"
   ]
  },
  {
   "cell_type": "code",
   "execution_count": 58,
   "id": "7e93bd70-9153-4ef2-b372-b94bfc286727",
   "metadata": {},
   "outputs": [
    {
     "data": {
      "text/plain": [
       "60"
      ]
     },
     "execution_count": 58,
     "metadata": {},
     "output_type": "execute_result"
    }
   ],
   "source": [
    "add([10,20,30])"
   ]
  },
  {
   "cell_type": "code",
   "execution_count": 59,
   "id": "dfbced06-2e29-4be4-a0ea-0214ced28cf0",
   "metadata": {
    "scrolled": true
   },
   "outputs": [
    {
     "data": {
      "text/plain": [
       "6"
      ]
     },
     "execution_count": 59,
     "metadata": {},
     "output_type": "execute_result"
    }
   ],
   "source": [
    "add2(1,2,3)"
   ]
  },
  {
   "cell_type": "code",
   "execution_count": 19,
   "id": "54c38def-1c40-4d4d-a35a-8e022cb7bc59",
   "metadata": {},
   "outputs": [
    {
     "data": {
      "text/plain": [
       "6"
      ]
     },
     "execution_count": 19,
     "metadata": {},
     "output_type": "execute_result"
    }
   ],
   "source": [
    "add4(1,2,3)"
   ]
  },
  {
   "cell_type": "code",
   "execution_count": 42,
   "id": "08056782-4c31-472a-aa3b-af4dbaf20a21",
   "metadata": {},
   "outputs": [],
   "source": [
    "# Retrieve through a method\n",
    "def multi(args):\n",
    "    mul = 1\n",
    "    for arg in args:\n",
    "        mul*=arg\n",
    "    return mul\n",
    "    \n",
    "def calc(method,*args):   # Arbitrary function calc\n",
    "    if method==\"add\":\n",
    "       return sum([arg for arg in args])\n",
    "    else:\n",
    "        return multi([arg for arg in args])"
   ]
  },
  {
   "cell_type": "code",
   "execution_count": 43,
   "id": "d123aca5-9cd7-440d-87ef-d4ce090d9401",
   "metadata": {},
   "outputs": [
    {
     "data": {
      "text/plain": [
       "24"
      ]
     },
     "execution_count": 43,
     "metadata": {},
     "output_type": "execute_result"
    }
   ],
   "source": [
    "calc(\"mul\",1,2,3,4)"
   ]
  },
  {
   "cell_type": "code",
   "execution_count": 44,
   "id": "b63663bd-ca0b-4d28-9e82-dae023283b0d",
   "metadata": {},
   "outputs": [
    {
     "name": "stdout",
     "output_type": "stream",
     "text": [
      "Hello.\n",
      "Enjoying\n",
      "Python!\n",
      "\n",
      "Hello.\n",
      "Enjoying\n",
      "Python!\n",
      "\n",
      "Hello.\n",
      "Enjoying\n",
      "Python!\n",
      "\n"
     ]
    }
   ],
   "source": [
    "# Example of a variable arguments function - repeated n times\n",
    "\n",
    "def print_n_times (n, *values):\n",
    "    for i in range(n):\n",
    "        for value in values:\n",
    "            print(value)\n",
    "        print()\n",
    "print_n_times(3,\"Hello.\", \"Enjoying\", \"Python!\")"
   ]
  },
  {
   "cell_type": "code",
   "execution_count": 49,
   "id": "d704c4b1-2514-4bd7-a2d1-d2e9c5cbd89e",
   "metadata": {},
   "outputs": [],
   "source": [
    "#Default arguments function\n",
    "\n",
    "def print_n_time(*values,n=2):\n",
    "    for _ in range(n):\n",
    "        for value in values:\n",
    "            print(value)"
   ]
  },
  {
   "cell_type": "code",
   "execution_count": 47,
   "id": "dd8899a0-8987-4383-9e8d-7fef47809b99",
   "metadata": {},
   "outputs": [
    {
     "name": "stdout",
     "output_type": "stream",
     "text": [
      "hello\n",
      "hi\n",
      "hello\n",
      "hi\n",
      "hello\n",
      "hi\n"
     ]
    }
   ],
   "source": [
    "print_n_time(3,\"hello\",\"hi\")"
   ]
  },
  {
   "cell_type": "code",
   "execution_count": 50,
   "id": "92dfcc13-e90f-44c4-a424-58f627f3a69d",
   "metadata": {},
   "outputs": [
    {
     "name": "stdout",
     "output_type": "stream",
     "text": [
      "hello\n",
      "hi\n",
      "3\n",
      "hello\n",
      "hi\n",
      "3\n"
     ]
    }
   ],
   "source": [
    "print_n_time(\"hello\",\"hi\",3)"
   ]
  },
  {
   "cell_type": "code",
   "execution_count": 52,
   "id": "bb5b363e-61bf-4d0a-ae72-3d1c794a96de",
   "metadata": {},
   "outputs": [
    {
     "name": "stdout",
     "output_type": "stream",
     "text": [
      "hello\n",
      "hi\n",
      "hello\n",
      "hi\n",
      "hello\n",
      "hi\n"
     ]
    }
   ],
   "source": [
    "#n=3 needs to be specified\n",
    "print_n_time(\"hello\",\"hi\",n=3)"
   ]
  },
  {
   "cell_type": "code",
   "execution_count": 60,
   "id": "33c75456-76ee-4973-9f1d-2b596934231b",
   "metadata": {},
   "outputs": [],
   "source": [
    "def my_func(*args):\n",
    "    return \"aaa\", args"
   ]
  },
  {
   "cell_type": "code",
   "execution_count": 61,
   "id": "aafad54e-bd1d-4fb7-a3a0-9414da96ca7c",
   "metadata": {},
   "outputs": [
    {
     "data": {
      "text/plain": [
       "('aaa', ())"
      ]
     },
     "execution_count": 61,
     "metadata": {},
     "output_type": "execute_result"
    }
   ],
   "source": [
    "my_func()"
   ]
  },
  {
   "cell_type": "code",
   "execution_count": 71,
   "id": "5c7d89a5-d86f-4d49-84b8-3ea26c77ce63",
   "metadata": {},
   "outputs": [],
   "source": [
    "### Types of function calls with default parameters\n",
    "\n",
    "def test(a,b=10,c=100):\n",
    "    print(a+b+c)"
   ]
  },
  {
   "cell_type": "code",
   "execution_count": 67,
   "id": "bcf8d349-d3bf-4d0b-b7a3-469bcdf24ccb",
   "metadata": {},
   "outputs": [
    {
     "name": "stdout",
     "output_type": "stream",
     "text": [
      "60\n"
     ]
    }
   ],
   "source": [
    "# Basic form\n",
    "test(10,20,30)"
   ]
  },
  {
   "cell_type": "code",
   "execution_count": 68,
   "id": "141b5db5-7477-4524-9e05-e93c1002ef4e",
   "metadata": {},
   "outputs": [
    {
     "name": "stdout",
     "output_type": "stream",
     "text": [
      "310\n"
     ]
    }
   ],
   "source": [
    "# Specify all parameters as keyword arguments\n",
    "test(a=10,b=100,c=200)"
   ]
  },
  {
   "cell_type": "code",
   "execution_count": 69,
   "id": "de276090-ec1c-4bee-b757-a2ad225efdac",
   "metadata": {},
   "outputs": [
    {
     "name": "stdout",
     "output_type": "stream",
     "text": [
      "310\n"
     ]
    }
   ],
   "source": [
    "# Specify all parameters as keyword arguments (in random order)\n",
    "test(c=10,a=100,b=200)"
   ]
  },
  {
   "cell_type": "code",
   "execution_count": 70,
   "id": "589bf10e-4ebc-404d-a26f-d850fa0ce557",
   "metadata": {},
   "outputs": [
    {
     "name": "stdout",
     "output_type": "stream",
     "text": [
      "220\n"
     ]
    }
   ],
   "source": [
    "# Specify only some parameters as keyword arguments\n",
    "test(10,c=200)"
   ]
  },
  {
   "cell_type": "code",
   "execution_count": 77,
   "id": "16f79ae6-242d-4aaf-aef4-0025a6ffe537",
   "metadata": {},
   "outputs": [],
   "source": [
    "## Function that sums all integers within a range\n",
    "\n",
    "def sum_all(start,end):\n",
    "    output=0\n",
    "    for i in range(start,end+1):\n",
    "        output += i\n",
    "    return output"
   ]
  },
  {
   "cell_type": "code",
   "execution_count": 76,
   "id": "2579559b-7727-423f-be44-417f972f2841",
   "metadata": {},
   "outputs": [
    {
     "name": "stdout",
     "output_type": "stream",
     "text": [
      "0 to 100: 5050\n"
     ]
    }
   ],
   "source": [
    "print(\"0 to 100:\", sum_all(0,100))"
   ]
  },
  {
   "cell_type": "code",
   "execution_count": 95,
   "id": "014d37c5-ab36-44e2-a2cf-54f7e4495914",
   "metadata": {},
   "outputs": [],
   "source": [
    "#Factiorial - use 'For'\n",
    "\n",
    "def factorial(n):\n",
    "    factorial =1\n",
    "    for i in range(1,n+1):\n",
    "        factorial *= i\n",
    "    return factorial"
   ]
  },
  {
   "cell_type": "code",
   "execution_count": 86,
   "id": "a5935212-5a62-46ef-bd8a-5f9a2870c36f",
   "metadata": {},
   "outputs": [
    {
     "data": {
      "text/plain": [
       "720"
      ]
     },
     "execution_count": 86,
     "metadata": {},
     "output_type": "execute_result"
    }
   ],
   "source": [
    "factorial(6)"
   ]
  },
  {
   "cell_type": "code",
   "execution_count": 93,
   "id": "939f38ee-446c-4b16-ab11-8b192f9b2d4b",
   "metadata": {},
   "outputs": [],
   "source": [
    "#Factiorial - use 'recursive'\n",
    "\n",
    "def factorial(n):\n",
    "    if n==1:\n",
    "        return 1 #if factorial(1), value=1\n",
    "    else:\n",
    "        return n*factorial(n-1) #calculate factorial"
   ]
  },
  {
   "cell_type": "code",
   "execution_count": 94,
   "id": "cfc26537-111f-4446-b90d-abbc85479c09",
   "metadata": {},
   "outputs": [
    {
     "data": {
      "text/plain": [
       "120"
      ]
     },
     "execution_count": 94,
     "metadata": {},
     "output_type": "execute_result"
    }
   ],
   "source": [
    "factorial(5)"
   ]
  },
  {
   "cell_type": "code",
   "execution_count": 96,
   "id": "29371aec-68a9-4762-b5bf-8388703c6934",
   "metadata": {},
   "outputs": [],
   "source": [
    "import time"
   ]
  },
  {
   "cell_type": "code",
   "execution_count": 103,
   "id": "fc777793-6624-4078-8328-a65242a1d6ef",
   "metadata": {},
   "outputs": [],
   "source": [
    "#factorial + for\n",
    "\n",
    "elaps_time_dic = {} #elaps:걸리는 시간\n",
    "\n",
    "for i in range(40,100):\n",
    "    start_time = time.time()\n",
    "    result = factorial(i)\n",
    "    elaps_time_dic[i] = (time.time() - start_time, result)"
   ]
  },
  {
   "cell_type": "code",
   "execution_count": 104,
   "id": "9fab8614-d397-456e-a272-ea97c102db01",
   "metadata": {},
   "outputs": [
    {
     "data": {
      "text/plain": [
       "{40: (0.0, 815915283247897734345611269596115894272000000000),\n",
       " 41: (0.0, 33452526613163807108170062053440751665152000000000),\n",
       " 42: (0.0, 1405006117752879898543142606244511569936384000000000),\n",
       " 43: (0.0, 60415263063373835637355132068513997507264512000000000),\n",
       " 44: (0.0, 2658271574788448768043625811014615890319638528000000000),\n",
       " 45: (0.0, 119622220865480194561963161495657715064383733760000000000),\n",
       " 46: (0.0, 5502622159812088949850305428800254892961651752960000000000),\n",
       " 47: (0.0, 258623241511168180642964355153611979969197632389120000000000),\n",
       " 48: (0.0, 12413915592536072670862289047373375038521486354677760000000000),\n",
       " 49: (0.0, 608281864034267560872252163321295376887552831379210240000000000),\n",
       " 50: (0.0, 30414093201713378043612608166064768844377641568960512000000000000),\n",
       " 51: (0.0,\n",
       "  1551118753287382280224243016469303211063259720016986112000000000000),\n",
       " 52: (0.0,\n",
       "  80658175170943878571660636856403766975289505440883277824000000000000),\n",
       " 53: (0.0,\n",
       "  4274883284060025564298013753389399649690343788366813724672000000000000),\n",
       " 54: (0.0,\n",
       "  230843697339241380472092742683027581083278564571807941132288000000000000),\n",
       " 55: (0.0,\n",
       "  12696403353658275925965100847566516959580321051449436762275840000000000000),\n",
       " 56: (0.0,\n",
       "  710998587804863451854045647463724949736497978881168458687447040000000000000),\n",
       " 57: (0.0,\n",
       "  40526919504877216755680601905432322134980384796226602145184481280000000000000),\n",
       " 58: (0.0,\n",
       "  2350561331282878571829474910515074683828862318181142924420699914240000000000000),\n",
       " 59: (0.0,\n",
       "  138683118545689835737939019720389406345902876772687432540821294940160000000000000),\n",
       " 60: (0.0,\n",
       "  8320987112741390144276341183223364380754172606361245952449277696409600000000000000),\n",
       " 61: (0.0,\n",
       "  507580213877224798800856812176625227226004528988036003099405939480985600000000000000),\n",
       " 62: (0.0,\n",
       "  31469973260387937525653122354950764088012280797258232192163168247821107200000000000000),\n",
       " 63: (0.0,\n",
       "  1982608315404440064116146708361898137544773690227268628106279599612729753600000000000000),\n",
       " 64: (0.0,\n",
       "  126886932185884164103433389335161480802865516174545192198801894375214704230400000000000000),\n",
       " 65: (0.0,\n",
       "  8247650592082470666723170306785496252186258551345437492922123134388955774976000000000000000),\n",
       " 66: (0.0,\n",
       "  544344939077443064003729240247842752644293064388798874532860126869671081148416000000000000000),\n",
       " 67: (0.0,\n",
       "  36471110918188685288249859096605464427167635314049524593701628500267962436943872000000000000000),\n",
       " 68: (0.0,\n",
       "  2480035542436830599600990418569171581047399201355367672371710738018221445712183296000000000000000),\n",
       " 69: (0.0,\n",
       "  171122452428141311372468338881272839092270544893520369393648040923257279754140647424000000000000000),\n",
       " 70: (0.0,\n",
       "  11978571669969891796072783721689098736458938142546425857555362864628009582789845319680000000000000000),\n",
       " 71: (0.0,\n",
       "  850478588567862317521167644239926010288584608120796235886430763388588680378079017697280000000000000000),\n",
       " 72: (0.0,\n",
       "  61234458376886086861524070385274672740778091784697328983823014963978384987221689274204160000000000000000),\n",
       " 73: (0.0,\n",
       "  4470115461512684340891257138125051110076800700282905015819080092370422104067183317016903680000000000000000),\n",
       " 74: (0.0,\n",
       "  330788544151938641225953028221253782145683251820934971170611926835411235700971565459250872320000000000000000),\n",
       " 75: (0.0,\n",
       "  24809140811395398091946477116594033660926243886570122837795894512655842677572867409443815424000000000000000000),\n",
       " 76: (0.0,\n",
       "  1885494701666050254987932260861146558230394535379329335672487982961844043495537923117729972224000000000000000000),\n",
       " 77: (0.0,\n",
       "  145183092028285869634070784086308284983740379224208358846781574688061991349156420080065207861248000000000000000000),\n",
       " 78: (0.0,\n",
       "  11324281178206297831457521158732046228731749579488251990048962825668835325234200766245086213177344000000000000000000),\n",
       " 79: (0.0,\n",
       "  894618213078297528685144171539831652069808216779571907213868063227837990693501860533361810841010176000000000000000000),\n",
       " 80: (0.0,\n",
       "  71569457046263802294811533723186532165584657342365752577109445058227039255480148842668944867280814080000000000000000000),\n",
       " 81: (0.0,\n",
       "  5797126020747367985879734231578109105412357244731625958745865049716390179693892056256184534249745940480000000000000000000),\n",
       " 82: (0.0,\n",
       "  475364333701284174842138206989404946643813294067993328617160934076743994734899148613007131808479167119360000000000000000000),\n",
       " 83: (0.0,\n",
       "  39455239697206586511897471180120610571436503407643446275224357528369751562996629334879591940103770870906880000000000000000000),\n",
       " 84: (0.0,\n",
       "  3314240134565353266999387579130131288000666286242049487118846032383059131291716864129885722968716753156177920000000000000000000),\n",
       " 85: (0.0,\n",
       "  281710411438055027694947944226061159480056634330574206405101912752560026159795933451040286452340924018275123200000000000000000000),\n",
       " 86: (0.0,\n",
       "  24227095383672732381765523203441259715284870552429381750838764496720162249742450276789464634901319465571660595200000000000000000000),\n",
       " 87: (0.0,\n",
       "  2107757298379527717213600518699389595229783738061356212322972511214654115727593174080683423236414793504734471782400000000000000000000),\n",
       " 88: (0.0,\n",
       "  185482642257398439114796845645546284380220968949399346684421580986889562184028199319100141244804501828416633516851200000000000000000000),\n",
       " 89: (0.0,\n",
       "  16507955160908461081216919262453619309839666236496541854913520707833171034378509739399912570787600662729080382999756800000000000000000000),\n",
       " 90: (0.0,\n",
       "  1485715964481761497309522733620825737885569961284688766942216863704985393094065876545992131370884059645617234469978112000000000000000000000),\n",
       " 91: (0.0,\n",
       "  135200152767840296255166568759495142147586866476906677791741734597153670771559994765685283954750449427751168336768008192000000000000000000000),\n",
       " 92: (0.0,\n",
       "  12438414054641307255475324325873553077577991715875414356840239582938137710983519518443046123837041347353107486982656753664000000000000000000000),\n",
       " 93: (0.0,\n",
       "  1156772507081641574759205162306240436214753229576413535186142281213246807121467315215203289516844845303838996289387078090752000000000000000000000),\n",
       " 94: (0.0,\n",
       "  108736615665674308027365285256786601004186803580182872307497374434045199869417927630229109214583415458560865651202385340530688000000000000000000000),\n",
       " 95: (0.0,\n",
       "  10329978488239059262599702099394727095397746340117372869212250571234293987594703124871765375385424468563282236864226607350415360000000000000000000000),\n",
       " 96: (0.0,\n",
       "  991677934870949689209571401541893801158183648651267795444376054838492222809091499987689476037000748982075094738965754305639874560000000000000000000000),\n",
       " 97: (0.0,\n",
       "  96192759682482119853328425949563698712343813919172976158104477319333745612481875498805879175589072651261284189679678167647067832320000000000000000000000),\n",
       " 98: (0.0,\n",
       "  9426890448883247745626185743057242473809693764078951663494238777294707070023223798882976159207729119823605850588608460429412647567360000000000000000000000),\n",
       " 99: (0.0,\n",
       "  933262154439441526816992388562667004907159682643816214685929638952175999932299156089414639761565182862536979208272237582511852109168640000000000000000000000)}"
      ]
     },
     "execution_count": 104,
     "metadata": {},
     "output_type": "execute_result"
    }
   ],
   "source": [
    "elaps_time_dic"
   ]
  },
  {
   "cell_type": "code",
   "execution_count": 1,
   "id": "c7c350e6-40fd-4493-830d-be18c4579b49",
   "metadata": {},
   "outputs": [
    {
     "data": {
      "text/plain": [
       "'C:\\\\Python312\\\\python.exe'"
      ]
     },
     "execution_count": 1,
     "metadata": {},
     "output_type": "execute_result"
    }
   ],
   "source": [
    "import sys\n",
    "sys.executable"
   ]
  },
  {
   "cell_type": "code",
   "execution_count": 2,
   "id": "cdef5b21-c5f7-4850-b821-91b34170fc11",
   "metadata": {},
   "outputs": [],
   "source": [
    "#immutable\n",
    "x=1,2,3,4"
   ]
  },
  {
   "cell_type": "code",
   "execution_count": 3,
   "id": "205b5166-dbf4-4be7-aeb2-7f82f8349311",
   "metadata": {},
   "outputs": [],
   "source": [
    "x1,x2,x3,x4=x"
   ]
  },
  {
   "cell_type": "code",
   "execution_count": 9,
   "id": "7e7cfad0-a185-4a94-9313-02fc46cf7c03",
   "metadata": {},
   "outputs": [
    {
     "name": "stdout",
     "output_type": "stream",
     "text": [
      "Hello!\n",
      "Hello!\n",
      "Hello!\n",
      "Hello!\n",
      "Hello!\n",
      "Hello!\n",
      "Hello!\n",
      "Hello!\n",
      "Hello!\n",
      "Hello!\n"
     ]
    }
   ],
   "source": [
    "#lambda\n",
    "\n",
    "def print_func(func):\n",
    "    for i in range(10):\n",
    "        func()\n",
    "def hi():\n",
    "    print(\"Hello!\")\n",
    "\n",
    "print_func(hi)"
   ]
  },
  {
   "cell_type": "code",
   "execution_count": 10,
   "id": "9e7975e3-4b76-476e-bb00-83a652df9502",
   "metadata": {},
   "outputs": [
    {
     "name": "stdout",
     "output_type": "stream",
     "text": [
      "1\n",
      "4\n",
      "9\n",
      "16\n"
     ]
    }
   ],
   "source": [
    "list_a=[1,2,3,4]\n",
    "for i in list_a:\n",
    "    print(i**2)"
   ]
  },
  {
   "cell_type": "code",
   "execution_count": 12,
   "id": "324a6607-88a3-4b1e-9258-4709f77de09f",
   "metadata": {},
   "outputs": [],
   "source": [
    "list_a=[1,2,3,4]\n",
    "new_list =[]\n",
    "for i in list_a:\n",
    "    new_list.append(i**2)"
   ]
  },
  {
   "cell_type": "code",
   "execution_count": 13,
   "id": "77fb6fc0-36c8-4860-acf6-7a61898db950",
   "metadata": {},
   "outputs": [
    {
     "data": {
      "text/plain": [
       "[1, 4, 9, 16]"
      ]
     },
     "execution_count": 13,
     "metadata": {},
     "output_type": "execute_result"
    }
   ],
   "source": [
    "new_list"
   ]
  },
  {
   "cell_type": "code",
   "execution_count": 14,
   "id": "9963ffd3-a7e1-4876-ab48-3acce308c853",
   "metadata": {},
   "outputs": [],
   "source": [
    "new_list = [i**2 for i in list_a]"
   ]
  },
  {
   "cell_type": "code",
   "execution_count": 15,
   "id": "912c5b39-d906-4e98-af00-d48f17c6cfef",
   "metadata": {},
   "outputs": [
    {
     "data": {
      "text/plain": [
       "[1, 4, 9, 16]"
      ]
     },
     "execution_count": 15,
     "metadata": {},
     "output_type": "execute_result"
    }
   ],
   "source": [
    "new_list"
   ]
  },
  {
   "cell_type": "code",
   "execution_count": 16,
   "id": "d5508aeb-ac9f-48ea-b1da-9ca82e18e144",
   "metadata": {},
   "outputs": [
    {
     "data": {
      "text/plain": [
       "[1, 4, 9, 16]"
      ]
     },
     "execution_count": 16,
     "metadata": {},
     "output_type": "execute_result"
    }
   ],
   "source": [
    "def square(x):\n",
    "    return x**2\n",
    "list(map(square,list_a))"
   ]
  },
  {
   "cell_type": "code",
   "execution_count": 18,
   "id": "27fc8224-aabc-4c2c-988c-32d9e02cabd4",
   "metadata": {},
   "outputs": [
    {
     "data": {
      "text/plain": [
       "[1, 4, 9, 16]"
      ]
     },
     "execution_count": 18,
     "metadata": {},
     "output_type": "execute_result"
    }
   ],
   "source": [
    "list(map(lambda x: x**2, list_a))"
   ]
  },
  {
   "cell_type": "code",
   "execution_count": 21,
   "id": "64a0f140-c3bd-489a-8685-409e7a87d3b5",
   "metadata": {},
   "outputs": [],
   "source": [
    "snake_case=['abc_def','ghi_jkl','mno_pqr']"
   ]
  },
  {
   "cell_type": "code",
   "execution_count": 22,
   "id": "28559c83-93b0-4c79-8065-6077c0d360ad",
   "metadata": {},
   "outputs": [
    {
     "data": {
      "text/plain": [
       "['abc_def', 'ghi_jkl', 'mno_pqr']"
      ]
     },
     "execution_count": 22,
     "metadata": {},
     "output_type": "execute_result"
    }
   ],
   "source": [
    "snake_case"
   ]
  },
  {
   "cell_type": "code",
   "execution_count": 30,
   "id": "d0ad99e6-f022-487f-8adc-73078e1b32e8",
   "metadata": {},
   "outputs": [],
   "source": [
    "##Practice) snake_case=>camelCase\n",
    "\n",
    "x='abc_def'"
   ]
  },
  {
   "cell_type": "code",
   "execution_count": 35,
   "id": "28388266-e027-4834-8e53-d0023f1b5311",
   "metadata": {},
   "outputs": [
    {
     "data": {
      "text/plain": [
       "['abcDef', 'ghiJkl', 'mnoPqr']"
      ]
     },
     "execution_count": 35,
     "metadata": {},
     "output_type": "execute_result"
    }
   ],
   "source": [
    "#split '_'\n",
    "def snake_to_camel(x):\n",
    "    return x.split('_')[0] + x.split('_')[1].capitalize()\n",
    "list(map(snake_to_camel, snake_case))"
   ]
  },
  {
   "cell_type": "code",
   "execution_count": 39,
   "id": "69a7cdae-0db3-4fde-98c9-fe6f47e1c629",
   "metadata": {},
   "outputs": [
    {
     "data": {
      "text/plain": [
       "['abcDef', 'ghiJkl', 'mnoPqr']"
      ]
     },
     "execution_count": 39,
     "metadata": {},
     "output_type": "execute_result"
    }
   ],
   "source": [
    "#lambda\n",
    "\n",
    "list(map(lambda x: x.split('_')[0] + x.split('_')[1].capitalize(),snake_case))"
   ]
  },
  {
   "cell_type": "code",
   "execution_count": 40,
   "id": "e58ed35d-4c56-4c96-bc5f-3603e479459e",
   "metadata": {},
   "outputs": [
    {
     "data": {
      "text/plain": [
       "['abcDef', 'ghiJkl', 'mnoPqr']"
      ]
     },
     "execution_count": 40,
     "metadata": {},
     "output_type": "execute_result"
    }
   ],
   "source": [
    "list(map(snake_to_camel,snake_case))"
   ]
  },
  {
   "cell_type": "code",
   "execution_count": 54,
   "id": "b593bd78-eee1-4bb1-a49c-e0f155c47c80",
   "metadata": {},
   "outputs": [],
   "source": [
    "change_case = ['abc_ddd_cdf','ab_cc','school_aa','a_b']"
   ]
  },
  {
   "cell_type": "code",
   "execution_count": 55,
   "id": "501a306a-8dbf-480b-b32a-48c5b2308628",
   "metadata": {},
   "outputs": [],
   "source": [
    "def my_map(func,args):\n",
    "    return [func(arg) for arg in args]"
   ]
  },
  {
   "cell_type": "code",
   "execution_count": 56,
   "id": "c5f66e03-778e-45f3-9648-a7b2360b8aa3",
   "metadata": {},
   "outputs": [
    {
     "data": {
      "text/plain": [
       "['abcDdd', 'abCc', 'schoolAa', 'aB']"
      ]
     },
     "execution_count": 56,
     "metadata": {},
     "output_type": "execute_result"
    }
   ],
   "source": [
    "my_map(snake_to_camel,snake_case)"
   ]
  },
  {
   "cell_type": "code",
   "execution_count": 57,
   "id": "7d46eed8-40a1-4b14-9671-6ab2b4c8cbc8",
   "metadata": {},
   "outputs": [
    {
     "data": {
      "text/plain": [
       "['abcDdd', 'abCc', 'schoolAa', 'aB']"
      ]
     },
     "execution_count": 57,
     "metadata": {},
     "output_type": "execute_result"
    }
   ],
   "source": [
    "list(map(snake_to_camel, snake_case))"
   ]
  },
  {
   "cell_type": "code",
   "execution_count": 62,
   "id": "4e987287-ac41-43a7-abbc-adf3d0c5bf2a",
   "metadata": {},
   "outputs": [],
   "source": [
    "import random"
   ]
  },
  {
   "cell_type": "code",
   "execution_count": 63,
   "id": "127fa3ba-3bc5-40a0-847c-07cf89f87685",
   "metadata": {},
   "outputs": [],
   "source": [
    "#filter function: 조건에 맞는 것만 가져오기\n",
    "\n",
    "def make_randint(start, end, n):\n",
    "    return [ random.randint(start, end, n) for i in range(n)]"
   ]
  },
  {
   "cell_type": "code",
   "execution_count": 69,
   "id": "53bc0178-7b68-4416-af0a-19d703c4c644",
   "metadata": {},
   "outputs": [],
   "source": [
    "def my_filter(func,x):\n",
    "    new_list=[]\n",
    "    for arg in args:\n",
    "        if func(arg):\n",
    "            new_list.append(arg)\n",
    "    return new_list"
   ]
  },
  {
   "cell_type": "code",
   "execution_count": 86,
   "id": "30bc6acd-baed-42ed-81e7-bdaa60be9510",
   "metadata": {},
   "outputs": [
    {
     "data": {
      "text/plain": [
       "7"
      ]
     },
     "execution_count": 86,
     "metadata": {},
     "output_type": "execute_result"
    }
   ],
   "source": [
    "##open-read-write\n",
    "\n",
    "f=open('test.txt','w')\n",
    "f.write('content')"
   ]
  },
  {
   "cell_type": "code",
   "execution_count": 87,
   "id": "25a29b85-82a1-4721-8e17-5dba9cedf0fb",
   "metadata": {},
   "outputs": [],
   "source": [
    "f.close()"
   ]
  },
  {
   "cell_type": "code",
   "execution_count": 88,
   "id": "5f997f45-c85b-4de1-8633-8558bc391ce6",
   "metadata": {},
   "outputs": [],
   "source": [
    "f=open('test.txt','r')\n",
    "a=f.read()"
   ]
  },
  {
   "cell_type": "code",
   "execution_count": 89,
   "id": "24c50820-1309-41df-845e-d659dabccf2f",
   "metadata": {},
   "outputs": [],
   "source": [
    "f.close()"
   ]
  },
  {
   "cell_type": "code",
   "execution_count": 90,
   "id": "11414663-f8c9-4417-9ae4-53f78cb04939",
   "metadata": {},
   "outputs": [
    {
     "name": "stdout",
     "output_type": "stream",
     "text": [
      "content\n"
     ]
    }
   ],
   "source": [
    "print(a)"
   ]
  },
  {
   "cell_type": "code",
   "execution_count": 91,
   "id": "89b24491-808b-4fe7-a5a0-52ce5e71e019",
   "metadata": {},
   "outputs": [],
   "source": [
    "##with\n",
    "context=\"\"\"context_sample\"\"\"\n",
    "with open('test.txt','r') as f:\n",
    "    b=f.read()"
   ]
  },
  {
   "cell_type": "code",
   "execution_count": 92,
   "id": "244d6dbb-ac67-400d-a91b-bd402b648dd4",
   "metadata": {},
   "outputs": [],
   "source": [
    "with open('test1.txt','w') as file:\n",
    "    file.write(context)"
   ]
  },
  {
   "cell_type": "code",
   "execution_count": 93,
   "id": "ae0d65ef-c88d-464a-9e92-b75f6daeb75c",
   "metadata": {},
   "outputs": [],
   "source": [
    "with open('test1.txt','r') as f:\n",
    "    c= f.read()"
   ]
  },
  {
   "cell_type": "code",
   "execution_count": 94,
   "id": "fed842c8-529e-4f5e-b1a7-73f23bf26af6",
   "metadata": {},
   "outputs": [
    {
     "name": "stdout",
     "output_type": "stream",
     "text": [
      "context_sample\n"
     ]
    }
   ],
   "source": [
    "print(c)"
   ]
  },
  {
   "cell_type": "code",
   "execution_count": 95,
   "id": "1662a754-904a-4b7c-a14d-28a2af8d8edf",
   "metadata": {},
   "outputs": [],
   "source": [
    "##generator\n",
    "\n",
    "def test():\n",
    "    print(\"call func\")\n",
    "    yield"
   ]
  },
  {
   "cell_type": "code",
   "execution_count": 96,
   "id": "fc00af99-015d-4cd0-9a78-93f8f11c23f4",
   "metadata": {},
   "outputs": [
    {
     "name": "stdout",
     "output_type": "stream",
     "text": [
      "call func\n"
     ]
    }
   ],
   "source": [
    "next(test())"
   ]
  },
  {
   "cell_type": "code",
   "execution_count": 97,
   "id": "fb1cf298-a945-4cb1-8e35-e4b19625e599",
   "metadata": {},
   "outputs": [
    {
     "name": "stdout",
     "output_type": "stream",
     "text": [
      "call func\n"
     ]
    }
   ],
   "source": [
    "#next\n",
    "\n",
    "test().__next__()"
   ]
  },
  {
   "cell_type": "code",
   "execution_count": 98,
   "id": "cba01338-97e5-4889-8736-1212117656eb",
   "metadata": {},
   "outputs": [
    {
     "data": {
      "text/plain": [
       "<generator object test at 0x00000230B3ABBA00>"
      ]
     },
     "execution_count": 98,
     "metadata": {},
     "output_type": "execute_result"
    }
   ],
   "source": [
    "test()"
   ]
  },
  {
   "cell_type": "code",
   "execution_count": 102,
   "id": "11a8d8d0-2396-432b-bc8f-0041567c3f73",
   "metadata": {},
   "outputs": [],
   "source": [
    "##generator-변형\n",
    "\n",
    "def test():\n",
    "    print(\"call func-1\")\n",
    "    print(\"call func-2\")\n",
    "    yield"
   ]
  },
  {
   "cell_type": "code",
   "execution_count": 103,
   "id": "e4b95c27-dd22-4c58-a59b-750828d73608",
   "metadata": {},
   "outputs": [],
   "source": [
    "a=test"
   ]
  },
  {
   "cell_type": "code",
   "execution_count": 104,
   "id": "3261b9f2-8703-4e9c-971d-0f6d9c40ecee",
   "metadata": {},
   "outputs": [
    {
     "name": "stdout",
     "output_type": "stream",
     "text": [
      "call func-1\n",
      "call func-2\n",
      "None\n"
     ]
    }
   ],
   "source": [
    "for i in a():\n",
    "    print(i)"
   ]
  },
  {
   "cell_type": "code",
   "execution_count": 106,
   "id": "5edd74ba-009f-4f73-a783-cd9be042f637",
   "metadata": {},
   "outputs": [
    {
     "name": "stdout",
     "output_type": "stream",
     "text": [
      "call func-1\n",
      "call func-2\n",
      "call func-1\n",
      "call func-2\n",
      "call func-1\n",
      "call func-2\n"
     ]
    }
   ],
   "source": [
    "test().__next__()\n",
    "test().__next__()\n",
    "test().__next__()"
   ]
  },
  {
   "cell_type": "code",
   "execution_count": 113,
   "id": "8df7a028-df59-40a8-9119-7328128adcda",
   "metadata": {},
   "outputs": [
    {
     "data": {
      "text/plain": [
       "'1::2::3::4::5::6'"
      ]
     },
     "execution_count": 113,
     "metadata": {},
     "output_type": "execute_result"
    }
   ],
   "source": [
    "#Practice\n",
    "numbers=[1,2,3,4,5,6]\n",
    "\n",
    "'::'.join(my_map(str,list(range(1,7))))\n",
    "\n",
    "x=list(range(1,7))\n",
    "\n",
    "my_map(str,x)\n",
    "\n",
    "'::'.join(my_map(str,x))"
   ]
  },
  {
   "cell_type": "code",
   "execution_count": 114,
   "id": "832e29e4-aabf-4be0-b463-91fa603436a4",
   "metadata": {},
   "outputs": [],
   "source": [
    "numbers=list(range(1,10+1))"
   ]
  },
  {
   "cell_type": "code",
   "execution_count": 118,
   "id": "bbaf32c3-72d6-42a9-82d4-d0472e74f72c",
   "metadata": {},
   "outputs": [
    {
     "data": {
      "text/plain": [
       "[1, 3, 5, 7, 9]"
      ]
     },
     "execution_count": 118,
     "metadata": {},
     "output_type": "execute_result"
    }
   ],
   "source": [
    "#홀수\n",
    "list(filter(lambda x: x%2 ==1, numbers))"
   ]
  },
  {
   "cell_type": "code",
   "execution_count": 119,
   "id": "db1ab3e0-cc3f-4aea-b8ae-640f9246ebc2",
   "metadata": {},
   "outputs": [
    {
     "data": {
      "text/plain": [
       "[1, 4, 9, 16, 25, 36, 49]"
      ]
     },
     "execution_count": 119,
     "metadata": {},
     "output_type": "execute_result"
    }
   ],
   "source": [
    "#제곱해서 50미만\n",
    "list(filter(lambda x: x<50, map(lambda x: x**2, numbers)))"
   ]
  },
  {
   "cell_type": "code",
   "execution_count": 120,
   "id": "152f69ba-ce6b-4172-9e8f-6b5373da200a",
   "metadata": {},
   "outputs": [
    {
     "data": {
      "text/plain": [
       "[3, 4, 5, 6]"
      ]
     },
     "execution_count": 120,
     "metadata": {},
     "output_type": "execute_result"
    }
   ],
   "source": [
    "#3이상 7미만\n",
    "list(filter(lambda x: 3<=x<7, numbers))"
   ]
  },
  {
   "cell_type": "code",
   "execution_count": 122,
   "id": "d8827738-ad6a-448c-855b-d475b0642d54",
   "metadata": {},
   "outputs": [
    {
     "name": "stdout",
     "output_type": "stream",
     "text": [
      "aaa\n"
     ]
    }
   ],
   "source": [
    "#try-except\n",
    "\n",
    "try:\n",
    "    print(list_a[100])\n",
    "except:\n",
    "    print(\"aaa\")"
   ]
  },
  {
   "cell_type": "code",
   "execution_count": 131,
   "id": "0e3c5467-2334-46c0-b32e-1c3b10f82632",
   "metadata": {},
   "outputs": [
    {
     "name": "stdin",
     "output_type": "stream",
     "text": [
      "원의 반지름을 입력하세요. 2\n"
     ]
    },
    {
     "name": "stdout",
     "output_type": "stream",
     "text": [
      "오류가 발생했습니다!\n"
     ]
    },
    {
     "name": "stdin",
     "output_type": "stream",
     "text": [
      "다시 원의 반지름을 입력해주세요. 44\n"
     ]
    },
    {
     "name": "stdout",
     "output_type": "stream",
     "text": [
      "원의 넓이는 6082.12337734984입니다.\n"
     ]
    }
   ],
   "source": [
    "#활용-원의 반지름 구하기\n",
    "import math\n",
    "radius=input(\"원의 반지름을 입력하세요.\")\n",
    "try:\n",
    "    area=radius*math.pi\n",
    "    print(f\"원의 넓이는 {area}입니다.\")\n",
    "except:\n",
    "    print(\"오류가 발생했습니다!\")\n",
    "    radius=int(input(\"다시 원의 반지름을 입력해주세요.\"))\n",
    "    area = radius**2*math.pi\n",
    "    print(f\"원의 넓이는 {area}입니다.\")"
   ]
  },
  {
   "cell_type": "code",
   "execution_count": 139,
   "id": "8b932efd-a3c9-49e2-85a8-f8d2a2063d1b",
   "metadata": {},
   "outputs": [],
   "source": [
    "##리스트에 문자가 섞여있어도 문자를 제외한 것만 합을 구하는 함수\n",
    "list_a=[1,3,3,\"a\",\"b\",6]"
   ]
  },
  {
   "cell_type": "code",
   "execution_count": 142,
   "id": "1fbfed02-40ab-4777-9da2-4ee4834e6e32",
   "metadata": {},
   "outputs": [],
   "source": [
    "def sum1(args):\n",
    "    for arg in args:\n",
    "        try:\n",
    "            s += arg\n",
    "        except:\n",
    "            pass\n",
    "    return s"
   ]
  },
  {
   "cell_type": "code",
   "execution_count": 143,
   "id": "e4036c15-054b-44fe-a834-7da592c04865",
   "metadata": {},
   "outputs": [],
   "source": [
    "del sum1"
   ]
  },
  {
   "cell_type": "code",
   "execution_count": null,
   "id": "2d8020de-854e-4c20-afdc-5be15e9893d0",
   "metadata": {},
   "outputs": [],
   "source": []
  }
 ],
 "metadata": {
  "kernelspec": {
   "display_name": "Python 3 (ipykernel)",
   "language": "python",
   "name": "python3"
  },
  "language_info": {
   "codemirror_mode": {
    "name": "ipython",
    "version": 3
   },
   "file_extension": ".py",
   "mimetype": "text/x-python",
   "name": "python",
   "nbconvert_exporter": "python",
   "pygments_lexer": "ipython3",
   "version": "3.12.4"
  }
 },
 "nbformat": 4,
 "nbformat_minor": 5
}
