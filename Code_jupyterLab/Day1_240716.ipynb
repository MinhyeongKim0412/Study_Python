{
 "cells": [
  {
   "cell_type": "code",
   "execution_count": 1,
   "id": "5831849d-a73d-4b71-adc5-07d210596280",
   "metadata": {},
   "outputs": [
    {
     "name": "stdout",
     "output_type": "stream",
     "text": [
      "6\n"
     ]
    }
   ],
   "source": [
    "#1,2,3을 더한다.\n",
    "x=1+2+3\n",
    "print (x)"
   ]
  },
  {
   "cell_type": "code",
   "execution_count": 2,
   "id": "91d444e8-e51d-4fb2-8215-442f56b99e2c",
   "metadata": {},
   "outputs": [
    {
     "name": "stdout",
     "output_type": "stream",
     "text": [
      "hello world\n"
     ]
    }
   ],
   "source": [
    "print(\"hello world\")"
   ]
  },
  {
   "cell_type": "code",
   "execution_count": 3,
   "id": "f3264def-3975-464c-bc0d-5058a6c3b302",
   "metadata": {},
   "outputs": [
    {
     "data": {
      "text/plain": [
       "type"
      ]
     },
     "execution_count": 3,
     "metadata": {},
     "output_type": "execute_result"
    }
   ],
   "source": [
    "type(object)"
   ]
  },
  {
   "cell_type": "code",
   "execution_count": 4,
   "id": "312cd35c-f5b5-48d6-b8c4-a46e7fa85941",
   "metadata": {},
   "outputs": [],
   "source": [
    "def add(x,y):\n",
    "    print(x+y)"
   ]
  },
  {
   "cell_type": "code",
   "execution_count": 5,
   "id": "8aa21483-c41d-4d22-94db-33a336005044",
   "metadata": {},
   "outputs": [
    {
     "name": "stdout",
     "output_type": "stream",
     "text": [
      "3\n"
     ]
    },
    {
     "data": {
      "text/plain": [
       "['__bool__',\n",
       " '__class__',\n",
       " '__delattr__',\n",
       " '__dir__',\n",
       " '__doc__',\n",
       " '__eq__',\n",
       " '__format__',\n",
       " '__ge__',\n",
       " '__getattribute__',\n",
       " '__getstate__',\n",
       " '__gt__',\n",
       " '__hash__',\n",
       " '__init__',\n",
       " '__init_subclass__',\n",
       " '__le__',\n",
       " '__lt__',\n",
       " '__ne__',\n",
       " '__new__',\n",
       " '__reduce__',\n",
       " '__reduce_ex__',\n",
       " '__repr__',\n",
       " '__setattr__',\n",
       " '__sizeof__',\n",
       " '__str__',\n",
       " '__subclasshook__']"
      ]
     },
     "execution_count": 5,
     "metadata": {},
     "output_type": "execute_result"
    }
   ],
   "source": [
    "dir(add(1,2))"
   ]
  },
  {
   "cell_type": "code",
   "execution_count": 6,
   "id": "18429212-9c53-4b89-8381-5579af99eaeb",
   "metadata": {},
   "outputs": [
    {
     "name": "stdout",
     "output_type": "stream",
     "text": [
      "3\n"
     ]
    },
    {
     "data": {
      "text/plain": [
       "NoneType"
      ]
     },
     "execution_count": 6,
     "metadata": {},
     "output_type": "execute_result"
    }
   ],
   "source": [
    "type(add(1,2))"
   ]
  },
  {
   "cell_type": "code",
   "execution_count": 7,
   "id": "2f82fcff-5e2f-4ced-abdc-b1411140a958",
   "metadata": {},
   "outputs": [
    {
     "data": {
      "text/plain": [
       "function"
      ]
     },
     "execution_count": 7,
     "metadata": {},
     "output_type": "execute_result"
    }
   ],
   "source": [
    "type(add)"
   ]
  },
  {
   "cell_type": "code",
   "execution_count": 8,
   "id": "c00ed20f-454c-4930-8f64-095b93a6d60a",
   "metadata": {},
   "outputs": [
    {
     "data": {
      "text/plain": [
       "10"
      ]
     },
     "execution_count": 8,
     "metadata": {},
     "output_type": "execute_result"
    }
   ],
   "source": [
    "abs(-10)"
   ]
  },
  {
   "cell_type": "code",
   "execution_count": 9,
   "id": "1deb1935-c334-4be9-a506-08593ec1f1f7",
   "metadata": {},
   "outputs": [
    {
     "name": "stdout",
     "output_type": "stream",
     "text": [
      "<class 'float'>\n"
     ]
    }
   ],
   "source": [
    "print(type(abs(-10.)))"
   ]
  },
  {
   "cell_type": "code",
   "execution_count": 1,
   "id": "bc391681-7159-4bdf-82dc-d3cb3389a2a4",
   "metadata": {},
   "outputs": [
    {
     "name": "stdout",
     "output_type": "stream",
     "text": [
      "8\n",
      "2\n",
      "15\n",
      "1.6666666666666667\n",
      "True\n",
      "True\n",
      "False\n",
      "False\n",
      "False\n",
      "True\n",
      "False\n",
      "True\n"
     ]
    }
   ],
   "source": [
    "# +, -, /, *\n",
    "print(5+3)\n",
    "print(5-3)\n",
    "print(5*3)\n",
    "print(5/3)\n",
    "\n",
    "# >, >=, <, <=, ==, !=, not\n",
    "print(5>3)\n",
    "print(5>=3)\n",
    "print(5<3)\n",
    "print(5<=3)\n",
    "print(5==3)\n",
    "print(5!=3)\n",
    "print(not 5)\n",
    "print(not 0)"
   ]
  },
  {
   "cell_type": "code",
   "execution_count": 11,
   "id": "97160de0-840f-4fff-80d8-d8f55486344f",
   "metadata": {},
   "outputs": [
    {
     "data": {
      "text/plain": [
       "True"
      ]
     },
     "execution_count": 11,
     "metadata": {},
     "output_type": "execute_result"
    }
   ],
   "source": [
    "callable(add)"
   ]
  },
  {
   "cell_type": "code",
   "execution_count": 12,
   "id": "fb52427d-cd0b-474e-955b-ae9550649d2d",
   "metadata": {},
   "outputs": [
    {
     "data": {
      "text/plain": [
       "False"
      ]
     },
     "execution_count": 12,
     "metadata": {},
     "output_type": "execute_result"
    }
   ],
   "source": [
    "callable(1)"
   ]
  },
  {
   "cell_type": "code",
   "execution_count": 13,
   "id": "9080c549-564d-4422-9e39-12c290ee4312",
   "metadata": {},
   "outputs": [
    {
     "data": {
      "text/plain": [
       "'abcabcabc'"
      ]
     },
     "execution_count": 13,
     "metadata": {},
     "output_type": "execute_result"
    }
   ],
   "source": [
    "#문자\n",
    "#\"abc\" + \"def\"\n",
    "#\"abc\" - \"abc\"\n",
    "\"abc\" * 3"
   ]
  },
  {
   "cell_type": "code",
   "execution_count": 14,
   "id": "52154941-5569-43cd-bc24-ea6cc000d751",
   "metadata": {},
   "outputs": [
    {
     "data": {
      "text/plain": [
       "97"
      ]
     },
     "execution_count": 14,
     "metadata": {},
     "output_type": "execute_result"
    }
   ],
   "source": [
    "ord(\"a\")"
   ]
  },
  {
   "cell_type": "code",
   "execution_count": 15,
   "id": "9660d30f-5455-4097-b224-ef15d2f03522",
   "metadata": {},
   "outputs": [
    {
     "data": {
      "text/plain": [
       "98"
      ]
     },
     "execution_count": 15,
     "metadata": {},
     "output_type": "execute_result"
    }
   ],
   "source": [
    "ord(\"b\")"
   ]
  },
  {
   "cell_type": "code",
   "execution_count": 16,
   "id": "89c7ed80-a1b2-4573-bb27-ac834bff2d7b",
   "metadata": {},
   "outputs": [
    {
     "data": {
      "text/plain": [
       "99"
      ]
     },
     "execution_count": 16,
     "metadata": {},
     "output_type": "execute_result"
    }
   ],
   "source": [
    "ord('c')"
   ]
  },
  {
   "cell_type": "code",
   "execution_count": 17,
   "id": "8bdfcc95-583c-4843-b71c-538aa52514f6",
   "metadata": {},
   "outputs": [
    {
     "data": {
      "text/plain": [
       "'c'"
      ]
     },
     "execution_count": 17,
     "metadata": {},
     "output_type": "execute_result"
    }
   ],
   "source": [
    "chr(99)"
   ]
  },
  {
   "cell_type": "code",
   "execution_count": 18,
   "id": "f3f66859-432c-4a8a-83ca-9a5028764dd6",
   "metadata": {},
   "outputs": [
    {
     "data": {
      "text/plain": [
       "'abc'"
      ]
     },
     "execution_count": 18,
     "metadata": {},
     "output_type": "execute_result"
    }
   ],
   "source": [
    "chr(97)+chr(98)+chr(99)"
   ]
  },
  {
   "cell_type": "code",
   "execution_count": 19,
   "id": "70dfbfa1-ec61-40c0-8e5d-3b3fd2fa4c38",
   "metadata": {},
   "outputs": [
    {
     "data": {
      "text/plain": [
       "False"
      ]
     },
     "execution_count": 19,
     "metadata": {},
     "output_type": "execute_result"
    }
   ],
   "source": [
    "chr(97)+chr(98)+chr(99) > 'bbb'"
   ]
  },
  {
   "cell_type": "code",
   "execution_count": 20,
   "id": "bfdfd0d4-1c9f-4272-90b3-f99599907173",
   "metadata": {},
   "outputs": [
    {
     "data": {
      "text/plain": [
       "3.5"
      ]
     },
     "execution_count": 20,
     "metadata": {},
     "output_type": "execute_result"
    }
   ],
   "source": [
    "5+3+4-1*7-3/2"
   ]
  },
  {
   "cell_type": "code",
   "execution_count": 21,
   "id": "7543ad69-a415-4c73-91ca-7f9943494e15",
   "metadata": {},
   "outputs": [
    {
     "data": {
      "text/plain": [
       "True"
      ]
     },
     "execution_count": 21,
     "metadata": {},
     "output_type": "execute_result"
    }
   ],
   "source": [
    "5+3+4-1*7-3/2>2>1"
   ]
  },
  {
   "cell_type": "code",
   "execution_count": 22,
   "id": "838eaced-73ab-4cff-a79e-6389fbbc7acf",
   "metadata": {},
   "outputs": [
    {
     "data": {
      "text/plain": [
       "False"
      ]
     },
     "execution_count": 22,
     "metadata": {},
     "output_type": "execute_result"
    }
   ],
   "source": [
    "5+3+4-1*7-3/2>2>1 > bool(\"abcde\")"
   ]
  },
  {
   "cell_type": "code",
   "execution_count": 23,
   "id": "c8b61a67-ef66-41ef-a51b-fb4f1d1d7155",
   "metadata": {},
   "outputs": [],
   "source": [
    "print=1111"
   ]
  },
  {
   "cell_type": "code",
   "execution_count": 24,
   "id": "751a9df3-a7ca-4357-aa7e-7bb2928a13c7",
   "metadata": {},
   "outputs": [],
   "source": [
    "del print"
   ]
  },
  {
   "cell_type": "code",
   "execution_count": 25,
   "id": "28f7a036-0b1a-4007-b32f-e8291f978396",
   "metadata": {},
   "outputs": [
    {
     "name": "stdout",
     "output_type": "stream",
     "text": [
      "0\n",
      "1\n",
      "2\n",
      "3\n",
      "4\n",
      "5\n"
     ]
    }
   ],
   "source": [
    "for i in range(len(\"abcdef\")):\n",
    "    print(i)"
   ]
  },
  {
   "cell_type": "code",
   "execution_count": 26,
   "id": "d1a1a990-bab1-439a-9362-1016f5a32ddf",
   "metadata": {},
   "outputs": [
    {
     "data": {
      "text/plain": [
       "4"
      ]
     },
     "execution_count": 26,
     "metadata": {},
     "output_type": "execute_result"
    }
   ],
   "source": [
    "len('dddd')"
   ]
  },
  {
   "cell_type": "code",
   "execution_count": 27,
   "id": "8ebcb9c9-4daa-4e5d-aed7-15d84ee22247",
   "metadata": {},
   "outputs": [
    {
     "data": {
      "text/plain": [
       "True"
      ]
     },
     "execution_count": 27,
     "metadata": {},
     "output_type": "execute_result"
    }
   ],
   "source": [
    "callable(len)"
   ]
  },
  {
   "cell_type": "code",
   "execution_count": 28,
   "id": "f388cd12-2118-4677-b202-a722d2e246a6",
   "metadata": {},
   "outputs": [],
   "source": [
    "import keyword"
   ]
  },
  {
   "cell_type": "code",
   "execution_count": 29,
   "id": "e62878b0-4a97-4eca-ab53-1b8257801601",
   "metadata": {},
   "outputs": [
    {
     "data": {
      "text/plain": [
       "['False',\n",
       " 'None',\n",
       " 'True',\n",
       " 'and',\n",
       " 'as',\n",
       " 'assert',\n",
       " 'async',\n",
       " 'await',\n",
       " 'break',\n",
       " 'class',\n",
       " 'continue',\n",
       " 'def',\n",
       " 'del',\n",
       " 'elif',\n",
       " 'else',\n",
       " 'except',\n",
       " 'finally',\n",
       " 'for',\n",
       " 'from',\n",
       " 'global',\n",
       " 'if',\n",
       " 'import',\n",
       " 'in',\n",
       " 'is',\n",
       " 'lambda',\n",
       " 'nonlocal',\n",
       " 'not',\n",
       " 'or',\n",
       " 'pass',\n",
       " 'raise',\n",
       " 'return',\n",
       " 'try',\n",
       " 'while',\n",
       " 'with',\n",
       " 'yield']"
      ]
     },
     "execution_count": 29,
     "metadata": {},
     "output_type": "execute_result"
    }
   ],
   "source": [
    "keyword.kwlist"
   ]
  },
  {
   "cell_type": "code",
   "execution_count": 30,
   "id": "a9a30af0-50bd-46c9-bfb6-66d4ce0ce98d",
   "metadata": {},
   "outputs": [
    {
     "data": {
      "text/plain": [
       "False"
      ]
     },
     "execution_count": 30,
     "metadata": {},
     "output_type": "execute_result"
    }
   ],
   "source": [
    "keyword.iskeyword('none')"
   ]
  },
  {
   "cell_type": "code",
   "execution_count": 31,
   "id": "f3521ab5-e9af-4866-8798-d20927b22c4d",
   "metadata": {},
   "outputs": [
    {
     "data": {
      "text/plain": [
       "2"
      ]
     },
     "execution_count": 31,
     "metadata": {},
     "output_type": "execute_result"
    }
   ],
   "source": [
    "# !=, @, $, %, ^, &, *\n",
    "\n",
    "10//5"
   ]
  },
  {
   "cell_type": "code",
   "execution_count": 32,
   "id": "3907624b-cb37-41bd-98d0-31f44bb2a3a6",
   "metadata": {},
   "outputs": [
    {
     "data": {
      "text/plain": [
       "0"
      ]
     },
     "execution_count": 32,
     "metadata": {},
     "output_type": "execute_result"
    }
   ],
   "source": [
    "10%5"
   ]
  },
  {
   "cell_type": "code",
   "execution_count": 33,
   "id": "cf51d1c4-a7f9-4fe6-9a82-ba2b291d81a8",
   "metadata": {},
   "outputs": [
    {
     "data": {
      "text/plain": [
       "False"
      ]
     },
     "execution_count": 33,
     "metadata": {},
     "output_type": "execute_result"
    }
   ],
   "source": [
    "10 > 2 and 10 < 3"
   ]
  },
  {
   "cell_type": "code",
   "execution_count": 34,
   "id": "fcc5ea8f-c9f5-4693-80eb-cbd92e5a547d",
   "metadata": {},
   "outputs": [
    {
     "data": {
      "text/plain": [
       "builtin_function_or_method"
      ]
     },
     "execution_count": 34,
     "metadata": {},
     "output_type": "execute_result"
    }
   ],
   "source": [
    "type(print)"
   ]
  },
  {
   "cell_type": "code",
   "execution_count": 35,
   "id": "2c0c1a38-dc55-4e8e-9aa5-5dd2b63a3ef5",
   "metadata": {},
   "outputs": [
    {
     "name": "stdout",
     "output_type": "stream",
     "text": [
      "abc\n"
     ]
    },
    {
     "data": {
      "text/plain": [
       "NoneType"
      ]
     },
     "execution_count": 35,
     "metadata": {},
     "output_type": "execute_result"
    }
   ],
   "source": [
    "type(print('abc'))"
   ]
  },
  {
   "cell_type": "code",
   "execution_count": 36,
   "id": "fc1e65c9-1b62-47f6-9ab1-ef7016941684",
   "metadata": {},
   "outputs": [],
   "source": [
    "def aaa(x):\n",
    "    return x"
   ]
  },
  {
   "cell_type": "code",
   "execution_count": 37,
   "id": "a0ae0f54-f956-4fcb-8c17-69eb539eaa3d",
   "metadata": {},
   "outputs": [
    {
     "data": {
      "text/plain": [
       "10"
      ]
     },
     "execution_count": 37,
     "metadata": {},
     "output_type": "execute_result"
    }
   ],
   "source": [
    "aaa(10)"
   ]
  },
  {
   "cell_type": "code",
   "execution_count": 38,
   "id": "5e0a2d25-bd0b-48ca-9fa0-3903c7119213",
   "metadata": {},
   "outputs": [
    {
     "data": {
      "text/plain": [
       "int"
      ]
     },
     "execution_count": 38,
     "metadata": {},
     "output_type": "execute_result"
    }
   ],
   "source": [
    "type(aaa(10))"
   ]
  },
  {
   "cell_type": "code",
   "execution_count": 3,
   "id": "8099d38f-2d3d-46e4-9c44-5138072296b3",
   "metadata": {},
   "outputs": [
    {
     "name": "stdout",
     "output_type": "stream",
     "text": [
      "3.5\n"
     ]
    }
   ],
   "source": [
    "#주사위의 눈이 나올 기대값(expectation)\n",
    "\n",
    "x1=1\n",
    "x2=2\n",
    "x3=3\n",
    "x4=4\n",
    "x5=5\n",
    "x6=6\n",
    "\n",
    "x=x1+x2+x3+x4+x5+x6\n",
    "\n",
    "result=x/6\n",
    "print(result)"
   ]
  },
  {
   "cell_type": "code",
   "execution_count": 40,
   "id": "c40e4c69-b7b0-484d-a608-12a438d4607c",
   "metadata": {},
   "outputs": [
    {
     "data": {
      "text/plain": [
       "3.5"
      ]
     },
     "execution_count": 40,
     "metadata": {},
     "output_type": "execute_result"
    }
   ],
   "source": [
    "sum(list(range(1,7)))/6\n",
    "\n",
    "a=list(range(1,7))\n",
    "\n",
    "sum(a)/len(a)"
   ]
  },
  {
   "cell_type": "code",
   "execution_count": 41,
   "id": "10d16b7f-f151-4eff-b06d-637fa27bed80",
   "metadata": {},
   "outputs": [
    {
     "data": {
      "text/plain": [
       "int"
      ]
     },
     "execution_count": 41,
     "metadata": {},
     "output_type": "execute_result"
    }
   ],
   "source": [
    "type(20)"
   ]
  },
  {
   "cell_type": "code",
   "execution_count": 42,
   "id": "e8f538a9-28e1-43f4-95d1-a40fd5c94b77",
   "metadata": {},
   "outputs": [
    {
     "name": "stdout",
     "output_type": "stream",
     "text": [
      "<class 'int'>\n"
     ]
    }
   ],
   "source": [
    "print(type(20))"
   ]
  },
  {
   "cell_type": "code",
   "execution_count": 43,
   "id": "5f58b406-bdf6-4870-b14c-4fd1ddebf512",
   "metadata": {},
   "outputs": [
    {
     "data": {
      "text/plain": [
       "'세'"
      ]
     },
     "execution_count": 43,
     "metadata": {},
     "output_type": "execute_result"
    }
   ],
   "source": [
    "#index(Slicing)\n",
    "\n",
    "#'문자'[start:end:step]\n",
    "\n",
    "'안녕하세요'[0:6]\n",
    "'안녕하세요'[1:6]\n",
    "'안녕하세요'[-1]\n",
    "'안녕하세요'[-1:-3:-1]\n",
    "'안녕하세요'[int(3.0)]\n",
    "'안녕하세요'[-1::-1]\n",
    "'안녕하세요'[-1::-1][-1::-1]\n",
    "'안녕하세요'[::2]\n",
    "'안녕하세요'[3]"
   ]
  },
  {
   "cell_type": "code",
   "execution_count": 44,
   "id": "b49bbd79-3482-4371-8237-4cd93052f350",
   "metadata": {},
   "outputs": [
    {
     "data": {
      "text/plain": [
       "'안녕하세요'"
      ]
     },
     "execution_count": 44,
     "metadata": {},
     "output_type": "execute_result"
    }
   ],
   "source": [
    "start=0\n",
    "end=6\n",
    "step=1\n",
    "\n",
    "'안녕하세요'[start:end:step]"
   ]
  },
  {
   "cell_type": "code",
   "execution_count": 45,
   "id": "045d1223-2d7f-44bb-9dca-c705b5e61984",
   "metadata": {},
   "outputs": [
    {
     "data": {
      "text/plain": [
       "\"'\""
      ]
     },
     "execution_count": 45,
     "metadata": {},
     "output_type": "execute_result"
    }
   ],
   "source": [
    "'\\''"
   ]
  },
  {
   "cell_type": "code",
   "execution_count": 46,
   "id": "3f13857a-8e54-4578-a884-caf0c8ec40c9",
   "metadata": {},
   "outputs": [
    {
     "name": "stdout",
     "output_type": "stream",
     "text": [
      "\n",
      "\n",
      "\t\n",
      "\\\n"
     ]
    }
   ],
   "source": [
    "print('\\n')\n",
    "print('\\t')\n",
    "print('\\\\')"
   ]
  },
  {
   "cell_type": "code",
   "execution_count": 47,
   "id": "884676d2-0fe5-42d9-a824-902e0ff2254b",
   "metadata": {},
   "outputs": [],
   "source": [
    "x=0.1"
   ]
  },
  {
   "cell_type": "code",
   "execution_count": 48,
   "id": "b4286d3b-1198-4406-95f4-d14c31e1b679",
   "metadata": {},
   "outputs": [
    {
     "data": {
      "text/plain": [
       "float"
      ]
     },
     "execution_count": 48,
     "metadata": {},
     "output_type": "execute_result"
    }
   ],
   "source": [
    "type(x)"
   ]
  },
  {
   "cell_type": "code",
   "execution_count": 49,
   "id": "1ff43d1e-8dc6-4ca7-b082-a22f191e599d",
   "metadata": {},
   "outputs": [
    {
     "data": {
      "text/plain": [
       "24"
      ]
     },
     "execution_count": 49,
     "metadata": {},
     "output_type": "execute_result"
    }
   ],
   "source": [
    "import sys\n",
    "sys.getsizeof(x)"
   ]
  },
  {
   "cell_type": "code",
   "execution_count": null,
   "id": "cfcadad1-888c-429f-bbef-734deb2193a8",
   "metadata": {},
   "outputs": [],
   "source": []
  },
  {
   "cell_type": "code",
   "execution_count": 50,
   "id": "8134dd55-5d98-46a0-9915-57c0a0c44e8b",
   "metadata": {},
   "outputs": [],
   "source": [
    "a=10"
   ]
  },
  {
   "cell_type": "code",
   "execution_count": 51,
   "id": "dff2dbdb-409f-4236-ae01-c95d3e7ae12e",
   "metadata": {},
   "outputs": [],
   "source": [
    "#a=len()\n",
    "a=len"
   ]
  },
  {
   "cell_type": "code",
   "execution_count": 52,
   "id": "ffc7f5cf-6a93-4b0e-b864-3ed0bfba0f30",
   "metadata": {},
   "outputs": [
    {
     "data": {
      "text/plain": [
       "object"
      ]
     },
     "execution_count": 52,
     "metadata": {},
     "output_type": "execute_result"
    }
   ],
   "source": [
    "object"
   ]
  },
  {
   "cell_type": "code",
   "execution_count": 53,
   "id": "81c782c5-293e-4be6-abc2-aaa1357a1637",
   "metadata": {},
   "outputs": [
    {
     "data": {
      "text/plain": [
       "1882307010912"
      ]
     },
     "execution_count": 53,
     "metadata": {},
     "output_type": "execute_result"
    }
   ],
   "source": [
    "id(len)"
   ]
  },
  {
   "cell_type": "code",
   "execution_count": 54,
   "id": "d9cd093b-03c8-439e-9eb5-4399a62ef0e5",
   "metadata": {},
   "outputs": [
    {
     "data": {
      "text/plain": [
       "1882307010912"
      ]
     },
     "execution_count": 54,
     "metadata": {},
     "output_type": "execute_result"
    }
   ],
   "source": [
    "id(a)"
   ]
  },
  {
   "cell_type": "code",
   "execution_count": 55,
   "id": "01fa3276-6b93-4511-8849-cd12c49b514c",
   "metadata": {},
   "outputs": [],
   "source": [
    "a=100"
   ]
  },
  {
   "cell_type": "code",
   "execution_count": 56,
   "id": "3905b0d3-fcaf-429a-9a54-8816fea6842c",
   "metadata": {},
   "outputs": [
    {
     "data": {
      "text/plain": [
       "100"
      ]
     },
     "execution_count": 56,
     "metadata": {},
     "output_type": "execute_result"
    }
   ],
   "source": [
    "a"
   ]
  },
  {
   "cell_type": "code",
   "execution_count": 57,
   "id": "318b252f-d4b1-4d72-9087-6b9e5e963be0",
   "metadata": {},
   "outputs": [
    {
     "data": {
      "text/plain": [
       "140708047933320"
      ]
     },
     "execution_count": 57,
     "metadata": {},
     "output_type": "execute_result"
    }
   ],
   "source": [
    "id(a)"
   ]
  },
  {
   "cell_type": "code",
   "execution_count": 58,
   "id": "08823dae-868b-40e0-9f63-776876b62e99",
   "metadata": {},
   "outputs": [
    {
     "data": {
      "text/plain": [
       "1882307010912"
      ]
     },
     "execution_count": 58,
     "metadata": {},
     "output_type": "execute_result"
    }
   ],
   "source": [
    "id(len)"
   ]
  },
  {
   "cell_type": "code",
   "execution_count": 59,
   "id": "df6f9549-9adb-4531-a058-f2720a13e319",
   "metadata": {},
   "outputs": [],
   "source": [
    "import math\n",
    "pi = math.pi"
   ]
  },
  {
   "cell_type": "code",
   "execution_count": 60,
   "id": "2a19c51e-f610-469c-8585-ff0a679cf50b",
   "metadata": {},
   "outputs": [
    {
     "data": {
      "text/plain": [
       "3.141592653589793"
      ]
     },
     "execution_count": 60,
     "metadata": {},
     "output_type": "execute_result"
    }
   ],
   "source": [
    "pi"
   ]
  },
  {
   "cell_type": "code",
   "execution_count": 61,
   "id": "930f6b81-6eaa-4dc4-b642-d7dd4efe1aef",
   "metadata": {},
   "outputs": [
    {
     "name": "stdout",
     "output_type": "stream",
     "text": [
      "원의 둘레는 62.83185307179586입니다.\n"
     ]
    }
   ],
   "source": [
    "r=10\n",
    "print(f\"원의 둘레는 {2*pi*r}입니다.\")"
   ]
  },
  {
   "cell_type": "code",
   "execution_count": 62,
   "id": "ce5dbabc-9617-45c5-85ae-119722e3e063",
   "metadata": {},
   "outputs": [
    {
     "name": "stdout",
     "output_type": "stream",
     "text": [
      "원의 넓이는 314.1592653589793입니다.\n"
     ]
    }
   ],
   "source": [
    "print(f\"원의 넓이는 {pi*r**2}입니다.\")"
   ]
  },
  {
   "cell_type": "code",
   "execution_count": 63,
   "id": "3524f517-e0f3-43b2-8c6c-179bd660de94",
   "metadata": {},
   "outputs": [
    {
     "data": {
      "text/plain": [
       "15"
      ]
     },
     "execution_count": 63,
     "metadata": {},
     "output_type": "execute_result"
    }
   ],
   "source": [
    "a=10\n",
    "a+=5\n",
    "a"
   ]
  },
  {
   "cell_type": "code",
   "execution_count": 64,
   "id": "2b095b82-fb0c-4b09-b5ae-c69b67af4f08",
   "metadata": {},
   "outputs": [
    {
     "data": {
      "text/plain": [
       "5"
      ]
     },
     "execution_count": 64,
     "metadata": {},
     "output_type": "execute_result"
    }
   ],
   "source": [
    "a=10\n",
    "a-=5\n",
    "a"
   ]
  },
  {
   "cell_type": "code",
   "execution_count": 65,
   "id": "b93ca54b-eaa5-44af-8558-0b8614fbedce",
   "metadata": {},
   "outputs": [
    {
     "data": {
      "text/plain": [
       "50"
      ]
     },
     "execution_count": 65,
     "metadata": {},
     "output_type": "execute_result"
    }
   ],
   "source": [
    "a=10\n",
    "a*=5\n",
    "a"
   ]
  },
  {
   "cell_type": "code",
   "execution_count": 66,
   "id": "f89957fa-2c2b-48e7-83d3-8b44b806c176",
   "metadata": {},
   "outputs": [
    {
     "data": {
      "text/plain": [
       "2.0"
      ]
     },
     "execution_count": 66,
     "metadata": {},
     "output_type": "execute_result"
    }
   ],
   "source": [
    "a=10\n",
    "a/=5\n",
    "a"
   ]
  },
  {
   "cell_type": "code",
   "execution_count": 67,
   "id": "07039375-129e-410a-b254-7cd8a1218d9a",
   "metadata": {},
   "outputs": [
    {
     "data": {
      "text/plain": [
       "0"
      ]
     },
     "execution_count": 67,
     "metadata": {},
     "output_type": "execute_result"
    }
   ],
   "source": [
    "a=10\n",
    "a%=5\n",
    "a"
   ]
  },
  {
   "cell_type": "code",
   "execution_count": 68,
   "id": "254c7b33-d84b-4420-87da-024d3c004514",
   "metadata": {},
   "outputs": [
    {
     "data": {
      "text/plain": [
       "100000"
      ]
     },
     "execution_count": 68,
     "metadata": {},
     "output_type": "execute_result"
    }
   ],
   "source": [
    "a=10\n",
    "a**=5\n",
    "a"
   ]
  },
  {
   "cell_type": "code",
   "execution_count": 69,
   "id": "983aa9d1-13c4-415c-87c2-1811c887aa32",
   "metadata": {},
   "outputs": [],
   "source": [
    "name=input(\"안녕하세요, 이름을 입력해주세요.\")\n",
    "print(f\"당신의 이름은 {name}입니다.\")"
   ]
  },
  {
   "cell_type": "code",
   "execution_count": null,
   "id": "f209b4a3-3020-4c30-a405-000e16c6318f",
   "metadata": {},
   "outputs": [
    {
     "name": "stdout",
     "output_type": "stream",
     "text": [
      "안녕하세요, 나이를 입력해주세요. 27\n"
     ]
    },
    {
     "name": "stdout",
     "output_type": "stream",
     "text": [
      "당신의 나이는 27세입니다.\n"
     ]
    }
   ],
   "source": [
    "age=input(\"안녕하세요, 나이를 입력해주세요.\")\n",
    "print(f\"당신의 나이는 {age}세입니다.\")"
   ]
  },
  {
   "cell_type": "code",
   "execution_count": 5,
   "id": "cf73a587-0690-454c-94a3-2c91f065ccf2",
   "metadata": {},
   "outputs": [
    {
     "ename": "ValueError",
     "evalue": "invalid literal for int() with base 10: ''",
     "output_type": "error",
     "traceback": [
      "\u001b[1;31m---------------------------------------------------------------------------\u001b[0m",
      "\u001b[1;31mValueError\u001b[0m                                Traceback (most recent call last)",
      "Cell \u001b[1;32mIn[5], line 1\u001b[0m\n\u001b[1;32m----> 1\u001b[0m age\u001b[38;5;241m=\u001b[39m\u001b[38;5;28mint\u001b[39m(\u001b[38;5;28minput\u001b[39m(\u001b[38;5;124m\"\u001b[39m\u001b[38;5;124m안녕하세요, 나이를 입력해주세요.\u001b[39m\u001b[38;5;124m\"\u001b[39m))\n\u001b[0;32m      2\u001b[0m \u001b[38;5;28mprint\u001b[39m(\u001b[38;5;124mf\u001b[39m\u001b[38;5;124m\"\u001b[39m\u001b[38;5;124m당신은 \u001b[39m\u001b[38;5;132;01m{\u001b[39;00mage\u001b[38;5;241m*\u001b[39m\u001b[38;5;241m12\u001b[39m\u001b[38;5;132;01m}\u001b[39;00m\u001b[38;5;124m개월을 살았습니다.\u001b[39m\u001b[38;5;124m\"\u001b[39m)\n",
      "\u001b[1;31mValueError\u001b[0m: invalid literal for int() with base 10: ''"
     ]
    }
   ],
   "source": [
    "age=int(input(\"안녕하세요, 나이를 입력해주세요.\"))\n",
    "print(f\"당신은 {age*12}개월을 살았습니다.\")"
   ]
  },
  {
   "cell_type": "code",
   "execution_count": null,
   "id": "0a2931a3-3ee7-4276-b1ab-adf517d76c9d",
   "metadata": {},
   "outputs": [],
   "source": [
    "name=\"Minhyeong Kim\".split(\" \")"
   ]
  },
  {
   "cell_type": "code",
   "execution_count": 4,
   "id": "cf021585-e056-4e2d-ab0a-2d3492bdc022",
   "metadata": {},
   "outputs": [
    {
     "ename": "NameError",
     "evalue": "name 'name' is not defined",
     "output_type": "error",
     "traceback": [
      "\u001b[1;31m---------------------------------------------------------------------------\u001b[0m",
      "\u001b[1;31mNameError\u001b[0m                                 Traceback (most recent call last)",
      "Cell \u001b[1;32mIn[4], line 1\u001b[0m\n\u001b[1;32m----> 1\u001b[0m \u001b[38;5;28mprint\u001b[39m(name)\n",
      "\u001b[1;31mNameError\u001b[0m: name 'name' is not defined"
     ]
    }
   ],
   "source": [
    "print(name)"
   ]
  },
  {
   "cell_type": "code",
   "execution_count": null,
   "id": "475a75b1-8ac8-4406-b091-ec3c43ef8871",
   "metadata": {},
   "outputs": [],
   "source": []
  },
  {
   "cell_type": "code",
   "execution_count": null,
   "id": "338e3fe9",
   "metadata": {},
   "outputs": [],
   "source": []
  }
 ],
 "metadata": {
  "kernelspec": {
   "display_name": "Python 3 (ipykernel)",
   "language": "python",
   "name": "python3"
  },
  "language_info": {
   "codemirror_mode": {
    "name": "ipython",
    "version": 3
   },
   "file_extension": ".py",
   "mimetype": "text/x-python",
   "name": "python",
   "nbconvert_exporter": "python",
   "pygments_lexer": "ipython3",
   "version": "3.11.9"
  }
 },
 "nbformat": 4,
 "nbformat_minor": 5
}
