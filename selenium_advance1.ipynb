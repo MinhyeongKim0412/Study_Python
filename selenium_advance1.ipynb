{
 "cells": [
  {
   "cell_type": "code",
   "execution_count": 1,
   "id": "be19f485-1456-40e5-a33d-af9b08c84cfa",
   "metadata": {},
   "outputs": [],
   "source": [
    "from selenium import webdriver\n",
    "from selenium.webdriver.common.by import By \n",
    "from selenium.webdriver.common.keys import Keys\n",
    "from urllib.request import urlretrieve"
   ]
  },
  {
   "cell_type": "code",
   "execution_count": 2,
   "id": "f3a30f09-09cc-4a53-b2e8-7ec127ab76c1",
   "metadata": {},
   "outputs": [
    {
     "name": "stdin",
     "output_type": "stream",
     "text": [
      "검색어를 입력하세요 :  피카추\n"
     ]
    }
   ],
   "source": [
    "driver = webdriver.Chrome()\n",
    "url = \"https://www.google.com/imghp?hl=ko&ogbl\"\n",
    "driver.get(url)\n",
    "elem = driver.find_element(By.NAME,\"q\")\n",
    "search = input(\"검색어를 입력하세요 : \") \n",
    "elem.send_keys(search)\n",
    "elem.send_keys(Keys.ENTER)"
   ]
  },
  {
   "cell_type": "code",
   "execution_count": 3,
   "id": "03ae8950-324e-474f-b678-9ee805ac5a30",
   "metadata": {},
   "outputs": [
    {
     "name": "stdout",
     "output_type": "stream",
     "text": [
      "https://upload.wikimedia.org/wikipedia/ko/thumb/a/a6/Pok%C3%A9mon_Pikachu_art.png/200px-Pok%C3%A9mon_Pikachu_art.png\n",
      "https://i.namu.wiki/i/8HsKYgQA_WoAOakInMwBxUJXJwYBA52CuGFEEjntxBobl4Uh_D4pqByBl_ap6XdsoyHaEvOEnm7wUs-XwBf-Hg.gif\n",
      "https://w7.pngwing.com/pngs/881/826/png-transparent-pikachu-ash-ketchum-pokemon-vrste-pikachu-thumbnail.png\n",
      "https://prodigits.co.uk/thumbs/wallpapers/p2/anime/12/1dc05d7012331358.jpg\n",
      "https://qi-o.qoo10cdn.com/goods_image_big/5/3/6/6/8417015366_l.jpg\n",
      "https://i.namu.wiki/i/d7R9d5Yp3Nq_P87MDAviRqAZsa6zBFhNrNnxjcw9qIAlZzG9wD2nUTNZbB1iGyhUd9k_DNzOVwJgNmZiDNw6mw.webp\n",
      "https://magicians-circle.com/wp-content/uploads/2023/05/Funko-353-Pikachu.png\n",
      "https://www.shutterstock.com/image-vector/pikachu-iconpikachu-vector-art-illustration-260nw-2324417389.jpg\n",
      "https://i.pinimg.com/236x/f0/67/b5/f067b56d8d543ea5c60e97e63130a494.jpg\n"
     ]
    }
   ],
   "source": [
    "elems = driver.find_elements(By.CLASS_NAME,\"ob5Hkd\")\n",
    "for elem in elems[1:10]:\n",
    "    elem.click()\n",
    "    driver.implicitly_wait(3)\n",
    "    imgUrl = driver.find_element(By.CSS_SELECTOR,\".sFlh5c.pT0Scc.iPVvYb\").get_attribute(\"src\")\n",
    "    print(imgUrl)"
   ]
  },
  {
   "cell_type": "code",
   "execution_count": 4,
   "id": "60777d49-f8ed-4ed4-bcf9-aa104f1bdd22",
   "metadata": {
    "scrolled": true
   },
   "outputs": [
    {
     "ename": "ElementClickInterceptedException",
     "evalue": "Message: element click intercepted: Element <h3 class=\"ob5Hkd\">...</h3> is not clickable at point (384, 90). Other element would receive the click: <img id=\"dimg_i5OIZrOhOdSA1e8PwciJsAw_7\" src=\"data:image/jpeg;base64,/9j/4AAQSkZJRgABAQAAAQABAAD/2wCEAAkGBwgHBgkIBwgKCgkLDRYPDQwMDRsUFRAWIB0iIiAdHx8kKDQsJCYxJx8fLT0tMTU3Ojo6Iys/RD84QzQ5OjcBCgoKDQwNGg8PGjclHyU3Nzc3Nzc3Nzc3Nzc3Nzc3Nzc3Nzc3Nzc3Nzc3Nzc3Nzc3Nzc3Nzc3Nzc3Nzc3Nzc3N//AABEIAC4ALgMBIgACEQEDEQH/xAAaAAADAAMBAAAAAAAAAAAAAAAFBgcCAwQA/8QALhAAAgEDAgQEBAcAAAAAAAAAAQIDBAURACESMUFRBhNhoRQicZEVFjOCsfDx/8QAGAEAAwEBAAAAAAAAAAAAAAAAAgMEBQH/xAAfEQACAwACAgMAAAAAAAAAAAABAgADEQQhEuETMkH/2gAMAwEAAhEDEQA/ALjpRufiGJaOOpqWHDUuEp6cuFDZ3PET0C8/b1O367Q2W3PWTo8mGCJGhAZ2JwAMkf4DqTrUXCumo7fPXrRiZSlNDFsXC4DfNzPqB2JxjS7LAohpUX/cEpUclHUUnDSyJHheFWp2x5Zx0K9u3LXT4fuorbFR1dXJGkzqUl3AHmKSrY/cDqefgM1HIhrL5LFEWAJSQqxJIAHF0ySBnuQOZ04W6yzPazHQzR0KScQ81B5kikseI77cWcnJzvvvqdbyxxBsc9SoPtsMWy/Wm7TTQ2y5UtXLD+okMoYpvjfH00R0F8OeHrR4Tt3wttjESMeKWaVsyTN3ZjzP9Gi0M0c4YxkkKeE5UjfGev11Xsmir438NNd5qa4vWShKFT5dKNkLNszk884P89zoHDSVVO1ZDFOsQkHHSMFGUY5JGCMbbDVIlVHjdZAChBDZ5Y0nIVdAytxKd1PcdNZ3P1SDK+M3REBVlDPLaI2uMEdwrYJlen4kUFGyACOnEBk9tGLTe7lSRC31Swq44mEwycZYn6E7+3XW/QmuajjqaOp+NjnhnKicRSKWhPVfTb3B5anpaxt8evca/jmEQ7HVMrF5WLsebud9MFtQrSIzDDSfOc+vL2xrGC2UUCgJTocci/zn7nOuzWhx6GrJLHTJLLA3QE1VcPxFLNBnh8xGTPbIxqe0k1TTTS0hheZ4CRIkalin26euqPrVFTQQyzSwwxpJMQ0rqoBcgYBJ67aO+hbs2crsKbFGOVJYhIjAqdYWTwo0tyqK+4ikmoKqECOBUZWQg7NnPMqd8YycHGu+stEf5wppjhoKmN3khJOC6ADOOR5r9jpn0nj8X42JMOy7yAyYxoscaxoMKoAG+dhrLXte1bET/9k=\" class=\"YQ4gaf zr758c wA1Bge\" height=\"46\" width=\"46\" alt=\"\" data-csiid=\"i5OIZrOhOdSA1e8PwciJsAw_4\" data-atf=\"1\">\n  (Session info: chrome=126.0.6478.127)\nStacktrace:\n\tGetHandleVerifier [0x00007FF72243EEA2+31554]\n\t(No symbol) [0x00007FF7223B7ED9]\n\t(No symbol) [0x00007FF72227872A]\n\t(No symbol) [0x00007FF7222D012E]\n\t(No symbol) [0x00007FF7222CDAF2]\n\t(No symbol) [0x00007FF7222CAF8B]\n\t(No symbol) [0x00007FF7222CA156]\n\t(No symbol) [0x00007FF7222BC151]\n\t(No symbol) [0x00007FF7222ED02A]\n\t(No symbol) [0x00007FF7222BBA76]\n\t(No symbol) [0x00007FF7222ED240]\n\t(No symbol) [0x00007FF72230C977]\n\t(No symbol) [0x00007FF7222ECDD3]\n\t(No symbol) [0x00007FF7222BA33B]\n\t(No symbol) [0x00007FF7222BAED1]\n\tGetHandleVerifier [0x00007FF722748B1D+3217341]\n\tGetHandleVerifier [0x00007FF722795AE3+3532675]\n\tGetHandleVerifier [0x00007FF72278B0E0+3489152]\n\tGetHandleVerifier [0x00007FF7224EE776+750614]\n\t(No symbol) [0x00007FF7223C375F]\n\t(No symbol) [0x00007FF7223BEB14]\n\t(No symbol) [0x00007FF7223BECA2]\n\t(No symbol) [0x00007FF7223AE16F]\n\tBaseThreadInitThunk [0x00007FF91151257D+29]\n\tRtlUserThreadStart [0x00007FF91294AF28+40]\n",
     "output_type": "error",
     "traceback": [
      "\u001b[1;31m---------------------------------------------------------------------------\u001b[0m",
      "\u001b[1;31mElementClickInterceptedException\u001b[0m          Traceback (most recent call last)",
      "Cell \u001b[1;32mIn[4], line 4\u001b[0m\n\u001b[0;32m      2\u001b[0m file_path \u001b[38;5;241m=\u001b[39m \u001b[38;5;124m\"\u001b[39m\u001b[38;5;124m\"\u001b[39m\n\u001b[0;32m      3\u001b[0m \u001b[38;5;28;01mfor\u001b[39;00m idx, elem \u001b[38;5;129;01min\u001b[39;00m \u001b[38;5;28menumerate\u001b[39m(elems[\u001b[38;5;241m1\u001b[39m:\u001b[38;5;241m10\u001b[39m],\u001b[38;5;241m1\u001b[39m):\n\u001b[1;32m----> 4\u001b[0m     elem\u001b[38;5;241m.\u001b[39mclick()\n\u001b[0;32m      5\u001b[0m     driver\u001b[38;5;241m.\u001b[39mimplicitly_wait(\u001b[38;5;241m3\u001b[39m)\n\u001b[0;32m      6\u001b[0m     imgUrl \u001b[38;5;241m=\u001b[39m driver\u001b[38;5;241m.\u001b[39mfind_element(By\u001b[38;5;241m.\u001b[39mCSS_SELECTOR,\u001b[38;5;124m\"\u001b[39m\u001b[38;5;124m.sFlh5c.pT0Scc.iPVvYb\u001b[39m\u001b[38;5;124m\"\u001b[39m)\u001b[38;5;241m.\u001b[39mget_attribute(\u001b[38;5;124m\"\u001b[39m\u001b[38;5;124msrc\u001b[39m\u001b[38;5;124m\"\u001b[39m)\n",
      "File \u001b[1;32m~\\anaconda3\\envs\\kwlee\\Lib\\site-packages\\selenium\\webdriver\\remote\\webelement.py:94\u001b[0m, in \u001b[0;36mWebElement.click\u001b[1;34m(self)\u001b[0m\n\u001b[0;32m     92\u001b[0m \u001b[38;5;28;01mdef\u001b[39;00m \u001b[38;5;21mclick\u001b[39m(\u001b[38;5;28mself\u001b[39m) \u001b[38;5;241m-\u001b[39m\u001b[38;5;241m>\u001b[39m \u001b[38;5;28;01mNone\u001b[39;00m:\n\u001b[0;32m     93\u001b[0m \u001b[38;5;250m    \u001b[39m\u001b[38;5;124;03m\"\"\"Clicks the element.\"\"\"\u001b[39;00m\n\u001b[1;32m---> 94\u001b[0m     \u001b[38;5;28mself\u001b[39m\u001b[38;5;241m.\u001b[39m_execute(Command\u001b[38;5;241m.\u001b[39mCLICK_ELEMENT)\n",
      "File \u001b[1;32m~\\anaconda3\\envs\\kwlee\\Lib\\site-packages\\selenium\\webdriver\\remote\\webelement.py:395\u001b[0m, in \u001b[0;36mWebElement._execute\u001b[1;34m(self, command, params)\u001b[0m\n\u001b[0;32m    393\u001b[0m     params \u001b[38;5;241m=\u001b[39m {}\n\u001b[0;32m    394\u001b[0m params[\u001b[38;5;124m\"\u001b[39m\u001b[38;5;124mid\u001b[39m\u001b[38;5;124m\"\u001b[39m] \u001b[38;5;241m=\u001b[39m \u001b[38;5;28mself\u001b[39m\u001b[38;5;241m.\u001b[39m_id\n\u001b[1;32m--> 395\u001b[0m \u001b[38;5;28;01mreturn\u001b[39;00m \u001b[38;5;28mself\u001b[39m\u001b[38;5;241m.\u001b[39m_parent\u001b[38;5;241m.\u001b[39mexecute(command, params)\n",
      "File \u001b[1;32m~\\anaconda3\\envs\\kwlee\\Lib\\site-packages\\selenium\\webdriver\\remote\\webdriver.py:347\u001b[0m, in \u001b[0;36mWebDriver.execute\u001b[1;34m(self, driver_command, params)\u001b[0m\n\u001b[0;32m    345\u001b[0m response \u001b[38;5;241m=\u001b[39m \u001b[38;5;28mself\u001b[39m\u001b[38;5;241m.\u001b[39mcommand_executor\u001b[38;5;241m.\u001b[39mexecute(driver_command, params)\n\u001b[0;32m    346\u001b[0m \u001b[38;5;28;01mif\u001b[39;00m response:\n\u001b[1;32m--> 347\u001b[0m     \u001b[38;5;28mself\u001b[39m\u001b[38;5;241m.\u001b[39merror_handler\u001b[38;5;241m.\u001b[39mcheck_response(response)\n\u001b[0;32m    348\u001b[0m     response[\u001b[38;5;124m\"\u001b[39m\u001b[38;5;124mvalue\u001b[39m\u001b[38;5;124m\"\u001b[39m] \u001b[38;5;241m=\u001b[39m \u001b[38;5;28mself\u001b[39m\u001b[38;5;241m.\u001b[39m_unwrap_value(response\u001b[38;5;241m.\u001b[39mget(\u001b[38;5;124m\"\u001b[39m\u001b[38;5;124mvalue\u001b[39m\u001b[38;5;124m\"\u001b[39m, \u001b[38;5;28;01mNone\u001b[39;00m))\n\u001b[0;32m    349\u001b[0m     \u001b[38;5;28;01mreturn\u001b[39;00m response\n",
      "File \u001b[1;32m~\\anaconda3\\envs\\kwlee\\Lib\\site-packages\\selenium\\webdriver\\remote\\errorhandler.py:229\u001b[0m, in \u001b[0;36mErrorHandler.check_response\u001b[1;34m(self, response)\u001b[0m\n\u001b[0;32m    227\u001b[0m         alert_text \u001b[38;5;241m=\u001b[39m value[\u001b[38;5;124m\"\u001b[39m\u001b[38;5;124malert\u001b[39m\u001b[38;5;124m\"\u001b[39m]\u001b[38;5;241m.\u001b[39mget(\u001b[38;5;124m\"\u001b[39m\u001b[38;5;124mtext\u001b[39m\u001b[38;5;124m\"\u001b[39m)\n\u001b[0;32m    228\u001b[0m     \u001b[38;5;28;01mraise\u001b[39;00m exception_class(message, screen, stacktrace, alert_text)  \u001b[38;5;66;03m# type: ignore[call-arg]  # mypy is not smart enough here\u001b[39;00m\n\u001b[1;32m--> 229\u001b[0m \u001b[38;5;28;01mraise\u001b[39;00m exception_class(message, screen, stacktrace)\n",
      "\u001b[1;31mElementClickInterceptedException\u001b[0m: Message: element click intercepted: Element <h3 class=\"ob5Hkd\">...</h3> is not clickable at point (384, 90). Other element would receive the click: <img id=\"dimg_i5OIZrOhOdSA1e8PwciJsAw_7\" src=\"data:image/jpeg;base64,/9j/4AAQSkZJRgABAQAAAQABAAD/2wCEAAkGBwgHBgkIBwgKCgkLDRYPDQwMDRsUFRAWIB0iIiAdHx8kKDQsJCYxJx8fLT0tMTU3Ojo6Iys/RD84QzQ5OjcBCgoKDQwNGg8PGjclHyU3Nzc3Nzc3Nzc3Nzc3Nzc3Nzc3Nzc3Nzc3Nzc3Nzc3Nzc3Nzc3Nzc3Nzc3Nzc3Nzc3N//AABEIAC4ALgMBIgACEQEDEQH/xAAaAAADAAMBAAAAAAAAAAAAAAAFBgcCAwQA/8QALhAAAgEDAgQEBAcAAAAAAAAAAQIDBAURACESMUFRBhNhoRQicZEVFjOCsfDx/8QAGAEAAwEBAAAAAAAAAAAAAAAAAgMEBQH/xAAfEQACAwACAgMAAAAAAAAAAAABAgADEQQhEuETMkH/2gAMAwEAAhEDEQA/ALjpRufiGJaOOpqWHDUuEp6cuFDZ3PET0C8/b1O367Q2W3PWTo8mGCJGhAZ2JwAMkf4DqTrUXCumo7fPXrRiZSlNDFsXC4DfNzPqB2JxjS7LAohpUX/cEpUclHUUnDSyJHheFWp2x5Zx0K9u3LXT4fuorbFR1dXJGkzqUl3AHmKSrY/cDqefgM1HIhrL5LFEWAJSQqxJIAHF0ySBnuQOZ04W6yzPazHQzR0KScQ81B5kikseI77cWcnJzvvvqdbyxxBsc9SoPtsMWy/Wm7TTQ2y5UtXLD+okMoYpvjfH00R0F8OeHrR4Tt3wttjESMeKWaVsyTN3ZjzP9Gi0M0c4YxkkKeE5UjfGev11Xsmir438NNd5qa4vWShKFT5dKNkLNszk884P89zoHDSVVO1ZDFOsQkHHSMFGUY5JGCMbbDVIlVHjdZAChBDZ5Y0nIVdAytxKd1PcdNZ3P1SDK+M3REBVlDPLaI2uMEdwrYJlen4kUFGyACOnEBk9tGLTe7lSRC31Swq44mEwycZYn6E7+3XW/QmuajjqaOp+NjnhnKicRSKWhPVfTb3B5anpaxt8evca/jmEQ7HVMrF5WLsebud9MFtQrSIzDDSfOc+vL2xrGC2UUCgJTocci/zn7nOuzWhx6GrJLHTJLLA3QE1VcPxFLNBnh8xGTPbIxqe0k1TTTS0hheZ4CRIkalin26euqPrVFTQQyzSwwxpJMQ0rqoBcgYBJ67aO+hbs2crsKbFGOVJYhIjAqdYWTwo0tyqK+4ikmoKqECOBUZWQg7NnPMqd8YycHGu+stEf5wppjhoKmN3khJOC6ADOOR5r9jpn0nj8X42JMOy7yAyYxoscaxoMKoAG+dhrLXte1bET/9k=\" class=\"YQ4gaf zr758c wA1Bge\" height=\"46\" width=\"46\" alt=\"\" data-csiid=\"i5OIZrOhOdSA1e8PwciJsAw_4\" data-atf=\"1\">\n  (Session info: chrome=126.0.6478.127)\nStacktrace:\n\tGetHandleVerifier [0x00007FF72243EEA2+31554]\n\t(No symbol) [0x00007FF7223B7ED9]\n\t(No symbol) [0x00007FF72227872A]\n\t(No symbol) [0x00007FF7222D012E]\n\t(No symbol) [0x00007FF7222CDAF2]\n\t(No symbol) [0x00007FF7222CAF8B]\n\t(No symbol) [0x00007FF7222CA156]\n\t(No symbol) [0x00007FF7222BC151]\n\t(No symbol) [0x00007FF7222ED02A]\n\t(No symbol) [0x00007FF7222BBA76]\n\t(No symbol) [0x00007FF7222ED240]\n\t(No symbol) [0x00007FF72230C977]\n\t(No symbol) [0x00007FF7222ECDD3]\n\t(No symbol) [0x00007FF7222BA33B]\n\t(No symbol) [0x00007FF7222BAED1]\n\tGetHandleVerifier [0x00007FF722748B1D+3217341]\n\tGetHandleVerifier [0x00007FF722795AE3+3532675]\n\tGetHandleVerifier [0x00007FF72278B0E0+3489152]\n\tGetHandleVerifier [0x00007FF7224EE776+750614]\n\t(No symbol) [0x00007FF7223C375F]\n\t(No symbol) [0x00007FF7223BEB14]\n\t(No symbol) [0x00007FF7223BECA2]\n\t(No symbol) [0x00007FF7223AE16F]\n\tBaseThreadInitThunk [0x00007FF91151257D+29]\n\tRtlUserThreadStart [0x00007FF91294AF28+40]\n"
     ]
    }
   ],
   "source": [
    "elems = driver.find_elements(By.CLASS_NAME,\"ob5Hkd\")\n",
    "file_path = \"\"\n",
    "for idx, elem in enumerate(elems[1:10],1):\n",
    "    elem.click()\n",
    "    driver.implicitly_wait(3)\n",
    "    imgUrl = driver.find_element(By.CSS_SELECTOR,\".sFlh5c.pT0Scc.iPVvYb\").get_attribute(\"src\")\n",
    "    file_name = file_path+search+\"_\"+str(idx)+\".jpg\"\n",
    "    urlretrieve(imgUrl,file_name)"
   ]
  },
  {
   "cell_type": "code",
   "execution_count": 5,
   "id": "0349ea6e-314a-4a03-bb52-f3971935e6e4",
   "metadata": {},
   "outputs": [],
   "source": [
    "elems = driver.find_elements(By.CLASS_NAME,\"ob5Hkd\")\n",
    "file_path = \"/\"+search+\"/\"\n",
    "for idx, elem in enumerate(elems[:20],1):\n",
    "    try:\n",
    "        elem.click()\n",
    "        driver.implicitly_wait(3)\n",
    "        imgUrl = driver.find_element(By.CSS_SELECTOR,\".sFlh5c.pT0Scc.iPVvYb\").get_attribute(\"src\")\n",
    "        file_name = file_path+search+\"_\"+str(idx)+\".jpg\"\n",
    "        urlretrieve(imgUrl,file_name)\n",
    "    except:\n",
    "        pass"
   ]
  },
  {
   "cell_type": "code",
   "execution_count": null,
   "id": "405d3d43-6b36-4d52-a91b-d560e5126d49",
   "metadata": {},
   "outputs": [],
   "source": []
  }
 ],
 "metadata": {
  "kernelspec": {
   "display_name": "kwlee",
   "language": "python",
   "name": "kwlee"
  },
  "language_info": {
   "codemirror_mode": {
    "name": "ipython",
    "version": 3
   },
   "file_extension": ".py",
   "mimetype": "text/x-python",
   "name": "python",
   "nbconvert_exporter": "python",
   "pygments_lexer": "ipython3",
   "version": "3.12.3"
  }
 },
 "nbformat": 4,
 "nbformat_minor": 5
}
