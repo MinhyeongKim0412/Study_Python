{
 "cells": [
  {
   "cell_type": "code",
   "execution_count": 2,
   "id": "ec88d292-6009-4b94-aff5-34ac07bc12d8",
   "metadata": {},
   "outputs": [
    {
     "name": "stdout",
     "output_type": "stream",
     "text": [
      "1\n",
      "2\n",
      "3\n",
      "4\n",
      "5\n",
      "6\n",
      "7\n",
      "8\n",
      "9\n",
      "10\n",
      "11\n",
      "12\n",
      "13\n",
      "14\n",
      "15\n",
      "16\n",
      "17\n",
      "18\n",
      "19\n"
     ]
    }
   ],
   "source": [
    "#Python의 for(반복문)\n",
    "\n",
    "cnt = 1\n",
    "for iter in 'sdlkfjasakjsdkfjasd':\n",
    "    print(cnt)\n",
    "    cnt += 1"
   ]
  },
  {
   "cell_type": "code",
   "execution_count": 5,
   "id": "aeee98f2-1a5f-4878-998d-707e7889af37",
   "metadata": {},
   "outputs": [
    {
     "name": "stdout",
     "output_type": "stream",
     "text": [
      "1\n",
      "2\n"
     ]
    }
   ],
   "source": [
    "#Python의 for(반복문)\n",
    "\n",
    "cnt = 1\n",
    "for iter in 'sdlkfjasakjsdkfjasd'[:2]:\n",
    "    print(cnt)\n",
    "    cnt += 1"
   ]
  },
  {
   "cell_type": "code",
   "execution_count": 6,
   "id": "b39178fa-d9e9-4ed5-ad74-017a598c9b70",
   "metadata": {},
   "outputs": [
    {
     "name": "stdout",
     "output_type": "stream",
     "text": [
      "sdlkfjasakjsdkfjasd"
     ]
    }
   ],
   "source": [
    "cnt = 1\n",
    "for iter in 'sdlkfjasakjsdkfjasd':\n",
    "    print(iter,end=\"\")"
   ]
  },
  {
   "cell_type": "code",
   "execution_count": null,
   "id": "506c7d7e-6333-40e2-800c-a153e8674bd0",
   "metadata": {},
   "outputs": [],
   "source": [
    "cnt = 1\n",
    "for iter in 'sdlkfjasakjsdkfjasd'[::-1]:\n",
    "    print(iter,end=\"\")"
   ]
  },
  {
   "cell_type": "code",
   "execution_count": null,
   "id": "fe989697-dbc6-4ccf-a72a-431c76724d70",
   "metadata": {},
   "outputs": [],
   "source": [
    "##[ range ]\n",
    "#*정수만 들어갈 수 있음\n",
    "#*편하지만, 메모리 자체가 굉장히 적음\n",
    "\n",
    "#3개\n",
    "#range(start,end,step)\n",
    "#2개\n",
    "#range(start,end) -> default) step=1\n",
    "#1개\n",
    "#range(end) -> default) start 0, step=1\n",
    "\n",
    "#각각의 제제\n",
    "#len(range(1,10,2))\n",
    "#range(1,10)\n",
    "#range(10)\n",
    "\n",
    "#활용\n",
    "len(range(10,1,-1))\n",
    "list(range(10,1,-1))"
   ]
  },
  {
   "cell_type": "code",
   "execution_count": null,
   "id": "dcc8b5d9-e3ba-4e88-8c66-34d5e7fe055c",
   "metadata": {},
   "outputs": [],
   "source": [
    "import sys\n",
    "print(sys.getsizeof(range(1234567890)))\n",
    "print(sys.getsizeof(list(range(1234567890))))"
   ]
  },
  {
   "cell_type": "code",
   "execution_count": null,
   "id": "0ec39b4c-7e4a-4bc3-a930-fef23640325a",
   "metadata": {},
   "outputs": [],
   "source": [
    "for asdfasdfasdfasdf in range(10):\n",
    "    print(\"!!!!!\")\n",
    "for kk in list(range(10)):\n",
    "    print(\"~~~\")"
   ]
  },
  {
   "cell_type": "code",
   "execution_count": null,
   "id": "23e75488-efd4-4ace-8e05-a6d22ecdeaab",
   "metadata": {},
   "outputs": [],
   "source": [
    "next(range(10))"
   ]
  },
  {
   "cell_type": "code",
   "execution_count": 1,
   "id": "81bf4997-950c-43f6-9b8f-b4a9f0293575",
   "metadata": {},
   "outputs": [
    {
     "name": "stdout",
     "output_type": "stream",
     "text": [
      "234\n",
      "32\n",
      "123\n",
      "34\n",
      "23\n"
     ]
    }
   ],
   "source": [
    "for asdf in [234,32,123,34,23]:\n",
    "    print(asdf)"
   ]
  },
  {
   "cell_type": "code",
   "execution_count": 2,
   "id": "ce5bcaab-0eaf-4d5e-bfcc-c6dfa7fa97c6",
   "metadata": {},
   "outputs": [
    {
     "name": "stdout",
     "output_type": "stream",
     "text": [
      "234\n",
      "32\n",
      "123\n",
      "34\n",
      "23\n"
     ]
    }
   ],
   "source": [
    "x=[234,32,123,34,23]\n",
    "for i in range(len(x)):\n",
    "    print(x[i])"
   ]
  },
  {
   "cell_type": "code",
   "execution_count": 6,
   "id": "99f77f8b-3a58-4c58-9212-05697891591b",
   "metadata": {},
   "outputs": [
    {
     "name": "stdout",
     "output_type": "stream",
     "text": [
      "234 ===== 234\n",
      "32 ===== 32\n",
      "123 ===== 123\n",
      "34 ===== 34\n",
      "23 ===== 23\n"
     ]
    }
   ],
   "source": [
    "x=[234,32,123,34,23]\n",
    "a=0\n",
    "for i in x:\n",
    "    print(f\"{i} ===== {x[a]}\")\n",
    "    a += 1"
   ]
  },
  {
   "cell_type": "code",
   "execution_count": 7,
   "id": "1510bfba-f858-4404-95db-3290c5be646f",
   "metadata": {},
   "outputs": [
    {
     "name": "stdout",
     "output_type": "stream",
     "text": [
      "100 이상의 수: 273\n",
      "100 이상의 수: 103\n",
      "100 이상의 수: 800\n"
     ]
    }
   ],
   "source": [
    "numbers = [273,103,5,32,65,9,72,800,99]\n",
    "\n",
    "for number in numbers:\n",
    "    if number>=100:\n",
    "        print(\"100 이상의 수:\", number)"
   ]
  },
  {
   "cell_type": "code",
   "execution_count": 28,
   "id": "03c62738-0a63-4e08-ad34-1e17b5d99d9d",
   "metadata": {},
   "outputs": [
    {
     "name": "stdout",
     "output_type": "stream",
     "text": [
      "[1, 2, 3]\n",
      "[4, 5, 6, 7]\n",
      "[8, 9]\n"
     ]
    }
   ],
   "source": [
    "#풀이과정-오답\n",
    "list_of_list= [\n",
    "    [1,2,3],\n",
    "    [4,5,6,7],\n",
    "    [8,9]\n",
    "]\n",
    "\n",
    "for i in list_of_list:\n",
    "    print(f\"{i}\")"
   ]
  },
  {
   "cell_type": "code",
   "execution_count": 29,
   "id": "a8035ec1-1349-4e85-94a6-f5e76af79c6d",
   "metadata": {},
   "outputs": [
    {
     "name": "stdout",
     "output_type": "stream",
     "text": [
      "1\n",
      "2\n",
      "3\n",
      "4\n",
      "5\n",
      "6\n",
      "7\n",
      "8\n",
      "9\n"
     ]
    }
   ],
   "source": [
    "#해설풀이\n",
    "\n",
    "list_of_list= [\n",
    "    [1,2,3],\n",
    "    [4,5,6,7],\n",
    "    [8,9]\n",
    "]\n",
    "\n",
    "for i1 in list_of_list:\n",
    "    for i2 in i1: #2번 풀어주는 방식- > 이중for문 방식\n",
    "        print(i2)"
   ]
  },
  {
   "cell_type": "code",
   "execution_count": 40,
   "id": "5cb965dd-0b67-48d3-ab1d-bb715a307500",
   "metadata": {},
   "outputs": [
    {
     "name": "stdout",
     "output_type": "stream",
     "text": [
      "2단\n",
      "2x1=2\n",
      "2x2=4\n",
      "2x3=6\n",
      "2x4=8\n",
      "2x5=10\n",
      "2x6=12\n",
      "2x7=14\n",
      "2x8=16\n",
      "2x9=18\n",
      "3단\n",
      "3x1=3\n",
      "3x2=6\n",
      "3x3=9\n",
      "3x4=12\n",
      "3x5=15\n",
      "3x6=18\n",
      "3x7=21\n",
      "3x8=24\n",
      "3x9=27\n",
      "4단\n",
      "4x1=4\n",
      "4x2=8\n",
      "4x3=12\n",
      "4x4=16\n",
      "4x5=20\n",
      "4x6=24\n",
      "4x7=28\n",
      "4x8=32\n",
      "4x9=36\n",
      "5단\n",
      "5x1=5\n",
      "5x2=10\n",
      "5x3=15\n",
      "5x4=20\n",
      "5x5=25\n",
      "5x6=30\n",
      "5x7=35\n",
      "5x8=40\n",
      "5x9=45\n",
      "6단\n",
      "6x1=6\n",
      "6x2=12\n",
      "6x3=18\n",
      "6x4=24\n",
      "6x5=30\n",
      "6x6=36\n",
      "6x7=42\n",
      "6x8=48\n",
      "6x9=54\n",
      "7단\n",
      "7x1=7\n",
      "7x2=14\n",
      "7x3=21\n",
      "7x4=28\n",
      "7x5=35\n",
      "7x6=42\n",
      "7x7=49\n",
      "7x8=56\n",
      "7x9=63\n",
      "8단\n",
      "8x1=8\n",
      "8x2=16\n",
      "8x3=24\n",
      "8x4=32\n",
      "8x5=40\n",
      "8x6=48\n",
      "8x7=56\n",
      "8x8=64\n",
      "8x9=72\n",
      "9단\n",
      "9x1=9\n",
      "9x2=18\n",
      "9x3=27\n",
      "9x4=36\n",
      "9x5=45\n",
      "9x6=54\n",
      "9x7=63\n",
      "9x8=72\n",
      "9x9=81\n"
     ]
    }
   ],
   "source": [
    "#이중for문 활용-구구단 만들기\n",
    "\n",
    "#2~9까지의 숫자가 필요함\n",
    "\n",
    "for 단 in [2,3,4,5,6,7,8,9]:\n",
    "    print(f\"{단}단\")\n",
    "    for 행 in [1,2,3,4,5,6,7,8,9]:\n",
    "        print(f\"{단}x{행}={단*행}\")"
   ]
  },
  {
   "cell_type": "code",
   "execution_count": 46,
   "id": "ad3dd0b3-fcd7-46d6-b77c-e30a8628f2a5",
   "metadata": {},
   "outputs": [
    {
     "data": {
      "text/plain": [
       "dict"
      ]
     },
     "execution_count": 46,
     "metadata": {},
     "output_type": "execute_result"
    }
   ],
   "source": [
    "#딕셔너리-개념\n",
    "type(\n",
    "{\n",
    "    \"day\":\"수요일\",\n",
    "    \"value\":\"특강\"\n",
    "}\n",
    ")"
   ]
  },
  {
   "cell_type": "code",
   "execution_count": 53,
   "id": "377e9c69-4c2e-4cfd-af12-a2cc8dfcc943",
   "metadata": {},
   "outputs": [
    {
     "data": {
      "text/plain": [
       "5"
      ]
     },
     "execution_count": 53,
     "metadata": {},
     "output_type": "execute_result"
    }
   ],
   "source": [
    "#딕셔너리-예제\n",
    "\n",
    "dict1={\n",
    "    'a':[1,2,3,4],\n",
    "    'b':{1:[23,4],2:[2,3]},\n",
    "    'c':len,\n",
    "}\n",
    "\n",
    "dict1['c']('abcde')"
   ]
  },
  {
   "cell_type": "code",
   "execution_count": 56,
   "id": "67a7fd8a-049a-44a3-963a-026ebcafb23d",
   "metadata": {},
   "outputs": [
    {
     "data": {
      "text/plain": [
       "4"
      ]
     },
     "execution_count": 56,
     "metadata": {},
     "output_type": "execute_result"
    }
   ],
   "source": [
    "list(dict1.values())[2]('asdf')"
   ]
  },
  {
   "cell_type": "code",
   "execution_count": 57,
   "id": "17994e0c-ce02-4050-b634-71922ed797d3",
   "metadata": {},
   "outputs": [
    {
     "data": {
      "text/plain": [
       "dict_items([('a', [1, 2, 3, 4]), ('b', {1: [23, 4], 2: [2, 3]}), ('c', <built-in function len>)])"
      ]
     },
     "execution_count": 57,
     "metadata": {},
     "output_type": "execute_result"
    }
   ],
   "source": [
    "dict1.items()"
   ]
  },
  {
   "cell_type": "code",
   "execution_count": 69,
   "id": "8f95403a-d3ec-4be7-a72d-2cb6b84aae23",
   "metadata": {},
   "outputs": [
    {
     "data": {
      "text/plain": [
       "('a', [1, 2, 3, 4])"
      ]
     },
     "execution_count": 69,
     "metadata": {},
     "output_type": "execute_result"
    }
   ],
   "source": [
    "key = tuple(dict1.items())[0]\n",
    "k,v = key\n",
    "key"
   ]
  },
  {
   "cell_type": "code",
   "execution_count": 70,
   "id": "9a44d72e-ff19-4164-8799-86ea24db2e1b",
   "metadata": {},
   "outputs": [
    {
     "data": {
      "text/plain": [
       "[1, 2, 3, 4]"
      ]
     },
     "execution_count": 70,
     "metadata": {},
     "output_type": "execute_result"
    }
   ],
   "source": [
    "v"
   ]
  },
  {
   "cell_type": "code",
   "execution_count": 71,
   "id": "1ad75c31-8df2-4876-855b-75e7829b499b",
   "metadata": {},
   "outputs": [
    {
     "data": {
      "text/plain": [
       "'a'"
      ]
     },
     "execution_count": 71,
     "metadata": {},
     "output_type": "execute_result"
    }
   ],
   "source": [
    "k"
   ]
  },
  {
   "cell_type": "code",
   "execution_count": 75,
   "id": "c55678cb-ac0d-4e62-a189-2fe56e3ebe08",
   "metadata": {},
   "outputs": [
    {
     "data": {
      "text/plain": [
       "'ddd'"
      ]
     },
     "execution_count": 75,
     "metadata": {},
     "output_type": "execute_result"
    }
   ],
   "source": [
    "#get을 사용하면, key값이 없어도 오류가 \n",
    "#발생하지 않고 뒤에 대체값을 지정해줄 수 있다.\n",
    "\n",
    "dict1.get('d','ddd')"
   ]
  },
  {
   "cell_type": "code",
   "execution_count": 77,
   "id": "196b6cdd-19f9-49e4-bfd1-b5809f6664f8",
   "metadata": {},
   "outputs": [
    {
     "data": {
      "text/plain": [
       "{'a': [1, 2, 3, 4], 'b': {1: [23, 4], 2: [2, 3]}, 'c': <function len(obj, /)>}"
      ]
     },
     "execution_count": 77,
     "metadata": {},
     "output_type": "execute_result"
    }
   ],
   "source": [
    "dict1"
   ]
  },
  {
   "cell_type": "code",
   "execution_count": 80,
   "id": "27e0b67a-0832-4fd7-93f1-156336d76ab8",
   "metadata": {},
   "outputs": [],
   "source": [
    "dict1['a']=12\n",
    "dict1['d']=15"
   ]
  },
  {
   "cell_type": "code",
   "execution_count": 81,
   "id": "72545437-9c80-4620-98f7-9d38fe2ba675",
   "metadata": {},
   "outputs": [
    {
     "data": {
      "text/plain": [
       "{'a': 12, 'b': {1: [23, 4], 2: [2, 3]}, 'c': <function len(obj, /)>, 'd': 15}"
      ]
     },
     "execution_count": 81,
     "metadata": {},
     "output_type": "execute_result"
    }
   ],
   "source": [
    "dict1"
   ]
  },
  {
   "cell_type": "code",
   "execution_count": 84,
   "id": "b234c84b-ece8-4947-af97-4d9b7f197469",
   "metadata": {},
   "outputs": [
    {
     "data": {
      "text/plain": [
       "True"
      ]
     },
     "execution_count": 84,
     "metadata": {},
     "output_type": "execute_result"
    }
   ],
   "source": [
    "#in 사용하여 dic에 활용\n",
    "\n",
    "'a'in dict1 #key/value/key or value(key)"
   ]
  },
  {
   "cell_type": "code",
   "execution_count": 85,
   "id": "3565d452-b7e0-4a02-a77b-4796dfe58f44",
   "metadata": {},
   "outputs": [
    {
     "data": {
      "text/plain": [
       "False"
      ]
     },
     "execution_count": 85,
     "metadata": {},
     "output_type": "execute_result"
    }
   ],
   "source": [
    "'22'in dict1 #key/value/key or value(key)"
   ]
  },
  {
   "cell_type": "code",
   "execution_count": 86,
   "id": "d65dab0a-e576-49a4-a92d-85151334d490",
   "metadata": {},
   "outputs": [
    {
     "name": "stdout",
     "output_type": "stream",
     "text": [
      "12\n",
      "{1: [23, 4], 2: [2, 3]}\n",
      "<built-in function len>\n",
      "15\n"
     ]
    }
   ],
   "source": [
    "#for 사용하여 dic에 활용 -values (i)\n",
    "\n",
    "for i in dict1.values():\n",
    "    print(i)"
   ]
  },
  {
   "cell_type": "code",
   "execution_count": 87,
   "id": "1ed8e2ec-dc94-4436-9266-667b2d26f3f0",
   "metadata": {},
   "outputs": [
    {
     "name": "stdout",
     "output_type": "stream",
     "text": [
      "a 12\n",
      "b {1: [23, 4], 2: [2, 3]}\n",
      "c <built-in function len>\n",
      "d 15\n"
     ]
    }
   ],
   "source": [
    "#for 사용하여 dic에 활용 -items (k,v)\n",
    "\n",
    "for k,v in dict1.items():\n",
    "    print(k,v)"
   ]
  },
  {
   "cell_type": "code",
   "execution_count": 88,
   "id": "311b3e39-3f61-4812-9176-f29aa991bd06",
   "metadata": {},
   "outputs": [
    {
     "name": "stdout",
     "output_type": "stream",
     "text": [
      "12 a\n",
      "{1: [23, 4], 2: [2, 3]} b\n",
      "<built-in function len> c\n",
      "15 d\n"
     ]
    }
   ],
   "source": [
    "#for 사용하여 dic에 활용 -values - 순서 바기기\n",
    "\n",
    "for k,v in dict1.items():\n",
    "    print(v,k)"
   ]
  },
  {
   "cell_type": "code",
   "execution_count": 93,
   "id": "d71ae5fc-fef5-4cba-9993-b0b1800a7d89",
   "metadata": {},
   "outputs": [],
   "source": [
    "#예제 연습\n",
    "\n",
    "dictionary={\n",
    "    'name':'아망추',\n",
    "    'type':'MZ음료수',\n",
    "    'ingredient':['아이스티', '얼린망고'],\n",
    "    'origin':'한국'\n",
    "}"
   ]
  },
  {
   "cell_type": "code",
   "execution_count": 94,
   "id": "a47b3262-0516-456a-951c-6534a9551fcb",
   "metadata": {},
   "outputs": [
    {
     "name": "stdout",
     "output_type": "stream",
     "text": [
      "name:아망추\n",
      "type:MZ음료수\n",
      "ingredient:['아이스티', '얼린망고']\n",
      "origin:한국\n"
     ]
    }
   ],
   "source": [
    "#예제\n",
    "for key in dictionary:\n",
    "    print(f\"{key}:{dictionary[key]}\")"
   ]
  },
  {
   "cell_type": "code",
   "execution_count": 98,
   "id": "0ab758a7-bc8e-485b-8440-a796dd59d86f",
   "metadata": {},
   "outputs": [
    {
     "name": "stdout",
     "output_type": "stream",
     "text": [
      "name:아망추\n",
      "type:MZ음료수\n",
      "ingredient:['아이스티', '얼린망고']\n",
      "origin:한국\n"
     ]
    }
   ],
   "source": [
    "#예제변형\n",
    "for k in dictionary:\n",
    "    print(f\"{k}:{dictionary[k]}\")"
   ]
  },
  {
   "cell_type": "code",
   "execution_count": 107,
   "id": "08ef840f-8dcf-4640-aef0-ff7975426470",
   "metadata": {},
   "outputs": [
    {
     "name": "stdout",
     "output_type": "stream",
     "text": [
      "name아망추\n",
      "typeMZ음료수\n",
      "ingredient['아이스티', '얼린망고']\n",
      "origin한국\n"
     ]
    }
   ],
   "source": [
    "#예제변형\n",
    "i=0\n",
    "for v in dictionary.values():\n",
    "    print(f\"{list(dictionary.keys())[i]}{v}\")\n",
    "    i+=1"
   ]
  },
  {
   "cell_type": "code",
   "execution_count": 108,
   "id": "da352988-56d6-4ab1-bc9b-f2bbaed527f5",
   "metadata": {},
   "outputs": [
    {
     "data": {
      "text/plain": [
       "{'name': '구름'}"
      ]
     },
     "execution_count": 108,
     "metadata": {},
     "output_type": "execute_result"
    }
   ],
   "source": [
    "dict_a = {'name':'구름'}\n",
    "dict_a"
   ]
  },
  {
   "cell_type": "code",
   "execution_count": null,
   "id": "c5df94bd-df3f-4375-a6fc-90d8af246086",
   "metadata": {},
   "outputs": [],
   "source": []
  },
  {
   "cell_type": "code",
   "execution_count": 111,
   "id": "56062a4e-cabb-44dc-9f46-a8ee5a1d450f",
   "metadata": {},
   "outputs": [
    {
     "data": {
      "text/plain": [
       "8"
      ]
     },
     "execution_count": 111,
     "metadata": {},
     "output_type": "execute_result"
    }
   ],
   "source": [
    "#실습문제1\n",
    "import random\n",
    "numbers = []\n",
    "for i in range(100):\n",
    "    numbers.append(random.randint(1,10))\n",
    "numbers[0]"
   ]
  },
  {
   "cell_type": "code",
   "execution_count": 8,
   "id": "c8366b1f-d5be-4a8c-894a-fa393d487eae",
   "metadata": {},
   "outputs": [],
   "source": [
    "#실습문제2\n",
    "character = {\n",
    "    \"name\" : \"기사\",\n",
    "    \"level\" : 12,\n",
    "    \"items\" : {\n",
    "        \"sword\": \"불꽃의 검\",\n",
    "        \"armor\": \"풀플레이트\"\n",
    "    },\n",
    "    \"skill\": [\"베기\", \"세게 베기\", \"아주 세게 베기\"]\n",
    "}"
   ]
  },
  {
   "cell_type": "code",
   "execution_count": 18,
   "id": "804ad691-f775-43ef-b7e5-f2caad5a8e3b",
   "metadata": {},
   "outputs": [
    {
     "name": "stdout",
     "output_type": "stream",
     "text": [
      "name:기사\n",
      "level:12\n",
      "sword:불꽃의 검\n",
      "armor:풀플레이트\n",
      "skill : 베기\n",
      "skill : 세게 베기\n",
      "skill : 아주 세게 베기\n"
     ]
    }
   ],
   "source": [
    "#실습문제2\n",
    "for key in character:\n",
    "    if type(character[key]) is str or type(character[key]) is int:\n",
    "        print(f\"{key}:{character[key]}\")\n",
    "    elif type(character[key]) is dict: \n",
    "        for k in character[key]:\n",
    "            print(f\"{k}:{character[key][k]}\")\n",
    "    elif type(character[key]) is list:\n",
    "        for i in range(len(character[key])):\n",
    "            print(f\"skill : {character[key][i]}\")"
   ]
  },
  {
   "cell_type": "code",
   "execution_count": 23,
   "id": "73baa86e-13db-4665-b88e-3d69ebc0b52e",
   "metadata": {},
   "outputs": [
    {
     "data": {
      "text/plain": [
       "False"
      ]
     },
     "execution_count": 23,
     "metadata": {},
     "output_type": "execute_result"
    }
   ],
   "source": [
    "isinstance(11.,(str,int))"
   ]
  },
  {
   "cell_type": "code",
   "execution_count": 41,
   "id": "7457cf4f-2788-44b2-98c5-22bc57749377",
   "metadata": {},
   "outputs": [
    {
     "name": "stdout",
     "output_type": "stream",
     "text": [
      "name:기사\n",
      "level:12\n",
      "sword:불꽃의 검\n",
      "armor:풀플레이트\n",
      "skill:베기\n",
      "skill:세게 베기\n",
      "skill:아주 세게 베기\n"
     ]
    }
   ],
   "source": [
    "#실습문제3\n",
    "for key, val in character.items():\n",
    "    if isinstance(val,(str,int)):\n",
    "        print(f\"{key}:{val}\")\n",
    "    elif isinstance(val,dict):\n",
    "        for k,v in val.items():\n",
    "            print(f\"{k}:{v}\")\n",
    "    elif isinstance(val,list):\n",
    "        for v in val:\n",
    "            print(f\"{key}:{v}\")"
   ]
  },
  {
   "cell_type": "code",
   "execution_count": 42,
   "id": "74a1ea50-524f-4ddd-92ce-1699682a0f5c",
   "metadata": {},
   "outputs": [
    {
     "data": {
      "text/plain": [
       "range(0, 3)"
      ]
     },
     "execution_count": 42,
     "metadata": {},
     "output_type": "execute_result"
    }
   ],
   "source": [
    "#반복문\n",
    "\n",
    "#for, while\n",
    "\n",
    "#1\n",
    "range(3)"
   ]
  },
  {
   "cell_type": "code",
   "execution_count": 47,
   "id": "3fb2c219-a222-4675-9118-0c74693b239c",
   "metadata": {},
   "outputs": [
    {
     "data": {
      "text/plain": [
       "range(4, 12, 6)"
      ]
     },
     "execution_count": 47,
     "metadata": {},
     "output_type": "execute_result"
    }
   ],
   "source": [
    "#2\n",
    "range(4,12,6)"
   ]
  },
  {
   "cell_type": "code",
   "execution_count": 50,
   "id": "efbbd2f3-e66b-4cfc-8dc1-82401fa3e3d3",
   "metadata": {},
   "outputs": [
    {
     "data": {
      "text/plain": [
       "range(4, 13)"
      ]
     },
     "execution_count": 50,
     "metadata": {},
     "output_type": "execute_result"
    }
   ],
   "source": [
    "#3\n",
    "range(4,13)"
   ]
  },
  {
   "cell_type": "code",
   "execution_count": 45,
   "id": "8891a56a-f4ef-44aa-a63c-6958613d77ec",
   "metadata": {},
   "outputs": [
    {
     "data": {
      "text/plain": [
       "[0, 1, 2]"
      ]
     },
     "execution_count": 45,
     "metadata": {},
     "output_type": "execute_result"
    }
   ],
   "source": [
    "#1\n",
    "list(range(3))"
   ]
  },
  {
   "cell_type": "code",
   "execution_count": 48,
   "id": "f3729d95-c7a0-4e57-a5bc-5680fddca37b",
   "metadata": {},
   "outputs": [
    {
     "data": {
      "text/plain": [
       "[4, 10]"
      ]
     },
     "execution_count": 48,
     "metadata": {},
     "output_type": "execute_result"
    }
   ],
   "source": [
    "#2\n",
    "list(range(4,12,6))"
   ]
  },
  {
   "cell_type": "code",
   "execution_count": 51,
   "id": "a3872ea7-ee13-42bd-8b19-a169ed1db5fa",
   "metadata": {},
   "outputs": [
    {
     "data": {
      "text/plain": [
       "[4, 5, 6, 7, 8, 9, 10, 11, 12]"
      ]
     },
     "execution_count": 51,
     "metadata": {},
     "output_type": "execute_result"
    }
   ],
   "source": [
    "#3\n",
    "list(range(4,13))"
   ]
  },
  {
   "cell_type": "code",
   "execution_count": 54,
   "id": "06cc044d-8fe7-4c1a-9072-a4024fc652d4",
   "metadata": {},
   "outputs": [
    {
     "name": "stdout",
     "output_type": "stream",
     "text": [
      "1번째\n",
      "2번째\n",
      "3번째\n",
      "4번째\n",
      "5번째\n"
     ]
    }
   ],
   "source": [
    "#반복문과 범위의 조합\n",
    "\n",
    "for i in range(5):\n",
    "    print(f\"{i+1}번째\")"
   ]
  },
  {
   "cell_type": "code",
   "execution_count": 55,
   "id": "32c453ba-536d-41da-9797-8f6bbcca1fe1",
   "metadata": {},
   "outputs": [
    {
     "name": "stdout",
     "output_type": "stream",
     "text": [
      "1번째 a\n",
      "2번째 b\n",
      "3번째 c\n",
      "4번째 d\n",
      "5번째 e\n",
      "6번째 f\n"
     ]
    }
   ],
   "source": [
    "#자주쓰는 함수\n",
    "\n",
    "idx=1\n",
    "for i in 'abcdef':\n",
    "    print(f\"{idx}번째 {i}\")\n",
    "    idx += 1"
   ]
  },
  {
   "cell_type": "code",
   "execution_count": 58,
   "id": "88f345df-7368-4398-992f-98e4feb7f84c",
   "metadata": {},
   "outputs": [
    {
     "name": "stdout",
     "output_type": "stream",
     "text": [
      "1번째\n",
      "2번째\n",
      "3번째\n",
      "4번째\n",
      "5번째\n",
      "6번째\n"
     ]
    }
   ],
   "source": [
    "for idx, v in enumerate('abcdef',1):\n",
    "    print(f\"{idx}번째\")"
   ]
  },
  {
   "cell_type": "code",
   "execution_count": 63,
   "id": "0f0cd1a0-bc33-49d5-8e8b-1568cb64a2b4",
   "metadata": {},
   "outputs": [
    {
     "data": {
      "text/plain": [
       "4"
      ]
     },
     "execution_count": 63,
     "metadata": {},
     "output_type": "execute_result"
    }
   ],
   "source": [
    "origin_num = 1321.1123\n",
    "str(origin_num).find('.')"
   ]
  },
  {
   "cell_type": "code",
   "execution_count": 1,
   "id": "6ae175b5-bfab-4ba1-b228-b64a4dd4d221",
   "metadata": {},
   "outputs": [
    {
     "name": "stdout",
     "output_type": "stream",
     "text": [
      "0==>\n",
      "1==>\n",
      "2==>\n",
      "3==>\n",
      "4==>\n",
      "5==>\n",
      "6==>\n",
      "7==>\n",
      "8==>\n",
      "9==>\n",
      "10==>\n",
      "11==>\n",
      "12==>\n",
      "13==>\n",
      "14==>\n",
      "15==>\n",
      "16==>\n",
      "17==>\n",
      "18==>\n",
      "19==>\n",
      "20==>\n",
      "21==>\n",
      "22==>\n",
      "23==>\n",
      "24==>\n",
      "25==>\n",
      "26==>\n",
      "27==>\n",
      "28==>\n",
      "29==>\n",
      "30==>\n",
      "31==>\n",
      "32==>\n",
      "33==>\n",
      "34==>\n",
      "35==>\n",
      "36==>\n",
      "37==>\n",
      "38==>\n",
      "39==>\n",
      "40==>\n",
      "41==>\n",
      "42==>\n",
      "43==>\n",
      "44==>\n",
      "45==>\n",
      "46==>\n",
      "47==>\n",
      "48==>\n",
      "49==>\n",
      "50==>\n",
      "51==>\n",
      "52==>\n",
      "53==>\n",
      "54==>\n",
      "55==>\n",
      "56==>\n",
      "57==>\n",
      "58==>\n",
      "59==>\n",
      "60==>\n",
      "61==>\n",
      "62==>\n",
      "63==>\n",
      "64==>\n",
      "65==>\n",
      "66==>\n",
      "67==>\n",
      "68==>\n",
      "69==>\n",
      "70==>\n",
      "71==>\n",
      "72==>\n",
      "73==>\n",
      "74==>\n",
      "75==>\n",
      "76==>\n",
      "77==>\n",
      "78==>\n",
      "79==>\n",
      "80==>\n",
      "81==>\n",
      "82==>\n",
      "83==>\n",
      "84==>\n",
      "85==>\n",
      "86==>\n",
      "87==>\n",
      "88==>\n",
      "89==>\n",
      "90==>\n",
      "91==>\n",
      "92==>\n",
      "93==>\n",
      "94==>\n",
      "95==>\n",
      "96==>\n",
      "97==>\n",
      "98==>\n",
      "99==>\n"
     ]
    }
   ],
   "source": [
    "#반복문 while의 사용\n",
    "\n",
    "cnt=0\n",
    "while cnt<100:\n",
    "    print(f'{cnt}==>')\n",
    "    cnt += 1"
   ]
  },
  {
   "cell_type": "code",
   "execution_count": 4,
   "id": "c1688537-1c90-4eea-8e8a-d32220ab5cce",
   "metadata": {},
   "outputs": [
    {
     "name": "stdout",
     "output_type": "stream",
     "text": [
      "5050\n"
     ]
    }
   ],
   "source": [
    "#반복문 while의 사용\n",
    "#1부터 100까지의 합\n",
    "\n",
    "#for 사용\n",
    "for_s = 0\n",
    "for i in range(1,101):\n",
    "    for_s += i\n",
    "print(for_s)"
   ]
  },
  {
   "cell_type": "code",
   "execution_count": 9,
   "id": "6d26098b-d9b0-4bd4-8d8e-a9a95c3ac9c2",
   "metadata": {},
   "outputs": [
    {
     "data": {
      "text/plain": [
       "5050"
      ]
     },
     "execution_count": 9,
     "metadata": {},
     "output_type": "execute_result"
    }
   ],
   "source": [
    "#while 사용\n",
    "\n",
    "i=1 #정지조건\n",
    "s=0 \n",
    "while i<=100:\n",
    "    s += i\n",
    "    i += 1\n",
    "s"
   ]
  },
  {
   "cell_type": "code",
   "execution_count": 5,
   "id": "fa851632-d710-49d9-b51a-ca13939a6cc1",
   "metadata": {},
   "outputs": [
    {
     "data": {
      "text/plain": [
       "[1, 2, 1, 2]"
      ]
     },
     "execution_count": 5,
     "metadata": {},
     "output_type": "execute_result"
    }
   ],
   "source": [
    "list_test=[1,2,1,2]\n",
    "list_test"
   ]
  },
  {
   "cell_type": "code",
   "execution_count": 6,
   "id": "1eeabd72-91c4-4bf6-a974-3d2762591e60",
   "metadata": {},
   "outputs": [
    {
     "name": "stdout",
     "output_type": "stream",
     "text": [
      "[1, 2, 1, 2]\n",
      "[1, 1]\n"
     ]
    }
   ],
   "source": [
    "print(list_test)\n",
    "value=2\n",
    "while value in list_test:\n",
    "    list_test.remove(value)\n",
    "print(list_test)"
   ]
  },
  {
   "cell_type": "code",
   "execution_count": 10,
   "id": "b4af2813-5e54-4a91-8aa1-1d720dae96f1",
   "metadata": {},
   "outputs": [
    {
     "data": {
      "text/plain": [
       "6"
      ]
     },
     "execution_count": 10,
     "metadata": {},
     "output_type": "execute_result"
    }
   ],
   "source": [
    "list_test=[1,2,1,2,1,1,1,1]\n",
    "cnt=0\n",
    "for i in list_test:\n",
    "    if i == 2:\n",
    "        list_test.remove(2)\n",
    "    cnt += 1\n",
    "cnt"
   ]
  },
  {
   "cell_type": "code",
   "execution_count": null,
   "id": "e5699e16-913a-48d7-b8fe-cbe8d51b2b5f",
   "metadata": {},
   "outputs": [],
   "source": []
  }
 ],
 "metadata": {
  "kernelspec": {
   "display_name": "Python 3 (ipykernel)",
   "language": "python",
   "name": "python3"
  },
  "language_info": {
   "codemirror_mode": {
    "name": "ipython",
    "version": 3
   },
   "file_extension": ".py",
   "mimetype": "text/x-python",
   "name": "python",
   "nbconvert_exporter": "python",
   "pygments_lexer": "ipython3",
   "version": "3.12.4"
  }
 },
 "nbformat": 4,
 "nbformat_minor": 5
}
