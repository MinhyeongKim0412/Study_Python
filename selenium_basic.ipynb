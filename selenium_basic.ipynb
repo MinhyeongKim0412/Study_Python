{
 "cells": [
  {
   "cell_type": "code",
   "execution_count": null,
   "id": "dcf6519b-c62f-4cc7-9e0d-394cff7193d5",
   "metadata": {},
   "outputs": [],
   "source": [
    "!pip install selenium "
   ]
  },
  {
   "cell_type": "code",
   "execution_count": 1,
   "id": "e821ac8a",
   "metadata": {},
   "outputs": [],
   "source": [
    "import selenium"
   ]
  },
  {
   "cell_type": "code",
   "execution_count": 2,
   "id": "e6cc8334",
   "metadata": {},
   "outputs": [
    {
     "data": {
      "text/plain": [
       "['__builtins__',\n",
       " '__cached__',\n",
       " '__doc__',\n",
       " '__file__',\n",
       " '__loader__',\n",
       " '__name__',\n",
       " '__package__',\n",
       " '__path__',\n",
       " '__spec__',\n",
       " '__version__']"
      ]
     },
     "execution_count": 2,
     "metadata": {},
     "output_type": "execute_result"
    }
   ],
   "source": [
    "dir(selenium)"
   ]
  },
  {
   "cell_type": "code",
   "execution_count": 54,
   "id": "ddfb2ea5-dd92-4f29-80cf-da363652f5c6",
   "metadata": {},
   "outputs": [],
   "source": [
    "from selenium import webdriver\n",
    "from selenium.webdriver.common.by import By # find_element, find_elements 에서 찾고자 하는 형태 NAME, CLASS\n",
    "from selenium.webdriver.common.keys import Keys # 키 사용 ENTER, PAGEDOWN등.."
   ]
  },
  {
   "cell_type": "code",
   "execution_count": 55,
   "id": "2f6fbae2-2440-4719-b310-bbe99bc5b61b",
   "metadata": {},
   "outputs": [],
   "source": [
    "driver = webdriver.Chrome() # 가상 웹 을 크롬으로 실행"
   ]
  },
  {
   "cell_type": "code",
   "execution_count": 62,
   "id": "60dbf240-64e3-4a1f-b490-2ce0c2f3c839",
   "metadata": {},
   "outputs": [],
   "source": [
    "url = \"https://www.google.com/imghp?hl=ko&ogbl\" #주소를 문자열로 입력\n",
    "driver.get(url) # 가상드라이브에 주소창 넘기기"
   ]
  },
  {
   "cell_type": "code",
   "execution_count": 63,
   "id": "612ba0d4-25a7-480f-8010-eeaad8348df6",
   "metadata": {},
   "outputs": [],
   "source": [
    "elem = driver.find_element(By.NAME,\"q\") # 검색창 찾기"
   ]
  },
  {
   "cell_type": "code",
   "execution_count": 64,
   "id": "cd5585ac-778d-43f9-be08-33377acf4f53",
   "metadata": {},
   "outputs": [],
   "source": [
    "search = \"고양이\" #검색어 \n",
    "elem.send_keys(search) #검색에 창에 보기기"
   ]
  },
  {
   "cell_type": "code",
   "execution_count": 65,
   "id": "add7a7a2-8591-4e54-aa17-0e47dff357d7",
   "metadata": {},
   "outputs": [],
   "source": [
    "elem.send_keys(Keys.ENTER) # 엔키키"
   ]
  },
  {
   "cell_type": "code",
   "execution_count": 66,
   "id": "bb0295f1-6328-4ff3-8090-e4b6b9db4273",
   "metadata": {},
   "outputs": [],
   "source": [
    "elems = driver.find_elements(By.CLASS_NAME,\"ob5Hkd\") # 이미지 클릭 가능한 엘레먼트 요소"
   ]
  },
  {
   "cell_type": "code",
   "execution_count": 68,
   "id": "cac3f652-e141-4728-b007-5f1f85a87967",
   "metadata": {},
   "outputs": [],
   "source": [
    "elems[1].click() # 하나만 테스트"
   ]
  },
  {
   "cell_type": "code",
   "execution_count": 69,
   "id": "810f7a8d-3587-4f22-aad1-5c6e05f7bc95",
   "metadata": {},
   "outputs": [
    {
     "data": {
      "text/plain": [
       "'https://flexible.img.hani.co.kr/flexible/normal/970/777/imgdb/resize/2019/0926/00501881_20190926.JPG'"
      ]
     },
     "execution_count": 69,
     "metadata": {},
     "output_type": "execute_result"
    }
   ],
   "source": [
    "driver.find_element(By.CSS_SELECTOR,\".sFlh5c.pT0Scc.iPVvYb\").get_attribute(\"src\") ## 이미지 source 주소"
   ]
  },
  {
   "cell_type": "code",
   "execution_count": 70,
   "id": "c1faf57b-c4cf-4cbd-8281-112bc25e7ff7",
   "metadata": {},
   "outputs": [],
   "source": [
    "from urllib.request import urlretrieve # url주소를 사용하여 다운로드 모듈"
   ]
  },
  {
   "cell_type": "code",
   "execution_count": 14,
   "id": "44e7ba40-ca31-4a0f-8afc-a3c286c678d7",
   "metadata": {},
   "outputs": [
    {
     "data": {
      "text/plain": [
       "('cat.jpg', <http.client.HTTPMessage at 0x1dbb50c0bc0>)"
      ]
     },
     "execution_count": 14,
     "metadata": {},
     "output_type": "execute_result"
    }
   ],
   "source": [
    "src = driver.find_element(By.CSS_SELECTOR,\".sFlh5c.pT0Scc.iPVvYb\").get_attribute(\"src\")\n",
    "file_path=\"\" #아무것도 입력 안하면 현재 주피터가 실행되고 있는 곳 \n",
    "file_name=\"cat.jpg\"\n",
    "urlretrieve(src,file_path+file_name)"
   ]
  },
  {
   "cell_type": "code",
   "execution_count": 15,
   "id": "8ed3aa57-3946-4e69-bdbd-7bc712010612",
   "metadata": {},
   "outputs": [],
   "source": [
    "driver.implicitly_wait(3) # 페이지 기다리기"
   ]
  },
  {
   "cell_type": "code",
   "execution_count": null,
   "id": "70accc8d-6085-4435-851f-ef80a810e7a5",
   "metadata": {},
   "outputs": [],
   "source": []
  }
 ],
 "metadata": {
  "kernelspec": {
   "display_name": "Python 3",
   "language": "python",
   "name": "python3"
  },
  "language_info": {
   "codemirror_mode": {
    "name": "ipython",
    "version": 3
   },
   "file_extension": ".py",
   "mimetype": "text/x-python",
   "name": "python",
   "nbconvert_exporter": "python",
   "pygments_lexer": "ipython3",
   "version": "3.12.4"
  }
 },
 "nbformat": 4,
 "nbformat_minor": 5
}
