{
 "cells": [
  {
   "cell_type": "code",
   "execution_count": 165,
   "id": "5b206ef1-6f1f-43fd-b1b6-dffc40057f58",
   "metadata": {},
   "outputs": [],
   "source": [
    "from selenium import webdriver\n",
    "from selenium.webdriver.common.by import By\n",
    "from selenium.webdriver.common.keys import Keys"
   ]
  },
  {
   "cell_type": "code",
   "execution_count": 166,
   "id": "519df875-b55f-400d-a0f6-8cd58fe84843",
   "metadata": {},
   "outputs": [],
   "source": [
    "driver = webdriver.Chrome()"
   ]
  },
  {
   "cell_type": "code",
   "execution_count": 167,
   "id": "79efb5a1-a3bb-4e80-8ced-0aedad823550",
   "metadata": {},
   "outputs": [],
   "source": [
    "url = \"https://www.etnews.com/\"\n",
    "driver.get(url)\n",
    "driver.implicitly_wait(3)"
   ]
  },
  {
   "cell_type": "code",
   "execution_count": 168,
   "id": "890b0f5f-dfd5-40f4-97f3-6284fc0d7dcb",
   "metadata": {},
   "outputs": [],
   "source": [
    "search = '북한'\n",
    "elem = driver.find_element(By.NAME,'kwd')\n",
    "elem.send_keys(search)\n",
    "elem.send_keys(Keys.ENTER)"
   ]
  },
  {
   "cell_type": "code",
   "execution_count": 169,
   "id": "3e237a49-cf16-483a-948d-f46366bd98de",
   "metadata": {},
   "outputs": [],
   "source": [
    "elem = driver.find_element(By.CLASS_NAME,'more_searchview')\n",
    "elem = elem.find_element(By.TAG_NAME,'a')\n",
    "elem.click()\n",
    "driver.implicitly_wait(3)"
   ]
  },
  {
   "cell_type": "code",
   "execution_count": 158,
   "id": "10ee2bb4-84e5-4bcc-99bc-86a55eaa77c4",
   "metadata": {},
   "outputs": [],
   "source": [
    "elems = driver.find_elements(By.CSS_SELECTOR,\"ul>li>dl>dt>a\")"
   ]
  },
  {
   "cell_type": "code",
   "execution_count": 159,
   "id": "b61946bb-b0e4-46ec-816e-6271750fdb08",
   "metadata": {},
   "outputs": [],
   "source": [
    "title = []\n",
    "content = []\n",
    "for elem in elems:\n",
    "    try:\n",
    "        url = elem.get_attribute('href')\n",
    "        driver.get(url)\n",
    "        driver.implicitly_wait(10)\n",
    "        tmp_title = driver.find_element(By.TAG_NAME,'h2').text\n",
    "        tmp_content = driver.find_element(By.TAG_NAME,'p').text\n",
    "        title.append(tmp_title)\n",
    "        content.append(tmp_content)\n",
    "        driver.execute_script(\"history.back(-1)\")\n",
    "        driver.implicitly_wait(10)\n",
    "    except:\n",
    "        print(url)\n",
    "elem = driver.find_element(By.CLASS_NAME,'paginate')\n",
    "page = int(elem.find_element(By.CLASS_NAME,'on').text)\n",
    "elems = elem.find_elements(By.TAG_NAME,'a')\n",
    "elems[page].click()"
   ]
  },
  {
   "cell_type": "code",
   "execution_count": 162,
   "id": "e0a5147d-4096-4ded-b14c-64e7df4938b3",
   "metadata": {
    "collapsed": true,
    "jupyter": {
     "outputs_hidden": true
    }
   },
   "outputs": [
    {
     "name": "stdout",
     "output_type": "stream",
     "text": [
      "https://www.etnews.com/20240604000089\n",
      "https://www.etnews.com/20240604000089\n",
      "https://www.etnews.com/20240604000089\n",
      "https://www.etnews.com/20240604000089\n",
      "https://www.etnews.com/20240604000089\n",
      "https://www.etnews.com/20240604000089\n",
      "https://www.etnews.com/20240604000089\n"
     ]
    },
    {
     "ename": "WebDriverException",
     "evalue": "Message: disconnected: not connected to DevTools\n  (failed to check if window was closed: disconnected: not connected to DevTools)\n  (Session info: chrome=126.0.6478.182)\nStacktrace:\n\tGetHandleVerifier [0x00007FF76733EEB2+31554]\n\t(No symbol) [0x00007FF7672B7EE9]\n\t(No symbol) [0x00007FF76717872A]\n\t(No symbol) [0x00007FF76715FA9C]\n\t(No symbol) [0x00007FF76715F960]\n\t(No symbol) [0x00007FF76717AD51]\n\t(No symbol) [0x00007FF76720C079]\n\t(No symbol) [0x00007FF7671ECDD3]\n\t(No symbol) [0x00007FF7671BA33B]\n\t(No symbol) [0x00007FF7671BAED1]\n\tGetHandleVerifier [0x00007FF767648B2D+3217341]\n\tGetHandleVerifier [0x00007FF767695AF3+3532675]\n\tGetHandleVerifier [0x00007FF76768B0F0+3489152]\n\tGetHandleVerifier [0x00007FF7673EE786+750614]\n\t(No symbol) [0x00007FF7672C376F]\n\t(No symbol) [0x00007FF7672BEB24]\n\t(No symbol) [0x00007FF7672BECB2]\n\t(No symbol) [0x00007FF7672AE17F]\n\tBaseThreadInitThunk [0x00007FFAA789257D+29]\n\tRtlUserThreadStart [0x00007FFAA84EAF28+40]\n",
     "output_type": "error",
     "traceback": [
      "\u001b[1;31m---------------------------------------------------------------------------\u001b[0m",
      "\u001b[1;31mWebDriverException\u001b[0m                        Traceback (most recent call last)",
      "Cell \u001b[1;32mIn[162], line 15\u001b[0m\n\u001b[0;32m     13\u001b[0m     \u001b[38;5;28;01mexcept\u001b[39;00m:\n\u001b[0;32m     14\u001b[0m         \u001b[38;5;28mprint\u001b[39m(url)\n\u001b[1;32m---> 15\u001b[0m elem \u001b[38;5;241m=\u001b[39m driver\u001b[38;5;241m.\u001b[39mfind_element(By\u001b[38;5;241m.\u001b[39mCLASS_NAME,\u001b[38;5;124m'\u001b[39m\u001b[38;5;124mpaginate\u001b[39m\u001b[38;5;124m'\u001b[39m)\n\u001b[0;32m     16\u001b[0m page \u001b[38;5;241m=\u001b[39m \u001b[38;5;28mint\u001b[39m(elem\u001b[38;5;241m.\u001b[39mfind_element(By\u001b[38;5;241m.\u001b[39mCLASS_NAME,\u001b[38;5;124m'\u001b[39m\u001b[38;5;124mon\u001b[39m\u001b[38;5;124m'\u001b[39m)\u001b[38;5;241m.\u001b[39mtext)\n\u001b[0;32m     17\u001b[0m elems \u001b[38;5;241m=\u001b[39m elem\u001b[38;5;241m.\u001b[39mfind_elements(By\u001b[38;5;241m.\u001b[39mTAG_NAME,\u001b[38;5;124m'\u001b[39m\u001b[38;5;124ma\u001b[39m\u001b[38;5;124m'\u001b[39m)\n",
      "File \u001b[1;32m~\\anaconda3\\envs\\allomyrina\\Lib\\site-packages\\selenium\\webdriver\\remote\\webdriver.py:748\u001b[0m, in \u001b[0;36mWebDriver.find_element\u001b[1;34m(self, by, value)\u001b[0m\n\u001b[0;32m    745\u001b[0m     by \u001b[38;5;241m=\u001b[39m By\u001b[38;5;241m.\u001b[39mCSS_SELECTOR\n\u001b[0;32m    746\u001b[0m     value \u001b[38;5;241m=\u001b[39m \u001b[38;5;124mf\u001b[39m\u001b[38;5;124m'\u001b[39m\u001b[38;5;124m[name=\u001b[39m\u001b[38;5;124m\"\u001b[39m\u001b[38;5;132;01m{\u001b[39;00mvalue\u001b[38;5;132;01m}\u001b[39;00m\u001b[38;5;124m\"\u001b[39m\u001b[38;5;124m]\u001b[39m\u001b[38;5;124m'\u001b[39m\n\u001b[1;32m--> 748\u001b[0m \u001b[38;5;28;01mreturn\u001b[39;00m \u001b[38;5;28mself\u001b[39m\u001b[38;5;241m.\u001b[39mexecute(Command\u001b[38;5;241m.\u001b[39mFIND_ELEMENT, {\u001b[38;5;124m\"\u001b[39m\u001b[38;5;124musing\u001b[39m\u001b[38;5;124m\"\u001b[39m: by, \u001b[38;5;124m\"\u001b[39m\u001b[38;5;124mvalue\u001b[39m\u001b[38;5;124m\"\u001b[39m: value})[\u001b[38;5;124m\"\u001b[39m\u001b[38;5;124mvalue\u001b[39m\u001b[38;5;124m\"\u001b[39m]\n",
      "File \u001b[1;32m~\\anaconda3\\envs\\allomyrina\\Lib\\site-packages\\selenium\\webdriver\\remote\\webdriver.py:354\u001b[0m, in \u001b[0;36mWebDriver.execute\u001b[1;34m(self, driver_command, params)\u001b[0m\n\u001b[0;32m    352\u001b[0m response \u001b[38;5;241m=\u001b[39m \u001b[38;5;28mself\u001b[39m\u001b[38;5;241m.\u001b[39mcommand_executor\u001b[38;5;241m.\u001b[39mexecute(driver_command, params)\n\u001b[0;32m    353\u001b[0m \u001b[38;5;28;01mif\u001b[39;00m response:\n\u001b[1;32m--> 354\u001b[0m     \u001b[38;5;28mself\u001b[39m\u001b[38;5;241m.\u001b[39merror_handler\u001b[38;5;241m.\u001b[39mcheck_response(response)\n\u001b[0;32m    355\u001b[0m     response[\u001b[38;5;124m\"\u001b[39m\u001b[38;5;124mvalue\u001b[39m\u001b[38;5;124m\"\u001b[39m] \u001b[38;5;241m=\u001b[39m \u001b[38;5;28mself\u001b[39m\u001b[38;5;241m.\u001b[39m_unwrap_value(response\u001b[38;5;241m.\u001b[39mget(\u001b[38;5;124m\"\u001b[39m\u001b[38;5;124mvalue\u001b[39m\u001b[38;5;124m\"\u001b[39m, \u001b[38;5;28;01mNone\u001b[39;00m))\n\u001b[0;32m    356\u001b[0m     \u001b[38;5;28;01mreturn\u001b[39;00m response\n",
      "File \u001b[1;32m~\\anaconda3\\envs\\allomyrina\\Lib\\site-packages\\selenium\\webdriver\\remote\\errorhandler.py:229\u001b[0m, in \u001b[0;36mErrorHandler.check_response\u001b[1;34m(self, response)\u001b[0m\n\u001b[0;32m    227\u001b[0m         alert_text \u001b[38;5;241m=\u001b[39m value[\u001b[38;5;124m\"\u001b[39m\u001b[38;5;124malert\u001b[39m\u001b[38;5;124m\"\u001b[39m]\u001b[38;5;241m.\u001b[39mget(\u001b[38;5;124m\"\u001b[39m\u001b[38;5;124mtext\u001b[39m\u001b[38;5;124m\"\u001b[39m)\n\u001b[0;32m    228\u001b[0m     \u001b[38;5;28;01mraise\u001b[39;00m exception_class(message, screen, stacktrace, alert_text)  \u001b[38;5;66;03m# type: ignore[call-arg]  # mypy is not smart enough here\u001b[39;00m\n\u001b[1;32m--> 229\u001b[0m \u001b[38;5;28;01mraise\u001b[39;00m exception_class(message, screen, stacktrace)\n",
      "\u001b[1;31mWebDriverException\u001b[0m: Message: disconnected: not connected to DevTools\n  (failed to check if window was closed: disconnected: not connected to DevTools)\n  (Session info: chrome=126.0.6478.182)\nStacktrace:\n\tGetHandleVerifier [0x00007FF76733EEB2+31554]\n\t(No symbol) [0x00007FF7672B7EE9]\n\t(No symbol) [0x00007FF76717872A]\n\t(No symbol) [0x00007FF76715FA9C]\n\t(No symbol) [0x00007FF76715F960]\n\t(No symbol) [0x00007FF76717AD51]\n\t(No symbol) [0x00007FF76720C079]\n\t(No symbol) [0x00007FF7671ECDD3]\n\t(No symbol) [0x00007FF7671BA33B]\n\t(No symbol) [0x00007FF7671BAED1]\n\tGetHandleVerifier [0x00007FF767648B2D+3217341]\n\tGetHandleVerifier [0x00007FF767695AF3+3532675]\n\tGetHandleVerifier [0x00007FF76768B0F0+3489152]\n\tGetHandleVerifier [0x00007FF7673EE786+750614]\n\t(No symbol) [0x00007FF7672C376F]\n\t(No symbol) [0x00007FF7672BEB24]\n\t(No symbol) [0x00007FF7672BECB2]\n\t(No symbol) [0x00007FF7672AE17F]\n\tBaseThreadInitThunk [0x00007FFAA789257D+29]\n\tRtlUserThreadStart [0x00007FFAA84EAF28+40]\n"
     ]
    }
   ],
   "source": [
    "elems = driver.find_elements(By.CSS_SELECTOR,\"ul>li>dl>dt>a\")\n",
    "for elem in elems:\n",
    "    try:\n",
    "        url = elem.get_attribute('href')\n",
    "        driver.get(url)\n",
    "        driver.implicitly_wait(10)\n",
    "        tmp_title = driver.find_element(By.TAG_NAME,'h2').text\n",
    "        tmp_content = driver.find_element(By.TAG_NAME,'p').text\n",
    "        title.append(tmp_title)\n",
    "        content.append(tmp_content)\n",
    "        driver.execute_script(\"history.back(-1)\")\n",
    "        driver.implicitly_wait(10)\n",
    "    except:\n",
    "        print(url)\n",
    "elem = driver.find_element(By.CLASS_NAME,'paginate')\n",
    "page = int(elem.find_element(By.CLASS_NAME,'on').text[-1])\n",
    "elems = elem.find_elements(By.TAG_NAME,'a')\n",
    "elems[page].click()"
   ]
  },
  {
   "cell_type": "code",
   "execution_count": null,
   "id": "473c3a74-f668-4b92-af3d-5859db1431fa",
   "metadata": {},
   "outputs": [],
   "source": [
    "for _ in range(100):\n",
    "    elem = driver.find_element(By.CLASS_NAME,'paginate')\n",
    "    elems = elem.find_elements(By.TAG_NAME,'a')\n",
    "    if len(elems) == 11:\n",
    "        page = int(elem.find_element(By.CLASS_NAME,'on').text[-1])\n",
    "    elif len(elems) == 12:\n",
    "        page = int(elem.find_element(By.CLASS_NAME,'on').text[-1]) + 1\n",
    "    elems[page].click()"
   ]
  },
  {
   "cell_type": "code",
   "execution_count": 183,
   "id": "16714ec2-daa9-403b-adc9-607e2219208a",
   "metadata": {},
   "outputs": [
    {
     "data": {
      "text/plain": [
       "12"
      ]
     },
     "execution_count": 183,
     "metadata": {},
     "output_type": "execute_result"
    }
   ],
   "source": [
    "len(elems)"
   ]
  },
  {
   "cell_type": "code",
   "execution_count": 176,
   "id": "8ac2e88f-959f-4eb4-bbbf-767601f84d89",
   "metadata": {},
   "outputs": [],
   "source": [
    "elems[page].click()"
   ]
  },
  {
   "cell_type": "code",
   "execution_count": 172,
   "id": "92ba7e46-c9ba-4520-8fd0-093897fd491b",
   "metadata": {},
   "outputs": [
    {
     "data": {
      "text/plain": [
       "11"
      ]
     },
     "execution_count": 172,
     "metadata": {},
     "output_type": "execute_result"
    }
   ],
   "source": [
    "len(elems)"
   ]
  },
  {
   "cell_type": "code",
   "execution_count": null,
   "id": "dca315c8-fb2e-4d36-bf92-49cb8eeec6a7",
   "metadata": {},
   "outputs": [],
   "source": []
  }
 ],
 "metadata": {
  "kernelspec": {
   "display_name": "Python 3",
   "language": "python",
   "name": "python3"
  },
  "language_info": {
   "codemirror_mode": {
    "name": "ipython",
    "version": 3
   },
   "file_extension": ".py",
   "mimetype": "text/x-python",
   "name": "python",
   "nbconvert_exporter": "python",
   "pygments_lexer": "ipython3",
   "version": "3.12.4"
  }
 },
 "nbformat": 4,
 "nbformat_minor": 5
}
