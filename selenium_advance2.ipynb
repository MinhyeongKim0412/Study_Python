{
 "cells": [
  {
   "cell_type": "code",
   "execution_count": 16,
   "id": "1fdc2af1-5c67-408c-a2ec-fc59462f997e",
   "metadata": {},
   "outputs": [],
   "source": [
    "from selenium import webdriver\n",
    "from selenium.webdriver.common.by import By \n",
    "from selenium.webdriver.common.keys import Keys\n",
    "from urllib.request import urlretrieve\n",
    "from bs4 import BeautifulSoup as bs\n",
    "import pandas as pd"
   ]
  },
  {
   "cell_type": "code",
   "execution_count": 17,
   "id": "6d5c4232-d8f2-4795-ab20-2b3e68a93df1",
   "metadata": {},
   "outputs": [],
   "source": [
    "driver = webdriver.Chrome()\n",
    "url = \"https://www.etnews.com/news/section.html?id1=04 \"\n",
    "driver.get(url)"
   ]
  },
  {
   "cell_type": "code",
   "execution_count": 19,
   "id": "6aa44b42-972f-4fa7-aacf-18a3ece67c6d",
   "metadata": {},
   "outputs": [],
   "source": [
    "elem = driver.find_element(By.NAME,\"kwd\")"
   ]
  },
  {
   "cell_type": "code",
   "execution_count": 20,
   "id": "725b1843-cbe6-47c9-bc59-0d4bd53ce114",
   "metadata": {},
   "outputs": [],
   "source": [
    "search = \"석유\"\n",
    "elem.send_keys(search)"
   ]
  },
  {
   "cell_type": "code",
   "execution_count": 21,
   "id": "443f5de3-3844-4e28-8b65-57bd1bbddf10",
   "metadata": {},
   "outputs": [],
   "source": [
    "elem.send_keys(Keys.ENTER)"
   ]
  },
  {
   "cell_type": "code",
   "execution_count": 22,
   "id": "3eed3e58-b912-42a1-a4fe-e388c6fc5ddd",
   "metadata": {},
   "outputs": [],
   "source": [
    "elem = driver.find_element(By.CLASS_NAME,\"more_searchview\").find_element(By.TAG_NAME,\"a\")"
   ]
  },
  {
   "cell_type": "code",
   "execution_count": 23,
   "id": "24297077-f64a-4fb2-ab5b-35802357db1b",
   "metadata": {},
   "outputs": [],
   "source": [
    "elem.click()"
   ]
  },
  {
   "cell_type": "code",
   "execution_count": 24,
   "id": "813f4e8f-b639-4bf8-a929-d94241b54b28",
   "metadata": {},
   "outputs": [],
   "source": [
    "hrefs = driver.find_elements(By.CSS_SELECTOR,\"ul>li>dl>dt>a\")"
   ]
  },
  {
   "cell_type": "code",
   "execution_count": 25,
   "id": "9d624e84-460b-4b63-873d-bcd38c6d8596",
   "metadata": {},
   "outputs": [
    {
     "name": "stdout",
     "output_type": "stream",
     "text": [
      "https://www.etnews.com/20240702000096\n",
      "https://www.etnews.com/20240702000096\n",
      "https://www.etnews.com/20240702000096\n",
      "https://www.etnews.com/20240702000096\n"
     ]
    }
   ],
   "source": [
    "article = []\n",
    "for href in hrefs:\n",
    "    try:\n",
    "        url =  href.get_attribute(\"href\")\n",
    "        driver.get(url)\n",
    "        driver.implicitly_wait(10)\n",
    "        title = driver.find_element(By.TAG_NAME,\"h2\").text\n",
    "        content = driver.find_element(By.TAG_NAME,\"p\").text\n",
    "        tmp = {'title':title,'content':content}\n",
    "        article.append(tmp)\n",
    "        driver.execute_script(\"history.back(-1)\")\n",
    "        driver.implicitly_wait(10)\n",
    "    except:\n",
    "        print(url)"
   ]
  },
  {
   "cell_type": "code",
   "execution_count": 26,
   "id": "5014ff5b-1e63-4c7f-8d1c-fe7c21bcdc68",
   "metadata": {},
   "outputs": [
    {
     "data": {
      "text/html": [
       "<div>\n",
       "<style scoped>\n",
       "    .dataframe tbody tr th:only-of-type {\n",
       "        vertical-align: middle;\n",
       "    }\n",
       "\n",
       "    .dataframe tbody tr th {\n",
       "        vertical-align: top;\n",
       "    }\n",
       "\n",
       "    .dataframe thead th {\n",
       "        text-align: right;\n",
       "    }\n",
       "</style>\n",
       "<table border=\"1\" class=\"dataframe\">\n",
       "  <thead>\n",
       "    <tr style=\"text-align: right;\">\n",
       "      <th></th>\n",
       "      <th>title</th>\n",
       "      <th>content</th>\n",
       "    </tr>\n",
       "  </thead>\n",
       "  <tbody>\n",
       "    <tr>\n",
       "      <th>0</th>\n",
       "      <td>SK지오센트릭, 지속가능 합성섬유 생산…노스페이스 의류에 사용</td>\n",
       "      <td>SK지오센트릭은 핀란드 최대 석유기업 네스테, 태국 석유화학기업 인도라마 벤처스, ...</td>\n",
       "    </tr>\n",
       "    <tr>\n",
       "      <th>1</th>\n",
       "      <td>이훈기 롯데케미칼 대표 “2030년 기업가치 50조원 이상달성할 것”</td>\n",
       "      <td>이훈기 롯데케미칼 대표가 2030년 기업가치 50조원 이상 달성할 것이라는 포부를 ...</td>\n",
       "    </tr>\n",
       "    <tr>\n",
       "      <th>2</th>\n",
       "      <td>서부발전, 금감원 첫 그린워싱 사례 되나…“녹색채권 조달자금 LNG발전 유용”</td>\n",
       "      <td>금융감독원에 처음으로 '그린워싱(위장 환경주의)'으로 신고된 사례가 등장했다. 녹색...</td>\n",
       "    </tr>\n",
       "    <tr>\n",
       "      <th>3</th>\n",
       "      <td>데이터빈, 미창석유공업 투자 유치…액침냉각 사업 협력</td>\n",
       "      <td>데이터빈이 미창석유공업과 협력 관계를 맺고 액침냉각 사업을 추진한다. 액침냉각은 특...</td>\n",
       "    </tr>\n",
       "    <tr>\n",
       "      <th>4</th>\n",
       "      <td>한은 “물가 2%대 수준 긍정적…둔화추세 이어갈 것”</td>\n",
       "      <td>김웅 한국은행 부총재보는 2일 “소비자물가 상승률도 2%대 중반 수준으로 낮아진 점...</td>\n",
       "    </tr>\n",
       "    <tr>\n",
       "      <th>5</th>\n",
       "      <td>전문면접관 시대 앞당기는 '한국면접관협회' 출범</td>\n",
       "      <td>전국 채용 면접관들의 성장과 발전을 도모하고 기업·조직에 최적화된 인재 확보를 지원...</td>\n",
       "    </tr>\n",
       "  </tbody>\n",
       "</table>\n",
       "</div>"
      ],
      "text/plain": [
       "                                         title  \\\n",
       "0           SK지오센트릭, 지속가능 합성섬유 생산…노스페이스 의류에 사용   \n",
       "1       이훈기 롯데케미칼 대표 “2030년 기업가치 50조원 이상달성할 것”   \n",
       "2  서부발전, 금감원 첫 그린워싱 사례 되나…“녹색채권 조달자금 LNG발전 유용”   \n",
       "3                데이터빈, 미창석유공업 투자 유치…액침냉각 사업 협력   \n",
       "4                한은 “물가 2%대 수준 긍정적…둔화추세 이어갈 것”   \n",
       "5                   전문면접관 시대 앞당기는 '한국면접관협회' 출범   \n",
       "\n",
       "                                             content  \n",
       "0  SK지오센트릭은 핀란드 최대 석유기업 네스테, 태국 석유화학기업 인도라마 벤처스, ...  \n",
       "1  이훈기 롯데케미칼 대표가 2030년 기업가치 50조원 이상 달성할 것이라는 포부를 ...  \n",
       "2  금융감독원에 처음으로 '그린워싱(위장 환경주의)'으로 신고된 사례가 등장했다. 녹색...  \n",
       "3  데이터빈이 미창석유공업과 협력 관계를 맺고 액침냉각 사업을 추진한다. 액침냉각은 특...  \n",
       "4  김웅 한국은행 부총재보는 2일 “소비자물가 상승률도 2%대 중반 수준으로 낮아진 점...  \n",
       "5  전국 채용 면접관들의 성장과 발전을 도모하고 기업·조직에 최적화된 인재 확보를 지원...  "
      ]
     },
     "execution_count": 26,
     "metadata": {},
     "output_type": "execute_result"
    }
   ],
   "source": [
    "pd.DataFrame(article)"
   ]
  },
  {
   "cell_type": "code",
   "execution_count": null,
   "id": "bc19fc37-a240-4786-a2f3-ae6fd5c04714",
   "metadata": {},
   "outputs": [],
   "source": [
    "pd."
   ]
  }
 ],
 "metadata": {
  "kernelspec": {
   "display_name": "kwlee",
   "language": "python",
   "name": "kwlee"
  },
  "language_info": {
   "codemirror_mode": {
    "name": "ipython",
    "version": 3
   },
   "file_extension": ".py",
   "mimetype": "text/x-python",
   "name": "python",
   "nbconvert_exporter": "python",
   "pygments_lexer": "ipython3",
   "version": "3.12.3"
  }
 },
 "nbformat": 4,
 "nbformat_minor": 5
}
