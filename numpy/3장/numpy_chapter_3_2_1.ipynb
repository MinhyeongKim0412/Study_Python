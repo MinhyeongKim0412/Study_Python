{
 "cells": [
  {
   "cell_type": "code",
   "execution_count": 1,
   "metadata": {},
   "outputs": [],
   "source": [
    "import numpy as np"
   ]
  },
  {
   "cell_type": "code",
   "execution_count": 2,
   "metadata": {},
   "outputs": [
    {
     "data": {
      "text/plain": [
       "'2.0.1'"
      ]
     },
     "execution_count": 2,
     "metadata": {},
     "output_type": "execute_result"
    }
   ],
   "source": [
    "np.__version__"
   ]
  },
  {
   "cell_type": "markdown",
   "metadata": {},
   "source": [
    "## 예제 3-2-1 논리식으로 검색하기 "
   ]
  },
  {
   "cell_type": "code",
   "execution_count": 3,
   "metadata": {},
   "outputs": [],
   "source": [
    "L = np.random.randn(7,4)"
   ]
  },
  {
   "cell_type": "code",
   "execution_count": 4,
   "metadata": {},
   "outputs": [
    {
     "data": {
      "text/plain": [
       "array([[-0.3720873 ,  0.55924084, -0.3133507 ,  0.05272403],\n",
       "       [-0.90451678,  0.05027145,  1.07584331,  0.62482745],\n",
       "       [ 0.89006437,  0.42069949, -0.21026832, -1.25963607],\n",
       "       [ 1.21060895, -1.02223227,  1.70310534,  2.6943691 ],\n",
       "       [ 0.54081618, -0.21851165,  1.73133344, -1.34410767],\n",
       "       [ 0.3083077 ,  0.44614813,  1.17942386, -1.21944036],\n",
       "       [ 0.22258575,  2.31550821,  0.39779927,  2.21757662]])"
      ]
     },
     "execution_count": 4,
     "metadata": {},
     "output_type": "execute_result"
    }
   ],
   "source": [
    "L"
   ]
  },
  {
   "cell_type": "code",
   "execution_count": 5,
   "metadata": {},
   "outputs": [
    {
     "data": {
      "text/plain": [
       "array([[ True, False,  True, False],\n",
       "       [ True, False, False, False],\n",
       "       [False, False,  True,  True],\n",
       "       [False,  True, False, False],\n",
       "       [False,  True, False,  True],\n",
       "       [False, False, False,  True],\n",
       "       [False, False, False, False]])"
      ]
     },
     "execution_count": 5,
     "metadata": {},
     "output_type": "execute_result"
    }
   ],
   "source": [
    "L < 0"
   ]
  },
  {
   "cell_type": "code",
   "execution_count": 6,
   "metadata": {},
   "outputs": [
    {
     "data": {
      "text/plain": [
       "array([-0.3720873 , -0.3133507 , -0.90451678, -0.21026832, -1.25963607,\n",
       "       -1.02223227, -0.21851165, -1.34410767, -1.21944036])"
      ]
     },
     "execution_count": 6,
     "metadata": {},
     "output_type": "execute_result"
    }
   ],
   "source": [
    "L[ L < 0 ]"
   ]
  },
  {
   "cell_type": "code",
   "execution_count": 7,
   "metadata": {},
   "outputs": [],
   "source": [
    "L[ L < 0 ] = 999"
   ]
  },
  {
   "cell_type": "code",
   "execution_count": 8,
   "metadata": {},
   "outputs": [
    {
     "data": {
      "text/plain": [
       "array([[9.99000000e+02, 5.59240837e-01, 9.99000000e+02, 5.27240282e-02],\n",
       "       [9.99000000e+02, 5.02714539e-02, 1.07584331e+00, 6.24827449e-01],\n",
       "       [8.90064369e-01, 4.20699488e-01, 9.99000000e+02, 9.99000000e+02],\n",
       "       [1.21060895e+00, 9.99000000e+02, 1.70310534e+00, 2.69436910e+00],\n",
       "       [5.40816176e-01, 9.99000000e+02, 1.73133344e+00, 9.99000000e+02],\n",
       "       [3.08307701e-01, 4.46148130e-01, 1.17942386e+00, 9.99000000e+02],\n",
       "       [2.22585750e-01, 2.31550821e+00, 3.97799269e-01, 2.21757662e+00]])"
      ]
     },
     "execution_count": 8,
     "metadata": {},
     "output_type": "execute_result"
    }
   ],
   "source": [
    "L"
   ]
  },
  {
   "cell_type": "code",
   "execution_count": 9,
   "metadata": {},
   "outputs": [],
   "source": [
    "LC = L[ L == 999 ] "
   ]
  },
  {
   "cell_type": "code",
   "execution_count": 10,
   "metadata": {},
   "outputs": [
    {
     "data": {
      "text/plain": [
       "array([999., 999., 999., 999., 999., 999., 999., 999., 999.])"
      ]
     },
     "execution_count": 10,
     "metadata": {},
     "output_type": "execute_result"
    }
   ],
   "source": [
    "LC"
   ]
  },
  {
   "cell_type": "code",
   "execution_count": 11,
   "metadata": {},
   "outputs": [],
   "source": [
    "LC[0] = 1000"
   ]
  },
  {
   "cell_type": "code",
   "execution_count": 12,
   "metadata": {},
   "outputs": [
    {
     "data": {
      "text/plain": [
       "array([1000.,  999.,  999.,  999.,  999.,  999.,  999.,  999.,  999.])"
      ]
     },
     "execution_count": 12,
     "metadata": {},
     "output_type": "execute_result"
    }
   ],
   "source": [
    "LC"
   ]
  },
  {
   "cell_type": "code",
   "execution_count": 13,
   "metadata": {},
   "outputs": [
    {
     "data": {
      "text/plain": [
       "array([[False, False, False, False],\n",
       "       [False, False, False, False],\n",
       "       [False, False, False, False],\n",
       "       [False, False, False, False],\n",
       "       [False, False, False, False],\n",
       "       [False, False, False, False],\n",
       "       [False, False, False, False]])"
      ]
     },
     "execution_count": 13,
     "metadata": {},
     "output_type": "execute_result"
    }
   ],
   "source": [
    "L == 1000"
   ]
  },
  {
   "cell_type": "code",
   "execution_count": 14,
   "metadata": {},
   "outputs": [],
   "source": [
    "LL = L"
   ]
  },
  {
   "cell_type": "code",
   "execution_count": 15,
   "metadata": {},
   "outputs": [
    {
     "data": {
      "text/plain": [
       "False"
      ]
     },
     "execution_count": 15,
     "metadata": {},
     "output_type": "execute_result"
    }
   ],
   "source": [
    "np.may_share_memory(LC, L)"
   ]
  },
  {
   "cell_type": "code",
   "execution_count": 16,
   "metadata": {},
   "outputs": [
    {
     "data": {
      "text/plain": [
       "True"
      ]
     },
     "execution_count": 16,
     "metadata": {},
     "output_type": "execute_result"
    }
   ],
   "source": [
    "np.may_share_memory(LL, L)"
   ]
  },
  {
   "cell_type": "markdown",
   "metadata": {},
   "source": [
    "--------------------------------------------------------------------------------------------"
   ]
  },
  {
   "cell_type": "code",
   "execution_count": 17,
   "metadata": {},
   "outputs": [],
   "source": [
    "# 연습 #\n",
    "\n",
    "## 각 과목 별 평균 이상의 점수만 구해서 각 사람 별 총점 구하기 --> 0으로 점수 대체 (평균 미만 시)\n",
    "\n",
    "score = np.random.randint(60,101,(100,4))"
   ]
  },
  {
   "cell_type": "code",
   "execution_count": 18,
   "metadata": {},
   "outputs": [
    {
     "data": {
      "text/plain": [
       "array([[100,  65,  68,  75],\n",
       "       [ 78,  96,  90,  88],\n",
       "       [ 65,  74,  90,  72],\n",
       "       [ 92,  77,  77,  98],\n",
       "       [ 92,  72,  70,  86],\n",
       "       [ 82,  69,  86,  81],\n",
       "       [ 85,  80,  84,  61],\n",
       "       [ 76,  94,  75,  75],\n",
       "       [ 85,  68,  98,  82],\n",
       "       [ 73,  95,  89,  90],\n",
       "       [ 84,  92,  84,  68],\n",
       "       [ 78,  65,  68,  91],\n",
       "       [ 93,  78,  90,  97],\n",
       "       [ 92,  94,  73,  63],\n",
       "       [100,  73,  67,  64],\n",
       "       [ 72,  87,  65,  80],\n",
       "       [ 86,  62,  73,  64],\n",
       "       [100,  87,  77,  95],\n",
       "       [ 87,  82,  81,  64],\n",
       "       [ 87,  90,  79,  73],\n",
       "       [ 62,  96,  74,  96],\n",
       "       [ 74,  71,  65,  85],\n",
       "       [ 69,  98, 100,  63],\n",
       "       [ 70,  60,  95,  61],\n",
       "       [ 70,  92,  81,  86],\n",
       "       [ 60,  96,  89,  98],\n",
       "       [ 84,  66,  97,  63],\n",
       "       [ 74,  60,  89,  64],\n",
       "       [ 71,  94,  87,  92],\n",
       "       [ 78,  73,  65,  96],\n",
       "       [ 70,  97,  60,  82],\n",
       "       [ 72,  68,  67,  84],\n",
       "       [ 72,  86,  81,  91],\n",
       "       [ 83,  75,  85,  78],\n",
       "       [ 82,  82,  86, 100],\n",
       "       [ 63,  71,  90,  64],\n",
       "       [ 75,  71,  80,  79],\n",
       "       [ 77, 100,  64,  99],\n",
       "       [ 90,  75,  78,  67],\n",
       "       [ 84,  91,  84,  89],\n",
       "       [ 65,  68, 100,  73],\n",
       "       [ 97,  96,  94,  63],\n",
       "       [ 60,  71,  64,  66],\n",
       "       [ 93,  71,  73,  60],\n",
       "       [ 82,  64,  60,  99],\n",
       "       [ 88,  92,  97,  76],\n",
       "       [ 60,  66,  95,  92],\n",
       "       [ 82,  71, 100,  69],\n",
       "       [ 82,  64,  77,  94],\n",
       "       [ 73,  67,  66,  62],\n",
       "       [ 71,  70,  80,  66],\n",
       "       [ 99,  78,  61,  83],\n",
       "       [ 97,  94,  66,  81],\n",
       "       [100,  79,  77, 100],\n",
       "       [ 71,  71,  77,  98],\n",
       "       [ 78,  76,  92,  85],\n",
       "       [ 83,  89,  85,  91],\n",
       "       [ 64,  91,  89,  76],\n",
       "       [ 76,  69,  96,  66],\n",
       "       [ 69,  70,  82,  60],\n",
       "       [ 72,  90,  87,  64],\n",
       "       [ 60,  83,  73,  81],\n",
       "       [ 82,  75,  99,  60],\n",
       "       [ 61,  88,  62,  81],\n",
       "       [ 94,  89,  93,  69],\n",
       "       [ 94,  81,  61,  72],\n",
       "       [ 97,  89,  87,  96],\n",
       "       [ 65,  95,  85,  92],\n",
       "       [ 75,  77,  81,  72],\n",
       "       [ 88, 100,  88,  76],\n",
       "       [ 92,  60,  83,  97],\n",
       "       [ 94,  73,  62,  68],\n",
       "       [ 68,  98,  90,  76],\n",
       "       [ 95,  75,  76,  88],\n",
       "       [ 60,  78,  81,  61],\n",
       "       [ 91,  71,  68,  74],\n",
       "       [ 96,  65,  84,  80],\n",
       "       [ 74,  85,  96,  82],\n",
       "       [ 93,  96,  91, 100],\n",
       "       [ 89,  95,  89,  64],\n",
       "       [ 89,  79,  91,  74],\n",
       "       [ 93,  78,  88,  72],\n",
       "       [100,  79,  69,  71],\n",
       "       [ 76,  97,  78,  74],\n",
       "       [ 77,  69,  63,  77],\n",
       "       [ 82,  64,  98,  91],\n",
       "       [ 96,  98,  63,  79],\n",
       "       [ 68,  95,  95,  74],\n",
       "       [ 97,  76,  86,  80],\n",
       "       [ 62,  82,  96,  86],\n",
       "       [ 79,  75,  91,  69],\n",
       "       [ 62,  85,  94,  81],\n",
       "       [ 77,  71,  93,  66],\n",
       "       [ 86,  97,  73,  81],\n",
       "       [ 91,  72,  81,  86],\n",
       "       [ 92,  64,  67,  82],\n",
       "       [ 88,  99,  64,  72],\n",
       "       [ 91,  84,  63,  88],\n",
       "       [100,  71,  68,  82],\n",
       "       [ 98,  83,  74,  94]], dtype=int32)"
      ]
     },
     "execution_count": 18,
     "metadata": {},
     "output_type": "execute_result"
    }
   ],
   "source": [
    "score"
   ]
  },
  {
   "cell_type": "code",
   "execution_count": 19,
   "metadata": {},
   "outputs": [
    {
     "data": {
      "text/plain": [
       "array([100,  96,  90,  88,  90,  92,  98,  92,  86,  82,  86,  81,  85,\n",
       "        84,  94,  85,  98,  82,  95,  89,  90,  84,  92,  84,  91,  93,\n",
       "        90,  97,  92,  94, 100,  87,  80,  86, 100,  87,  95,  87,  82,\n",
       "        81,  87,  90,  96,  96,  85,  98, 100,  95,  92,  81,  86,  96,\n",
       "        89,  98,  84,  97,  89,  94,  87,  92,  96,  97,  82,  84,  86,\n",
       "        81,  91,  83,  85,  82,  82,  86, 100,  90,  79, 100,  99,  90,\n",
       "        84,  91,  84,  89, 100,  97,  96,  94,  93,  82,  99,  88,  92,\n",
       "        97,  95,  92,  82, 100,  82,  94,  99,  83,  97,  94,  81, 100,\n",
       "       100,  98,  92,  85,  83,  89,  85,  91,  91,  89,  96,  82,  90,\n",
       "        87,  83,  81,  82,  99,  88,  81,  94,  89,  93,  94,  81,  97,\n",
       "        89,  87,  96,  95,  85,  92,  81,  88, 100,  88,  92,  83,  97,\n",
       "        94,  98,  90,  95,  88,  81,  91,  96,  84,  80,  85,  96,  82,\n",
       "        93,  96,  91, 100,  89,  95,  89,  89,  91,  93,  88, 100,  97,\n",
       "        82,  98,  91,  96,  98,  79,  95,  95,  97,  86,  80,  82,  96,\n",
       "        86,  91,  85,  94,  81,  93,  86,  97,  81,  91,  81,  86,  92,\n",
       "        82,  88,  99,  91,  84,  88, 100,  82,  98,  83,  94], dtype=int32)"
      ]
     },
     "execution_count": 19,
     "metadata": {},
     "output_type": "execute_result"
    }
   ],
   "source": [
    "score[score > score.mean(0)]"
   ]
  },
  {
   "cell_type": "code",
   "execution_count": 20,
   "metadata": {},
   "outputs": [
    {
     "data": {
      "text/plain": [
       "array([[ True, False, False, False],\n",
       "       [False,  True,  True,  True],\n",
       "       [False, False,  True, False],\n",
       "       [ True, False, False,  True],\n",
       "       [ True, False, False,  True],\n",
       "       [ True, False,  True,  True],\n",
       "       [ True, False,  True, False],\n",
       "       [False,  True, False, False],\n",
       "       [ True, False,  True,  True],\n",
       "       [False,  True,  True,  True],\n",
       "       [ True,  True,  True, False],\n",
       "       [False, False, False,  True],\n",
       "       [ True, False,  True,  True],\n",
       "       [ True,  True, False, False],\n",
       "       [ True, False, False, False],\n",
       "       [False,  True, False,  True],\n",
       "       [ True, False, False, False],\n",
       "       [ True,  True, False,  True],\n",
       "       [ True,  True,  True, False],\n",
       "       [ True,  True, False, False],\n",
       "       [False,  True, False,  True],\n",
       "       [False, False, False,  True],\n",
       "       [False,  True,  True, False],\n",
       "       [False, False,  True, False],\n",
       "       [False,  True,  True,  True],\n",
       "       [False,  True,  True,  True],\n",
       "       [ True, False,  True, False],\n",
       "       [False, False,  True, False],\n",
       "       [False,  True,  True,  True],\n",
       "       [False, False, False,  True],\n",
       "       [False,  True, False,  True],\n",
       "       [False, False, False,  True],\n",
       "       [False,  True,  True,  True],\n",
       "       [ True, False,  True, False],\n",
       "       [ True,  True,  True,  True],\n",
       "       [False, False,  True, False],\n",
       "       [False, False, False,  True],\n",
       "       [False,  True, False,  True],\n",
       "       [ True, False, False, False],\n",
       "       [ True,  True,  True,  True],\n",
       "       [False, False,  True, False],\n",
       "       [ True,  True,  True, False],\n",
       "       [False, False, False, False],\n",
       "       [ True, False, False, False],\n",
       "       [ True, False, False,  True],\n",
       "       [ True,  True,  True, False],\n",
       "       [False, False,  True,  True],\n",
       "       [ True, False,  True, False],\n",
       "       [ True, False, False,  True],\n",
       "       [False, False, False, False],\n",
       "       [False, False, False, False],\n",
       "       [ True, False, False,  True],\n",
       "       [ True,  True, False,  True],\n",
       "       [ True, False, False,  True],\n",
       "       [False, False, False,  True],\n",
       "       [False, False,  True,  True],\n",
       "       [ True,  True,  True,  True],\n",
       "       [False,  True,  True, False],\n",
       "       [False, False,  True, False],\n",
       "       [False, False,  True, False],\n",
       "       [False,  True,  True, False],\n",
       "       [False,  True, False,  True],\n",
       "       [ True, False,  True, False],\n",
       "       [False,  True, False,  True],\n",
       "       [ True,  True,  True, False],\n",
       "       [ True,  True, False, False],\n",
       "       [ True,  True,  True,  True],\n",
       "       [False,  True,  True,  True],\n",
       "       [False, False,  True, False],\n",
       "       [ True,  True,  True, False],\n",
       "       [ True, False,  True,  True],\n",
       "       [ True, False, False, False],\n",
       "       [False,  True,  True, False],\n",
       "       [ True, False, False,  True],\n",
       "       [False, False,  True, False],\n",
       "       [ True, False, False, False],\n",
       "       [ True, False,  True,  True],\n",
       "       [False,  True,  True,  True],\n",
       "       [ True,  True,  True,  True],\n",
       "       [ True,  True,  True, False],\n",
       "       [ True, False,  True, False],\n",
       "       [ True, False,  True, False],\n",
       "       [ True, False, False, False],\n",
       "       [False,  True, False, False],\n",
       "       [False, False, False, False],\n",
       "       [ True, False,  True,  True],\n",
       "       [ True,  True, False,  True],\n",
       "       [False,  True,  True, False],\n",
       "       [ True, False,  True,  True],\n",
       "       [False,  True,  True,  True],\n",
       "       [False, False,  True, False],\n",
       "       [False,  True,  True,  True],\n",
       "       [False, False,  True, False],\n",
       "       [ True,  True, False,  True],\n",
       "       [ True, False,  True,  True],\n",
       "       [ True, False, False,  True],\n",
       "       [ True,  True, False, False],\n",
       "       [ True,  True, False,  True],\n",
       "       [ True, False, False,  True],\n",
       "       [ True,  True, False,  True]])"
      ]
     },
     "execution_count": 20,
     "metadata": {},
     "output_type": "execute_result"
    }
   ],
   "source": [
    "(score > score.mean(0))"
   ]
  },
  {
   "cell_type": "code",
   "execution_count": 25,
   "metadata": {},
   "outputs": [
    {
     "data": {
      "text/plain": [
       "array([100, 274,  90, 190, 178, 249, 169,  94, 265, 274, 260,  91, 280,\n",
       "       186, 100, 167,  86, 282, 250, 177, 192,  85, 198,  95, 259, 283,\n",
       "       181,  89, 273,  96, 179,  84, 258, 168, 350,  90,  79, 199,  90,\n",
       "       348, 100, 287,   0,  93, 181, 277, 187, 182, 176,   0,   0, 182,\n",
       "       272, 200,  98, 177, 348, 180,  96,  82, 177, 164, 181, 169, 276,\n",
       "       175, 369, 272,  81, 276, 272,  94, 188, 183,  81,  91, 260, 263,\n",
       "       380, 273, 180, 181, 100,  97,   0, 271, 273, 190, 263, 264,  91,\n",
       "       260,  93, 264, 258, 174, 187, 263, 182, 275])"
      ]
     },
     "execution_count": 25,
     "metadata": {},
     "output_type": "execute_result"
    }
   ],
   "source": [
    "(score*(score > score.mean(0))).sum(1)"
   ]
  },
  {
   "cell_type": "code",
   "execution_count": 24,
   "metadata": {},
   "outputs": [
    {
     "data": {
      "text/plain": [
       "(100, 4)"
      ]
     },
     "execution_count": 24,
     "metadata": {},
     "output_type": "execute_result"
    }
   ],
   "source": [
    "score.shape"
   ]
  },
  {
   "cell_type": "markdown",
   "metadata": {},
   "source": [
    "--------------------------------------------------------------------------------------------"
   ]
  },
  {
   "cell_type": "code",
   "execution_count": 40,
   "metadata": {},
   "outputs": [],
   "source": [
    "## 변형 - 각 과목 별 평균점수 이하인 사람의 해당 과목 점수는 평균점으로 대체,\n",
    "## 이후 각 개인 별 총점은?\n",
    "\n",
    "# boolean, apply 이용\n",
    "\n",
    "def xx(x):\n",
    "    return np.where(x > x.mean(0),x,x.mean())"
   ]
  },
  {
   "cell_type": "code",
   "execution_count": 41,
   "metadata": {},
   "outputs": [
    {
     "data": {
      "text/plain": [
       "array([100.  ,  81.21,  81.21,  92.  ,  92.  ,  82.  ,  85.  ,  81.21,\n",
       "        85.  ,  81.21,  84.  ,  81.21,  93.  ,  92.  , 100.  ,  81.21,\n",
       "        86.  , 100.  ,  87.  ,  87.  ,  81.21,  81.21,  81.21,  81.21,\n",
       "        81.21,  81.21,  84.  ,  81.21,  81.21,  81.21,  81.21,  81.21,\n",
       "        81.21,  83.  ,  82.  ,  81.21,  81.21,  81.21,  90.  ,  84.  ,\n",
       "        81.21,  97.  ,  81.21,  93.  ,  82.  ,  88.  ,  81.21,  82.  ,\n",
       "        82.  ,  81.21,  81.21,  99.  ,  97.  , 100.  ,  81.21,  81.21,\n",
       "        83.  ,  81.21,  81.21,  81.21,  81.21,  81.21,  82.  ,  81.21,\n",
       "        94.  ,  94.  ,  97.  ,  81.21,  81.21,  88.  ,  92.  ,  94.  ,\n",
       "        81.21,  95.  ,  81.21,  91.  ,  96.  ,  81.21,  93.  ,  89.  ,\n",
       "        89.  ,  93.  , 100.  ,  81.21,  81.21,  82.  ,  96.  ,  81.21,\n",
       "        97.  ,  81.21,  81.21,  81.21,  81.21,  86.  ,  91.  ,  92.  ,\n",
       "        88.  ,  91.  , 100.  ,  98.  ])"
      ]
     },
     "execution_count": 41,
     "metadata": {},
     "output_type": "execute_result"
    }
   ],
   "source": [
    "xx(score[:,0])"
   ]
  },
  {
   "cell_type": "code",
   "execution_count": 42,
   "metadata": {},
   "outputs": [
    {
     "data": {
      "text/plain": [
       "array([ 80.2,  96. ,  80.2,  80.2,  80.2,  80.2,  80.2,  94. ,  80.2,\n",
       "        95. ,  92. ,  80.2,  80.2,  94. ,  80.2,  87. ,  80.2,  87. ,\n",
       "        82. ,  90. ,  96. ,  80.2,  98. ,  80.2,  92. ,  96. ,  80.2,\n",
       "        80.2,  94. ,  80.2,  97. ,  80.2,  86. ,  80.2,  82. ,  80.2,\n",
       "        80.2, 100. ,  80.2,  91. ,  80.2,  96. ,  80.2,  80.2,  80.2,\n",
       "        92. ,  80.2,  80.2,  80.2,  80.2,  80.2,  80.2,  94. ,  80.2,\n",
       "        80.2,  80.2,  89. ,  91. ,  80.2,  80.2,  90. ,  83. ,  80.2,\n",
       "        88. ,  89. ,  81. ,  89. ,  95. ,  80.2, 100. ,  80.2,  80.2,\n",
       "        98. ,  80.2,  80.2,  80.2,  80.2,  85. ,  96. ,  95. ,  80.2,\n",
       "        80.2,  80.2,  97. ,  80.2,  80.2,  98. ,  95. ,  80.2,  82. ,\n",
       "        80.2,  85. ,  80.2,  97. ,  80.2,  80.2,  99. ,  84. ,  80.2,\n",
       "        83. ])"
      ]
     },
     "execution_count": 42,
     "metadata": {},
     "output_type": "execute_result"
    }
   ],
   "source": [
    "xx(score[:,1])"
   ]
  },
  {
   "cell_type": "code",
   "execution_count": 45,
   "metadata": {},
   "outputs": [
    {
     "data": {
      "text/plain": [
       "array([339.79, 355.21, 330.37, 350.83, 338.83, 329.2 , 328.16, 334.8 ,\n",
       "       345.2 , 355.21, 338.96, 333.04, 360.2 , 345.59, 339.79, 328.84,\n",
       "       325.79, 362.63, 328.96, 336.59, 353.84, 327.04, 358.17, 335.37,\n",
       "       340.21, 364.21, 340.16, 329.37, 354.21, 338.04, 340.84, 326.04,\n",
       "       339.21, 327.16, 350.  , 330.37, 321.04, 360.84, 329.79, 348.  ,\n",
       "       340.37, 365.96, 321.  , 332.79, 341.83, 355.96, 348.41, 341.16,\n",
       "       336.83, 321.  , 321.  , 342.83, 352.63, 360.83, 340.04, 338.41,\n",
       "       348.  , 340.17, 336.37, 322.37, 337.17, 325.84, 340.16, 330.84,\n",
       "       354.96, 334.59, 369.  , 353.21, 321.37, 354.96, 352.2 , 333.79,\n",
       "       348.17, 343.83, 321.37, 330.79, 340.2 , 344.21, 380.  , 351.96,\n",
       "       339.16, 340.16, 339.79, 337.8 , 321.  , 351.2 , 353.63, 350.17,\n",
       "       343.2 , 345.21, 331.37, 341.21, 333.37, 344.63, 338.2 , 334.83,\n",
       "       346.59, 343.63, 342.83, 355.63])"
      ]
     },
     "execution_count": 45,
     "metadata": {},
     "output_type": "execute_result"
    }
   ],
   "source": [
    "np.apply_along_axis(lambda x: np.where(x>x.mean(), x, x.mean()),0,score).sum(1)"
   ]
  },
  {
   "cell_type": "markdown",
   "metadata": {},
   "source": [
    "--------------------------------------------------------------------------------------------"
   ]
  },
  {
   "cell_type": "code",
   "execution_count": 49,
   "metadata": {},
   "outputs": [
    {
     "data": {
      "text/plain": [
       "np.int64(137)"
      ]
     },
     "execution_count": 49,
     "metadata": {},
     "output_type": "execute_result"
    }
   ],
   "source": [
    "# 1,000명의 8학기 학점 평균\n",
    "np.random.seed(100)\n",
    "score = np.random.randint(60,101,size=(1000,8))\n",
    "\n",
    "# 각 과목 당 학기 별 평균 미만인 점수 개수를 각 개인 별로 산출\n",
    "sum(np.where((score < score.mean(0)).sum(1) > 5, \"fail\", \"pass\") == 'fail')"
   ]
  },
  {
   "cell_type": "markdown",
   "metadata": {},
   "source": [
    "--------------------------------------------------------------------------------------------"
   ]
  },
  {
   "cell_type": "code",
   "execution_count": 51,
   "metadata": {},
   "outputs": [],
   "source": [
    "# 연습 #\n",
    "\n",
    "## 로또를 만 번 샀을 때, 당첨금의 기댓값\n",
    "\n",
    "def generate_lotto_numbers():\n",
    "    return np.random.choice(np.arange(1, 46), 6, replace=False)"
   ]
  },
  {
   "cell_type": "code",
   "execution_count": 52,
   "metadata": {},
   "outputs": [],
   "source": [
    "def calculate_prize(matches):\n",
    "    # 매칭된 숫자의 수에 따른 당첨금 예시\n",
    "    if matches == 6:\n",
    "        return 1000000000  # 10억 원\n",
    "    elif matches == 5:\n",
    "        return 50000000  # 5천만 원\n",
    "    elif matches == 4:\n",
    "        return 1000000  # 백만 원\n",
    "    elif matches == 3:\n",
    "        return 50000  # 오만 원\n",
    "    else:\n",
    "        return 0"
   ]
  },
  {
   "cell_type": "code",
   "execution_count": 53,
   "metadata": {},
   "outputs": [],
   "source": [
    "num_trials = 10000\n",
    "total_prize = 0"
   ]
  },
  {
   "cell_type": "code",
   "execution_count": 54,
   "metadata": {},
   "outputs": [],
   "source": [
    "for _ in range(num_trials):\n",
    "    win_number = generate_lotto_numbers()  # 당첨 번호 생성\n",
    "    my_choice = generate_lotto_numbers()  # 내가 선택한 번호 생성\n",
    "\n",
    "    # 당첨 번호와 내가 선택한 번호의 일치하는 수 계산\n",
    "    matches = np.sum(np.isin(win_number, my_choice))\n",
    "    \n",
    "    # 당첨금 계산\n",
    "    prize = calculate_prize(matches)\n",
    "    total_prize += prize\n",
    "\n",
    "# 당첨금의 기댓값 계산\n",
    "expected_value = total_prize / num_trials"
   ]
  },
  {
   "cell_type": "code",
   "execution_count": 55,
   "metadata": {},
   "outputs": [
    {
     "name": "stdout",
     "output_type": "stream",
     "text": [
      "만 번 샀을 때의 당첨금 기댓값: 7350.0\n"
     ]
    }
   ],
   "source": [
    "print(\"만 번 샀을 때의 당첨금 기댓값:\", expected_value)"
   ]
  }
 ],
 "metadata": {
  "kernelspec": {
   "display_name": "Python 3",
   "language": "python",
   "name": "python3"
  },
  "language_info": {
   "codemirror_mode": {
    "name": "ipython",
    "version": 3
   },
   "file_extension": ".py",
   "mimetype": "text/x-python",
   "name": "python",
   "nbconvert_exporter": "python",
   "pygments_lexer": "ipython3",
   "version": "3.12.4"
  }
 },
 "nbformat": 4,
 "nbformat_minor": 2
}
