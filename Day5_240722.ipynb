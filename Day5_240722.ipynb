{
 "cells": [
  {
   "cell_type": "code",
   "execution_count": 1,
   "id": "567f9c41-2592-4fed-889e-3afde897af11",
   "metadata": {},
   "outputs": [],
   "source": [
    "def my_func(name):\n",
    "    return f\"{name}님 안녕하세요\""
   ]
  },
  {
   "cell_type": "code",
   "execution_count": 2,
   "id": "5742cc1c-6b84-4853-ac3e-ac6238d0f147",
   "metadata": {},
   "outputs": [
    {
     "ename": "KeyboardInterrupt",
     "evalue": "Interrupted by user",
     "output_type": "error",
     "traceback": [
      "\u001b[1;31m---------------------------------------------------------------------------\u001b[0m",
      "\u001b[1;31mKeyboardInterrupt\u001b[0m                         Traceback (most recent call last)",
      "Cell \u001b[1;32mIn[2], line 1\u001b[0m\n\u001b[1;32m----> 1\u001b[0m x \u001b[38;5;241m=\u001b[39m \u001b[38;5;28;43minput\u001b[39;49m\u001b[43m(\u001b[49m\u001b[38;5;124;43m\"\u001b[39;49m\u001b[38;5;124;43m이름을 입력하세요\u001b[39;49m\u001b[38;5;124;43m\"\u001b[39;49m\u001b[43m)\u001b[49m\n\u001b[0;32m      2\u001b[0m my_func(x)\n",
      "File \u001b[1;32mc:\\Python312\\Lib\\site-packages\\ipykernel\\kernelbase.py:1282\u001b[0m, in \u001b[0;36mKernel.raw_input\u001b[1;34m(self, prompt)\u001b[0m\n\u001b[0;32m   1280\u001b[0m     msg \u001b[38;5;241m=\u001b[39m \u001b[38;5;124m\"\u001b[39m\u001b[38;5;124mraw_input was called, but this frontend does not support input requests.\u001b[39m\u001b[38;5;124m\"\u001b[39m\n\u001b[0;32m   1281\u001b[0m     \u001b[38;5;28;01mraise\u001b[39;00m StdinNotImplementedError(msg)\n\u001b[1;32m-> 1282\u001b[0m \u001b[38;5;28;01mreturn\u001b[39;00m \u001b[38;5;28;43mself\u001b[39;49m\u001b[38;5;241;43m.\u001b[39;49m\u001b[43m_input_request\u001b[49m\u001b[43m(\u001b[49m\n\u001b[0;32m   1283\u001b[0m \u001b[43m    \u001b[49m\u001b[38;5;28;43mstr\u001b[39;49m\u001b[43m(\u001b[49m\u001b[43mprompt\u001b[49m\u001b[43m)\u001b[49m\u001b[43m,\u001b[49m\n\u001b[0;32m   1284\u001b[0m \u001b[43m    \u001b[49m\u001b[38;5;28;43mself\u001b[39;49m\u001b[38;5;241;43m.\u001b[39;49m\u001b[43m_parent_ident\u001b[49m\u001b[43m[\u001b[49m\u001b[38;5;124;43m\"\u001b[39;49m\u001b[38;5;124;43mshell\u001b[39;49m\u001b[38;5;124;43m\"\u001b[39;49m\u001b[43m]\u001b[49m\u001b[43m,\u001b[49m\n\u001b[0;32m   1285\u001b[0m \u001b[43m    \u001b[49m\u001b[38;5;28;43mself\u001b[39;49m\u001b[38;5;241;43m.\u001b[39;49m\u001b[43mget_parent\u001b[49m\u001b[43m(\u001b[49m\u001b[38;5;124;43m\"\u001b[39;49m\u001b[38;5;124;43mshell\u001b[39;49m\u001b[38;5;124;43m\"\u001b[39;49m\u001b[43m)\u001b[49m\u001b[43m,\u001b[49m\n\u001b[0;32m   1286\u001b[0m \u001b[43m    \u001b[49m\u001b[43mpassword\u001b[49m\u001b[38;5;241;43m=\u001b[39;49m\u001b[38;5;28;43;01mFalse\u001b[39;49;00m\u001b[43m,\u001b[49m\n\u001b[0;32m   1287\u001b[0m \u001b[43m\u001b[49m\u001b[43m)\u001b[49m\n",
      "File \u001b[1;32mc:\\Python312\\Lib\\site-packages\\ipykernel\\kernelbase.py:1325\u001b[0m, in \u001b[0;36mKernel._input_request\u001b[1;34m(self, prompt, ident, parent, password)\u001b[0m\n\u001b[0;32m   1322\u001b[0m \u001b[38;5;28;01mexcept\u001b[39;00m \u001b[38;5;167;01mKeyboardInterrupt\u001b[39;00m:\n\u001b[0;32m   1323\u001b[0m     \u001b[38;5;66;03m# re-raise KeyboardInterrupt, to truncate traceback\u001b[39;00m\n\u001b[0;32m   1324\u001b[0m     msg \u001b[38;5;241m=\u001b[39m \u001b[38;5;124m\"\u001b[39m\u001b[38;5;124mInterrupted by user\u001b[39m\u001b[38;5;124m\"\u001b[39m\n\u001b[1;32m-> 1325\u001b[0m     \u001b[38;5;28;01mraise\u001b[39;00m \u001b[38;5;167;01mKeyboardInterrupt\u001b[39;00m(msg) \u001b[38;5;28;01mfrom\u001b[39;00m \u001b[38;5;28;01mNone\u001b[39;00m\n\u001b[0;32m   1326\u001b[0m \u001b[38;5;28;01mexcept\u001b[39;00m \u001b[38;5;167;01mException\u001b[39;00m:\n\u001b[0;32m   1327\u001b[0m     \u001b[38;5;28mself\u001b[39m\u001b[38;5;241m.\u001b[39mlog\u001b[38;5;241m.\u001b[39mwarning(\u001b[38;5;124m\"\u001b[39m\u001b[38;5;124mInvalid Message:\u001b[39m\u001b[38;5;124m\"\u001b[39m, exc_info\u001b[38;5;241m=\u001b[39m\u001b[38;5;28;01mTrue\u001b[39;00m)\n",
      "\u001b[1;31mKeyboardInterrupt\u001b[0m: Interrupted by user"
     ]
    }
   ],
   "source": [
    "x = input(\"이름을 입력하세요\")\n",
    "my_func(x)"
   ]
  },
  {
   "cell_type": "code",
   "execution_count": null,
   "id": "c2a28b98-b4cc-4b93-aa48-0fc1ea2f171c",
   "metadata": {},
   "outputs": [],
   "source": [
    "# 여러개의 값을 입력받아 더하는 것\n",
    "def add(x):\n",
    "    return sum(x)\n",
    "def add2(*x):\n",
    "    s = 0\n",
    "    for i in x:\n",
    "        s  += i\n",
    "    return s\n",
    "def add3(*args):\n",
    "    s = 0\n",
    "    for arg in args:\n",
    "        s += arg\n",
    "    return s\n",
    "def add4(*args):\n",
    "    return sum([ arg for arg in args])"
   ]
  },
  {
   "cell_type": "code",
   "execution_count": null,
   "id": "279ab4d1-aa09-4c74-afb1-4f107b53825b",
   "metadata": {},
   "outputs": [],
   "source": [
    "def multi(args):\n",
    "    mul = 1\n",
    "    for arg in args:\n",
    "        mul *= arg\n",
    "    return mul\n",
    "    \n",
    "def calc(method,*args):\n",
    "    if method==\"add\":\n",
    "        return sum([arg for arg in args])\n",
    "    else:\n",
    "        return multi([arg for arg in args])"
   ]
  },
  {
   "cell_type": "code",
   "execution_count": null,
   "id": "682ac805-9094-4cc5-8657-2a81f20a1989",
   "metadata": {},
   "outputs": [
    {
     "data": {
      "text/plain": [
       "24"
      ]
     },
     "execution_count": 35,
     "metadata": {},
     "output_type": "execute_result"
    }
   ],
   "source": [
    "calc(\"mul\",1,2,3,4)"
   ]
  },
  {
   "cell_type": "code",
   "execution_count": null,
   "id": "6e38f780-99a8-47e4-a8af-2f7f8c6ed0e5",
   "metadata": {},
   "outputs": [],
   "source": [
    "def print_n_times(n,*args):\n",
    "    for _ in range(n):\n",
    "        for arg in args:\n",
    "            print(arg)"
   ]
  },
  {
   "cell_type": "code",
   "execution_count": null,
   "id": "d2a1cbd2-d0b3-4b3d-8ee2-de0cc602e330",
   "metadata": {},
   "outputs": [
    {
     "name": "stdout",
     "output_type": "stream",
     "text": [
      "dkfa\n",
      "dkfkadf\n",
      "kldkl\n",
      "ddd\n",
      "dkfa\n",
      "dkfkadf\n",
      "kldkl\n",
      "ddd\n"
     ]
    }
   ],
   "source": [
    "print_n_times(2,\"dkfa\",\"dkfkadf\",\"kldkl\",'ddd')"
   ]
  },
  {
   "cell_type": "code",
   "execution_count": null,
   "id": "8abcb306-62a9-4ffb-bd6f-1a44d871542d",
   "metadata": {},
   "outputs": [
    {
     "name": "stdout",
     "output_type": "stream",
     "text": [
      "ddd sddd\n",
      "aaa aaaa\n"
     ]
    }
   ],
   "source": [
    "print(\"ddd\",\"sddd\",sep=\" \",end=\"\\n\")\n",
    "print(\"aaa\",\"aaaa\")"
   ]
  },
  {
   "cell_type": "code",
   "execution_count": null,
   "id": "ab71a108-248a-405c-b4ef-f0ffd2775412",
   "metadata": {},
   "outputs": [],
   "source": [
    "def print_n_time(n=2,*values):\n",
    "    for _ in range(n):\n",
    "        for value in values:\n",
    "            print(value)"
   ]
  },
  {
   "cell_type": "code",
   "execution_count": null,
   "id": "dd39fa86-b9dc-4e32-8a46-38011d85d590",
   "metadata": {},
   "outputs": [
    {
     "name": "stdout",
     "output_type": "stream",
     "text": [
      "hello\n",
      "hi\n",
      "hello\n",
      "hi\n",
      "hello\n",
      "hi\n"
     ]
    }
   ],
   "source": [
    "print_n_time(3,\"hello\",\"hi\")"
   ]
  },
  {
   "cell_type": "code",
   "execution_count": null,
   "id": "2a11985a-0695-4a86-bb6b-0393b00dbbf8",
   "metadata": {},
   "outputs": [],
   "source": [
    "def my_func(*args):\n",
    "    return \"aaa\", args"
   ]
  },
  {
   "cell_type": "code",
   "execution_count": null,
   "id": "848e8837-237d-4d14-b9bf-b1834d268c3e",
   "metadata": {},
   "outputs": [
    {
     "data": {
      "text/plain": [
       "('aaa', (1, 3, 1))"
      ]
     },
     "execution_count": 69,
     "metadata": {},
     "output_type": "execute_result"
    }
   ],
   "source": [
    "my_func(1,3,1)"
   ]
  },
  {
   "cell_type": "code",
   "execution_count": null,
   "id": "ba8f4733-8085-42d5-925f-2c13ed98e4bb",
   "metadata": {},
   "outputs": [],
   "source": [
    "def test(a,b=10,c=100):\n",
    "    return (a+b+c),(a,b,c)"
   ]
  },
  {
   "cell_type": "code",
   "execution_count": null,
   "id": "31b32d2f-0307-43c0-a72a-01e20561b39a",
   "metadata": {},
   "outputs": [
    {
     "data": {
      "text/plain": [
       "(60, (10, 20, 30))"
      ]
     },
     "execution_count": 74,
     "metadata": {},
     "output_type": "execute_result"
    }
   ],
   "source": [
    "test(10,20,30)"
   ]
  },
  {
   "cell_type": "code",
   "execution_count": null,
   "id": "01f5b2bd-cd0b-49b4-a9d8-46b5273eb79c",
   "metadata": {},
   "outputs": [
    {
     "data": {
      "text/plain": [
       "(60, (10, 20, 30))"
      ]
     },
     "execution_count": 75,
     "metadata": {},
     "output_type": "execute_result"
    }
   ],
   "source": [
    "test(a=10,b=20,c=30)"
   ]
  },
  {
   "cell_type": "code",
   "execution_count": null,
   "id": "2fc91d26-bd0c-40fd-8e88-61dc5bedd350",
   "metadata": {},
   "outputs": [
    {
     "data": {
      "text/plain": [
       "(60, (20, 10, 30))"
      ]
     },
     "execution_count": 76,
     "metadata": {},
     "output_type": "execute_result"
    }
   ],
   "source": [
    "test(b=10,a=20,c=30)"
   ]
  },
  {
   "cell_type": "code",
   "execution_count": null,
   "id": "c37ff42e-8d79-43e8-a80e-46b5371fddef",
   "metadata": {},
   "outputs": [
    {
     "data": {
      "text/plain": [
       "(220, (10, 10, 200))"
      ]
     },
     "execution_count": 77,
     "metadata": {},
     "output_type": "execute_result"
    }
   ],
   "source": [
    "test(10,c=200)"
   ]
  },
  {
   "cell_type": "code",
   "execution_count": null,
   "id": "3f01a716-b160-4bc2-9a03-d7369026d634",
   "metadata": {},
   "outputs": [
    {
     "data": {
      "text/plain": [
       "(115, (5, 10, 100))"
      ]
     },
     "execution_count": 78,
     "metadata": {},
     "output_type": "execute_result"
    }
   ],
   "source": [
    "test(5)"
   ]
  },
  {
   "cell_type": "code",
   "execution_count": null,
   "id": "6d120ab0-cd46-4c55-ab38-1fe57598a89f",
   "metadata": {},
   "outputs": [],
   "source": [
    "## 100 ,120, (10,50)\n",
    "def range_add(end,start=1,step=1):\n",
    "    if start > end:\n",
    "        start, end = end, start\n",
    "    return sum(list(range(start,end+1,step)))"
   ]
  },
  {
   "cell_type": "code",
   "execution_count": null,
   "id": "c3b769ae-366f-4692-8caf-9128710f3f5f",
   "metadata": {},
   "outputs": [
    {
     "data": {
      "text/plain": [
       "2500"
      ]
     },
     "execution_count": 96,
     "metadata": {},
     "output_type": "execute_result"
    }
   ],
   "source": [
    "range_add(1,100,2)"
   ]
  },
  {
   "cell_type": "code",
   "execution_count": null,
   "id": "9bbb859b-ac39-44cf-aa31-d559f967b7e6",
   "metadata": {},
   "outputs": [],
   "source": [
    "def f(x):\n",
    "    return 2*x+1\n",
    "def f(x):\n",
    "    return (x+1)**2"
   ]
  },
  {
   "cell_type": "code",
   "execution_count": null,
   "id": "6b1b0719-4815-460b-93d2-017fa7bacf15",
   "metadata": {},
   "outputs": [
    {
     "data": {
      "text/plain": [
       "121"
      ]
     },
     "execution_count": 102,
     "metadata": {},
     "output_type": "execute_result"
    }
   ],
   "source": [
    "f(10)"
   ]
  },
  {
   "cell_type": "code",
   "execution_count": null,
   "id": "6b5ac19b-dc66-46eb-80c2-5aba2711fbb7",
   "metadata": {},
   "outputs": [],
   "source": [
    "def mul(*args):\n",
    "    m = 1\n",
    "    for arg in args:\n",
    "        m *= arg\n",
    "    return m"
   ]
  },
  {
   "cell_type": "code",
   "execution_count": null,
   "id": "6732b132-aefe-421d-9977-40664a6064da",
   "metadata": {},
   "outputs": [
    {
     "data": {
      "text/plain": [
       "3150"
      ]
     },
     "execution_count": 104,
     "metadata": {},
     "output_type": "execute_result"
    }
   ],
   "source": [
    "mul(5,7,9,10)"
   ]
  },
  {
   "cell_type": "code",
   "execution_count": null,
   "id": "06135afc-83ac-4251-9742-cc1557c855c7",
   "metadata": {},
   "outputs": [],
   "source": [
    "def factorial_for(n):\n",
    "    fac = 1\n",
    "    for i in range(1,n+1):\n",
    "        fac *= i\n",
    "    return fac"
   ]
  },
  {
   "cell_type": "code",
   "execution_count": null,
   "id": "2ff1df19-c2fb-4f46-b01a-9545c06b1c03",
   "metadata": {},
   "outputs": [],
   "source": [
    "def factorial_rec(n):\n",
    "    if n == 1:\n",
    "        return 1\n",
    "    else:\n",
    "        return n*factorial(n-1)"
   ]
  },
  {
   "cell_type": "code",
   "execution_count": null,
   "id": "dd1468d9-35f5-40da-acf4-90ef081bda93",
   "metadata": {},
   "outputs": [],
   "source": [
    "import time"
   ]
  },
  {
   "cell_type": "code",
   "execution_count": null,
   "id": "047cdc3b-e756-4c30-986f-aa138ba9d8de",
   "metadata": {},
   "outputs": [],
   "source": [
    "elaps_time_dic = {}\n",
    "for i in range(40,100):\n",
    "    start_time = time.time()\n",
    "    result = factorial_rec(i)\n",
    "    elaps_time_dic[i] = (time.time() - start_time, result)"
   ]
  },
  {
   "cell_type": "code",
   "execution_count": null,
   "id": "a5e870fc-e1e4-4551-a142-afd63aec5555",
   "metadata": {},
   "outputs": [],
   "source": [
    "def range_add1(n):\n",
    "    s = 0\n",
    "    for i in range(1,n+1):\n",
    "        s += i\n",
    "    return s"
   ]
  },
  {
   "cell_type": "code",
   "execution_count": null,
   "id": "9a4c8180-b07a-46b3-9e65-06da57171fa9",
   "metadata": {},
   "outputs": [
    {
     "data": {
      "text/plain": [
       "5050"
      ]
     },
     "execution_count": 148,
     "metadata": {},
     "output_type": "execute_result"
    }
   ],
   "source": [
    "range_add1(100)"
   ]
  },
  {
   "cell_type": "code",
   "execution_count": null,
   "id": "a4e51d0c-27f7-4e32-a655-0a13816c81cd",
   "metadata": {},
   "outputs": [],
   "source": [
    "def range_add2(n):\n",
    "    if n == 1:\n",
    "        return 1\n",
    "    else:\n",
    "        return n + range_add2(n-1)"
   ]
  },
  {
   "cell_type": "code",
   "execution_count": null,
   "id": "0c15775a-2576-451a-879b-c452bdf0b893",
   "metadata": {},
   "outputs": [
    {
     "data": {
      "text/plain": [
       "5050"
      ]
     },
     "execution_count": 150,
     "metadata": {},
     "output_type": "execute_result"
    }
   ],
   "source": [
    "range_add2(100)"
   ]
  },
  {
   "cell_type": "code",
   "execution_count": null,
   "id": "3a906785-0d5a-4c91-affd-2ff07499a2fb",
   "metadata": {},
   "outputs": [],
   "source": [
    "def fibo1(n):\n",
    "    m1 = 1\n",
    "    m2 = 1\n",
    "    if n == 1 or n == 2:\n",
    "        return 1\n",
    "    for i in range(1,n):\n",
    "        m1, m2 = m2, m1+m2\n",
    "    return m1"
   ]
  },
  {
   "cell_type": "code",
   "execution_count": null,
   "id": "e061f489-d216-4094-b430-daccdebec591",
   "metadata": {},
   "outputs": [
    {
     "name": "stdout",
     "output_type": "stream",
     "text": [
      "1 ===> 1 2\n",
      "2 ===> 2 3\n",
      "3 ===> 3 5\n",
      "4 ===> 5 8\n",
      "5 ===> 8 13\n",
      "6 ===> 13 21\n",
      "7 ===> 21 34\n"
     ]
    },
    {
     "data": {
      "text/plain": [
       "21"
      ]
     },
     "execution_count": 167,
     "metadata": {},
     "output_type": "execute_result"
    }
   ],
   "source": [
    "fibo1(8)"
   ]
  },
  {
   "cell_type": "code",
   "execution_count": null,
   "id": "c7550682-a2b0-4729-b086-b09796447e2e",
   "metadata": {},
   "outputs": [],
   "source": [
    "def fibo(n):\n",
    "    if n == 1 or n == 2:\n",
    "        return 1\n",
    "    return fibo(n-1) + fibo(n-2)"
   ]
  },
  {
   "cell_type": "code",
   "execution_count": null,
   "id": "4844ec23-4d29-4e3b-a101-9452607db831",
   "metadata": {},
   "outputs": [
    {
     "data": {
      "text/plain": [
       "8"
      ]
     },
     "execution_count": 176,
     "metadata": {},
     "output_type": "execute_result"
    }
   ],
   "source": [
    "fibo(6)"
   ]
  },
  {
   "cell_type": "code",
   "execution_count": null,
   "id": "88e4eb14-ddd5-4a39-891e-851cb197f72c",
   "metadata": {
    "scrolled": true
   },
   "outputs": [],
   "source": [
    "elaps_time_dic = {}\n",
    "for i in range(40,43):\n",
    "    start_time = time.time()\n",
    "    result = fibo(i)\n",
    "    elaps_time_dic[i] = (time.time() - start_time, result)"
   ]
  },
  {
   "cell_type": "code",
   "execution_count": null,
   "id": "6d8179af-d7ab-4be6-ba4b-c4641028f999",
   "metadata": {},
   "outputs": [
    {
     "data": {
      "text/plain": [
       "{40: (12.446560859680176, 102334155),\n",
       " 41: (19.825059175491333, 165580141),\n",
       " 42: (32.42126441001892, 267914296)}"
      ]
     },
     "execution_count": 190,
     "metadata": {},
     "output_type": "execute_result"
    }
   ],
   "source": [
    "elaps_time_dic"
   ]
  },
  {
   "cell_type": "code",
   "execution_count": null,
   "id": "8b02384f-8361-4cc5-b9ba-4a07a4f07c86",
   "metadata": {},
   "outputs": [],
   "source": [
    "counter = 0\n",
    "def fibo(n):\n",
    "    if n == 1 or n == 2:\n",
    "        return 1\n",
    "    global counter\n",
    "    counter += 1\n",
    "    return fibo(n-1) + fibo(n-2)"
   ]
  },
  {
   "cell_type": "code",
   "execution_count": null,
   "id": "3ad7608e-a77a-4d8a-8d4e-068c9425348c",
   "metadata": {},
   "outputs": [],
   "source": [
    "count = []\n",
    "for i in range(2,30):\n",
    "    counter = 0\n",
    "    fibo(i)\n",
    "    count.append(counter)"
   ]
  },
  {
   "cell_type": "code",
   "execution_count": null,
   "id": "29f68bd7-ff48-4418-a5fd-45f9a7c51fd5",
   "metadata": {},
   "outputs": [],
   "source": [
    "import matplotlib.pyplot as plt"
   ]
  },
  {
   "cell_type": "code",
   "execution_count": null,
   "id": "9a62efa2-70ec-47c7-bb47-a08caa77e5f5",
   "metadata": {},
   "outputs": [
    {
     "data": {
      "text/plain": [
       "[<matplotlib.lines.Line2D at 0x1ea86d37770>]"
      ]
     },
     "execution_count": 5,
     "metadata": {},
     "output_type": "execute_result"
    },
    {
     "data": {
      "image/png": "[encoded data removed]",
      "text/plain": [
       "<Figure size 640x480 with 1 Axes>"
      ]
     },
     "metadata": {},
     "output_type": "display_data"
    }
   ],
   "source": [
    "plt.plot(count)"
   ]
  },
  {
   "cell_type": "code",
   "execution_count": null,
   "id": "0ed53b45-3d19-49fc-9deb-e3f55935d853",
   "metadata": {},
   "outputs": [
    {
     "data": {
      "text/plain": [
       "'C:\\\\Users\\\\user\\\\anaconda3\\\\envs\\\\allomyrina\\\\python.exe'"
      ]
     },
     "execution_count": 6,
     "metadata": {},
     "output_type": "execute_result"
    }
   ],
   "source": [
    "import sys\n",
    "sys.executable"
   ]
  },
  {
   "cell_type": "code",
   "execution_count": null,
   "id": "ce620a68-a058-4801-b497-d3b141bc9de8",
   "metadata": {},
   "outputs": [],
   "source": [
    "import functools"
   ]
  },
  {
   "cell_type": "code",
   "execution_count": null,
   "id": "501459f5-6ff2-4a81-989f-cc99c8002e3a",
   "metadata": {
    "scrolled": true
   },
   "outputs": [
    {
     "data": {
      "text/plain": [
       "['GenericAlias',\n",
       " 'RLock',\n",
       " 'WRAPPER_ASSIGNMENTS',\n",
       " 'WRAPPER_UPDATES',\n",
       " '_CacheInfo',\n",
       " '_HashedSeq',\n",
       " '_NOT_FOUND',\n",
       " '__all__',\n",
       " '__builtins__',\n",
       " '__cached__',\n",
       " '__doc__',\n",
       " '__file__',\n",
       " '__loader__',\n",
       " '__name__',\n",
       " '__package__',\n",
       " '__spec__',\n",
       " '_c3_merge',\n",
       " '_c3_mro',\n",
       " '_compose_mro',\n",
       " '_convert',\n",
       " '_find_impl',\n",
       " '_ge_from_gt',\n",
       " '_ge_from_le',\n",
       " '_ge_from_lt',\n",
       " '_gt_from_ge',\n",
       " '_gt_from_le',\n",
       " '_gt_from_lt',\n",
       " '_initial_missing',\n",
       " '_le_from_ge',\n",
       " '_le_from_gt',\n",
       " '_le_from_lt',\n",
       " '_lru_cache_wrapper',\n",
       " '_lt_from_ge',\n",
       " '_lt_from_gt',\n",
       " '_lt_from_le',\n",
       " '_make_key',\n",
       " '_unwrap_partial',\n",
       " 'cache',\n",
       " 'cached_property',\n",
       " 'cmp_to_key',\n",
       " 'get_cache_token',\n",
       " 'lru_cache',\n",
       " 'namedtuple',\n",
       " 'partial',\n",
       " 'partialmethod',\n",
       " 'recursive_repr',\n",
       " 'reduce',\n",
       " 'singledispatch',\n",
       " 'singledispatchmethod',\n",
       " 'total_ordering',\n",
       " 'update_wrapper',\n",
       " 'wraps']"
      ]
     },
     "execution_count": 8,
     "metadata": {},
     "output_type": "execute_result"
    }
   ],
   "source": [
    "dir(functools)"
   ]
  },
  {
   "cell_type": "code",
   "execution_count": null,
   "id": "d2756f49-6aa1-4b0a-abfc-7d73b72c1acf",
   "metadata": {},
   "outputs": [],
   "source": [
    "from functools import cache"
   ]
  },
  {
   "cell_type": "code",
   "execution_count": null,
   "id": "fc2eb3fa-31e2-42b7-9c45-a98c168f3fe7",
   "metadata": {},
   "outputs": [],
   "source": [
    "@cache\n",
    "def fibo(n):\n",
    "    if n == 1 or n == 2:\n",
    "        return 1\n",
    "    return fibo(n-1) + fibo(n-2)"
   ]
  },
  {
   "cell_type": "code",
   "execution_count": null,
   "id": "29766c52-43ed-4d06-ad25-5f393a0a0470",
   "metadata": {},
   "outputs": [],
   "source": [
    "def fibo(n):\n",
    "    if n == 1 or n == 2:\n",
    "        return 1\n",
    "    return fibo(n-1) + fibo(n-2)"
   ]
  },
  {
   "cell_type": "code",
   "execution_count": null,
   "id": "3b470a30-b1d6-4ca0-9fa4-e57db60505d9",
   "metadata": {},
   "outputs": [],
   "source": [
    "import time\n",
    "start_time = time.time()\n",
    "fibo(35)\n",
    "elap = time.time() - start_time"
   ]
  },
  {
   "cell_type": "code",
   "execution_count": null,
   "id": "94dbd32d-2c6c-4048-a6fd-e25927932a81",
   "metadata": {},
   "outputs": [],
   "source": [
    "from functools import cache\n",
    "@cache\n",
    "def fibo(n):\n",
    "    if n == 1 or n == 2:\n",
    "        return 1\n",
    "    return fibo(n-1) + fibo(n-2)"
   ]
  },
  {
   "cell_type": "code",
   "execution_count": null,
   "id": "78292cc6-35ad-44e6-97f0-c2d84a6e4772",
   "metadata": {},
   "outputs": [],
   "source": [
    "def diff(f,x):\n",
    "    h = 1e-5\n",
    "    return (f(x+h) - f(x))/h"
   ]
  },
  {
   "cell_type": "code",
   "execution_count": null,
   "id": "c4e74b21-7910-4edf-b810-fd767f79a5ed",
   "metadata": {},
   "outputs": [
    {
     "data": {
      "text/plain": [
       "14.000060000185497"
      ]
     },
     "execution_count": 33,
     "metadata": {},
     "output_type": "execute_result"
    }
   ],
   "source": [
    "def fx(x):\n",
    "    return x**3 + 2*x + 1\n",
    "diff(fx,2)"
   ]
  },
  {
   "cell_type": "code",
   "execution_count": null,
   "id": "21a085c8-40ca-45a6-aa21-6cc8e07a57b2",
   "metadata": {},
   "outputs": [],
   "source": [
    "def elap_time(n):\n",
    "    def inner(n):\n",
    "        start_time = time.time()\n",
    "        ret = fibo(n)\n",
    "        print(f\"경과시간은 {time.time()-start_time}\")\n",
    "        return ret\n",
    "    return inner"
   ]
  },
  {
   "cell_type": "code",
   "execution_count": null,
   "id": "3b2c99af-e06e-48e8-8f00-f34e83c5cf76",
   "metadata": {},
   "outputs": [],
   "source": [
    "@cache\n",
    "def fibo(n):\n",
    "    if n == 1 or n == 2:\n",
    "        return 1\n",
    "    return fibo(n-1) + fibo(n-2)"
   ]
  },
  {
   "cell_type": "code",
   "execution_count": null,
   "id": "250d0e00-0d32-446d-ada1-26b6cbbeb269",
   "metadata": {},
   "outputs": [
    {
     "data": {
      "text/plain": [
       "43466557686937456435688527675040625802564660517371780402481729089536555417949051890403879840079255169295922593080322634775209689623239873322471161642996440906533187938298969649928516003704476137795166849228875"
      ]
     },
     "execution_count": 46,
     "metadata": {},
     "output_type": "execute_result"
    }
   ],
   "source": []
  },
  {
   "cell_type": "code",
   "execution_count": null,
   "id": "c683a2c3-da6d-454e-813c-3b0f476fe270",
   "metadata": {},
   "outputs": [],
   "source": [
    "[[1,2,3],4]"
   ]
  },
  {
   "cell_type": "code",
   "execution_count": null,
   "id": "7edfa2e2-b79a-48d0-9925-49b7ce49eee5",
   "metadata": {},
   "outputs": [],
   "source": [
    "flatten[[1,2,3]]"
   ]
  },
  {
   "cell_type": "code",
   "execution_count": null,
   "id": "f8e2743f-3239-4cf0-bb80-38fd491cb761",
   "metadata": {},
   "outputs": [],
   "source": [
    "def flatten(args):\n",
    "    flatt_list = []\n",
    "    for arg in args:\n",
    "        if isinstance(arg,list):\n",
    "            flatt_list += flatten(arg)\n",
    "        else:\n",
    "            flatt_list += [arg]\n",
    "    return flatt_list"
   ]
  },
  {
   "cell_type": "code",
   "execution_count": null,
   "id": "6082f149-418e-4082-8bee-c4d095d6d9c4",
   "metadata": {},
   "outputs": [],
   "source": [
    "list_a = [[[[[[1],2,3],[4,[5,6]],7,[8,9]]]],5]"
   ]
  },
  {
   "cell_type": "code",
   "execution_count": null,
   "id": "a043239f-047b-4e11-acc2-f801b6e277ff",
   "metadata": {},
   "outputs": [
    {
     "data": {
      "text/plain": [
       "[1, 2, 3, 4, 5, 6, 7, 8, 9, 5]"
      ]
     },
     "execution_count": 75,
     "metadata": {},
     "output_type": "execute_result"
    }
   ],
   "source": [
    "flatten(list_a)"
   ]
  },
  {
   "cell_type": "code",
   "execution_count": null,
   "id": "bfa4af8a-30a1-4ba8-b9c4-c13180cd24d2",
   "metadata": {},
   "outputs": [],
   "source": [
    "x = (1,2,3,3)"
   ]
  },
  {
   "cell_type": "code",
   "execution_count": null,
   "id": "27c40933-6313-4f85-ab24-cf45530024b2",
   "metadata": {},
   "outputs": [],
   "source": [
    "## immutable\n",
    "x =  1,2,3,4"
   ]
  },
  {
   "cell_type": "code",
   "execution_count": null,
   "id": "b1aa0421-6d0f-43fb-9379-4cbd7a84509a",
   "metadata": {},
   "outputs": [],
   "source": [
    "x1, x2, x3, x4 = x"
   ]
  },
  {
   "cell_type": "code",
   "execution_count": null,
   "id": "d92a96de-8e10-42f5-8aae-05f5f65bd1b8",
   "metadata": {},
   "outputs": [
    {
     "data": {
      "text/plain": [
       "1"
      ]
     },
     "execution_count": 87,
     "metadata": {},
     "output_type": "execute_result"
    }
   ],
   "source": [
    "x.count(1)"
   ]
  },
  {
   "cell_type": "code",
   "execution_count": null,
   "id": "4ffa6edc-0c12-4b15-81ff-1b1577c1b04f",
   "metadata": {},
   "outputs": [
    {
     "data": {
      "text/plain": [
       "['__add__',\n",
       " '__class__',\n",
       " '__class_getitem__',\n",
       " '__contains__',\n",
       " '__delattr__',\n",
       " '__delitem__',\n",
       " '__dir__',\n",
       " '__doc__',\n",
       " '__eq__',\n",
       " '__format__',\n",
       " '__ge__',\n",
       " '__getattribute__',\n",
       " '__getitem__',\n",
       " '__getstate__',\n",
       " '__gt__',\n",
       " '__hash__',\n",
       " '__iadd__',\n",
       " '__imul__',\n",
       " '__init__',\n",
       " '__init_subclass__',\n",
       " '__iter__',\n",
       " '__le__',\n",
       " '__len__',\n",
       " '__lt__',\n",
       " '__mul__',\n",
       " '__ne__',\n",
       " '__new__',\n",
       " '__reduce__',\n",
       " '__reduce_ex__',\n",
       " '__repr__',\n",
       " '__reversed__',\n",
       " '__rmul__',\n",
       " '__setattr__',\n",
       " '__setitem__',\n",
       " '__sizeof__',\n",
       " '__str__',\n",
       " '__subclasshook__',\n",
       " 'append',\n",
       " 'clear',\n",
       " 'copy',\n",
       " 'count',\n",
       " 'extend',\n",
       " 'index',\n",
       " 'insert',\n",
       " 'pop',\n",
       " 'remove',\n",
       " 'reverse',\n",
       " 'sort']"
      ]
     },
     "execution_count": 88,
     "metadata": {},
     "output_type": "execute_result"
    }
   ],
   "source": [
    "dir([])"
   ]
  },
  {
   "cell_type": "code",
   "execution_count": null,
   "id": "3c5ea6b2-ec82-4d22-a952-a0540ece1fe6",
   "metadata": {},
   "outputs": [
    {
     "data": {
      "text/plain": [
       "6"
      ]
     },
     "execution_count": 91,
     "metadata": {},
     "output_type": "execute_result"
    }
   ],
   "source": [
    "import random\n",
    "random.randint(1,19)"
   ]
  },
  {
   "cell_type": "code",
   "execution_count": null,
   "id": "b382486c-82b5-41a4-8a0d-586caa28cf22",
   "metadata": {},
   "outputs": [
    {
     "data": {
      "text/plain": [
       "7"
      ]
     },
     "execution_count": 96,
     "metadata": {},
     "output_type": "execute_result"
    }
   ],
   "source": [
    "(lambda x: 10+x)(22)\n",
    "(lambda x,y : x+y)(3,4)"
   ]
  },
  {
   "cell_type": "code",
   "execution_count": null,
   "id": "96998532-3115-44a3-9c7f-42fa32495ad4",
   "metadata": {},
   "outputs": [],
   "source": [
    "def print_func(func,n):\n",
    "    for _ in range(n):\n",
    "        func()\n",
    "def ff():\n",
    "    print(\"안녕하세요\")"
   ]
  },
  {
   "cell_type": "code",
   "execution_count": null,
   "id": "068d7eb9-ee2d-4434-a851-d167e4d7bf69",
   "metadata": {},
   "outputs": [
    {
     "name": "stdout",
     "output_type": "stream",
     "text": [
      "안녕하세요\n",
      "안녕하세요\n",
      "안녕하세요\n"
     ]
    }
   ],
   "source": [
    "print_func(ff,3)"
   ]
  },
  {
   "cell_type": "code",
   "execution_count": null,
   "id": "78cd4c3d-c106-4349-8c8b-a97c5f252150",
   "metadata": {},
   "outputs": [],
   "source": [
    "list_a = [1,2,3,4]\n",
    "new_list = []\n",
    "for i in list_a:\n",
    "    new_list.append(i**2)"
   ]
  },
  {
   "cell_type": "code",
   "execution_count": null,
   "id": "25a6f44d-46d4-4eac-8bb6-80f4a77ac8b5",
   "metadata": {},
   "outputs": [],
   "source": [
    "new_list= [ i**2 for i in list_a]"
   ]
  },
  {
   "cell_type": "code",
   "execution_count": null,
   "id": "924c8aca-1f3a-479e-be71-df1e1f458f23",
   "metadata": {},
   "outputs": [
    {
     "data": {
      "text/plain": [
       "[1, 4, 9, 16]"
      ]
     },
     "execution_count": 103,
     "metadata": {},
     "output_type": "execute_result"
    }
   ],
   "source": [
    "new_list"
   ]
  },
  {
   "cell_type": "code",
   "execution_count": null,
   "id": "1c407647-c89b-493c-89cb-2858c02e35e0",
   "metadata": {},
   "outputs": [
    {
     "data": {
      "text/plain": [
       "[1, 4, 9, 16]"
      ]
     },
     "execution_count": 105,
     "metadata": {},
     "output_type": "execute_result"
    }
   ],
   "source": [
    "def square(x):\n",
    "    return x**2\n",
    "list(map(square,list_a))"
   ]
  },
  {
   "cell_type": "code",
   "execution_count": null,
   "id": "2f02d866-d35f-435f-bcf9-c40861633cdb",
   "metadata": {},
   "outputs": [
    {
     "data": {
      "text/plain": [
       "[1, 4, 9, 16]"
      ]
     },
     "execution_count": 106,
     "metadata": {},
     "output_type": "execute_result"
    }
   ],
   "source": [
    "list(map(lambda x: x**2, list_a))"
   ]
  },
  {
   "cell_type": "code",
   "execution_count": null,
   "id": "9894804f-19c0-4632-a894-6cf532dc632c",
   "metadata": {},
   "outputs": [],
   "source": [
    "snake_case = ['abc_def','ghi_klm','cde_fgi']"
   ]
  },
  {
   "cell_type": "code",
   "execution_count": null,
   "id": "83176c90-86f5-4bbf-b8c9-074b3b2a1008",
   "metadata": {},
   "outputs": [
    {
     "data": {
      "text/plain": [
       "['abc_def', 'ghi_klm', 'cde_fgi']"
      ]
     },
     "execution_count": 110,
     "metadata": {},
     "output_type": "execute_result"
    }
   ],
   "source": [
    "snake_case"
   ]
  },
  {
   "cell_type": "code",
   "execution_count": null,
   "id": "d10896bf-8460-41fa-b92c-c49e376dffdd",
   "metadata": {},
   "outputs": [],
   "source": [
    "x = 'abc_def'"
   ]
  },
  {
   "cell_type": "code",
   "execution_count": null,
   "id": "2092c183-8ee3-4bea-a89c-a6901050c3b9",
   "metadata": {},
   "outputs": [],
   "source": [
    "def snake_to_cammel(x):\n",
    "    return x.split('_')[0] + x.split('_')[1].capitalize()"
   ]
  },
  {
   "cell_type": "code",
   "execution_count": null,
   "id": "a9e9bbe0-0f6c-4fa4-a5c7-cc317420f27a",
   "metadata": {},
   "outputs": [
    {
     "data": {
      "text/plain": [
       "['abcDef', 'ghiKlm', 'cdeFgi']"
      ]
     },
     "execution_count": 121,
     "metadata": {},
     "output_type": "execute_result"
    }
   ],
   "source": [
    "list(map(lambda x: x.split('_')[0] + x.split('_')[1].capitalize(),snake_case))"
   ]
  },
  {
   "cell_type": "code",
   "execution_count": null,
   "id": "0872beac-0148-475e-8016-40480cad6eed",
   "metadata": {},
   "outputs": [
    {
     "data": {
      "text/plain": [
       "['abcDef', 'ghiKlm', 'cdeFgi']"
      ]
     },
     "execution_count": 120,
     "metadata": {},
     "output_type": "execute_result"
    }
   ],
   "source": [
    "list(map(snake_to_cammel,snake_case))"
   ]
  },
  {
   "cell_type": "code",
   "execution_count": null,
   "id": "52be3bf8-4f24-447b-bb4f-41070eeee360",
   "metadata": {},
   "outputs": [],
   "source": [
    "snake_case = ['abc_ddd_cdf','ab_cc','school_aa','a_b_c_d_e']"
   ]
  },
  {
   "cell_type": "code",
   "execution_count": null,
   "id": "c70b6a44-5b57-4a77-9476-2d0c5befa87e",
   "metadata": {},
   "outputs": [],
   "source": [
    "def snake_to_cammel(x):\n",
    "    cammel = x.split('_')[0]\n",
    "    for v in x.split('_')[1:]:\n",
    "        cammel += v.capitalize()\n",
    "    return cammel"
   ]
  },
  {
   "cell_type": "code",
   "execution_count": null,
   "id": "443dea2e-f00f-4ad5-9534-390592a538ad",
   "metadata": {},
   "outputs": [],
   "source": [
    "map(snake_to_cammel,x)"
   ]
  },
  {
   "cell_type": "code",
   "execution_count": null,
   "id": "97e4fa11-3c9d-42a6-bf27-d9115e66aecb",
   "metadata": {},
   "outputs": [],
   "source": [
    "def my_map(func,args):\n",
    "    return [func(arg) for arg in args] "
   ]
  },
  {
   "cell_type": "code",
   "execution_count": null,
   "id": "d75284a2-776e-4704-9485-70d75c49d4c0",
   "metadata": {},
   "outputs": [
    {
     "data": {
      "text/plain": [
       "['abcDddCdf', 'abCc', 'schoolAa', 'aBCDE']"
      ]
     },
     "execution_count": 138,
     "metadata": {},
     "output_type": "execute_result"
    }
   ],
   "source": [
    "my_map(snake_to_cammel,snake_case)"
   ]
  },
  {
   "cell_type": "code",
   "execution_count": null,
   "id": "ad1cc1fa-0aa9-4a0e-92fc-5264af725c23",
   "metadata": {},
   "outputs": [
    {
     "data": {
      "text/plain": [
       "['abcDddCdf', 'abCc', 'schoolAa', 'aBCDE']"
      ]
     },
     "execution_count": 139,
     "metadata": {},
     "output_type": "execute_result"
    }
   ],
   "source": [
    "list(map(snake_to_cammel,snake_case))"
   ]
  },
  {
   "cell_type": "code",
   "execution_count": null,
   "id": "079f83f0-ce29-4a33-b24c-e80e384a9b06",
   "metadata": {},
   "outputs": [],
   "source": [
    "def make_randint(start, end, n):\n",
    "    return [ random.randint(start,end) for i in range(n)]"
   ]
  },
  {
   "cell_type": "code",
   "execution_count": null,
   "id": "2cc5e652-efcd-4998-bd6a-3528ad04d87c",
   "metadata": {},
   "outputs": [],
   "source": [
    "numbers = make_randint(1,10,100)"
   ]
  },
  {
   "cell_type": "code",
   "execution_count": null,
   "id": "cca03d9b-7592-4e44-9420-d88c9595f850",
   "metadata": {},
   "outputs": [
    {
     "data": {
      "text/plain": [
       "22"
      ]
     },
     "execution_count": 145,
     "metadata": {},
     "output_type": "execute_result"
    }
   ],
   "source": [
    "new_array = []\n",
    "for i in numbers:\n",
    "    if i < 3:\n",
    "        new_array.append(i)\n",
    "len(new_array)"
   ]
  },
  {
   "cell_type": "code",
   "execution_count": null,
   "id": "04d0ab93-5319-4162-afd7-b8353dfca1ea",
   "metadata": {},
   "outputs": [
    {
     "data": {
      "text/plain": [
       "True"
      ]
     },
     "execution_count": 148,
     "metadata": {},
     "output_type": "execute_result"
    }
   ],
   "source": [
    "def cond(x):\n",
    "    return x <3\n",
    "cond(2)\n",
    "# len(list(filter(lambda x: x <3 ,numbers)))"
   ]
  },
  {
   "cell_type": "code",
   "execution_count": null,
   "id": "9516eadc-aa03-4d07-b853-54ec23f818ee",
   "metadata": {},
   "outputs": [],
   "source": [
    "def my_filter(func,args):\n",
    "    new_list = []\n",
    "    for arg in args:\n",
    "        if func(arg):\n",
    "            new_list.append(arg)\n",
    "    return new_list"
   ]
  },
  {
   "cell_type": "code",
   "execution_count": null,
   "id": "0dd7b7f1-92fd-458f-96e5-2701b457a335",
   "metadata": {},
   "outputs": [
    {
     "data": {
      "text/plain": [
       "[1, 2, 2, 2, 2, 1, 1, 2, 1, 2, 2, 2, 2, 1, 2, 2, 1, 2, 2, 2, 2, 2]"
      ]
     },
     "execution_count": 151,
     "metadata": {},
     "output_type": "execute_result"
    }
   ],
   "source": [
    "my_filter(lambda x: x <3,numbers)"
   ]
  },
  {
   "cell_type": "code",
   "execution_count": null,
   "id": "b0df4638-63f7-4a6b-9f41-48ad3947cb14",
   "metadata": {},
   "outputs": [
    {
     "data": {
      "text/plain": [
       "5"
      ]
     },
     "execution_count": 152,
     "metadata": {},
     "output_type": "execute_result"
    }
   ],
   "source": [
    "f = open('test.txt','w')\n",
    "f.write('ddddd')"
   ]
  },
  {
   "cell_type": "code",
   "execution_count": null,
   "id": "d46d85b1-be12-4e8c-b30e-01c8a4afee17",
   "metadata": {},
   "outputs": [],
   "source": [
    "f.close()"
   ]
  },
  {
   "cell_type": "code",
   "execution_count": null,
   "id": "c42a7e2b-50f1-43b0-90f6-eabd4a1a12f3",
   "metadata": {},
   "outputs": [],
   "source": [
    "f = open('test.txt','r')\n",
    "a = f.read()\n",
    "f.close()"
   ]
  },
  {
   "cell_type": "code",
   "execution_count": null,
   "id": "6e0c7a7f-8d41-42da-8493-5dce92814ef3",
   "metadata": {},
   "outputs": [
    {
     "name": "stdout",
     "output_type": "stream",
     "text": [
      "ddddd\n",
      "dfa;lkf\n",
      "lkj;dfkl;akl;fd\n",
      "l;kjdk;lfa\n"
     ]
    }
   ],
   "source": [
    "print(a)"
   ]
  },
  {
   "cell_type": "code",
   "execution_count": null,
   "id": "6049e900-09de-4f7f-8ed1-3c65095ac7f4",
   "metadata": {},
   "outputs": [],
   "source": [
    "with open('test.txt','r') as f:\n",
    "    b = f.read()"
   ]
  },
  {
   "cell_type": "code",
   "execution_count": null,
   "id": "974177aa-be32-483d-88f5-c3d3d0213b06",
   "metadata": {},
   "outputs": [],
   "source": [
    "context = \"\"\"dflkjalk\n",
    "dfljalkjsdf\n",
    "ldfjklajlfkd\n",
    "\"\"\"\n",
    "with open('test1.txt','w') as file:\n",
    "    file.write(context)"
   ]
  },
  {
   "cell_type": "code",
   "execution_count": null,
   "id": "3f3f51dc-76a1-4265-bc55-0b580c482504",
   "metadata": {},
   "outputs": [],
   "source": [
    "with open('test1.txt','r') as f:\n",
    "    c = f.read()"
   ]
  },
  {
   "cell_type": "code",
   "execution_count": null,
   "id": "a6962bee-dcb4-47de-8d2b-968265972cbf",
   "metadata": {},
   "outputs": [
    {
     "name": "stdout",
     "output_type": "stream",
     "text": [
      "dflkjalk\n",
      "dfljalkjsdf\n",
      "ldfjklajlfkd\n",
      "\n"
     ]
    }
   ],
   "source": [
    "print(c)"
   ]
  },
  {
   "cell_type": "code",
   "execution_count": null,
   "id": "09149b9f-d088-4eb1-98fd-9ee3338f16fd",
   "metadata": {},
   "outputs": [],
   "source": [
    "def test():\n",
    "    print(\"함수가 호출되었습니다1\")\n",
    "    yield print(\"함수가 호출되었습니다2\")"
   ]
  },
  {
   "cell_type": "code",
   "execution_count": null,
   "id": "9c4916fd-4d11-4316-9abf-85c4586c0ef3",
   "metadata": {},
   "outputs": [],
   "source": [
    "a = test"
   ]
  },
  {
   "cell_type": "code",
   "execution_count": null,
   "id": "045b2b58-a405-48d6-abe7-d6d411280002",
   "metadata": {},
   "outputs": [
    {
     "name": "stdout",
     "output_type": "stream",
     "text": [
      "함수가 호출되었습니다1\n",
      "함수가 호출되었습니다2\n",
      "함수가 호출되었습니다1\n",
      "함수가 호출되었습니다2\n",
      "함수가 호출되었습니다1\n",
      "함수가 호출되었습니다2\n"
     ]
    }
   ],
   "source": [
    "test().__next__()\n",
    "test().__next__()\n",
    "test().__next__()"
   ]
  },
  {
   "cell_type": "code",
   "execution_count": null,
   "id": "f34327c6-4490-47b4-b9f0-4aa579c2bee1",
   "metadata": {},
   "outputs": [
    {
     "data": {
      "text/plain": [
       "'1::2::3::4::5::6'"
      ]
     },
     "execution_count": 193,
     "metadata": {},
     "output_type": "execute_result"
    }
   ],
   "source": [
    "'::'.join(my_map(str,list(range(1,7))))"
   ]
  },
  {
   "cell_type": "code",
   "execution_count": null,
   "id": "cf4946e8-0bf4-4e8d-ab11-0e968bccd554",
   "metadata": {},
   "outputs": [],
   "source": [
    "x = list(range(1,7))"
   ]
  },
  {
   "cell_type": "code",
   "execution_count": null,
   "id": "61129f29-bcb7-4eb6-bae3-4e34eb9efb64",
   "metadata": {},
   "outputs": [
    {
     "data": {
      "text/plain": [
       "'1::2::3::4::5::6'"
      ]
     },
     "execution_count": 197,
     "metadata": {},
     "output_type": "execute_result"
    }
   ],
   "source": [
    "'::'.join(my_map(str,x))"
   ]
  },
  {
   "cell_type": "code",
   "execution_count": null,
   "id": "8384754b-fa16-4bf3-a04c-f1f4171b6c53",
   "metadata": {},
   "outputs": [],
   "source": [
    "numbers = list(range(1,11))"
   ]
  },
  {
   "cell_type": "code",
   "execution_count": null,
   "id": "45b447ba-e83b-424b-a325-8cbaf90b1b96",
   "metadata": {},
   "outputs": [
    {
     "data": {
      "text/plain": [
       "[1, 2, 3, 4, 5, 6, 7, 8, 9, 10]"
      ]
     },
     "execution_count": 199,
     "metadata": {},
     "output_type": "execute_result"
    }
   ],
   "source": [
    "numbers"
   ]
  },
  {
   "cell_type": "code",
   "execution_count": null,
   "id": "9d8be858-2472-4178-a934-ca31e3ed812e",
   "metadata": {},
   "outputs": [
    {
     "data": {
      "text/plain": [
       "[1, 3, 5, 7, 9]"
      ]
     },
     "execution_count": 200,
     "metadata": {},
     "output_type": "execute_result"
    }
   ],
   "source": [
    "list(filter(lambda x : x % 2 ==1, numbers ))"
   ]
  },
  {
   "cell_type": "code",
   "execution_count": null,
   "id": "9f7f9e32-91e5-485a-9439-2ec551205a12",
   "metadata": {},
   "outputs": [
    {
     "data": {
      "text/plain": [
       "[1, 2, 3, 4, 5, 6, 7]"
      ]
     },
     "execution_count": 204,
     "metadata": {},
     "output_type": "execute_result"
    }
   ],
   "source": [
    "list(filter(lambda x : x**2 <50, numbers))"
   ]
  },
  {
   "cell_type": "code",
   "execution_count": null,
   "id": "7ed8b481-613b-458a-a469-0e7726875f99",
   "metadata": {},
   "outputs": [],
   "source": [
    "list_a = [1,2,3,4,]"
   ]
  },
  {
   "cell_type": "code",
   "execution_count": null,
   "id": "4285da48-4b09-4b02-885e-aebccb59429d",
   "metadata": {},
   "outputs": [
    {
     "name": "stdout",
     "output_type": "stream",
     "text": [
      "ddd\n"
     ]
    }
   ],
   "source": [
    "try:\n",
    "    print(list_a[100])\n",
    "except:\n",
    "    print(\"ddd\")"
   ]
  },
  {
   "cell_type": "code",
   "execution_count": null,
   "id": "999b3eeb-0732-42ba-8a49-a4eb02cde51a",
   "metadata": {},
   "outputs": [
    {
     "name": "stdout",
     "output_type": "stream",
     "text": [
      "원의 반지름을 입력하세요 11\n"
     ]
    },
    {
     "name": "stdout",
     "output_type": "stream",
     "text": [
      "뭔가 잘 못 되었습니다\n"
     ]
    },
    {
     "name": "stdout",
     "output_type": "stream",
     "text": [
      "다시 입력해  주세요 11\n"
     ]
    },
    {
     "name": "stdout",
     "output_type": "stream",
     "text": [
      "원의 넓이는 380.132711084365입니다\n"
     ]
    }
   ],
   "source": [
    "import math\n",
    "radius = input(\"원의 반지름을 입력하세요\")\n",
    "try:\n",
    "    area = radius**2*math.pi\n",
    "    print(f\"원의 넓이는 {area}입니다\")\n",
    "except:\n",
    "    print(\"뭔가 잘 못 되었습니다\")\n",
    "    radius = int(input(\"다시 입력해  주세요\"))\n",
    "    area = radius**2*math.pi\n",
    "    print(f\"원의 넓이는 {area}입니다\")"
   ]
  },
  {
   "cell_type": "code",
   "execution_count": null,
   "id": "b48798f5-84f7-4fe3-b255-5d81e902fb9a",
   "metadata": {},
   "outputs": [],
   "source": [
    "list_a = [\"12\",\"233\",\"aa\",\"23\",\"dfas\"]"
   ]
  },
  {
   "cell_type": "code",
   "execution_count": null,
   "id": "9d72d887-b8cb-4f64-85e5-e084bad0ea3e",
   "metadata": {},
   "outputs": [
    {
     "data": {
      "text/plain": [
       "[12, 233, 23]"
      ]
     },
     "execution_count": 221,
     "metadata": {},
     "output_type": "execute_result"
    }
   ],
   "source": [
    "new_list = []\n",
    "for i in list_a:\n",
    "    if i.isnumeric():\n",
    "        new_list.append(int(i))\n",
    "new_list"
   ]
  },
  {
   "cell_type": "code",
   "execution_count": null,
   "id": "c9487d66-d5fb-493e-b5e8-c4dbd58f45f9",
   "metadata": {},
   "outputs": [
    {
     "data": {
      "text/plain": [
       "[12, 233, 23]"
      ]
     },
     "execution_count": 222,
     "metadata": {},
     "output_type": "execute_result"
    }
   ],
   "source": [
    "new_list = []\n",
    "for i in list_a:\n",
    "    try:\n",
    "        new_list.append(int(i))\n",
    "    except:\n",
    "        pass\n",
    "new_list"
   ]
  },
  {
   "cell_type": "code",
   "execution_count": null,
   "id": "a00ad342-02cf-4e21-a606-f8a07b6163f8",
   "metadata": {},
   "outputs": [
    {
     "ename": "TypeError",
     "evalue": "unsupported operand type(s) for +: 'int' and 'str'",
     "output_type": "error",
     "traceback": [
      "\u001b[1;31m---------------------------------------------------------------------------\u001b[0m",
      "\u001b[1;31mTypeError\u001b[0m                                 Traceback (most recent call last)",
      "Cell \u001b[1;32mIn[224], line 1\u001b[0m\n\u001b[1;32m----> 1\u001b[0m \u001b[38;5;28msum\u001b[39m([\u001b[38;5;241m1\u001b[39m,\u001b[38;5;241m2\u001b[39m,\u001b[38;5;241m3\u001b[39m,\u001b[38;5;124m'\u001b[39m\u001b[38;5;124ma\u001b[39m\u001b[38;5;124m'\u001b[39m])\n",
      "\u001b[1;31mTypeError\u001b[0m: unsupported operand type(s) for +: 'int' and 'str'"
     ]
    }
   ],
   "source": [
    "sum([1,2,3,'a'])"
   ]
  },
  {
   "cell_type": "code",
   "execution_count": null,
   "id": "8a63a70a-89b6-41e6-bebf-ca61f931c840",
   "metadata": {},
   "outputs": [],
   "source": [
    "## 리스트에 문자가 섞여 있어도 문자를 제외한 것만 합을 구하는 함수\n",
    "list_a = [1,3,3,\"a\",\"b\",6]\n",
    "def sum1(args):\n",
    "    s  = 0\n",
    "    for arg in args:\n",
    "        if isinstance(arg,(float,int)):\n",
    "            s += arg\n",
    "    return s"
   ]
  },
  {
   "cell_type": "code",
   "execution_count": null,
   "id": "c93b84fc-6658-4866-8dd2-b2945480ed77",
   "metadata": {},
   "outputs": [
    {
     "data": {
      "text/plain": [
       "13"
      ]
     },
     "execution_count": 227,
     "metadata": {},
     "output_type": "execute_result"
    }
   ],
   "source": [
    "sum1(list_a)"
   ]
  },
  {
   "cell_type": "code",
   "execution_count": null,
   "id": "6dc850cd-f0a5-4426-81c1-41b83f347375",
   "metadata": {},
   "outputs": [],
   "source": [
    "def sum1(args):\n",
    "    s  = 0\n",
    "    for arg in args:\n",
    "        try:\n",
    "            s += arg\n",
    "        except:\n",
    "            pass\n",
    "    return s"
   ]
  },
  {
   "cell_type": "code",
   "execution_count": null,
   "id": "344c53f7-3e1f-4f39-a914-ebcb66cae1e5",
   "metadata": {},
   "outputs": [
    {
     "data": {
      "text/plain": [
       "13"
      ]
     },
     "execution_count": 229,
     "metadata": {},
     "output_type": "execute_result"
    }
   ],
   "source": [
    "sum1(list_a)"
   ]
  },
  {
   "cell_type": "code",
   "execution_count": null,
   "id": "b1b518aa-273e-4e0c-9826-b65249b4cf2d",
   "metadata": {},
   "outputs": [],
   "source": [
    "def sum1(args):\n",
    "    return sum(my_filter(lambda x : isinstance(x,(int,float)), args))"
   ]
  },
  {
   "cell_type": "code",
   "execution_count": null,
   "id": "b4fc495a-2fce-41c8-a3b9-a9ab92b7bbf4",
   "metadata": {},
   "outputs": [
    {
     "data": {
      "text/plain": [
       "13"
      ]
     },
     "execution_count": 231,
     "metadata": {},
     "output_type": "execute_result"
    }
   ],
   "source": [
    "sum1(list_a)"
   ]
  },
  {
   "cell_type": "code",
   "execution_count": null,
   "id": "d7b17ddf-900b-42e5-84d5-681de1a8dbba",
   "metadata": {},
   "outputs": [
    {
     "name": "stdout",
     "output_type": "stream",
     "text": [
      "반지름을 입력하세요 aaa\n"
     ]
    },
    {
     "name": "stdout",
     "output_type": "stream",
     "text": [
      "수고하셨습니다\n"
     ]
    }
   ],
   "source": [
    "r = input(\"반지름을 입력하세요\")\n",
    "try:\n",
    "    area  = r**2*math.pi\n",
    "    print(area)\n",
    "except:\n",
    "    pass\n",
    "else:\n",
    "    print(f\"입력하신 반지름은 {r}입니다\")\n",
    "finally:\n",
    "    print(\"수고하셨습니다\")\n",
    "    "
   ]
  },
  {
   "cell_type": "code",
   "execution_count": null,
   "id": "88775462-99c8-4174-ac2c-8d29fad2aa4b",
   "metadata": {},
   "outputs": [
    {
     "data": {
      "text/plain": [
       "['ArithmeticError',\n",
       " 'AssertionError',\n",
       " 'AttributeError',\n",
       " 'BaseException',\n",
       " 'BaseExceptionGroup',\n",
       " 'BlockingIOError',\n",
       " 'BrokenPipeError',\n",
       " 'BufferError',\n",
       " 'BytesWarning',\n",
       " 'ChildProcessError',\n",
       " 'ConnectionAbortedError',\n",
       " 'ConnectionError',\n",
       " 'ConnectionRefusedError',\n",
       " 'ConnectionResetError',\n",
       " 'DeprecationWarning',\n",
       " 'EOFError',\n",
       " 'Ellipsis',\n",
       " 'EncodingWarning',\n",
       " 'EnvironmentError',\n",
       " 'Exception',\n",
       " 'ExceptionGroup',\n",
       " 'False',\n",
       " 'FileExistsError',\n",
       " 'FileNotFoundError',\n",
       " 'FloatingPointError',\n",
       " 'FutureWarning',\n",
       " 'GeneratorExit',\n",
       " 'IOError',\n",
       " 'ImportError',\n",
       " 'ImportWarning',\n",
       " 'IndentationError',\n",
       " 'IndexError',\n",
       " 'InterruptedError',\n",
       " 'IsADirectoryError',\n",
       " 'KeyError',\n",
       " 'KeyboardInterrupt',\n",
       " 'LookupError',\n",
       " 'MemoryError',\n",
       " 'ModuleNotFoundError',\n",
       " 'NameError',\n",
       " 'None',\n",
       " 'NotADirectoryError',\n",
       " 'NotImplemented',\n",
       " 'NotImplementedError',\n",
       " 'OSError',\n",
       " 'OverflowError',\n",
       " 'PendingDeprecationWarning',\n",
       " 'PermissionError',\n",
       " 'ProcessLookupError',\n",
       " 'RecursionError',\n",
       " 'ReferenceError',\n",
       " 'ResourceWarning',\n",
       " 'RuntimeError',\n",
       " 'RuntimeWarning',\n",
       " 'StopAsyncIteration',\n",
       " 'StopIteration',\n",
       " 'SyntaxError',\n",
       " 'SyntaxWarning',\n",
       " 'SystemError',\n",
       " 'SystemExit',\n",
       " 'TabError',\n",
       " 'TimeoutError',\n",
       " 'True',\n",
       " 'TypeError',\n",
       " 'UnboundLocalError',\n",
       " 'UnicodeDecodeError',\n",
       " 'UnicodeEncodeError',\n",
       " 'UnicodeError',\n",
       " 'UnicodeTranslateError',\n",
       " 'UnicodeWarning',\n",
       " 'UserWarning',\n",
       " 'ValueError',\n",
       " 'Warning',\n",
       " 'WindowsError',\n",
       " 'ZeroDivisionError',\n",
       " '__IPYTHON__',\n",
       " '__build_class__',\n",
       " '__debug__',\n",
       " '__doc__',\n",
       " '__import__',\n",
       " '__loader__',\n",
       " '__name__',\n",
       " '__package__',\n",
       " '__spec__',\n",
       " 'abs',\n",
       " 'aiter',\n",
       " 'all',\n",
       " 'anext',\n",
       " 'any',\n",
       " 'ascii',\n",
       " 'bin',\n",
       " 'bool',\n",
       " 'breakpoint',\n",
       " 'bytearray',\n",
       " 'bytes',\n",
       " 'callable',\n",
       " 'chr',\n",
       " 'classmethod',\n",
       " 'compile',\n",
       " 'complex',\n",
       " 'copyright',\n",
       " 'credits',\n",
       " 'delattr',\n",
       " 'dict',\n",
       " 'dir',\n",
       " 'display',\n",
       " 'divmod',\n",
       " 'enumerate',\n",
       " 'eval',\n",
       " 'exec',\n",
       " 'execfile',\n",
       " 'filter',\n",
       " 'float',\n",
       " 'format',\n",
       " 'frozenset',\n",
       " 'get_ipython',\n",
       " 'getattr',\n",
       " 'globals',\n",
       " 'hasattr',\n",
       " 'hash',\n",
       " 'help',\n",
       " 'hex',\n",
       " 'id',\n",
       " 'input',\n",
       " 'int',\n",
       " 'isinstance',\n",
       " 'issubclass',\n",
       " 'iter',\n",
       " 'len',\n",
       " 'license',\n",
       " 'list',\n",
       " 'locals',\n",
       " 'map',\n",
       " 'max',\n",
       " 'memoryview',\n",
       " 'min',\n",
       " 'next',\n",
       " 'object',\n",
       " 'oct',\n",
       " 'open',\n",
       " 'ord',\n",
       " 'pow',\n",
       " 'print',\n",
       " 'property',\n",
       " 'range',\n",
       " 'repr',\n",
       " 'reversed',\n",
       " 'round',\n",
       " 'runfile',\n",
       " 'set',\n",
       " 'setattr',\n",
       " 'slice',\n",
       " 'sorted',\n",
       " 'staticmethod',\n",
       " 'str',\n",
       " 'sum',\n",
       " 'super',\n",
       " 'tuple',\n",
       " 'type',\n",
       " 'vars',\n",
       " 'zip']"
      ]
     },
     "execution_count": 237,
     "metadata": {},
     "output_type": "execute_result"
    }
   ],
   "source": [
    "dir(__builtins__)"
   ]
  },
  {
   "cell_type": "code",
   "execution_count": null,
   "id": "a7775e4e-20b7-4406-acf3-f59781965f74",
   "metadata": {},
   "outputs": [
    {
     "name": "stdout",
     "output_type": "stream",
     "text": [
      "list index out of range\n"
     ]
    }
   ],
   "source": [
    "list_a = [1,2,3,4,]\n",
    "try:\n",
    "    print(list_a[5])\n",
    "except Exception as e:\n",
    "    print(e)"
   ]
  },
  {
   "cell_type": "code",
   "execution_count": null,
   "id": "48425ca9-9775-43cf-aba3-d2f56be1b6de",
   "metadata": {},
   "outputs": [
    {
     "data": {
      "text/plain": [
       "1"
      ]
     },
     "execution_count": 242,
     "metadata": {},
     "output_type": "execute_result"
    }
   ],
   "source": [
    "len([10])"
   ]
  },
  {
   "cell_type": "code",
   "execution_count": null,
   "id": "8672f1f0-407b-4a8b-b15b-a530a71e62f8",
   "metadata": {},
   "outputs": [],
   "source": [
    "import time"
   ]
  },
  {
   "cell_type": "code",
   "execution_count": null,
   "id": "bac25311-4c5a-4723-8ea0-c1aaffc6b9a7",
   "metadata": {},
   "outputs": [
    {
     "name": "stdout",
     "output_type": "stream",
     "text": [
      "a\n",
      "b\n"
     ]
    }
   ],
   "source": [
    "print('a')\n",
    "time.sleep(2)\n",
    "print('b')"
   ]
  },
  {
   "cell_type": "code",
   "execution_count": null,
   "id": "8d4a0736-e7b0-4d0f-8839-2418baa48eff",
   "metadata": {},
   "outputs": [],
   "source": [
    "import selenium"
   ]
  },
  {
   "cell_type": "code",
   "execution_count": null,
   "id": "4fd809f0-fe47-4db6-b395-986ecca46f8c",
   "metadata": {},
   "outputs": [],
   "source": [
    "import math"
   ]
  },
  {
   "cell_type": "code",
   "execution_count": null,
   "id": "8af020df-44b4-4073-b66a-385246bf8920",
   "metadata": {},
   "outputs": [
    {
     "data": {
      "text/plain": [
       "['__doc__',\n",
       " '__loader__',\n",
       " '__name__',\n",
       " '__package__',\n",
       " '__spec__',\n",
       " 'acos',\n",
       " 'acosh',\n",
       " 'asin',\n",
       " 'asinh',\n",
       " 'atan',\n",
       " 'atan2',\n",
       " 'atanh',\n",
       " 'cbrt',\n",
       " 'ceil',\n",
       " 'comb',\n",
       " 'copysign',\n",
       " 'cos',\n",
       " 'cosh',\n",
       " 'degrees',\n",
       " 'dist',\n",
       " 'e',\n",
       " 'erf',\n",
       " 'erfc',\n",
       " 'exp',\n",
       " 'exp2',\n",
       " 'expm1',\n",
       " 'fabs',\n",
       " 'factorial',\n",
       " 'floor',\n",
       " 'fmod',\n",
       " 'frexp',\n",
       " 'fsum',\n",
       " 'gamma',\n",
       " 'gcd',\n",
       " 'hypot',\n",
       " 'inf',\n",
       " 'isclose',\n",
       " 'isfinite',\n",
       " 'isinf',\n",
       " 'isnan',\n",
       " 'isqrt',\n",
       " 'lcm',\n",
       " 'ldexp',\n",
       " 'lgamma',\n",
       " 'log',\n",
       " 'log10',\n",
       " 'log1p',\n",
       " 'log2',\n",
       " 'modf',\n",
       " 'nan',\n",
       " 'nextafter',\n",
       " 'perm',\n",
       " 'pi',\n",
       " 'pow',\n",
       " 'prod',\n",
       " 'radians',\n",
       " 'remainder',\n",
       " 'sin',\n",
       " 'sinh',\n",
       " 'sqrt',\n",
       " 'sumprod',\n",
       " 'tan',\n",
       " 'tanh',\n",
       " 'tau',\n",
       " 'trunc',\n",
       " 'ulp']"
      ]
     },
     "execution_count": 251,
     "metadata": {},
     "output_type": "execute_result"
    }
   ],
   "source": [
    "dir(math)"
   ]
  },
  {
   "cell_type": "code",
   "execution_count": null,
   "id": "7a5c699c-0bb8-4eba-828a-10ae86599f5a",
   "metadata": {},
   "outputs": [
    {
     "data": {
      "text/plain": [
       "13"
      ]
     },
     "execution_count": 252,
     "metadata": {},
     "output_type": "execute_result"
    }
   ],
   "source": [
    "math.ceil(12.4)"
   ]
  },
  {
   "cell_type": "code",
   "execution_count": null,
   "id": "61d3b5c8-0d44-45fb-b177-15412b99feee",
   "metadata": {},
   "outputs": [
    {
     "data": {
      "text/plain": [
       "12"
      ]
     },
     "execution_count": 253,
     "metadata": {},
     "output_type": "execute_result"
    }
   ],
   "source": [
    "math.floor(12.9)"
   ]
  },
  {
   "cell_type": "code",
   "execution_count": null,
   "id": "e0389c25-8fd8-4cf6-8233-0bd5410c406c",
   "metadata": {},
   "outputs": [
    {
     "data": {
      "text/plain": [
       "13"
      ]
     },
     "execution_count": 256,
     "metadata": {},
     "output_type": "execute_result"
    }
   ],
   "source": [
    "round(12.6)"
   ]
  },
  {
   "cell_type": "code",
   "execution_count": null,
   "id": "d75e7630-804f-482d-9eea-71b3b06f73d6",
   "metadata": {},
   "outputs": [
    {
     "data": {
      "text/plain": [
       "2.718281828459045"
      ]
     },
     "execution_count": 257,
     "metadata": {},
     "output_type": "execute_result"
    }
   ],
   "source": [
    "math.e"
   ]
  },
  {
   "cell_type": "code",
   "execution_count": null,
   "id": "726ca4bb-8c60-4c0d-8437-d084509d6fd6",
   "metadata": {},
   "outputs": [],
   "source": [
    "# log',\n",
    "#  log10',\n",
    "#  log1p',\n",
    "#  'log2',"
   ]
  },
  {
   "cell_type": "code",
   "execution_count": null,
   "id": "01adfecc-2382-49e0-8f4f-2a25d421a3c3",
   "metadata": {},
   "outputs": [
    {
     "data": {
      "text/plain": [
       "100.0"
      ]
     },
     "execution_count": 261,
     "metadata": {},
     "output_type": "execute_result"
    }
   ],
   "source": [
    "math.log10(10000)\n",
    "math.log(math.e**100)"
   ]
  },
  {
   "cell_type": "code",
   "execution_count": null,
   "id": "579b2801-206a-4f9f-b18a-9ce099d9ec0b",
   "metadata": {},
   "outputs": [
    {
     "data": {
      "text/plain": [
       "168"
      ]
     },
     "execution_count": 264,
     "metadata": {},
     "output_type": "execute_result"
    }
   ],
   "source": [
    "math.prod([4,6,7])"
   ]
  },
  {
   "cell_type": "code",
   "execution_count": null,
   "id": "fb163f2d-ec53-4e1c-b77f-2e6774140af5",
   "metadata": {},
   "outputs": [
    {
     "data": {
      "text/plain": [
       "1.0"
      ]
     },
     "execution_count": 266,
     "metadata": {},
     "output_type": "execute_result"
    }
   ],
   "source": [
    "math.sin(math.pi/2)"
   ]
  },
  {
   "cell_type": "code",
   "execution_count": null,
   "id": "a7aaaf7b-9755-4fa2-9f68-c91b5c765361",
   "metadata": {},
   "outputs": [],
   "source": [
    "def make_number(s,e,n):\n",
    "    p = (e-s)/n\n",
    "    new_list = []\n",
    "    number = 0\n",
    "    for i in range(n):\n",
    "        number += p\n",
    "        new_list.append(number)\n",
    "    return new_list"
   ]
  },
  {
   "cell_type": "code",
   "execution_count": null,
   "id": "c08451f5-07a4-4755-a847-605addb9202c",
   "metadata": {},
   "outputs": [],
   "source": [
    "x = make_number(0,10,100)"
   ]
  },
  {
   "cell_type": "code",
   "execution_count": null,
   "id": "003eccd7-ed4c-4909-b0a8-50504763f0cf",
   "metadata": {},
   "outputs": [],
   "source": [
    "import numpy as np\n",
    "x = np.linspace(0,10,100)"
   ]
  },
  {
   "cell_type": "code",
   "execution_count": null,
   "id": "fed17c1e-bc50-4574-974e-004636147f84",
   "metadata": {},
   "outputs": [],
   "source": [
    "y = list(map(math.sin,x))\n",
    "y1 = list(map(math.cos,x))"
   ]
  },
  {
   "cell_type": "code",
   "execution_count": null,
   "id": "7badadea-24e4-4778-8030-8e408586c401",
   "metadata": {},
   "outputs": [
    {
     "data": {
      "text/plain": [
       "[<matplotlib.lines.Line2D at 0x1ea8b115fa0>]"
      ]
     },
     "execution_count": 275,
     "metadata": {},
     "output_type": "execute_result"
    },
    {
     "data": {
      "image/png": "[encoded data removed]",
      "text/plain": [
       "<Figure size 640x480 with 1 Axes>"
      ]
     },
     "metadata": {},
     "output_type": "display_data"
    }
   ],
   "source": [
    "import matplotlib.pyplot as plt\n",
    "plt.plot(x,y)\n",
    "plt.plot(x,y1)"
   ]
  },
  {
   "cell_type": "code",
   "execution_count": null,
   "id": "4319d5fe-d41d-45fc-98d6-dbfba01fb99d",
   "metadata": {},
   "outputs": [
    {
     "name": "stdout",
     "output_type": "stream",
     "text": [
      "1.0\n",
      "1.0\n",
      "1.0\n",
      "1.0\n"
     ]
    }
   ],
   "source": [
    "print(math.log10(10))\n",
    "print(math.log(math.e))\n",
    "print(math.log2(2))\n",
    "print(math.log(3,3))"
   ]
  },
  {
   "cell_type": "code",
   "execution_count": null,
   "id": "564e6287-2db0-4d5b-aa04-33236224205b",
   "metadata": {},
   "outputs": [
    {
     "data": {
      "text/plain": [
       "1.0"
      ]
     },
     "execution_count": 287,
     "metadata": {},
     "output_type": "execute_result"
    }
   ],
   "source": [
    "import math\n",
    "math.log(math.e)"
   ]
  },
  {
   "cell_type": "code",
   "execution_count": null,
   "id": "75c22763-d9d4-4576-b5b1-5c5e08a209da",
   "metadata": {},
   "outputs": [
    {
     "data": {
      "text/plain": [
       "1.0"
      ]
     },
     "execution_count": 288,
     "metadata": {},
     "output_type": "execute_result"
    }
   ],
   "source": [
    "from math import log\n",
    "log(math.e)"
   ]
  },
  {
   "cell_type": "code",
   "execution_count": null,
   "id": "db561d8d-989a-41e0-899c-d22b6e6c00a0",
   "metadata": {},
   "outputs": [
    {
     "data": {
      "text/plain": [
       "1.0"
      ]
     },
     "execution_count": 289,
     "metadata": {},
     "output_type": "execute_result"
    }
   ],
   "source": [
    "from math import log, e\n",
    "log(e)"
   ]
  },
  {
   "cell_type": "code",
   "execution_count": null,
   "id": "1fe3ba1d-2b7d-4b83-a64f-b2d9b4c0d255",
   "metadata": {},
   "outputs": [],
   "source": [
    "from math import log\n",
    "from math import e as native_e"
   ]
  },
  {
   "cell_type": "code",
   "execution_count": null,
   "id": "eac62f30-d5d1-434d-a3f8-36d3c8229d75",
   "metadata": {},
   "outputs": [
    {
     "data": {
      "text/plain": [
       "1.0"
      ]
     },
     "execution_count": 291,
     "metadata": {},
     "output_type": "execute_result"
    }
   ],
   "source": [
    "log(native_e)"
   ]
  },
  {
   "cell_type": "code",
   "execution_count": null,
   "id": "8e568623-2850-4228-84b6-a4b61321ceea",
   "metadata": {},
   "outputs": [],
   "source": [
    "import os"
   ]
  },
  {
   "cell_type": "code",
   "execution_count": null,
   "id": "cfde960e-708c-4dcc-a02f-28d86b6ff45e",
   "metadata": {},
   "outputs": [
    {
     "data": {
      "text/plain": [
       "['DirEntry',\n",
       " 'EX_OK',\n",
       " 'F_OK',\n",
       " 'GenericAlias',\n",
       " 'Mapping',\n",
       " 'MutableMapping',\n",
       " 'O_APPEND',\n",
       " 'O_BINARY',\n",
       " 'O_CREAT',\n",
       " 'O_EXCL',\n",
       " 'O_NOINHERIT',\n",
       " 'O_RANDOM',\n",
       " 'O_RDONLY',\n",
       " 'O_RDWR',\n",
       " 'O_SEQUENTIAL',\n",
       " 'O_SHORT_LIVED',\n",
       " 'O_TEMPORARY',\n",
       " 'O_TEXT',\n",
       " 'O_TRUNC',\n",
       " 'O_WRONLY',\n",
       " 'P_DETACH',\n",
       " 'P_NOWAIT',\n",
       " 'P_NOWAITO',\n",
       " 'P_OVERLAY',\n",
       " 'P_WAIT',\n",
       " 'PathLike',\n",
       " 'R_OK',\n",
       " 'SEEK_CUR',\n",
       " 'SEEK_END',\n",
       " 'SEEK_SET',\n",
       " 'TMP_MAX',\n",
       " 'W_OK',\n",
       " 'X_OK',\n",
       " '_AddedDllDirectory',\n",
       " '_Environ',\n",
       " '__all__',\n",
       " '__builtins__',\n",
       " '__doc__',\n",
       " '__file__',\n",
       " '__loader__',\n",
       " '__name__',\n",
       " '__package__',\n",
       " '__spec__',\n",
       " '_check_methods',\n",
       " '_execvpe',\n",
       " '_exists',\n",
       " '_exit',\n",
       " '_fspath',\n",
       " '_get_exports_list',\n",
       " '_walk_symlinks_as_files',\n",
       " '_wrap_close',\n",
       " 'abc',\n",
       " 'abort',\n",
       " 'access',\n",
       " 'add_dll_directory',\n",
       " 'altsep',\n",
       " 'chdir',\n",
       " 'chmod',\n",
       " 'close',\n",
       " 'closerange',\n",
       " 'cpu_count',\n",
       " 'curdir',\n",
       " 'defpath',\n",
       " 'device_encoding',\n",
       " 'devnull',\n",
       " 'dup',\n",
       " 'dup2',\n",
       " 'environ',\n",
       " 'error',\n",
       " 'execl',\n",
       " 'execle',\n",
       " 'execlp',\n",
       " 'execlpe',\n",
       " 'execv',\n",
       " 'execve',\n",
       " 'execvp',\n",
       " 'execvpe',\n",
       " 'extsep',\n",
       " 'fdopen',\n",
       " 'fsdecode',\n",
       " 'fsencode',\n",
       " 'fspath',\n",
       " 'fstat',\n",
       " 'fsync',\n",
       " 'ftruncate',\n",
       " 'get_blocking',\n",
       " 'get_exec_path',\n",
       " 'get_handle_inheritable',\n",
       " 'get_inheritable',\n",
       " 'get_terminal_size',\n",
       " 'getcwd',\n",
       " 'getcwdb',\n",
       " 'getenv',\n",
       " 'getlogin',\n",
       " 'getpid',\n",
       " 'getppid',\n",
       " 'isatty',\n",
       " 'kill',\n",
       " 'linesep',\n",
       " 'link',\n",
       " 'listdir',\n",
       " 'listdrives',\n",
       " 'listmounts',\n",
       " 'listvolumes',\n",
       " 'lseek',\n",
       " 'lstat',\n",
       " 'makedirs',\n",
       " 'mkdir',\n",
       " 'name',\n",
       " 'open',\n",
       " 'pardir',\n",
       " 'path',\n",
       " 'pathsep',\n",
       " 'pipe',\n",
       " 'popen',\n",
       " 'putenv',\n",
       " 'read',\n",
       " 'readlink',\n",
       " 'remove',\n",
       " 'removedirs',\n",
       " 'rename',\n",
       " 'renames',\n",
       " 'replace',\n",
       " 'rmdir',\n",
       " 'scandir',\n",
       " 'sep',\n",
       " 'set_blocking',\n",
       " 'set_handle_inheritable',\n",
       " 'set_inheritable',\n",
       " 'spawnl',\n",
       " 'spawnle',\n",
       " 'spawnv',\n",
       " 'spawnve',\n",
       " 'st',\n",
       " 'startfile',\n",
       " 'stat',\n",
       " 'stat_result',\n",
       " 'statvfs_result',\n",
       " 'strerror',\n",
       " 'supports_bytes_environ',\n",
       " 'supports_dir_fd',\n",
       " 'supports_effective_ids',\n",
       " 'supports_fd',\n",
       " 'supports_follow_symlinks',\n",
       " 'symlink',\n",
       " 'sys',\n",
       " 'system',\n",
       " 'terminal_size',\n",
       " 'times',\n",
       " 'times_result',\n",
       " 'truncate',\n",
       " 'umask',\n",
       " 'uname_result',\n",
       " 'unlink',\n",
       " 'unsetenv',\n",
       " 'urandom',\n",
       " 'utime',\n",
       " 'waitpid',\n",
       " 'waitstatus_to_exitcode',\n",
       " 'walk',\n",
       " 'write']"
      ]
     },
     "execution_count": 293,
     "metadata": {},
     "output_type": "execute_result"
    }
   ],
   "source": [
    "dir(os)"
   ]
  },
  {
   "cell_type": "code",
   "execution_count": null,
   "id": "25f9f769-23c6-47bc-b600-5703c8573d1b",
   "metadata": {},
   "outputs": [],
   "source": [
    "from os import Mapping"
   ]
  },
  {
   "cell_type": "code",
   "execution_count": null,
   "id": "46830450-3bfc-4364-86a9-fabc3be16678",
   "metadata": {},
   "outputs": [],
   "source": [
    "import os\n",
    "import sys"
   ]
  },
  {
   "cell_type": "code",
   "execution_count": null,
   "id": "b2512c3b-5754-4867-8757-15c05411c48b",
   "metadata": {},
   "outputs": [
    {
     "data": {
      "text/plain": [
       "10.231"
      ]
     },
     "execution_count": 302,
     "metadata": {},
     "output_type": "execute_result"
    }
   ],
   "source": [
    "round(10.230929034,3)"
   ]
  },
  {
   "cell_type": "code",
   "execution_count": null,
   "id": "b8b1bf81-8042-457e-a417-145ab6b5a1b9",
   "metadata": {},
   "outputs": [],
   "source": [
    "number = 10.231929034\n",
    "cut_point = 3\n",
    "def my_round(number,cut_point):\n",
    "    number_str = str(number)\n",
    "    point = number_str.find('.')+1\n",
    "    number_int = number_str[:point-1]\n",
    "    number_float = number_str[point:point+cut_point] \n",
    "    number_str = number_int+'.'+number_float\n",
    "    number_trans = float(number_str)\n",
    "    return number_trans"
   ]
  },
  {
   "cell_type": "code",
   "execution_count": null,
   "id": "4155118a-57e2-460a-898d-6afa35e11023",
   "metadata": {},
   "outputs": [
    {
     "data": {
      "text/plain": [
       "['C:\\\\kepco',\n",
       " 'C:\\\\Users\\\\user\\\\anaconda3\\\\envs\\\\allomyrina\\\\python312.zip',\n",
       " 'C:\\\\Users\\\\user\\\\anaconda3\\\\envs\\\\allomyrina\\\\DLLs',\n",
       " 'C:\\\\Users\\\\user\\\\anaconda3\\\\envs\\\\allomyrina\\\\Lib',\n",
       " 'C:\\\\Users\\\\user\\\\anaconda3\\\\envs\\\\allomyrina',\n",
       " '',\n",
       " 'C:\\\\Users\\\\user\\\\anaconda3\\\\envs\\\\allomyrina\\\\Lib\\\\site-packages',\n",
       " 'C:\\\\Users\\\\user\\\\anaconda3\\\\envs\\\\allomyrina\\\\Lib\\\\site-packages\\\\win32',\n",
       " 'C:\\\\Users\\\\user\\\\anaconda3\\\\envs\\\\allomyrina\\\\Lib\\\\site-packages\\\\win32\\\\lib',\n",
       " 'C:\\\\Users\\\\user\\\\anaconda3\\\\envs\\\\allomyrina\\\\Lib\\\\site-packages\\\\Pythonwin']"
      ]
     },
     "execution_count": 322,
     "metadata": {},
     "output_type": "execute_result"
    }
   ],
   "source": [
    "sys.path"
   ]
  },
  {
   "cell_type": "code",
   "execution_count": null,
   "id": "d71914e2-502c-480e-9465-cafccbf5a909",
   "metadata": {},
   "outputs": [
    {
     "data": {
      "text/plain": [
       "'C:\\\\kepco'"
      ]
     },
     "execution_count": 323,
     "metadata": {},
     "output_type": "execute_result"
    }
   ],
   "source": [
    "os.getcwd()"
   ]
  },
  {
   "cell_type": "code",
   "execution_count": null,
   "id": "c328b68f-aef9-43bf-8903-dfb18a321212",
   "metadata": {},
   "outputs": [],
   "source": [
    "import sys"
   ]
  },
  {
   "cell_type": "code",
   "execution_count": null,
   "id": "9052fa5c-6d87-4a31-821d-88c03c162574",
   "metadata": {},
   "outputs": [],
   "source": [
    "# c: mymodule --> math\n",
    "sys.path.append(\"C:\\\\mymodule\\\\math\")"
   ]
  },
  {
   "cell_type": "code",
   "execution_count": null,
   "id": "a31738ad-f424-4c98-8184-70c7ad99e9f7",
   "metadata": {},
   "outputs": [],
   "source": [
    "import mymath\n",
    "from mymath import my_round\n",
    "from mymath import my_round as myround"
   ]
  },
  {
   "cell_type": "code",
   "execution_count": null,
   "id": "84ab45b5-d140-49fa-bc09-97696b4b6764",
   "metadata": {},
   "outputs": [
    {
     "data": {
      "text/plain": [
       "123.23"
      ]
     },
     "execution_count": 13,
     "metadata": {},
     "output_type": "execute_result"
    }
   ],
   "source": [
    "mymath.my_round(123.234,2)"
   ]
  },
  {
   "cell_type": "code",
   "execution_count": null,
   "id": "ec8fe298-3dbe-4668-9878-046b58a2d22d",
   "metadata": {},
   "outputs": [
    {
     "data": {
      "text/plain": [
       "122.1"
      ]
     },
     "execution_count": 15,
     "metadata": {},
     "output_type": "execute_result"
    }
   ],
   "source": [
    "my_round(122.11,1)"
   ]
  },
  {
   "cell_type": "code",
   "execution_count": null,
   "id": "8c1554cf-a054-4628-adf1-e8f36c0a863d",
   "metadata": {},
   "outputs": [
    {
     "data": {
      "text/plain": [
       "1090.33"
      ]
     },
     "execution_count": 17,
     "metadata": {},
     "output_type": "execute_result"
    }
   ],
   "source": [
    "myround(1090.3323,2)"
   ]
  },
  {
   "cell_type": "code",
   "execution_count": null,
   "id": "3e48e754-0010-4c66-b1ac-7932a708a3a5",
   "metadata": {},
   "outputs": [],
   "source": [
    "import sys\n",
    "sys.path.append(\"C:/mymodule/math\")\n",
    "from mymath import my_round, my_print"
   ]
  },
  {
   "cell_type": "code",
   "execution_count": null,
   "id": "d57a5e63-34b5-4190-b090-49834aae3b1c",
   "metadata": {},
   "outputs": [
    {
     "data": {
      "text/plain": [
       "1223.333"
      ]
     },
     "execution_count": 4,
     "metadata": {},
     "output_type": "execute_result"
    }
   ],
   "source": [
    "my_round(1223.3333213,3)"
   ]
  },
  {
   "cell_type": "code",
   "execution_count": null,
   "id": "473e586a-6756-472c-accb-e1f952351ee0",
   "metadata": {},
   "outputs": [
    {
     "data": {
      "text/plain": [
       "'234324323'"
      ]
     },
     "execution_count": 5,
     "metadata": {},
     "output_type": "execute_result"
    }
   ],
   "source": [
    "my_print(234324323)"
   ]
  },
  {
   "cell_type": "code",
   "execution_count": null,
   "id": "e40df3d1-614b-47e7-a853-543b7608da3d",
   "metadata": {},
   "outputs": [],
   "source": [
    "import os"
   ]
  },
  {
   "cell_type": "code",
   "execution_count": null,
   "id": "304d67e4-f269-4405-ac36-05d9c77c230c",
   "metadata": {},
   "outputs": [
    {
     "data": {
      "text/plain": [
       "'C:\\\\kepco'"
      ]
     },
     "execution_count": 8,
     "metadata": {},
     "output_type": "execute_result"
    }
   ],
   "source": [
    "os.getcwd()"
   ]
  },
  {
   "cell_type": "code",
   "execution_count": null,
   "id": "3429a610-ae38-4950-a3f8-0cb347ac7537",
   "metadata": {},
   "outputs": [
    {
     "data": {
      "text/plain": [
       "'C:\\\\kepco'"
      ]
     },
     "execution_count": 14,
     "metadata": {},
     "output_type": "execute_result"
    }
   ],
   "source": [
    "# os.getcwd() '../backend'"
   ]
  },
  {
   "cell_type": "code",
   "execution_count": null,
   "id": "86162670-45ac-4280-b87b-ef12b926772c",
   "metadata": {},
   "outputs": [
    {
     "data": {
      "text/plain": [
       "['.gitignore',\n",
       " '.mvn',\n",
       " '.vscode',\n",
       " 'HELP.md',\n",
       " 'mvnw',\n",
       " 'mvnw.cmd',\n",
       " 'pom.xml',\n",
       " 'src',\n",
       " 'target']"
      ]
     },
     "execution_count": 16,
     "metadata": {},
     "output_type": "execute_result"
    }
   ],
   "source": [
    "os.listdir(\"../backend/basic\")"
   ]
  },
  {
   "cell_type": "code",
   "execution_count": null,
   "id": "313cf66d-d36f-4274-a6b7-32088e5eccbc",
   "metadata": {},
   "outputs": [],
   "source": [
    "os.mkdir(\"test/test\")"
   ]
  },
  {
   "cell_type": "code",
   "execution_count": null,
   "id": "9a73c433-7207-415c-b14f-14eff74e672e",
   "metadata": {},
   "outputs": [],
   "source": [
    "os.rmdir(\"test/test\")"
   ]
  },
  {
   "cell_type": "code",
   "execution_count": null,
   "id": "e7f1fb86-5544-4769-a54b-473289207ac2",
   "metadata": {},
   "outputs": [],
   "source": [
    "os.rmdir('test')"
   ]
  },
  {
   "cell_type": "code",
   "execution_count": null,
   "id": "e0c8d925-7b2d-483e-abe2-4ead5e5a1ac3",
   "metadata": {},
   "outputs": [
    {
     "data": {
      "text/plain": [
       "['.ipynb_checkpoints',\n",
       " '0718.ipynb',\n",
       " 'test.txt',\n",
       " 'test1.txt',\n",
       " 'Untitled.ipynb',\n",
       " 'Untitled1.ipynb',\n",
       " 'Untitled2.ipynb',\n",
       " '__pycache__']"
      ]
     },
     "execution_count": 27,
     "metadata": {},
     "output_type": "execute_result"
    }
   ],
   "source": [
    "os.listdir(\".\")"
   ]
  },
  {
   "cell_type": "code",
   "execution_count": null,
   "id": "413f95e5-2b25-4395-b395-b7f7661944f5",
   "metadata": {},
   "outputs": [],
   "source": [
    "os.rename('test.txt','kwlee.txt')"
   ]
  },
  {
   "cell_type": "code",
   "execution_count": null,
   "id": "282c651b-da16-4fcc-8e89-74cd8df88ca9",
   "metadata": {},
   "outputs": [
    {
     "data": {
      "text/plain": [
       "['.ipynb_checkpoints',\n",
       " '0718.ipynb',\n",
       " 'kwlee.txt',\n",
       " 'test1.txt',\n",
       " 'Untitled.ipynb',\n",
       " 'Untitled1.ipynb',\n",
       " 'Untitled2.ipynb',\n",
       " '__pycache__']"
      ]
     },
     "execution_count": 29,
     "metadata": {},
     "output_type": "execute_result"
    }
   ],
   "source": [
    "os.listdir()"
   ]
  },
  {
   "cell_type": "code",
   "execution_count": null,
   "id": "010afb5a-55b2-48fd-8b41-c9e31e10fb79",
   "metadata": {},
   "outputs": [],
   "source": [
    "from urllib import request\n",
    "from bs4 import BeautifulSoup"
   ]
  },
  {
   "cell_type": "code",
   "execution_count": null,
   "id": "a576a69b-dac4-4efa-bcee-d7bb16a10dd1",
   "metadata": {
    "collapsed": true,
    "jupyter": {
     "outputs_hidden": true
    }
   },
   "outputs": [
    {
     "data": {
      "text/plain": [
       "['AbstractBasicAuthHandler',\n",
       " 'AbstractDigestAuthHandler',\n",
       " 'AbstractHTTPHandler',\n",
       " 'BaseHandler',\n",
       " 'CacheFTPHandler',\n",
       " 'ContentTooShortError',\n",
       " 'DataHandler',\n",
       " 'FTPHandler',\n",
       " 'FancyURLopener',\n",
       " 'FileHandler',\n",
       " 'HTTPBasicAuthHandler',\n",
       " 'HTTPCookieProcessor',\n",
       " 'HTTPDefaultErrorHandler',\n",
       " 'HTTPDigestAuthHandler',\n",
       " 'HTTPError',\n",
       " 'HTTPErrorProcessor',\n",
       " 'HTTPHandler',\n",
       " 'HTTPPasswordMgr',\n",
       " 'HTTPPasswordMgrWithDefaultRealm',\n",
       " 'HTTPPasswordMgrWithPriorAuth',\n",
       " 'HTTPRedirectHandler',\n",
       " 'HTTPSHandler',\n",
       " 'MAXFTPCACHE',\n",
       " 'OpenerDirector',\n",
       " 'ProxyBasicAuthHandler',\n",
       " 'ProxyDigestAuthHandler',\n",
       " 'ProxyHandler',\n",
       " 'Request',\n",
       " 'URLError',\n",
       " 'URLopener',\n",
       " 'UnknownHandler',\n",
       " '__all__',\n",
       " '__builtins__',\n",
       " '__cached__',\n",
       " '__doc__',\n",
       " '__file__',\n",
       " '__loader__',\n",
       " '__name__',\n",
       " '__package__',\n",
       " '__spec__',\n",
       " '__version__',\n",
       " '_cut_port_re',\n",
       " '_ftperrors',\n",
       " '_have_ssl',\n",
       " '_localhost',\n",
       " '_noheaders',\n",
       " '_opener',\n",
       " '_parse_proxy',\n",
       " '_proxy_bypass_macosx_sysconf',\n",
       " '_proxy_bypass_winreg_override',\n",
       " '_randombytes',\n",
       " '_safe_gethostbyname',\n",
       " '_splitattr',\n",
       " '_splithost',\n",
       " '_splitpasswd',\n",
       " '_splitport',\n",
       " '_splitquery',\n",
       " '_splittag',\n",
       " '_splittype',\n",
       " '_splituser',\n",
       " '_splitvalue',\n",
       " '_thishost',\n",
       " '_to_bytes',\n",
       " '_url_tempfiles',\n",
       " 'addclosehook',\n",
       " 'addinfourl',\n",
       " 'base64',\n",
       " 'bisect',\n",
       " 'build_opener',\n",
       " 'contextlib',\n",
       " 'email',\n",
       " 'ftpcache',\n",
       " 'ftperrors',\n",
       " 'ftpwrapper',\n",
       " 'getproxies',\n",
       " 'getproxies_environment',\n",
       " 'getproxies_registry',\n",
       " 'hashlib',\n",
       " 'http',\n",
       " 'install_opener',\n",
       " 'io',\n",
       " 'localhost',\n",
       " 'noheaders',\n",
       " 'os',\n",
       " 'parse_http_list',\n",
       " 'parse_keqv_list',\n",
       " 'pathname2url',\n",
       " 'proxy_bypass',\n",
       " 'proxy_bypass_environment',\n",
       " 'proxy_bypass_registry',\n",
       " 'quote',\n",
       " 're',\n",
       " 'request_host',\n",
       " 'socket',\n",
       " 'ssl',\n",
       " 'string',\n",
       " 'sys',\n",
       " 'tempfile',\n",
       " 'thishost',\n",
       " 'time',\n",
       " 'unquote',\n",
       " 'unquote_to_bytes',\n",
       " 'unwrap',\n",
       " 'url2pathname',\n",
       " 'urlcleanup',\n",
       " 'urljoin',\n",
       " 'urlopen',\n",
       " 'urlparse',\n",
       " 'urlretrieve',\n",
       " 'urlsplit',\n",
       " 'urlunparse',\n",
       " 'warnings']"
      ]
     },
     "execution_count": 31,
     "metadata": {},
     "output_type": "execute_result"
    }
   ],
   "source": [
    "dir(request)"
   ]
  },
  {
   "cell_type": "code",
   "execution_count": null,
   "id": "fdd204d6-6246-4cb6-8d72-8e0fa6be39fe",
   "metadata": {},
   "outputs": [],
   "source": [
    "url = \"https://www.naver.com/\"\n",
    "html = request.urlopen(url)"
   ]
  },
  {
   "cell_type": "code",
   "execution_count": null,
   "id": "0a1a053f-fd39-40d8-a6a6-65e4cdeba096",
   "metadata": {},
   "outputs": [],
   "source": [
    "x = html.read()"
   ]
  },
  {
   "cell_type": "code",
   "execution_count": null,
   "id": "c26bf2ed-d7af-454c-8e20-b0724e60e91a",
   "metadata": {},
   "outputs": [],
   "source": [
    "bs = BeautifulSoup(x,'html.parser')"
   ]
  },
  {
   "cell_type": "code",
   "execution_count": null,
   "id": "9d417b6a-0662-4d18-beb0-7dcb5a11ec60",
   "metadata": {},
   "outputs": [
    {
     "data": {
      "text/plain": [
       "'상단영역 바로가기'"
      ]
     },
     "execution_count": 47,
     "metadata": {},
     "output_type": "execute_result"
    }
   ],
   "source": [
    "bs.body.a.get_text()"
   ]
  },
  {
   "cell_type": "code",
   "execution_count": null,
   "id": "97a9a23b-0c44-4507-bbce-cbeb08b2925d",
   "metadata": {},
   "outputs": [],
   "source": [
    "from primePy import primes"
   ]
  },
  {
   "cell_type": "code",
   "execution_count": null,
   "id": "c94d3276-be4a-47fc-b4db-2a20ed32bfc0",
   "metadata": {},
   "outputs": [
    {
     "data": {
      "text/plain": [
       "1204"
      ]
     },
     "execution_count": 52,
     "metadata": {},
     "output_type": "execute_result"
    }
   ],
   "source": [
    "len(primes.upto(10000))-len(primes.upto(100))"
   ]
  },
  {
   "cell_type": "code",
   "execution_count": null,
   "id": "bfc0bd2d-d8f7-47fd-82d6-99786dbb6dc1",
   "metadata": {},
   "outputs": [],
   "source": [
    "def prime_check(n):\n",
    "    for i in range(2,n):\n",
    "        if n % i == 0:\n",
    "            return False\n",
    "            break\n",
    "    return True\n",
    "\n",
    "def upto(n):\n",
    "    cnt = 0\n",
    "    for i in range(2,n+1):\n",
    "        cnt += prime_check(i)\n",
    "    return cnt\n",
    "\n",
    "def prime_range(x,y):\n",
    "    return upto(y) - upto(x)"
   ]
  },
  {
   "cell_type": "code",
   "execution_count": null,
   "id": "2d10ab49-94e6-4442-95dc-377d19ccb3d6",
   "metadata": {},
   "outputs": [
    {
     "data": {
      "text/plain": [
       "1204"
      ]
     },
     "execution_count": 70,
     "metadata": {},
     "output_type": "execute_result"
    }
   ],
   "source": [
    "prime_range(100,10000)"
   ]
  },
  {
   "cell_type": "code",
   "execution_count": null,
   "id": "4e6ea326-d95a-4cca-965e-a343f545540d",
   "metadata": {},
   "outputs": [],
   "source": [
    "from myPrime import prime_range as prime\n",
    "from myPrime import prime_check"
   ]
  },
  {
   "cell_type": "code",
   "execution_count": null,
   "id": "f522bda0-d78a-4207-b787-0936732a01e8",
   "metadata": {},
   "outputs": [
    {
     "data": {
      "text/plain": [
       "1204"
      ]
     },
     "execution_count": 75,
     "metadata": {},
     "output_type": "execute_result"
    }
   ],
   "source": [
    "prime(100,10000)"
   ]
  },
  {
   "cell_type": "code",
   "execution_count": null,
   "id": "5038504a-a9cb-4da1-9904-cca0d4ac3bc2",
   "metadata": {},
   "outputs": [
    {
     "data": {
      "text/plain": [
       "True"
      ]
     },
     "execution_count": 77,
     "metadata": {},
     "output_type": "execute_result"
    }
   ],
   "source": [
    "prime_check(12347)"
   ]
  },
  {
   "cell_type": "code",
   "execution_count": null,
   "id": "2069dd16-edef-4e53-8fff-f4db69ce13ab",
   "metadata": {},
   "outputs": [
    {
     "data": {
      "text/plain": [
       "'prime_range'"
      ]
     },
     "execution_count": 78,
     "metadata": {},
     "output_type": "execute_result"
    }
   ],
   "source": [
    "prime.__name__"
   ]
  },
  {
   "cell_type": "code",
   "execution_count": null,
   "id": "8c09035b-28c1-4fdf-8b51-728c24fc3fff",
   "metadata": {},
   "outputs": [
    {
     "data": {
      "text/plain": [
       "True"
      ]
     },
     "execution_count": 81,
     "metadata": {},
     "output_type": "execute_result"
    }
   ],
   "source": [
    "len.__name__ == \"len\""
   ]
  },
  {
   "cell_type": "code",
   "execution_count": null,
   "id": "9c47c333-b722-4e01-b56e-64d1ad0995d7",
   "metadata": {},
   "outputs": [
    {
     "data": {
      "text/plain": [
       "98"
      ]
     },
     "execution_count": 83,
     "metadata": {},
     "output_type": "execute_result"
    }
   ],
   "source": [
    "ord('b')"
   ]
  },
  {
   "cell_type": "code",
   "execution_count": null,
   "id": "e979d28e-7d5d-4832-a815-02f78e0966ca",
   "metadata": {},
   "outputs": [
    {
     "data": {
      "text/plain": [
       "'\\x1b'"
      ]
     },
     "execution_count": 85,
     "metadata": {},
     "output_type": "execute_result"
    }
   ],
   "source": [
    "chr(27)"
   ]
  },
  {
   "cell_type": "code",
   "execution_count": null,
   "id": "f40964cb-fdf7-4cd4-9943-c17cea0e3b08",
   "metadata": {},
   "outputs": [
    {
     "data": {
      "text/plain": [
       "'add'"
      ]
     },
     "execution_count": 89,
     "metadata": {},
     "output_type": "execute_result"
    }
   ],
   "source": [
    "b'add'.decode('cp949')"
   ]
  },
  {
   "cell_type": "code",
   "execution_count": null,
   "id": "e55d7cdc-ee5e-445a-be56-9d567736e2cb",
   "metadata": {},
   "outputs": [],
   "source": [
    "x,y = 100,10"
   ]
  },
  {
   "cell_type": "code",
   "execution_count": null,
   "id": "a23b8a17-1381-4fae-8c5c-977f659782ba",
   "metadata": {},
   "outputs": [],
   "source": [
    "def add(x,y):\n",
    "    return x+y"
   ]
  },
  {
   "cell_type": "code",
   "execution_count": null,
   "id": "37ce19a8-932c-4675-85c8-fa2d6df08907",
   "metadata": {},
   "outputs": [],
   "source": [
    "def sub(x,y):\n",
    "    return x-y"
   ]
  },
  {
   "cell_type": "code",
   "execution_count": null,
   "id": "2eadeef2-dd7d-460e-b924-c9bc68b7e37e",
   "metadata": {},
   "outputs": [],
   "source": [
    "def div(x,y):\n",
    "    return x/y"
   ]
  },
  {
   "cell_type": "code",
   "execution_count": null,
   "id": "c40de782-4cce-410d-976a-a1fd2f2bb21b",
   "metadata": {},
   "outputs": [],
   "source": [
    "def mul(x,y):\n",
    "    return x*y"
   ]
  },
  {
   "cell_type": "code",
   "execution_count": null,
   "id": "0ca9f459-4425-41c6-a249-e5855d99ffe0",
   "metadata": {},
   "outputs": [],
   "source": [
    "z = mul(x,y)"
   ]
  },
  {
   "cell_type": "code",
   "execution_count": null,
   "id": "bdb8daf9-22b1-46e4-9bc8-5e883f7fe0d3",
   "metadata": {},
   "outputs": [],
   "source": [
    "class Calc:\n",
    "    def __init__(self,x,y,method):\n",
    "        self.x = x\n",
    "        self.y = y\n",
    "        method_dic = {\n",
    "            'add':self.add,\n",
    "            'sub':self.sub,\n",
    "            'mul':self.mul,\n",
    "            'div':self.div,\n",
    "        }\n",
    "        method_dic[method]()\n",
    "    def add(self):\n",
    "        self.result = self.x + self.y\n",
    "        print(self.result)\n",
    "        return self.result\n",
    "    def sub(self):\n",
    "        self.result = self.x - self.y\n",
    "        return self.result\n",
    "    def div(self):\n",
    "        self.result = self.x / self.y\n",
    "        return self.result\n",
    "    def mul(self):\n",
    "        self.result = self.x * self.y\n",
    "        return self.result\n",
    "    def abs_sub(self):\n",
    "        if self.x > self.y:\n",
    "            return self.sub()\n",
    "        else:\n",
    "            return self.sub() * -1"
   ]
  },
  {
   "cell_type": "code",
   "execution_count": null,
   "id": "e618f0bf-60e4-48d1-828a-acce5742e3bb",
   "metadata": {},
   "outputs": [],
   "source": [
    "calc1 = Calc(4,8,'div')"
   ]
  },
  {
   "cell_type": "code",
   "execution_count": null,
   "id": "42601441-210b-471d-808c-f9dac91f0691",
   "metadata": {},
   "outputs": [
    {
     "data": {
      "text/plain": [
       "0.5"
      ]
     },
     "execution_count": 190,
     "metadata": {},
     "output_type": "execute_result"
    }
   ],
   "source": [
    "calc1.result"
   ]
  },
  {
   "cell_type": "code",
   "execution_count": null,
   "id": "7e05ca9e-2d28-47ff-ba0f-52d5e091c288",
   "metadata": {},
   "outputs": [],
   "source": [
    "def a1(x):\n",
    "    return x+1\n",
    "def a2(x):\n",
    "    return x+2\n",
    "def a3(x):\n",
    "    return x+3"
   ]
  },
  {
   "cell_type": "code",
   "execution_count": null,
   "id": "a2791fa0-2217-49f2-94c4-356b0f2db4cb",
   "metadata": {},
   "outputs": [],
   "source": [
    "math_dic = {\n",
    "    1:a1,\n",
    "    2:a2,\n",
    "    3:a3,\n",
    "}"
   ]
  },
  {
   "cell_type": "code",
   "execution_count": null,
   "id": "d6ad3513-b788-4460-8649-bf004fae1aa8",
   "metadata": {},
   "outputs": [
    {
     "data": {
      "text/plain": [
       "11"
      ]
     },
     "execution_count": 182,
     "metadata": {},
     "output_type": "execute_result"
    }
   ],
   "source": [
    "math_dic[1](10)"
   ]
  },
  {
   "cell_type": "code",
   "execution_count": null,
   "id": "841299b3-62c9-4c65-bb83-b97ff40bb6b3",
   "metadata": {},
   "outputs": [
    {
     "name": "stdout",
     "output_type": "stream",
     "text": [
      "이름: 윤인성\n",
      "국어: 87\n",
      "수학: 98\n",
      "영어: 88\n",
      "과학: 95\n",
      "끝내시려면 q or Q: \n",
      "이름: 연하진\n",
      "국어: 92\n",
      "수학: 98\n",
      "영어: 96\n",
      "과학: 98\n",
      "끝내시려면 q or Q: \n",
      "이름: 구지연\n",
      "국어: 76\n",
      "수학: 96\n",
      "영어: 94\n",
      "과학: 90\n",
      "끝내시려면 q or Q: \n",
      "이름: 나선주\n",
      "국어: 98\n",
      "수학: 92\n",
      "영어: 96\n",
      "과학: 92\n",
      "끝내시려면 q or Q: \n",
      "이름: 윤아린\n",
      "국어: 95\n",
      "수학: 98\n",
      "영어: 98\n",
      "과학: 98\n",
      "끝내시려면 q or Q: \n",
      "이름: 윤명월\n",
      "국어: 64\n",
      "수학: 88\n",
      "영어: 92\n",
      "과학: 98\n",
      "끝내시려면 q or Q: q\n"
     ]
    }
   ],
   "source": [
    "students = []\n",
    "while True:\n",
    "    name = input(\"이름:\")\n",
    "    korean = int(input(\"국어:\"))\n",
    "    math = int(input(\"수학:\"))\n",
    "    english = int(input(\"영어:\"))\n",
    "    science = int(input(\"과학:\"))\n",
    "    tmp_dic = {\"name\":name,\"korean\":korean,\"math\":math,\"english\":english,\"science\":science}\n",
    "    students.append(tmp_dic)\n",
    "    key = input(\"끝내시려면 q or Q:\")\n",
    "    if key == 'q' or key == 'Q':\n",
    "        break"
   ]
  },
  {
   "cell_type": "code",
   "execution_count": null,
   "id": "e16cdaba-b581-48c2-9677-f2591bac65fa",
   "metadata": {},
   "outputs": [
    {
     "data": {
      "text/plain": [
       "[{'name': '윤인성', 'korean': 87, 'math': 98, 'english': 88, 'science': 95},\n",
       " {'name': '연하진', 'korean': 92, 'math': 98, 'english': 96, 'science': 98},\n",
       " {'name': '구지연', 'korean': 76, 'math': 96, 'english': 94, 'science': 90},\n",
       " {'name': '나선주', 'korean': 98, 'math': 92, 'english': 96, 'science': 92},\n",
       " {'name': '윤아린', 'korean': 95, 'math': 98, 'english': 98, 'science': 98},\n",
       " {'name': '윤명월', 'korean': 64, 'math': 88, 'english': 92, 'science': 98}]"
      ]
     },
     "execution_count": 193,
     "metadata": {},
     "output_type": "execute_result"
    }
   ],
   "source": [
    "students"
   ]
  },
  {
   "cell_type": "code",
   "execution_count": null,
   "id": "6666ddde-f0cf-444d-a09f-7734be217df4",
   "metadata": {},
   "outputs": [
    {
     "name": "stdout",
     "output_type": "stream",
     "text": [
      "이름  총점  평균 \n",
      "윤인성 368 92.0\n",
      "연하진 384 96.0\n",
      "구지연 356 89.0\n",
      "나선주 378 94.5\n",
      "윤아린 389 97.25\n",
      "윤명월 342 85.5\n"
     ]
    }
   ],
   "source": [
    "print(f\"이름  총점  평균 \")\n",
    "for student in students:\n",
    "    score_sum = student['korean'] + student['math'] + student['english'] + student['science']\n",
    "    score_avg = score_sum/4\n",
    "    print(f\"{student['name']} {score_sum} {score_avg}\" )"
   ]
  },
  {
   "cell_type": "code",
   "execution_count": null,
   "id": "3858fc36-5d56-4be8-9d87-6349c37b09a5",
   "metadata": {},
   "outputs": [],
   "source": [
    "def get_score(student):\n",
    "    return student['korean'] + student['math'] + student['english'] + student['science']\n",
    "def get_avg(student):\n",
    "    return get_score(student)/len(student.keys())-1"
   ]
  },
  {
   "cell_type": "code",
   "execution_count": null,
   "id": "a44cf05f-112a-4f89-b609-2e4c7e371dbc",
   "metadata": {},
   "outputs": [
    {
     "name": "stdout",
     "output_type": "stream",
     "text": [
      "이름  총점  평균 \n",
      "윤인성 368 72.6\n",
      "연하진 384 75.8\n",
      "구지연 356 70.2\n",
      "나선주 378 74.6\n",
      "윤아린 389 76.8\n",
      "윤명월 342 67.4\n"
     ]
    }
   ],
   "source": [
    "print(f\"이름  총점  평균 \")\n",
    "for student in students:\n",
    "    score_sum = get_score(student)\n",
    "    score_avg = get_avg(student)\n",
    "    print(f\"{student['name']} {score_sum} {score_avg}\" )"
   ]
  },
  {
   "cell_type": "code",
   "execution_count": null,
   "id": "b6b0dff6-c2da-4ef2-9813-c2a1a19e9919",
   "metadata": {},
   "outputs": [],
   "source": [
    "class School:\n",
    "    def __init__(self):\n",
    "        self.work_dic = {\n",
    "            '1':self.register,\n",
    "            '2':self.score_search,\n",
    "            '3':self.update_score,\n",
    "        }\n",
    "        self.students = []\n",
    "        print(\"=======================\")\n",
    "        print(\"=== 1 : 학생성적등록 ===\")\n",
    "        print(\"=== 2 : 성적조회 =======\")\n",
    "        print(\"=== 3 : 성적수정 =======\")\n",
    "        work_type = input(\"실행하고자 하는 작업을 선택해 주세요\")\n",
    "        self.work_dic[work_type]()\n",
    "        \n",
    "    def register(self):\n",
    "        while True:\n",
    "            name = input(\"name : \")\n",
    "            korean = int(input(\"korean : \"))\n",
    "            english = int(input(\"english : \"))\n",
    "            math = int(input(\"math : \"))\n",
    "            temp_dic = {\"name\":name,\"korean\":korean,\"english\":english,\"math\":math}\n",
    "            self.students.append(temp_dic)\n",
    "            key = input(\"끝내시려면 q or Q를 입력하세요\")\n",
    "            if key == \"q\" or key == \"Q\":\n",
    "                break\n",
    "                \n",
    "    def score_search(self,name):\n",
    "        for idx,student in enumerate(self.students):\n",
    "            if student['name'] == name:\n",
    "                key = idx\n",
    "                break\n",
    "        data = self.students[key]\n",
    "        print(f\"{data['name']}님의 {data['korean']} {data['english']} {data['math']}\")\n",
    "        print(f\"총점은 {self.total_score(key)}\")\n",
    "            \n",
    "    def total_score(self,x):\n",
    "        total = self.students[x]['korean'] + self.students[x]['english'] + self.students[x]['math']\n",
    "        return total\n",
    "    def update_score(self,name):\n",
    "        for idx,student in enumerate(self.students):\n",
    "            if student['name'] == name:\n",
    "                key = idx\n",
    "                break\n",
    "        korean = int(input(\"korean :\"))\n",
    "        english = int(input(\"english :\"))\n",
    "        math = int(input(\"math :\"))\n",
    "        self.students[idx] = {'name':name,'korean':korean,'english':english,'math':math}\n",
    "    def score_report(self):\n",
    "        korea_avg = 0\n",
    "        english_avg = 0 \n",
    "        math_avg = 0\n",
    "        for student in self.students:\n",
    "            korea_avg += student['korean']\n",
    "            english_avg += student['english']\n",
    "            math_avg += student['math']\n",
    "        korea_avg = korea_avg/len(self.students)\n",
    "        english_avg = english_avg/len(self.students)\n",
    "        math_avg = math_avg/len(self.students)\n",
    "        print(\"=====================================\")\n",
    "        report_str = \"\"\n",
    "        report_str += \"국어성적 평균 : \"\n",
    "        report_str += str(korea_avg)\n",
    "        report_str += \", 영어성적평균 : \"\n",
    "        report_str += str(english_avg)\n",
    "        report_str += \", 수학성적평균 : \"\n",
    "        report_str += str(math_avg)\n",
    "        print(report_str)\n",
    "\n",
    "    def best_score(self):\n",
    "        for idx,student in enumerate(self.students):\n",
    "            total = student['korean']*0.2 + student['english']*0.3 + student['math']*0.5\n",
    "            self.students[idx]['total'] = total  \n",
    "        best_score = 0\n",
    "        for idx, student in enumerate(self.students):\n",
    "            if best_score < student['total']:\n",
    "                best_score = student['total']\n",
    "                max_idx = idx\n",
    "        best = self.students[max_idx]\n",
    "        print(f\"{best['name']}님이 1등이며 {best['total']}점입니다\")\n",
    "        "
   ]
  },
  {
   "cell_type": "code",
   "execution_count": null,
   "id": "192fcbaa-39f9-41aa-af37-cd0972986b2c",
   "metadata": {},
   "outputs": [
    {
     "name": "stdout",
     "output_type": "stream",
     "text": [
      "=======================\n",
      "=== 1 : 학생성적등록 ===\n",
      "=== 2 : 성적조회 =======\n",
      "=== 3 : 성적수정 =======\n"
     ]
    },
    {
     "name": "stdout",
     "output_type": "stream",
     "text": [
      "실행하고자 하는 작업을 선택해 주세요 1\n",
      "name :  a\n",
      "korean :  0\n",
      "english :  0\n",
      "math :  0\n",
      "끝내시려면 q or Q를 입력하세요 q\n"
     ]
    }
   ],
   "source": [
    "first_class = School()"
   ]
  },
  {
   "cell_type": "code",
   "execution_count": null,
   "id": "ebc7e3ea-ae82-4c4d-8b06-2ef155256bec",
   "metadata": {},
   "outputs": [],
   "source": [
    "first_class.students = s"
   ]
  },
  {
   "cell_type": "code",
   "execution_count": null,
   "id": "d4a5de81-e577-493a-8044-e7e85c933a86",
   "metadata": {
    "scrolled": true
   },
   "outputs": [
    {
     "name": "stdout",
     "output_type": "stream",
     "text": [
      "김혜림님이 1등이며 100.0점입니다\n"
     ]
    }
   ],
   "source": [
    "first_class.best_score()"
   ]
  },
  {
   "cell_type": "code",
   "execution_count": null,
   "id": "eeea92cf-5330-428b-a837-e1a7bfbd498f",
   "metadata": {},
   "outputs": [
    {
     "name": "stdout",
     "output_type": "stream",
     "text": [
      "name :  김혜림\n",
      "korean :  100\n",
      "english :  100\n",
      "math :  100\n",
      "끝내시려면 q or Q를 입력하세요 q\n"
     ]
    }
   ],
   "source": [
    "first_class.register()"
   ]
  },
  {
   "cell_type": "code",
   "execution_count": null,
   "id": "08b18a6e-ab97-4320-9eda-42393877cbee",
   "metadata": {},
   "outputs": [],
   "source": [
    "s = first_class.students"
   ]
  },
  {
   "cell_type": "code",
   "execution_count": null,
   "id": "b38a6f49-0ced-481b-8489-47a5d8d39479",
   "metadata": {},
   "outputs": [
    {
     "name": "stdout",
     "output_type": "stream",
     "text": [
      "안시형님의 98 98 96\n",
      "총점은 292\n"
     ]
    }
   ],
   "source": [
    "first_class.score_search('안시형')"
   ]
  },
  {
   "cell_type": "code",
   "execution_count": null,
   "id": "6a834a8b-dd7a-4242-b08f-d6755e29fc90",
   "metadata": {},
   "outputs": [
    {
     "name": "stdout",
     "output_type": "stream",
     "text": [
      "안시형님의 100 100 100\n",
      "총점은 300\n"
     ]
    }
   ],
   "source": [
    "first_class.score_search('안시형')"
   ]
  },
  {
   "cell_type": "code",
   "execution_count": null,
   "id": "f65561d3-03d5-4bd7-8202-fb80b6202323",
   "metadata": {},
   "outputs": [],
   "source": [
    "first_class.students = s"
   ]
  },
  {
   "cell_type": "code",
   "execution_count": null,
   "id": "b35cae61-3065-4c09-b9c6-c7f873e45ae5",
   "metadata": {},
   "outputs": [],
   "source": [
    "s = first_class.students"
   ]
  },
  {
   "cell_type": "code",
   "execution_count": null,
   "id": "0fe1e418-3631-4858-8fff-534550f70bc5",
   "metadata": {},
   "outputs": [],
   "source": [
    "kor_best = 0\n",
    "eng_best = 0\n",
    "math_best = 0\n",
    "for student in first_class.students:\n",
    "    if kor_best < int(student['korean']):\n",
    "        kor_best = int(student['korean'])\n",
    "    if eng_best < int(student['english']):\n",
    "        eng_best = int(student['english'])\n",
    "    if math_best < int(student['math']):\n",
    "        math_best = int(student['math'])"
   ]
  },
  {
   "cell_type": "code",
   "execution_count": null,
   "id": "4b6ac8b0-c6c5-4740-99c3-8dd1f1ac4a40",
   "metadata": {},
   "outputs": [
    {
     "data": {
      "text/plain": [
       "100"
      ]
     },
     "execution_count": 269,
     "metadata": {},
     "output_type": "execute_result"
    }
   ],
   "source": [
    "kor_best"
   ]
  },
  {
   "cell_type": "code",
   "execution_count": null,
   "id": "d9e5c819-8be8-4d87-804c-aa898caa1608",
   "metadata": {},
   "outputs": [
    {
     "name": "stdout",
     "output_type": "stream",
     "text": [
      "78\n",
      "98\n",
      "100\n",
      "100\n",
      "99\n"
     ]
    }
   ],
   "source": [
    "for student in first_class.students:\n",
    "    print(student['english'])"
   ]
  },
  {
   "cell_type": "code",
   "execution_count": null,
   "id": "12ad7fb2-8957-4cdc-93cd-1121533c6af4",
   "metadata": {},
   "outputs": [],
   "source": [
    "s = first_class.students "
   ]
  },
  {
   "cell_type": "code",
   "execution_count": null,
   "id": "0dc75378-78d6-4c7d-bdd5-86509e9d9dd1",
   "metadata": {},
   "outputs": [
    {
     "name": "stdout",
     "output_type": "stream",
     "text": [
      "=====================================\n",
      "국어성적 평균 : 92.71428571428571, 영어성적평균 : 90.42857142857143, 수학성적평균 : 92.57142857142857\n"
     ]
    }
   ],
   "source": [
    "first_class.score_report()"
   ]
  },
  {
   "cell_type": "code",
   "execution_count": null,
   "id": "6adb045a-817c-4d5f-ad06-9ea7a05982f7",
   "metadata": {},
   "outputs": [
    {
     "data": {
      "text/plain": [
       "[{'name': '이강욱', 'korean': 88, 'english': 78, 'math': 89, 'total': 85.5},\n",
       " {'name': '김신희', 'korean': 90, 'english': 98, 'math': 88},\n",
       " {'name': '김정연', 'korean': 99, 'english': 100, 'math': 100},\n",
       " {'name': '안시형', 'korean': 98, 'english': 98, 'math': 96},\n",
       " {'name': '김민형', 'korean': 99, 'english': 99, 'math': 98},\n",
       " {'name': '노광우', 'korean': 85, 'english': 90, 'math': 97},\n",
       " {'name': '노광우', 'korean': 90, 'english': 70, 'math': 80}]"
      ]
     },
     "execution_count": 303,
     "metadata": {},
     "output_type": "execute_result"
    }
   ],
   "source": [
    "first_class.students[0]['total'] = 85.5\n",
    "first_class.students"
   ]
  },
  {
   "cell_type": "code",
   "execution_count": null,
   "id": "45fafde2-3090-4305-a233-294cff986697",
   "metadata": {},
   "outputs": [
    {
     "data": {
      "text/plain": [
       "[{'name': '이강욱', 'korean': 88, 'english': 78, 'math': 89, 'total': 85.5},\n",
       " {'name': '김신희', 'korean': 90, 'english': 98, 'math': 88, 'total': 91.4},\n",
       " {'name': '김정연', 'korean': 99, 'english': 100, 'math': 100, 'total': 99.8},\n",
       " {'name': '안시형', 'korean': 98, 'english': 98, 'math': 96, 'total': 97.0},\n",
       " {'name': '김민형', 'korean': 99, 'english': 99, 'math': 98, 'total': 98.5},\n",
       " {'name': '노광우', 'korean': 85, 'english': 90, 'math': 97, 'total': 92.5},\n",
       " {'name': '노광우', 'korean': 90, 'english': 70, 'math': 80, 'total': 79.0}]"
      ]
     },
     "execution_count": 305,
     "metadata": {},
     "output_type": "execute_result"
    }
   ],
   "source": [
    "for idx,student in enumerate(first_class.students):\n",
    "    total = student['korean']*0.2 + student['english']*0.3 + student['math']*0.5\n",
    "    first_class.students[idx]['total'] = total  "
   ]
  },
  {
   "cell_type": "code",
   "execution_count": null,
   "id": "9f2e180d-90d1-4496-8f7b-875982e9d197",
   "metadata": {},
   "outputs": [
    {
     "data": {
      "text/plain": [
       "2"
      ]
     },
     "execution_count": 310,
     "metadata": {},
     "output_type": "execute_result"
    }
   ],
   "source": [
    "for idx,student in enumerate(first_class.students):\n",
    "    total = student['korean']*0.2 + student['english']*0.3 + student['math']*0.5\n",
    "    first_class.students[idx]['total'] = total  \n",
    "best_score = 0\n",
    "for idx, student in enumerate(first_class.students):\n",
    "    if best_score < student['total']:\n",
    "        best_score = student['total']\n",
    "        max_idx = idx\n",
    "max_idx"
   ]
  },
  {
   "cell_type": "code",
   "execution_count": null,
   "id": "722bdca2-171d-42c1-989e-76f3fbeec43b",
   "metadata": {},
   "outputs": [
    {
     "data": {
      "text/plain": [
       "99.8"
      ]
     },
     "execution_count": 307,
     "metadata": {},
     "output_type": "execute_result"
    }
   ],
   "source": [
    "best_score"
   ]
  },
  {
   "cell_type": "code",
   "execution_count": null,
   "id": "e4760d44-2d9d-413c-8db1-74acb01be797",
   "metadata": {},
   "outputs": [],
   "source": [
    "a = [1,2,3,]"
   ]
  },
  {
   "cell_type": "code",
   "execution_count": null,
   "id": "17f58c4a-8328-4ed3-b071-89ad3bf2add8",
   "metadata": {},
   "outputs": [
    {
     "data": {
      "text/plain": [
       "['__add__',\n",
       " '__class__',\n",
       " '__class_getitem__',\n",
       " '__contains__',\n",
       " '__delattr__',\n",
       " '__delitem__',\n",
       " '__dir__',\n",
       " '__doc__',\n",
       " '__eq__',\n",
       " '__format__',\n",
       " '__ge__',\n",
       " '__getattribute__',\n",
       " '__getitem__',\n",
       " '__getstate__',\n",
       " '__gt__',\n",
       " '__hash__',\n",
       " '__iadd__',\n",
       " '__imul__',\n",
       " '__init__',\n",
       " '__init_subclass__',\n",
       " '__iter__',\n",
       " '__le__',\n",
       " '__len__',\n",
       " '__lt__',\n",
       " '__mul__',\n",
       " '__ne__',\n",
       " '__new__',\n",
       " '__reduce__',\n",
       " '__reduce_ex__',\n",
       " '__repr__',\n",
       " '__reversed__',\n",
       " '__rmul__',\n",
       " '__setattr__',\n",
       " '__setitem__',\n",
       " '__sizeof__',\n",
       " '__str__',\n",
       " '__subclasshook__',\n",
       " 'append',\n",
       " 'clear',\n",
       " 'copy',\n",
       " 'count',\n",
       " 'extend',\n",
       " 'index',\n",
       " 'insert',\n",
       " 'pop',\n",
       " 'remove',\n",
       " 'reverse',\n",
       " 'sort']"
      ]
     },
     "execution_count": 320,
     "metadata": {},
     "output_type": "execute_result"
    }
   ],
   "source": [
    "dir(a)"
   ]
  },
  {
   "cell_type": "code",
   "execution_count": null,
   "id": "3f1ace29-9e4b-43be-b76b-45eb9b7b503a",
   "metadata": {},
   "outputs": [],
   "source": [
    "a.extend([4])"
   ]
  },
  {
   "cell_type": "code",
   "execution_count": null,
   "id": "9d104f43-19d0-4232-b3db-01c6e332df4d",
   "metadata": {},
   "outputs": [
    {
     "data": {
      "text/plain": [
       "5"
      ]
     },
     "execution_count": 326,
     "metadata": {},
     "output_type": "execute_result"
    }
   ],
   "source": [
    "len(a)"
   ]
  },
  {
   "cell_type": "code",
   "execution_count": null,
   "id": "fa5ee191-f612-4406-ba80-1d30a761b92d",
   "metadata": {
    "collapsed": true,
    "jupyter": {
     "outputs_hidden": true
    }
   },
   "outputs": [
    {
     "ename": "NameError",
     "evalue": "name 'List' is not defined",
     "output_type": "error",
     "traceback": [
      "\u001b[1;31m---------------------------------------------------------------------------\u001b[0m",
      "\u001b[1;31mNameError\u001b[0m                                 Traceback (most recent call last)",
      "Cell \u001b[1;32mIn[327], line 1\u001b[0m\n\u001b[1;32m----> 1\u001b[0m a \u001b[38;5;241m=\u001b[39m List()\n",
      "\u001b[1;31mNameError\u001b[0m: name 'List' is not defined"
     ]
    }
   ],
   "source": [
    "a = List(1,2,3,4)"
   ]
  },
  {
   "cell_type": "code",
   "execution_count": null,
   "id": "590d8009-adad-4756-be2b-96609989bc27",
   "metadata": {},
   "outputs": [],
   "source": [
    "class List:\n",
    "    def __init__(self,*args):\n",
    "        self.x = []\n",
    "        for arg in args:\n",
    "            self.x += [arg]\n",
    "            \n",
    "    def append(self,x):\n",
    "        self.x += [x]\n",
    "\n",
    "    def clear(self):\n",
    "        self.x = []\n",
    "    \n",
    "    def copy(self):\n",
    "        new_array = []\n",
    "        for i in self.x:\n",
    "            new_array += [i]\n",
    "        return new_array\n",
    "        \n",
    "    def count(self,x):\n",
    "        cnt = 0\n",
    "        for i in self.x:\n",
    "            if i == x:\n",
    "                cnt += 1\n",
    "        return cnt\n",
    "        \n",
    "    def extend(self,x):\n",
    "        if isinstance(x,list):\n",
    "            for i in x:\n",
    "                self.x += [i]\n",
    "        else:\n",
    "            self.x += [x]\n",
    "            \n",
    "    def index(self,x):\n",
    "        idx = 0\n",
    "        for i in self.x:\n",
    "            if i == x:\n",
    "                idx\n",
    "                break\n",
    "            idx += 1\n",
    "        return idx\n",
    "        \n",
    "    def insert(self,idx,val):\n",
    "        if idx == 0:\n",
    "            self.x = [val] + self.x\n",
    "        elif idx == len(self.x) - 1:\n",
    "            self.x = self.x + [val]\n",
    "        else:\n",
    "            self.x = self.x[:idx]+[val]+self.x[idx:]\n",
    "    def pop(self,idx=None):\n",
    "        if idx == None:\n",
    "            idx = len(self.x) - 1\n",
    "        return self.x[idx]\n",
    "        "
   ]
  },
  {
   "cell_type": "code",
   "execution_count": null,
   "id": "66fff729-6c1e-4c1e-98b1-6e7c5555b4bc",
   "metadata": {},
   "outputs": [],
   "source": [
    "a = List(1,2,3,4)"
   ]
  },
  {
   "cell_type": "code",
   "execution_count": null,
   "id": "49cedbeb-5796-408f-a7ab-d49b8a05cfb1",
   "metadata": {},
   "outputs": [
    {
     "data": {
      "text/plain": [
       "4"
      ]
     },
     "execution_count": 461,
     "metadata": {},
     "output_type": "execute_result"
    }
   ],
   "source": [
    "a.pop()"
   ]
  },
  {
   "cell_type": "code",
   "execution_count": null,
   "id": "340fc0c7-a263-44f3-a7bd-0c3bfe44dc2b",
   "metadata": {},
   "outputs": [
    {
     "data": {
      "text/plain": [
       "4"
      ]
     },
     "execution_count": 462,
     "metadata": {},
     "output_type": "execute_result"
    }
   ],
   "source": [
    "a1 = [1,2,3,4]\n",
    "a1.pop()"
   ]
  },
  {
   "cell_type": "code",
   "execution_count": null,
   "id": "66fc6633-0289-451a-93f0-00de0a64fc8d",
   "metadata": {},
   "outputs": [
    {
     "data": {
      "text/plain": [
       "[1, 100, 2, 3, 4]"
      ]
     },
     "execution_count": 447,
     "metadata": {},
     "output_type": "execute_result"
    }
   ],
   "source": [
    "a1.insert(1,100)\n",
    "a1"
   ]
  },
  {
   "cell_type": "code",
   "execution_count": null,
   "id": "0a910ee7-07e7-4a61-9419-8a651d5c4a06",
   "metadata": {},
   "outputs": [
    {
     "data": {
      "text/plain": [
       "[1, 100, 2, 3, 4]"
      ]
     },
     "execution_count": 448,
     "metadata": {},
     "output_type": "execute_result"
    }
   ],
   "source": [
    "a = List(1,2,3,4)\n",
    "a.insert(1,100)\n",
    "a.x"
   ]
  },
  {
   "cell_type": "code",
   "execution_count": null,
   "id": "86704835-420f-4874-82f3-bdc5b08bc5ab",
   "metadata": {},
   "outputs": [
    {
     "data": {
      "text/plain": [
       "5"
      ]
     },
     "execution_count": 433,
     "metadata": {},
     "output_type": "execute_result"
    }
   ],
   "source": [
    "len(a.x)"
   ]
  },
  {
   "cell_type": "code",
   "execution_count": null,
   "id": "d76fd4f1-40ef-4e19-80a8-5519dc7205b0",
   "metadata": {},
   "outputs": [
    {
     "data": {
      "text/plain": [
       "[10, 1, 2, 3, 4, 10, 5]"
      ]
     },
     "execution_count": 423,
     "metadata": {},
     "output_type": "execute_result"
    }
   ],
   "source": [
    "a1 = [1,2,3,4,5]\n",
    "a1.insert(4,10)\n",
    "a1.insert(0,10)\n",
    "a1"
   ]
  },
  {
   "cell_type": "code",
   "execution_count": null,
   "id": "d43bf19b-96bc-4a80-8692-34074a7d1fe8",
   "metadata": {},
   "outputs": [],
   "source": [
    "a = List(1,2,3,4)"
   ]
  },
  {
   "cell_type": "code",
   "execution_count": null,
   "id": "608286b5-29e1-4beb-ae90-4d22aacf250b",
   "metadata": {},
   "outputs": [],
   "source": [
    "a.append(5)"
   ]
  },
  {
   "cell_type": "code",
   "execution_count": null,
   "id": "ea6ac393-dd87-4587-a892-a06547349a37",
   "metadata": {},
   "outputs": [
    {
     "data": {
      "text/plain": [
       "[1, 2, 3, 4, 5]"
      ]
     },
     "execution_count": 350,
     "metadata": {},
     "output_type": "execute_result"
    }
   ],
   "source": [
    "a.x"
   ]
  },
  {
   "cell_type": "code",
   "execution_count": null,
   "id": "00caab9e-e681-4243-bc1e-7bd9f633852b",
   "metadata": {},
   "outputs": [
    {
     "data": {
      "text/plain": [
       "[]"
      ]
     },
     "execution_count": 352,
     "metadata": {},
     "output_type": "execute_result"
    }
   ],
   "source": [
    "a.clear()\n",
    "a.x"
   ]
  },
  {
   "cell_type": "code",
   "execution_count": null,
   "id": "94adc600-d3c0-4bb6-b2e4-1b7a1e8262f3",
   "metadata": {},
   "outputs": [],
   "source": [
    "a2 = [1,2,3,4]"
   ]
  },
  {
   "cell_type": "code",
   "execution_count": null,
   "id": "f200ecbc-afed-4919-bfe2-73aead10091b",
   "metadata": {},
   "outputs": [],
   "source": [
    "a2.append(5)"
   ]
  },
  {
   "cell_type": "code",
   "execution_count": null,
   "id": "e721bb61-bd2c-4ad7-b2a7-a82c83a6399b",
   "metadata": {},
   "outputs": [
    {
     "data": {
      "text/plain": [
       "2"
      ]
     },
     "execution_count": 451,
     "metadata": {},
     "output_type": "execute_result"
    }
   ],
   "source": [
    "a1 = [1,2,3,4]\n",
    "a1.pop(1)"
   ]
  },
  {
   "cell_type": "code",
   "execution_count": null,
   "id": "9ba50258-8280-48c7-a846-fe96db46439e",
   "metadata": {},
   "outputs": [
    {
     "data": {
      "text/plain": [
       "[1, 3, 4]"
      ]
     },
     "execution_count": 452,
     "metadata": {},
     "output_type": "execute_result"
    }
   ],
   "source": [
    "a1"
   ]
  },
  {
   "cell_type": "code",
   "execution_count": null,
   "id": "b0cef24a-6d7b-4505-bcfa-260cde7e430a",
   "metadata": {
    "scrolled": true
   },
   "outputs": [
    {
     "name": "stdout",
     "output_type": "stream",
     "text": [
      "append\n",
      "clear\n",
      "copy\n",
      "count\n",
      "extend\n",
      "index\n",
      "insert\n",
      "pop\n",
      "remove\n",
      "reverse\n",
      "sort\n"
     ]
    }
   ],
   "source": [
    "for i in dir(a2):\n",
    "    if not i.startswith('_'):\n",
    "        print(i)"
   ]
  },
  {
   "cell_type": "code",
   "execution_count": null,
   "id": "817c56f9-17d1-4bc8-8377-0e4d2a653572",
   "metadata": {},
   "outputs": [
    {
     "data": {
      "text/plain": [
       "['__add__',\n",
       " '__class__',\n",
       " '__contains__',\n",
       " '__delattr__',\n",
       " '__dir__',\n",
       " '__doc__',\n",
       " '__eq__',\n",
       " '__format__',\n",
       " '__ge__',\n",
       " '__getattribute__',\n",
       " '__getitem__',\n",
       " '__getnewargs__',\n",
       " '__getstate__',\n",
       " '__gt__',\n",
       " '__hash__',\n",
       " '__init__',\n",
       " '__init_subclass__',\n",
       " '__iter__',\n",
       " '__le__',\n",
       " '__len__',\n",
       " '__lt__',\n",
       " '__mod__',\n",
       " '__mul__',\n",
       " '__ne__',\n",
       " '__new__',\n",
       " '__reduce__',\n",
       " '__reduce_ex__',\n",
       " '__repr__',\n",
       " '__rmod__',\n",
       " '__rmul__',\n",
       " '__setattr__',\n",
       " '__sizeof__',\n",
       " '__str__',\n",
       " '__subclasshook__',\n",
       " 'capitalize',\n",
       " 'casefold',\n",
       " 'center',\n",
       " 'count',\n",
       " 'encode',\n",
       " 'endswith',\n",
       " 'expandtabs',\n",
       " 'find',\n",
       " 'format',\n",
       " 'format_map',\n",
       " 'index',\n",
       " 'isalnum',\n",
       " 'isalpha',\n",
       " 'isascii',\n",
       " 'isdecimal',\n",
       " 'isdigit',\n",
       " 'isidentifier',\n",
       " 'islower',\n",
       " 'isnumeric',\n",
       " 'isprintable',\n",
       " 'isspace',\n",
       " 'istitle',\n",
       " 'isupper',\n",
       " 'join',\n",
       " 'ljust',\n",
       " 'lower',\n",
       " 'lstrip',\n",
       " 'maketrans',\n",
       " 'partition',\n",
       " 'removeprefix',\n",
       " 'removesuffix',\n",
       " 'replace',\n",
       " 'rfind',\n",
       " 'rindex',\n",
       " 'rjust',\n",
       " 'rpartition',\n",
       " 'rsplit',\n",
       " 'rstrip',\n",
       " 'split',\n",
       " 'splitlines',\n",
       " 'startswith',\n",
       " 'strip',\n",
       " 'swapcase',\n",
       " 'title',\n",
       " 'translate',\n",
       " 'upper',\n",
       " 'zfill']"
      ]
     },
     "execution_count": 386,
     "metadata": {},
     "output_type": "execute_result"
    }
   ],
   "source": [
    "dir('a2')"
   ]
  },
  {
   "cell_type": "code",
   "execution_count": null,
   "id": "11e0f92c-631f-4c1c-8db5-039f436bad38",
   "metadata": {},
   "outputs": [
    {
     "data": {
      "text/plain": [
       "1958353407872"
      ]
     },
     "execution_count": 355,
     "metadata": {},
     "output_type": "execute_result"
    }
   ],
   "source": [
    "id(a2)"
   ]
  },
  {
   "cell_type": "code",
   "execution_count": null,
   "id": "61d44058-e8e3-4aeb-878c-834245210785",
   "metadata": {},
   "outputs": [
    {
     "data": {
      "text/plain": [
       "1958353416512"
      ]
     },
     "execution_count": 356,
     "metadata": {},
     "output_type": "execute_result"
    }
   ],
   "source": [
    "id(a3)"
   ]
  },
  {
   "cell_type": "code",
   "execution_count": null,
   "id": "c0c99c6f-067e-41f3-baad-2eb9f459dd8f",
   "metadata": {},
   "outputs": [],
   "source": [
    "a1 = a2"
   ]
  },
  {
   "cell_type": "code",
   "execution_count": null,
   "id": "72492398-776c-4ae2-ab1e-faa2e17725d5",
   "metadata": {},
   "outputs": [
    {
     "data": {
      "text/plain": [
       "1958353407872"
      ]
     },
     "execution_count": 359,
     "metadata": {},
     "output_type": "execute_result"
    }
   ],
   "source": [
    "id(a2)"
   ]
  },
  {
   "cell_type": "code",
   "execution_count": null,
   "id": "e4a0c35f-0aed-40e5-8b62-815010da183d",
   "metadata": {},
   "outputs": [
    {
     "data": {
      "text/plain": [
       "1958353407872"
      ]
     },
     "execution_count": 360,
     "metadata": {},
     "output_type": "execute_result"
    }
   ],
   "source": [
    "id(a1)"
   ]
  },
  {
   "cell_type": "code",
   "execution_count": null,
   "id": "47d4facc-a69b-46e5-b0df-e7df34ce2b48",
   "metadata": {},
   "outputs": [
    {
     "data": {
      "text/plain": [
       "[1, 2, 3, 4]"
      ]
     },
     "execution_count": 366,
     "metadata": {},
     "output_type": "execute_result"
    }
   ],
   "source": [
    "a3"
   ]
  },
  {
   "cell_type": "code",
   "execution_count": null,
   "id": "518ee6d7-6b3e-4474-b15c-91ceef363b63",
   "metadata": {},
   "outputs": [],
   "source": [
    "a2[0] = 100 "
   ]
  },
  {
   "cell_type": "code",
   "execution_count": null,
   "id": "39a009e3-fcd9-4a3f-ab9f-e4d36b523547",
   "metadata": {},
   "outputs": [
    {
     "data": {
      "text/plain": [
       "[100, 2, 3, 4]"
      ]
     },
     "execution_count": 368,
     "metadata": {},
     "output_type": "execute_result"
    }
   ],
   "source": [
    "a2"
   ]
  },
  {
   "cell_type": "code",
   "execution_count": null,
   "id": "bccd82ac-d880-41b3-8624-ac7e03439b75",
   "metadata": {},
   "outputs": [
    {
     "data": {
      "text/plain": [
       "[100, 2, 3, 4]"
      ]
     },
     "execution_count": 369,
     "metadata": {},
     "output_type": "execute_result"
    }
   ],
   "source": [
    "a1"
   ]
  },
  {
   "cell_type": "code",
   "execution_count": null,
   "id": "f6176fd2-3906-47f1-b178-6a4feaaa8dd7",
   "metadata": {},
   "outputs": [
    {
     "data": {
      "text/plain": [
       "[1, 2, 3, 4]"
      ]
     },
     "execution_count": 370,
     "metadata": {},
     "output_type": "execute_result"
    }
   ],
   "source": [
    "a3"
   ]
  },
  {
   "cell_type": "code",
   "execution_count": null,
   "id": "e83b15c2-fd57-4690-a026-786cccf3c934",
   "metadata": {},
   "outputs": [
    {
     "data": {
      "text/plain": [
       "1958353396352"
      ]
     },
     "execution_count": 375,
     "metadata": {},
     "output_type": "execute_result"
    }
   ],
   "source": [
    "id(a1[:1])"
   ]
  },
  {
   "cell_type": "code",
   "execution_count": null,
   "id": "1b4a85f6-ebc9-45fb-90f2-e82fbd9217ea",
   "metadata": {},
   "outputs": [
    {
     "data": {
      "text/plain": [
       "1958343329216"
      ]
     },
     "execution_count": 376,
     "metadata": {},
     "output_type": "execute_result"
    }
   ],
   "source": [
    "id(a2[:2])"
   ]
  },
  {
   "cell_type": "code",
   "execution_count": null,
   "id": "fc80a6b9-2abc-4416-be6e-915f5622fe09",
   "metadata": {},
   "outputs": [
    {
     "data": {
      "text/plain": [
       "[100, 2, 3, 4]"
      ]
     },
     "execution_count": 377,
     "metadata": {},
     "output_type": "execute_result"
    }
   ],
   "source": [
    "a1.copy()"
   ]
  },
  {
   "cell_type": "code",
   "execution_count": null,
   "id": "d10c1cd4-63b8-4780-824e-6ac7ac098b1c",
   "metadata": {},
   "outputs": [],
   "source": [
    "a = [1,2]"
   ]
  },
  {
   "cell_type": "code",
   "execution_count": null,
   "id": "e1b5f2f9-09f1-4873-97b9-a231c60828dd",
   "metadata": {},
   "outputs": [],
   "source": [
    "a1 = [a[0],a[1]]\n"
   ]
  },
  {
   "cell_type": "code",
   "execution_count": null,
   "id": "bc8d933e-85d7-42f3-87e5-a965b2f87602",
   "metadata": {},
   "outputs": [
    {
     "data": {
      "text/plain": [
       "1958328041024"
      ]
     },
     "execution_count": 382,
     "metadata": {},
     "output_type": "execute_result"
    }
   ],
   "source": [
    "id(a)"
   ]
  },
  {
   "cell_type": "code",
   "execution_count": null,
   "id": "a2912336-3c3c-49a6-831b-e68215fdf06a",
   "metadata": {},
   "outputs": [
    {
     "data": {
      "text/plain": [
       "1958353324160"
      ]
     },
     "execution_count": 383,
     "metadata": {},
     "output_type": "execute_result"
    }
   ],
   "source": [
    "id(a1)"
   ]
  },
  {
   "cell_type": "code",
   "execution_count": null,
   "id": "efe0c8ba-a456-44d0-8fb3-2fdfe6fd15a0",
   "metadata": {},
   "outputs": [],
   "source": []
  }
 ],
 "metadata": {
  "kernelspec": {
   "display_name": "Python 3",
   "language": "python",
   "name": "python3"
  },
  "language_info": {
   "codemirror_mode": {
    "name": "ipython",
    "version": 3
   },
   "file_extension": ".py",
   "mimetype": "text/x-python",
   "name": "python",
   "nbconvert_exporter": "python",
   "pygments_lexer": "ipython3",
   "version": "3.12.4"
  }
 },
 "nbformat": 4,
 "nbformat_minor": 5
}
